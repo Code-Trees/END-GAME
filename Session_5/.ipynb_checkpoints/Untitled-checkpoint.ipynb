{
 "cells": [
  {
   "cell_type": "code",
   "execution_count": 25,
   "id": "54bb4790-6e05-4891-9b3c-4ad2eeb1b5d3",
   "metadata": {},
   "outputs": [],
   "source": [
    "import numpy as np # linear algebra\n",
    "import pandas as pd # data processing, CSV file I/O (e.g. pd.read_csv)\n",
    "from torchtext.legacy import data\n",
    "import torch\n",
    "import torch.nn as nn\n",
    "import torch.optim as optim\n",
    "from torchtext.legacy import data\n",
    "from torchtext.legacy.datasets import IMDB\n",
    "from torchtext.legacy.data import Field, LabelField, BucketIterator"
   ]
  },
  {
   "cell_type": "code",
   "execution_count": 26,
   "id": "144bc789-c64b-49f6-9530-3ba9ca40b150",
   "metadata": {},
   "outputs": [
    {
     "name": "stdout",
     "output_type": "stream",
     "text": [
      "stanfordSentimentTreebank/SOStr.txt\n",
      "stanfordSentimentTreebank/sentiment_labels.txt\n",
      "stanfordSentimentTreebank/README.txt\n",
      "stanfordSentimentTreebank/original_rt_snippets.txt\n",
      "stanfordSentimentTreebank/datasetSplit.txt\n",
      "stanfordSentimentTreebank/dictionary.txt\n",
      "stanfordSentimentTreebank/STree.txt\n",
      "stanfordSentimentTreebank/datasetSentences.txt\n",
      "stanfordSentimentTreebank/.ipynb_checkpoints/README-checkpoint.txt\n",
      "stanfordSentimentTreebank/.ipynb_checkpoints/datasetSplit-checkpoint.txt\n",
      "stanfordSentimentTreebank/.ipynb_checkpoints/datasetSentences-checkpoint.txt\n",
      "stanfordSentimentTreebank/.ipynb_checkpoints/sentiment_labels-checkpoint.txt\n"
     ]
    }
   ],
   "source": [
    "import os\n",
    "for dirname, _, filenames in os.walk('stanfordSentimentTreebank'):\n",
    "    for filename in filenames:\n",
    "        print(os.path.join(dirname, filename))"
   ]
  },
  {
   "cell_type": "code",
   "execution_count": 28,
   "id": "07eff492-403e-47d9-8614-2613775ac745",
   "metadata": {},
   "outputs": [],
   "source": [
    "class StanfordDatasetReader():\n",
    "    def __init__(self, sst_dir, split_idx):\n",
    "        merged_dataset = self.get_merged_dataset(sst_dir)\n",
    "#         self.dataset = merged_dataset[merged_dataset[\"splitset_label\"] == split_idx]\n",
    "\n",
    "    def get_merged_dataset(self, sst_dir):\n",
    "        sentiment_labels = pd.read_csv(os.path.join(sst_dir, \"sentiment_labels.txt\"), sep=\"|\")\n",
    "        sentence_ids = pd.read_csv(os.path.join(sst_dir, \"datasetSentences.txt\"), sep=\"\\t\")\n",
    "        dictionary = pd.read_csv(os.path.join(sst_dir, \"dictionary.txt\"), sep=\"|\", names=['phrase', 'phrase ids'])\n",
    "        train_test_split = pd.read_csv(os.path.join(sst_dir, \"datasetSplit.txt\"))\n",
    "        sentence_phrase_merge = pd.merge(sentence_ids, dictionary, left_on='sentence', right_on='phrase')\n",
    "        sentence_phrase_split = pd.merge(sentence_phrase_merge, train_test_split, on='sentence_index')\n",
    "        return pd.merge(sentence_phrase_split, sentiment_labels, on='phrase ids').sample(frac=1)\n",
    "\n",
    "    def discretize_label(self, label):\n",
    "        if label <= 0.2: return 0\n",
    "        if label <= 0.4: return 1\n",
    "        if label <= 0.6: return 2\n",
    "        if label <= 0.8: return 3\n",
    "        return 4\n",
    "\n",
    "    def __len__(self):\n",
    "        return self.dataset.shape[0]\n",
    "\n",
    "    def __getitem__(self, idx):\n",
    "        return {\"sentence\": self.dataset.iloc[idx, 1],\n",
    "                \"label\": self.discretize_label(self.dataset.iloc[idx, 5])}"
   ]
  },
  {
   "cell_type": "code",
   "execution_count": null,
   "id": "7dc421b5-9034-4e10-b184-a67746d94bcf",
   "metadata": {},
   "outputs": [],
   "source": []
  },
  {
   "cell_type": "code",
   "execution_count": null,
   "id": "62e78958-b22f-4702-a98f-724cb550d1a4",
   "metadata": {},
   "outputs": [],
   "source": []
  },
  {
   "cell_type": "code",
   "execution_count": null,
   "id": "ac077000-62a8-4c02-899e-ef3e0da9f24d",
   "metadata": {},
   "outputs": [],
   "source": []
  }
 ],
 "metadata": {
  "kernelspec": {
   "display_name": "Python 3",
   "language": "python",
   "name": "python3"
  },
  "language_info": {
   "codemirror_mode": {
    "name": "ipython",
    "version": 3
   },
   "file_extension": ".py",
   "mimetype": "text/x-python",
   "name": "python",
   "nbconvert_exporter": "python",
   "pygments_lexer": "ipython3",
   "version": "3.8.10"
  }
 },
 "nbformat": 4,
 "nbformat_minor": 5
}
