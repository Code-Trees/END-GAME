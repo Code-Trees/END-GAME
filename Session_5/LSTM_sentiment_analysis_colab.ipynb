{
 "cells": [
  {
   "cell_type": "markdown",
   "metadata": {
    "id": "N3AIljihtKB5"
   },
   "source": [
    "### Importing Important Library"
   ]
  },
  {
   "cell_type": "code",
   "execution_count": 1,
   "metadata": {},
   "outputs": [],
   "source": [
    "import IPython\n",
    "from IPython.core.interactiveshell import InteractiveShell\n",
    "InteractiveShell.ast_node_interactivity = 'all'"
   ]
  },
  {
   "cell_type": "code",
   "execution_count": 2,
   "metadata": {},
   "outputs": [
    {
     "data": {
      "application/javascript": [
       "IPython.notebook.set_autosave_interval(20000)"
      ]
     },
     "metadata": {},
     "output_type": "display_data"
    },
    {
     "name": "stdout",
     "output_type": "stream",
     "text": [
      "Autosaving every 20 seconds\n"
     ]
    }
   ],
   "source": [
    "%autosave 20"
   ]
  },
  {
   "cell_type": "code",
   "execution_count": null,
   "metadata": {
    "id": "NrSurWA_XM84"
   },
   "outputs": [],
   "source": []
  },
  {
   "cell_type": "code",
   "execution_count": 3,
   "metadata": {
    "_cell_guid": "5848330f-e52f-49a7-ac18-ab07b0cb8136",
    "_uuid": "dc83c491-711e-4278-b0cc-24896e3e812f",
    "id": "K1cspYuNXM87"
   },
   "outputs": [],
   "source": [
    "import torch\n",
    "import torch.nn as nn\n",
    "import torch.optim as optim\n",
    "from torchtext.legacy import data\n",
    "from torchtext.legacy.datasets import IMDB\n",
    "from torchtext.legacy.data import Field, LabelField, BucketIterator,Example"
   ]
  },
  {
   "cell_type": "code",
   "execution_count": 4,
   "metadata": {
    "id": "j6L6NAg5XM88"
   },
   "outputs": [],
   "source": [
    "from tqdm import tqdm\n",
    "import random\n",
    "import sys\n",
    "import pandas as pd\n",
    "import numpy as np\n",
    "import os\n",
    "import random\n",
    "import torch, torchtext\n",
    "import os\n",
    "import googletrans\n",
    "from googletrans import Translator"
   ]
  },
  {
   "cell_type": "markdown",
   "metadata": {
    "id": "zOhuk1CWtKB-"
   },
   "source": [
    "### Version chcek"
   ]
  },
  {
   "cell_type": "code",
   "execution_count": 5,
   "metadata": {
    "colab": {
     "base_uri": "https://localhost:8080/",
     "height": 36
    },
    "id": "8YJ1c4vQXM88",
    "outputId": "65cb0501-2956-498c-bb8a-59cdbd263a5a"
   },
   "outputs": [
    {
     "data": {
      "text/plain": [
       "'Torch CUDA Version :10.2'"
      ]
     },
     "execution_count": 5,
     "metadata": {},
     "output_type": "execute_result"
    },
    {
     "data": {
      "text/plain": [
       "'Torch Version :1.8.1'"
      ]
     },
     "execution_count": 5,
     "metadata": {},
     "output_type": "execute_result"
    },
    {
     "data": {
      "text/plain": [
       "'Python Version :3.8.10 (default, May 19 2021, 18:05:58) \\n[GCC 7.3.0]'"
      ]
     },
     "execution_count": 5,
     "metadata": {},
     "output_type": "execute_result"
    }
   ],
   "source": [
    "f'Torch CUDA Version :{torch.version.cuda}'\n",
    "f'Torch Version :{torch.__version__}'\n",
    "f'Python Version :{sys.version}'"
   ]
  },
  {
   "cell_type": "markdown",
   "metadata": {
    "id": "NHAxLOfntKB_"
   },
   "source": [
    "### GPU Checker "
   ]
  },
  {
   "cell_type": "code",
   "execution_count": 6,
   "metadata": {
    "id": "ixoEQjp8XM89"
   },
   "outputs": [],
   "source": [
    "def gpu_check(seed_val = 1):\n",
    "    print('The Seed is set to {}'.format(seed_val))\n",
    "    if torch.cuda.is_available():\n",
    "        print('Model will Run on CUDA.')\n",
    "        print (\"Type 'watch nvidia-smi' to monitor GPU\\n\")\n",
    "        torch.cuda.manual_seed(seed_val)\n",
    "        device = 'cuda'\n",
    "    else:\n",
    "        torch.manual_seed(seed_val)\n",
    "        print ('Running in CPU')\n",
    "        device = 'cpu'\n",
    "    cuda = torch.cuda.is_available()\n",
    "#     print (f'Device = [device], Cuda is : {cuda}, Seed Value = {seed_val}')\n",
    "    return cuda,seed_val,device"
   ]
  },
  {
   "cell_type": "code",
   "execution_count": 7,
   "metadata": {
    "colab": {
     "base_uri": "https://localhost:8080/"
    },
    "id": "ktIAtn89XM8-",
    "outputId": "5ae4969d-97e3-4adf-d393-cd39f570ac3f"
   },
   "outputs": [
    {
     "name": "stdout",
     "output_type": "stream",
     "text": [
      "The Seed is set to 1234\n",
      "Model will Run on CUDA.\n",
      "Type 'watch nvidia-smi' to monitor GPU\n",
      "\n"
     ]
    }
   ],
   "source": [
    "cuda,SEED,device = gpu_check(seed_val=1234)"
   ]
  },
  {
   "cell_type": "raw",
   "metadata": {
    "colab": {
     "base_uri": "https://localhost:8080/"
    },
    "id": "cZBmBSftXM8-",
    "outputId": "16cf6738-f23e-437b-ca6c-5abdf6130e0b"
   },
   "source": [
    "!nvidia-smi"
   ]
  },
  {
   "cell_type": "markdown",
   "metadata": {},
   "source": [
    "###  Data reader"
   ]
  },
  {
   "cell_type": "code",
   "execution_count": 8,
   "metadata": {},
   "outputs": [],
   "source": [
    "def get_phrase_sentiments(base_directory):\n",
    "    def group_labels(label):\n",
    "        if label in [\"very negative\", \"negative\"]:\n",
    "            return \"negative\"\n",
    "        elif label in [\"positive\", \"very positive\"]:\n",
    "            return \"positive\"\n",
    "        else:\n",
    "            return \"neutral\"\n",
    "\n",
    "    dictionary = pd.read_csv(os.path.join(base_directory, \"dictionary.txt\"), sep=\"|\")\n",
    "    dictionary.columns = [\"phrase\", \"id\"]\n",
    "    dictionary = dictionary.set_index(\"id\")\n",
    "\n",
    "    sentiment_labels = pd.read_csv(os.path.join(base_directory, \"sentiment_labels.txt\"), sep=\"|\")\n",
    "    sentiment_labels.columns = [\"id\", \"sentiment\"]\n",
    "    sentiment_labels = sentiment_labels.set_index(\"id\")\n",
    "\n",
    "    phrase_sentiments = dictionary.join(sentiment_labels)\n",
    "\n",
    "    phrase_sentiments[\"fine\"] = pd.cut(phrase_sentiments.sentiment, [0, 0.2, 0.4, 0.6, 0.8, 1.0],\n",
    "                                           include_lowest=True,\n",
    "                                           labels=[\"very negative\", \"negative\", \"neutral\", \"positive\", \"very positive\"])\n",
    "    phrase_sentiments[\"coarse\"] = phrase_sentiments.fine.apply(group_labels)\n",
    "    return phrase_sentiments\n",
    "\n",
    "\n",
    "def get_sentence_partitions(base_directory):\n",
    "    sentences = pd.read_csv(os.path.join(base_directory, \"datasetSentences.txt\"), index_col=\"sentence_index\",\n",
    "                                sep=\"\\t\")\n",
    "    splits = pd.read_csv(os.path.join(base_directory, \"datasetSplit.txt\"), index_col=\"sentence_index\")\n",
    "    return sentences.join(splits)\n",
    "\n",
    "\n",
    "def partition(base_directory):\n",
    "    phrase_sentiments = get_phrase_sentiments(base_directory).reset_index(level=0)\n",
    "    sentence_partitions = get_sentence_partitions(base_directory)\n",
    "    # noinspection PyUnresolvedReferences\n",
    "    data = sentence_partitions.join(phrase_sentiments.set_index(\"phrase\"), on=\"sentence\")\n",
    "    data[\"splitset_label\"] = data[\"splitset_label\"].fillna(1).astype(int)\n",
    "    # data[\"sentence\"] = data[\"sentence\"].str.replace(r\"\\s('s|'d|'re|'ll|'m|'ve|n't)\\b\", lambda m: m.group(1))\n",
    "    return data.groupby(\"splitset_label\")"
   ]
  },
  {
   "cell_type": "code",
   "execution_count": null,
   "metadata": {},
   "outputs": [],
   "source": []
  },
  {
   "cell_type": "code",
   "execution_count": 9,
   "metadata": {},
   "outputs": [],
   "source": [
    "base_directory, output_directory = 'stanfordSentimentTreebank','./';\n",
    "os.makedirs(output_directory, exist_ok=True)\n",
    "for splitset, partition in partition(base_directory):\n",
    "    split_name = {1: \"train\", 2: \"test\", 3: \"dev\"}[splitset]\n",
    "    filename = os.path.join(output_directory, \"%s.csv\" % split_name)\n",
    "    del partition[\"splitset_label\"]\n",
    "    partition.to_csv(filename)"
   ]
  },
  {
   "cell_type": "markdown",
   "metadata": {},
   "source": [
    "### Data Labeling "
   ]
  },
  {
   "cell_type": "code",
   "execution_count": 10,
   "metadata": {},
   "outputs": [],
   "source": [
    "def discretize_label(label):\n",
    "    if label <= 0.05*100: return 'Class1'\n",
    "    if label <= 0.1*100: return 'Class2'\n",
    "    if label <= 0.15*100: return 'Class3'\n",
    "    if label <= 0.2*100: return 'Class4'\n",
    "    return 'Class5'"
   ]
  },
  {
   "cell_type": "code",
   "execution_count": null,
   "metadata": {},
   "outputs": [],
   "source": []
  },
  {
   "cell_type": "code",
   "execution_count": 11,
   "metadata": {},
   "outputs": [],
   "source": [
    "train_data = pd.read_csv('train.csv')\n",
    "test_data = pd.read_csv('test.csv')\n",
    "dev_data = pd.read_csv('dev.csv')"
   ]
  },
  {
   "cell_type": "code",
   "execution_count": 12,
   "metadata": {},
   "outputs": [],
   "source": [
    "#As data size is less lets comibine Train/test as train and keep validation as itis  "
   ]
  },
  {
   "cell_type": "code",
   "execution_count": 13,
   "metadata": {},
   "outputs": [],
   "source": [
    "Train_df = pd.concat([train_data,test_data])\n",
    "Test_df = dev_data.copy()"
   ]
  },
  {
   "cell_type": "markdown",
   "metadata": {},
   "source": [
    "### All The Augmentaitons"
   ]
  },
  {
   "cell_type": "code",
   "execution_count": 14,
   "metadata": {},
   "outputs": [],
   "source": [
    "def back_translate(sequence,lab, PROB = 1):\n",
    "    languages = ['en', 'fr', 'th', 'tr', 'ur', 'ru', 'bg', 'de', 'ar', 'zh-cn', 'hi',\n",
    "                 'sw', 'vi', 'es', 'el']\n",
    "    \n",
    "    #instantiate translator\n",
    "    translator = Translator()\n",
    "    \n",
    "    #store original language so we can convert back\n",
    "    org_lang = translator.detect(sequence).lang\n",
    "    \n",
    "    #randomly choose language to translate sequence to  \n",
    "    random_lang = np.random.choice([lang for lang in languages if lang is not org_lang])\n",
    "    #print(random_lang)\n",
    "    if org_lang in languages:\n",
    "        #translate to new language and back to original\n",
    "        translated = translator.translate(sequence, dest = random_lang).text\n",
    "        #translate back to original language\n",
    "        translated_back = translator.translate(translated, dest = org_lang).text\n",
    "        #print(translated,translated_back)\n",
    "        #apply with certain probability\n",
    "        if np.random.uniform(0, 1) <= PROB:\n",
    "            output_sequence = translated_back\n",
    "        else:\n",
    "            output_sequence = sequence\n",
    "            \n",
    "    #if detected language not in our list of languages, do nothing\n",
    "    else:\n",
    "        output_sequence = sequence\n",
    "    \n",
    "    return output_sequence,lab\n",
    "\n",
    "\n",
    "def random_deletion(words,lab, p=0.5): \n",
    "    if len(words) == 1: # return if single word\n",
    "        return words\n",
    "    remaining = list(filter(lambda x: random.uniform(0,1) > p,words)) \n",
    "    \n",
    "    if len(remaining) == 0: # if not left, sample a random word\n",
    "        return [random.choice(words)] ,lab\n",
    "    else:\n",
    "        return remaining,lab\n",
    "\n",
    "def random_swap(sentence,lab, n=5): \n",
    "    length = range(len(sentence)) \n",
    "    for _ in range(n):\n",
    "        idx1, idx2 = random.sample(length, 2)\n",
    "        sentence[idx1], sentence[idx2] = sentence[idx2], sentence[idx1] \n",
    "    return sentence,lab"
   ]
  },
  {
   "cell_type": "code",
   "execution_count": 15,
   "metadata": {},
   "outputs": [],
   "source": [
    "def random_pick(df):\n",
    "    num = np.random.randint(0,df.shape[0])\n",
    "    return df.sentence[num],df.sentiment[num]"
   ]
  },
  {
   "cell_type": "markdown",
   "metadata": {},
   "source": [
    "### Augmentation function \n",
    "Check the Augmentation.ipynb file"
   ]
  },
  {
   "cell_type": "raw",
   "metadata": {},
   "source": [
    "# train_data.sentence\n",
    "# train_data.sentiment\n",
    "df2 = pd.DataFrame()\n",
    "df = Train_df.copy()\n",
    "pbar = tqdm(range(0,df.shape[0]))\n",
    "count = len(df)\n",
    "print (f'Before the shape was :{len(df)}' )\n",
    "\n",
    "aug_data = []\n",
    "aug_label = []\n",
    "for i in pbar:\n",
    "    \n",
    "    \n",
    "    word,val = random_pick(df)\n",
    "    word1,val1 = back_translate(word,val)\n",
    "    \n",
    "    word,val = random_pick(df)\n",
    "    word = word.split()\n",
    "    word2,val2 = random_deletion(word,val)\n",
    "    word2 = ' '.join(i for i in word2)\n",
    "    \n",
    "    word,val = random_pick(df)\n",
    "    word = word.split()\n",
    "    word3,val3 = random_swap(word,val)\n",
    "    word3 = ' '.join(i for i in word3)\n",
    "     \n",
    "    ins = {'sentence':[word1,word2,word3],'label':[val1,val2,val3]}\n",
    "    df2 = pd.concat([df2,pd.DataFrame(ins)])\n",
    "    df2.to_csv('all_transforms.csv')\n",
    "pbar.set_description(desc = f'Loop:{i}')\n",
    "    "
   ]
  },
  {
   "cell_type": "markdown",
   "metadata": {},
   "source": [
    "### Getting all Augmented files from Augmentation.ipynb"
   ]
  },
  {
   "cell_type": "code",
   "execution_count": 16,
   "metadata": {},
   "outputs": [],
   "source": [
    "Augmented_files = pd.read_csv('all_transforms_1.csv',index_col=[0])"
   ]
  },
  {
   "cell_type": "code",
   "execution_count": 17,
   "metadata": {},
   "outputs": [],
   "source": [
    "Augmented_files.drop_duplicates(inplace=True)"
   ]
  },
  {
   "cell_type": "code",
   "execution_count": 18,
   "metadata": {},
   "outputs": [],
   "source": [
    "Augmented_files.reset_index(inplace=True,drop=True)"
   ]
  },
  {
   "cell_type": "code",
   "execution_count": 19,
   "metadata": {},
   "outputs": [
    {
     "data": {
      "text/html": [
       "<div>\n",
       "<style scoped>\n",
       "    .dataframe tbody tr th:only-of-type {\n",
       "        vertical-align: middle;\n",
       "    }\n",
       "\n",
       "    .dataframe tbody tr th {\n",
       "        vertical-align: top;\n",
       "    }\n",
       "\n",
       "    .dataframe thead th {\n",
       "        text-align: right;\n",
       "    }\n",
       "</style>\n",
       "<table border=\"1\" class=\"dataframe\">\n",
       "  <thead>\n",
       "    <tr style=\"text-align: right;\">\n",
       "      <th></th>\n",
       "      <th>sentence</th>\n",
       "      <th>label</th>\n",
       "    </tr>\n",
       "  </thead>\n",
       "  <tbody>\n",
       "    <tr>\n",
       "      <th>0</th>\n",
       "      <td>The Rock is destined to be the new `` Conan ''...</td>\n",
       "      <td>0.69444</td>\n",
       "    </tr>\n",
       "    <tr>\n",
       "      <th>1</th>\n",
       "      <td>Rock is 21st '' that going to make a even than...</td>\n",
       "      <td>0.69444</td>\n",
       "    </tr>\n",
       "  </tbody>\n",
       "</table>\n",
       "</div>"
      ],
      "text/plain": [
       "                                            sentence    label\n",
       "0  The Rock is destined to be the new `` Conan ''...  0.69444\n",
       "1  Rock is 21st '' that going to make a even than...  0.69444"
      ]
     },
     "execution_count": 19,
     "metadata": {},
     "output_type": "execute_result"
    }
   ],
   "source": [
    "Augmented_files.head(2)\n",
    "Augmented_files.columns = ['sentence','sentiment']"
   ]
  },
  {
   "cell_type": "code",
   "execution_count": 20,
   "metadata": {},
   "outputs": [
    {
     "data": {
      "text/html": [
       "<div>\n",
       "<style scoped>\n",
       "    .dataframe tbody tr th:only-of-type {\n",
       "        vertical-align: middle;\n",
       "    }\n",
       "\n",
       "    .dataframe tbody tr th {\n",
       "        vertical-align: top;\n",
       "    }\n",
       "\n",
       "    .dataframe thead th {\n",
       "        text-align: right;\n",
       "    }\n",
       "</style>\n",
       "<table border=\"1\" class=\"dataframe\">\n",
       "  <thead>\n",
       "    <tr style=\"text-align: right;\">\n",
       "      <th></th>\n",
       "      <th>sentence_index</th>\n",
       "      <th>sentence</th>\n",
       "      <th>id</th>\n",
       "      <th>sentiment</th>\n",
       "      <th>fine</th>\n",
       "      <th>coarse</th>\n",
       "    </tr>\n",
       "  </thead>\n",
       "  <tbody>\n",
       "    <tr>\n",
       "      <th>0</th>\n",
       "      <td>1</td>\n",
       "      <td>The Rock is destined to be the 21st Century 's...</td>\n",
       "      <td>226166.0</td>\n",
       "      <td>0.69444</td>\n",
       "      <td>positive</td>\n",
       "      <td>positive</td>\n",
       "    </tr>\n",
       "    <tr>\n",
       "      <th>1</th>\n",
       "      <td>2</td>\n",
       "      <td>The gorgeously elaborate continuation of `` Th...</td>\n",
       "      <td>226300.0</td>\n",
       "      <td>0.83333</td>\n",
       "      <td>very positive</td>\n",
       "      <td>positive</td>\n",
       "    </tr>\n",
       "  </tbody>\n",
       "</table>\n",
       "</div>"
      ],
      "text/plain": [
       "   sentence_index                                           sentence  \\\n",
       "0               1  The Rock is destined to be the 21st Century 's...   \n",
       "1               2  The gorgeously elaborate continuation of `` Th...   \n",
       "\n",
       "         id  sentiment           fine    coarse  \n",
       "0  226166.0    0.69444       positive  positive  \n",
       "1  226300.0    0.83333  very positive  positive  "
      ]
     },
     "execution_count": 20,
     "metadata": {},
     "output_type": "execute_result"
    }
   ],
   "source": [
    "Train_df.head(2)"
   ]
  },
  {
   "cell_type": "code",
   "execution_count": 21,
   "metadata": {},
   "outputs": [],
   "source": [
    "Train_df = pd.concat([Train_df,Augmented_files])"
   ]
  },
  {
   "cell_type": "code",
   "execution_count": 22,
   "metadata": {},
   "outputs": [],
   "source": [
    "Train_df.reset_index(inplace=True,drop = True)"
   ]
  },
  {
   "cell_type": "markdown",
   "metadata": {},
   "source": [
    "### Preparing data for Pytorch"
   ]
  },
  {
   "cell_type": "code",
   "execution_count": null,
   "metadata": {},
   "outputs": [],
   "source": []
  },
  {
   "cell_type": "code",
   "execution_count": 23,
   "metadata": {},
   "outputs": [
    {
     "name": "stdout",
     "output_type": "stream",
     "text": [
      "(22307, 6)\n",
      "(1101, 6)\n"
     ]
    }
   ],
   "source": [
    "print(Train_df.shape)\n",
    "print(Test_df.shape)"
   ]
  },
  {
   "cell_type": "code",
   "execution_count": 24,
   "metadata": {},
   "outputs": [
    {
     "name": "stdout",
     "output_type": "stream",
     "text": [
      "The Total null values in Train Data:-  512\n",
      "The Total null values in Test Data:-  57\n"
     ]
    }
   ],
   "source": [
    "print(\"The Total null values in Train Data:- \",Train_df['sentiment'].isnull().sum())\n",
    "print(\"The Total null values in Test Data:- \",Test_df['sentiment'].isnull().sum())"
   ]
  },
  {
   "cell_type": "code",
   "execution_count": 25,
   "metadata": {},
   "outputs": [],
   "source": [
    "Train_df.sentiment.interpolate(method ='linear', limit_direction ='forward',inplace=True)\n",
    "Test_df.sentiment.interpolate(method ='linear', limit_direction ='forward',inplace=True)"
   ]
  },
  {
   "cell_type": "code",
   "execution_count": 26,
   "metadata": {},
   "outputs": [
    {
     "name": "stdout",
     "output_type": "stream",
     "text": [
      "The Total null values in Train Data:-  0\n",
      "The Total null values in Test Data:-  0\n"
     ]
    }
   ],
   "source": [
    "print(\"The Total null values in Train Data:- \",Train_df['sentiment'].isnull().sum())\n",
    "print(\"The Total null values in Test Data:- \",Test_df['sentiment'].isnull().sum())"
   ]
  },
  {
   "cell_type": "code",
   "execution_count": 27,
   "metadata": {},
   "outputs": [],
   "source": [
    "Train_df['label'] = (Train_df['sentiment'] * 24).clip(0, 24).astype('int')\n",
    "Test_df['label'] = (Test_df['sentiment'] * 24).clip(0, 24).astype('int')"
   ]
  },
  {
   "cell_type": "code",
   "execution_count": 28,
   "metadata": {},
   "outputs": [],
   "source": [
    "Train_df['label'] = Train_df['label'].apply(discretize_label)\n",
    "Test_df['label'] = Test_df['label'].apply(discretize_label)"
   ]
  },
  {
   "cell_type": "code",
   "execution_count": 29,
   "metadata": {},
   "outputs": [
    {
     "data": {
      "text/plain": [
       "Class4    14747\n",
       "Class2     2948\n",
       "Class1     1984\n",
       "Class3     1935\n",
       "Class5      693\n",
       "Name: label, dtype: int64"
      ]
     },
     "execution_count": 29,
     "metadata": {},
     "output_type": "execute_result"
    },
    {
     "data": {
      "text/plain": [
       "Class4    310\n",
       "Class2    295\n",
       "Class1    214\n",
       "Class3    204\n",
       "Class5     78\n",
       "Name: label, dtype: int64"
      ]
     },
     "execution_count": 29,
     "metadata": {},
     "output_type": "execute_result"
    }
   ],
   "source": [
    "Train_df.label.value_counts()\n",
    "Test_df.label.value_counts()"
   ]
  },
  {
   "cell_type": "code",
   "execution_count": 30,
   "metadata": {},
   "outputs": [
    {
     "name": "stderr",
     "output_type": "stream",
     "text": [
      "/home/jd/anaconda3/envs/eva/lib/python3.8/site-packages/torchtext/data/utils.py:123: UserWarning: Spacy model \"en\" could not be loaded, trying \"en_core_web_sm\" instead\n",
      "  warnings.warn(f'Spacy model \"{language}\" could not be loaded, trying \"{OLD_MODEL_SHORTCUTS[language]}\" instead')\n"
     ]
    }
   ],
   "source": [
    "TEXT = Field(sequential = True, tokenize = 'spacy', batch_first =True, include_lengths=True)\n",
    "LABEL = LabelField(tokenize ='spacy', is_target=True, batch_first =True, sequential =False)"
   ]
  },
  {
   "cell_type": "code",
   "execution_count": 31,
   "metadata": {},
   "outputs": [],
   "source": [
    "fields = [('text', TEXT),('labels',LABEL)]"
   ]
  },
  {
   "cell_type": "code",
   "execution_count": 32,
   "metadata": {},
   "outputs": [],
   "source": [
    "Train_df.reset_index(inplace=True,drop = True)"
   ]
  },
  {
   "cell_type": "code",
   "execution_count": 33,
   "metadata": {},
   "outputs": [],
   "source": [
    "Test_df.reset_index(inplace=True,drop = True)"
   ]
  },
  {
   "cell_type": "code",
   "execution_count": 34,
   "metadata": {},
   "outputs": [],
   "source": [
    "train_example = [data.Example.fromlist([Train_df.sentence[i],Train_df.label[i]], fields) for i in range(Train_df.shape[0])]\n",
    "test_example = [data.Example.fromlist([Test_df.sentence[i],Test_df.label[i]], fields) for i in range(Test_df.shape[0])]\n",
    "\n",
    "train_data = data.Dataset(train_example, fields,)\n",
    "test_data = data.Dataset(test_example, fields)\n"
   ]
  },
  {
   "cell_type": "code",
   "execution_count": null,
   "metadata": {},
   "outputs": [],
   "source": []
  },
  {
   "cell_type": "raw",
   "metadata": {},
   "source": [
    "train_data.examples[1].text\n",
    "train_data.examples[1].labels"
   ]
  },
  {
   "cell_type": "markdown",
   "metadata": {},
   "source": [
    "### Chceker (ignore)"
   ]
  },
  {
   "cell_type": "raw",
   "metadata": {},
   "source": [
    "count = 9593\n",
    "for d,l in zip(aug_data,aug_label):\n",
    "#     train_data.examples[count].text = d\n",
    "#     train_data.examples[count]. = l\n",
    "    break\n",
    "    count+= 1"
   ]
  },
  {
   "cell_type": "code",
   "execution_count": null,
   "metadata": {},
   "outputs": [],
   "source": []
  },
  {
   "cell_type": "markdown",
   "metadata": {
    "id": "7-ZPPwSyXM9B"
   },
   "source": [
    "### Visualizing the data randomly"
   ]
  },
  {
   "cell_type": "code",
   "execution_count": 35,
   "metadata": {
    "colab": {
     "base_uri": "https://localhost:8080/",
     "height": 125
    },
    "id": "WyL3o2uUXM9B",
    "outputId": "8ccff20a-d5bc-44ce-b337-3931bbf595a6"
   },
   "outputs": [
    {
     "data": {
      "text/plain": [
       "\"Judith and Zaza 's extended bedroom sequence ... is so intimate and sensual and funny and psychologically self - revealing that it makes most of what passes for sex in the movies look like cheap hysterics . \""
      ]
     },
     "execution_count": 35,
     "metadata": {},
     "output_type": "execute_result"
    },
    {
     "data": {
      "text/plain": [
       "'Class5'"
      ]
     },
     "execution_count": 35,
     "metadata": {},
     "output_type": "execute_result"
    }
   ],
   "source": [
    "line = ''\n",
    "filenumber = np.random.randint(1000)\n",
    "\n",
    "for i in train_data.examples[filenumber].text:\n",
    "    line += i + ' '\n",
    "line\n",
    "\n",
    "train_data.examples[filenumber].labels"
   ]
  },
  {
   "cell_type": "markdown",
   "metadata": {
    "id": "mg-qMQ6VtKCG"
   },
   "source": [
    "###  Build vocabulary for source and target from training data\n",
    " "
   ]
  },
  {
   "cell_type": "code",
   "execution_count": 36,
   "metadata": {
    "id": "q9PE4q54XM9B"
   },
   "outputs": [],
   "source": [
    "TEXT.build_vocab(train_data)\n",
    "LABEL.build_vocab(train_data)"
   ]
  },
  {
   "cell_type": "code",
   "execution_count": 37,
   "metadata": {
    "colab": {
     "base_uri": "https://localhost:8080/"
    },
    "id": "6bHVCk9oXM9C",
    "outputId": "bd0b0aea-a180-4e6c-ffbf-217698c93cba"
   },
   "outputs": [
    {
     "name": "stdout",
     "output_type": "stream",
     "text": [
      "Size of input vocab :  19267\n",
      "Size of label vocab :  5\n",
      "Top 10 words appreared repeatedly : [('to', 21128), (\"'s\", 20478), ('.', 18723), ('`', 18265), (',', 17688), ('the', 16261), ('and', 14348), ('a', 14152), ('-', 12192), ('is', 11851)]\n",
      "Labels :  defaultdict(None, {'Class4': 0, 'Class2': 1, 'Class1': 2, 'Class3': 3, 'Class5': 4})\n"
     ]
    }
   ],
   "source": [
    "print('Size of input vocab : ', len(TEXT.vocab))\n",
    "print('Size of label vocab : ', len(LABEL.vocab))\n",
    "print('Top 10 words appreared repeatedly :', list(TEXT.vocab.freqs.most_common(10)))\n",
    "print('Labels : ', LABEL.vocab.stoi)"
   ]
  },
  {
   "cell_type": "raw",
   "metadata": {},
   "source": [
    " print (list(TEXT.vocab.freqs.most_common())[])"
   ]
  },
  {
   "cell_type": "code",
   "execution_count": null,
   "metadata": {},
   "outputs": [],
   "source": []
  },
  {
   "cell_type": "markdown",
   "metadata": {
    "id": "Kcc5kk8BtKCH"
   },
   "source": [
    "### Train and Test iteartor"
   ]
  },
  {
   "cell_type": "code",
   "execution_count": null,
   "metadata": {},
   "outputs": [],
   "source": []
  },
  {
   "cell_type": "code",
   "execution_count": 38,
   "metadata": {
    "id": "bogX6jtDXM9C"
   },
   "outputs": [],
   "source": [
    "BATCH_SIZE = 32\n",
    "\n",
    "train_iterator,test_iterator = data.BucketIterator.splits(\n",
    "    (train_data, test_data), \n",
    "    batch_size = BATCH_SIZE,\n",
    "    sort_key = lambda x: len(x.text),\n",
    "    sort_within_batch=True, # necessary for packed_padded_sequence\n",
    "    device = device,shuffle=True)"
   ]
  },
  {
   "cell_type": "code",
   "execution_count": 39,
   "metadata": {},
   "outputs": [],
   "source": [
    "import os, pickle\n",
    "with open('tokenizer.pkl', 'wb') as tokens: \n",
    "    pickle.dump(TEXT.vocab.stoi, tokens)"
   ]
  },
  {
   "cell_type": "markdown",
   "metadata": {
    "id": "3Da-tC_aXM9C"
   },
   "source": [
    "### Creating Model"
   ]
  },
  {
   "cell_type": "code",
   "execution_count": 40,
   "metadata": {
    "id": "n1udFd0cXM9D"
   },
   "outputs": [],
   "source": [
    "# Model class\n",
    "import torch.nn.functional as F\n",
    "class Model(nn.Module):\n",
    "    def __init__(self, input_dim, output_dim,emb_dim, hidden_dim, n_layers, dropout):\n",
    "        # input_dim <--- vocabulary size\n",
    "        # output_dim <--- len ([positive, negative]) == 2 \n",
    "        # emb_dim <--- embedding dimension of embedding matrix\n",
    "\n",
    "        super(Model, self).__init__()\n",
    "        self.n_layers = n_layers\n",
    "        self.hidden_dim = hidden_dim\n",
    "\n",
    "        self.embedding = nn.Embedding(input_dim, emb_dim)\n",
    "        self.encoder = nn.LSTM(emb_dim, hidden_dim, n_layers, dropout=dropout,batch_first=True)\n",
    "\n",
    "        self.fc1 = nn.Linear(hidden_dim, 512)\n",
    "        self.fc2 = nn.Linear(512, output_dim)\n",
    "        self.dropout = nn.Dropout(dropout)\n",
    "\n",
    "    def forward(self, src,Len):\n",
    "        # shape: [source_len, batch_size]\n",
    "        embedded = self.dropout(self.embedding(src)) # shape: [src_len, batch_size, embed_dim]\n",
    "        packed = torch.nn.utils.rnn.pack_padded_sequence(embedded, Len.to('cpu'),batch_first=True)\n",
    "        output, (hidden, cell) = self.encoder(packed) \n",
    "        # output shape -> [batch, hidden_dim]\n",
    "        # hiddden shape -> [n_layers, batch, hidden_dim]\n",
    "        # cell shape -> [n_layers, batch, hidden_dim]\n",
    "        output = F.relu(self.fc1(hidden))\n",
    "#         output = self.dropout(output)\n",
    "        output = self.fc2(output)\n",
    "        output = F.softmax(output, dim=1)\n",
    "#         output = F.relu(output)\n",
    "        \n",
    "        return output[-1].squeeze(0)"
   ]
  },
  {
   "cell_type": "code",
   "execution_count": 41,
   "metadata": {},
   "outputs": [
    {
     "data": {
      "text/plain": [
       "'cuda'"
      ]
     },
     "execution_count": 41,
     "metadata": {},
     "output_type": "execute_result"
    }
   ],
   "source": [
    "device"
   ]
  },
  {
   "cell_type": "code",
   "execution_count": 42,
   "metadata": {
    "colab": {
     "base_uri": "https://localhost:8080/"
    },
    "id": "sJ4gPZzAXM9D",
    "outputId": "84645ba0-4413-489a-ca7c-234b2be7d703"
   },
   "outputs": [
    {
     "name": "stdout",
     "output_type": "stream",
     "text": [
      "5\n"
     ]
    }
   ],
   "source": [
    "#initializing variables and hyper parameters\n",
    "INPUT_DIM = len(TEXT.vocab)\n",
    "OUTPUT_DIM = len(LABEL.vocab)\n",
    "print(OUTPUT_DIM)\n",
    "\n",
    "EMBEDDING_DIM = 512\n",
    "HIDDEN_DIM = 512\n",
    "\n",
    "N_LAYERS = 5\n",
    "DROPOUT = 0.2\n",
    "\n",
    "# initializing our model\n",
    "model = Model(INPUT_DIM, OUTPUT_DIM, EMBEDDING_DIM, HIDDEN_DIM, N_LAYERS, DROPOUT).to(device)\n",
    "\n"
   ]
  },
  {
   "cell_type": "code",
   "execution_count": 43,
   "metadata": {
    "id": "cssKRzERXM9E"
   },
   "outputs": [],
   "source": [
    "train_loss = []\n",
    "train_accuracy = []\n",
    "test_loss = []\n",
    "test_accuracy = []\n",
    "validation_loss = []\n",
    "validation_accuracy = []"
   ]
  },
  {
   "cell_type": "code",
   "execution_count": 44,
   "metadata": {
    "id": "k9LTjlYCXM9E"
   },
   "outputs": [],
   "source": [
    "# loop and train our model\n",
    "optimizer = optim.Adam(model.parameters(), lr=2)\n",
    "\n",
    "# defining learnig rate scheduler (optional)\n",
    "scheduler = optim.lr_scheduler.ReduceLROnPlateau(optimizer, patience=2,factor=0.17246,verbose=True)\n",
    "\n",
    "criterion = nn.CrossEntropyLoss()\n",
    "criterion= criterion"
   ]
  },
  {
   "cell_type": "code",
   "execution_count": null,
   "metadata": {},
   "outputs": [],
   "source": []
  },
  {
   "cell_type": "markdown",
   "metadata": {},
   "source": [
    "### Checker(ignore)"
   ]
  },
  {
   "cell_type": "code",
   "execution_count": null,
   "metadata": {},
   "outputs": [],
   "source": []
  },
  {
   "cell_type": "code",
   "execution_count": null,
   "metadata": {},
   "outputs": [],
   "source": []
  },
  {
   "cell_type": "code",
   "execution_count": 45,
   "metadata": {},
   "outputs": [],
   "source": [
    "for batch in train_iterator:\n",
    "    src,data_len = batch.text\n",
    "    src = src.to(device)\n",
    "    trg = batch.labels.to(device)\n",
    "    trg = trg.long()\n",
    "\n",
    "    optimizer.zero_grad()\n",
    "    output = model(src,data_len)\n",
    "    break"
   ]
  },
  {
   "cell_type": "raw",
   "metadata": {},
   "source": [
    "loss = criterion(output, trg)\n",
    "loss\n",
    "\n",
    "acc = binary_accuracy(output, trg)   \n",
    "\n",
    "acc\n",
    "\n",
    "        \n",
    "\n",
    "# compute the binary accuracy\n",
    "acc = binary_accuracy(predictions, batch.labels)   \n",
    "\n",
    "# backpropage the loss and compute the gradients\n",
    "loss.backward()       \n",
    "\n",
    "# update the weights\n",
    "optimizer.step()      \n",
    "\n",
    "# loss and accuracy\n",
    "epoch_loss += loss.item()  \n",
    "epoch_acc += acc.item()  "
   ]
  },
  {
   "cell_type": "code",
   "execution_count": null,
   "metadata": {},
   "outputs": [],
   "source": []
  },
  {
   "cell_type": "code",
   "execution_count": null,
   "metadata": {},
   "outputs": [],
   "source": []
  },
  {
   "cell_type": "markdown",
   "metadata": {},
   "source": [
    "### Model training function"
   ]
  },
  {
   "cell_type": "raw",
   "metadata": {},
   "source": [
    "def binary_accuracy(preds, y):\n",
    "    \"\"\"\n",
    "    Returns accuracy per batch, i.e. if you get 8/10 right, this returns 0.8, NOT 8\n",
    "    \"\"\"\n",
    "\n",
    "    #round predictions to the closest integer\n",
    "    rounded_preds = torch.round(torch.sigmoid(preds))\n",
    "    correct = (rounded_preds.argmax(1) == y).float() #convert into float for division \n",
    "    acc = correct.sum() / len(correct)\n",
    "    return acc.item()"
   ]
  },
  {
   "cell_type": "code",
   "execution_count": 46,
   "metadata": {},
   "outputs": [],
   "source": [
    "def binary_accuracy(preds, y):\n",
    "    #round predictions to the closest integer\n",
    "    _, predictions = torch.max(preds, 1)\n",
    "    \n",
    "    correct = (predictions == y).float() \n",
    "    acc = correct.sum() / len(correct)\n",
    "    return acc"
   ]
  },
  {
   "cell_type": "code",
   "execution_count": 47,
   "metadata": {
    "id": "VPPTpYnFXM9E"
   },
   "outputs": [],
   "source": [
    "\n",
    "def train(EPOCH,model, iterator, optimizer=optimizer, criterion=criterion, clip=1,):\n",
    "    model.train()\n",
    "    epoch_loss = 0\n",
    "    total_correct = 0\n",
    "    total_count = 0\n",
    "    pbar = tqdm(iterator)\n",
    "    for i, batch in enumerate(pbar):\n",
    "        src,data_len = batch.text\n",
    "        src = src.to(device)\n",
    "        trg = batch.labels.to(device)\n",
    "        trg = trg.long()\n",
    "        \n",
    "        optimizer.zero_grad()\n",
    "        \n",
    "        output= model(src,data_len).squeeze()\n",
    "        total_correct += torch.sum(torch.eq(output.argmax(1), trg))\n",
    "        total_count+=len(trg)\n",
    "        acc = binary_accuracy(output, trg)   \n",
    "        loss = criterion(output, trg)\n",
    "        \n",
    "        loss.backward() \n",
    "        optimizer.step()\n",
    "        \n",
    "        epoch_loss += loss.item()\n",
    "        \n",
    "        pbar.set_description(desc= f\"\\033[1mEpoch {EPOCH}  Train data \\033[0m Batch No : {i} Epoch Loss: {epoch_loss:.3f} Loss : {loss.item():.3f} Accuracy : {total_correct/total_count * 100 :.2f}% \" )\n",
    "    \n",
    "    train_accuracy.append(acc)\n",
    "    mean_loss = epoch_loss / len(iterator)\n",
    "    train_loss.append(mean_loss)\n",
    "    \n",
    "    scheduler.step(mean_loss)\n"
   ]
  },
  {
   "cell_type": "markdown",
   "metadata": {
    "id": "zcNqZfvctKCL"
   },
   "source": [
    "### Model Validation function"
   ]
  },
  {
   "cell_type": "code",
   "execution_count": 48,
   "metadata": {
    "id": "_-bx851mXM9G"
   },
   "outputs": [],
   "source": [
    "\n",
    "def evaluate(EPOCH,model, iterator, criterion,typ_loader):\n",
    "    epoch_loss = 0\n",
    "    epoch_acc = 0\n",
    "    model.eval()\n",
    "    pbar  = tqdm(iterator)\n",
    "    with torch.no_grad():\n",
    "        \n",
    "        for i,batch in enumerate(pbar):\n",
    "            src,data_len = batch.text\n",
    "            src = src.to(device)\n",
    "            trg = batch.labels.to(device)\n",
    "            trg = trg.long()\n",
    "            predictions = model(src,data_len).squeeze()\n",
    "            \n",
    "            loss = criterion(predictions, trg)\n",
    "            \n",
    "            acc = binary_accuracy(predictions, trg)\n",
    "\n",
    "            epoch_loss += loss.item()\n",
    "            epoch_acc += acc\n",
    "            if typ_loader == 'Valid data':\n",
    "                validation_loss.append(loss)\n",
    "                validation_accuracy.append(acc)\n",
    "            elif typ_loader == 'Test data':\n",
    "                test_loss.append(loss)\n",
    "                test_accuracy.append(acc)\n",
    "            pbar.set_description(desc= f'\\033[4mEpoch {EPOCH}  {typ_loader} Batch No : {i} Epoch Loss: {epoch_loss:.3f}  Loss : {loss.item():.3f} | Accuracy : {epoch_acc / len(iterator)* 100 :.2f}%\\033[0m' )"
   ]
  },
  {
   "cell_type": "markdown",
   "metadata": {
    "id": "rUowPx2KXM9H"
   },
   "source": [
    "### Rraining"
   ]
  },
  {
   "cell_type": "code",
   "execution_count": 49,
   "metadata": {
    "colab": {
     "base_uri": "https://localhost:8080/"
    },
    "id": "HYJ2RintXM9H",
    "outputId": "d4da680b-6d3d-4e2e-e8a6-1f2718b4ed83"
   },
   "outputs": [
    {
     "name": "stderr",
     "output_type": "stream",
     "text": [
      "\u001b[1mEpoch 0  Train data \u001b[0m Batch No : 697 Epoch Loss: 1131.506 Loss : 1.620 Accuracy : 61.27% : 100%|██████████| 698/698 [01:16<00:00,  9.17it/s]\n",
      "\u001b[4mEpoch 0  TEST DATA Batch No : 34 Epoch Loss: 56.860  Loss : 1.723 | Accuracy : 27.22%\u001b[0m: 100%|██████████| 35/35 [00:00<00:00, 44.86it/s]\n",
      "\u001b[1mEpoch 1  Train data \u001b[0m Batch No : 697 Epoch Loss: 1134.099 Loss : 1.653 Accuracy : 60.38% : 100%|██████████| 698/698 [01:15<00:00,  9.20it/s]\n",
      "\u001b[4mEpoch 1  TEST DATA Batch No : 34 Epoch Loss: 56.804  Loss : 1.559 | Accuracy : 26.81%\u001b[0m: 100%|██████████| 35/35 [00:00<00:00, 44.71it/s]\n",
      "\u001b[1mEpoch 2  Train data \u001b[0m Batch No : 697 Epoch Loss: 1131.731 Loss : 1.620 Accuracy : 60.94% : 100%|██████████| 698/698 [01:15<00:00,  9.19it/s]\n",
      "\u001b[4mEpoch 2  TEST DATA Batch No : 34 Epoch Loss: 56.419  Loss : 1.559 | Accuracy : 27.75%\u001b[0m: 100%|██████████| 35/35 [00:00<00:00, 44.20it/s]\n",
      "\u001b[1mEpoch 3  Train data \u001b[0m Batch No : 697 Epoch Loss: 1132.453 Loss : 1.620 Accuracy : 60.61% : 100%|██████████| 698/698 [01:15<00:00,  9.19it/s]\n",
      "\u001b[4mEpoch 3  TEST DATA Batch No : 12 Epoch Loss: 21.185  Loss : 1.622 | Accuracy : 9.29%\u001b[0m:  26%|██▌       | 9/35 [00:00<00:00, 79.05it/s]"
     ]
    },
    {
     "name": "stdout",
     "output_type": "stream",
     "text": [
      "Epoch     4: reducing learning rate of group 0 to 3.4492e-01.\n"
     ]
    },
    {
     "name": "stderr",
     "output_type": "stream",
     "text": [
      "\u001b[4mEpoch 3  TEST DATA Batch No : 34 Epoch Loss: 57.018  Loss : 1.641 | Accuracy : 27.43%\u001b[0m: 100%|██████████| 35/35 [00:00<00:00, 43.99it/s]\n",
      "\u001b[1mEpoch 4  Train data \u001b[0m Batch No : 697 Epoch Loss: 1132.687 Loss : 1.620 Accuracy : 60.40% : 100%|██████████| 698/698 [01:15<00:00,  9.20it/s]\n",
      "\u001b[4mEpoch 4  TEST DATA Batch No : 34 Epoch Loss: 57.051  Loss : 1.718 | Accuracy : 26.46%\u001b[0m: 100%|██████████| 35/35 [00:00<00:00, 44.36it/s]\n",
      "\u001b[1mEpoch 5  Train data \u001b[0m Batch No : 697 Epoch Loss: 1130.763 Loss : 1.622 Accuracy : 60.57% : 100%|██████████| 698/698 [01:16<00:00,  9.10it/s]\n",
      "\u001b[4mEpoch 5  TEST DATA Batch No : 34 Epoch Loss: 56.542  Loss : 1.636 | Accuracy : 27.66%\u001b[0m: 100%|██████████| 35/35 [00:00<00:00, 41.50it/s]\n",
      "\u001b[1mEpoch 6  Train data \u001b[0m Batch No : 697 Epoch Loss: 1131.920 Loss : 1.653 Accuracy : 60.99% : 100%|██████████| 698/698 [01:21<00:00,  8.56it/s]\n",
      "\u001b[4mEpoch 6  TEST DATA Batch No : 34 Epoch Loss: 56.808  Loss : 1.723 | Accuracy : 27.31%\u001b[0m: 100%|██████████| 35/35 [00:00<00:00, 41.13it/s]\n",
      "\u001b[1mEpoch 7  Train data \u001b[0m Batch No : 697 Epoch Loss: 1131.405 Loss : 1.650 Accuracy : 61.00% : 100%|██████████| 698/698 [01:21<00:00,  8.52it/s]\n",
      "\u001b[4mEpoch 7  TEST DATA Batch No : 34 Epoch Loss: 56.865  Loss : 1.713 | Accuracy : 27.71%\u001b[0m: 100%|██████████| 35/35 [00:00<00:00, 41.33it/s]\n",
      "\u001b[1mEpoch 8  Train data \u001b[0m Batch No : 697 Epoch Loss: 1130.847 Loss : 1.619 Accuracy : 61.31% : 100%|██████████| 698/698 [01:22<00:00,  8.50it/s]\n",
      "\u001b[4mEpoch 8  TEST DATA Batch No : 11 Epoch Loss: 19.512  Loss : 1.622 | Accuracy : 8.12%\u001b[0m:  23%|██▎       | 8/35 [00:00<00:00, 74.04it/s]"
     ]
    },
    {
     "name": "stdout",
     "output_type": "stream",
     "text": [
      "Epoch     9: reducing learning rate of group 0 to 5.9485e-02.\n"
     ]
    },
    {
     "name": "stderr",
     "output_type": "stream",
     "text": [
      "\u001b[4mEpoch 8  TEST DATA Batch No : 34 Epoch Loss: 56.865  Loss : 1.713 | Accuracy : 27.71%\u001b[0m: 100%|██████████| 35/35 [00:00<00:00, 40.78it/s]\n",
      "\u001b[1mEpoch 9  Train data \u001b[0m Batch No : 697 Epoch Loss: 1130.818 Loss : 1.656 Accuracy : 61.40% : 100%|██████████| 698/698 [01:22<00:00,  8.51it/s]\n",
      "\u001b[4mEpoch 9  TEST DATA Batch No : 34 Epoch Loss: 56.816  Loss : 1.699 | Accuracy : 28.10%\u001b[0m: 100%|██████████| 35/35 [00:00<00:00, 40.85it/s]\n",
      "\u001b[1mEpoch 10  Train data \u001b[0m Batch No : 697 Epoch Loss: 1130.422 Loss : 1.653 Accuracy : 61.55% : 100%|██████████| 698/698 [01:21<00:00,  8.52it/s]\n",
      "\u001b[4mEpoch 10  TEST DATA Batch No : 34 Epoch Loss: 56.590  Loss : 1.632 | Accuracy : 28.24%\u001b[0m: 100%|██████████| 35/35 [00:00<00:00, 40.86it/s]\n",
      "\u001b[1mEpoch 11  Train data \u001b[0m Batch No : 697 Epoch Loss: 1129.897 Loss : 1.617 Accuracy : 62.68% : 100%|██████████| 698/698 [01:22<00:00,  8.48it/s]\n",
      "\u001b[4mEpoch 11  TEST DATA Batch No : 34 Epoch Loss: 56.925  Loss : 1.709 | Accuracy : 27.62%\u001b[0m: 100%|██████████| 35/35 [00:00<00:00, 40.94it/s]\n",
      "\u001b[1mEpoch 12  Train data \u001b[0m Batch No : 697 Epoch Loss: 1129.700 Loss : 1.619 Accuracy : 62.80% : 100%|██████████| 698/698 [01:22<00:00,  8.47it/s]\n",
      "\u001b[4mEpoch 12  TEST DATA Batch No : 34 Epoch Loss: 56.811  Loss : 1.709 | Accuracy : 27.97%\u001b[0m: 100%|██████████| 35/35 [00:00<00:00, 41.43it/s]\n",
      "\u001b[1mEpoch 13  Train data \u001b[0m Batch No : 697 Epoch Loss: 1128.914 Loss : 1.614 Accuracy : 62.99% : 100%|██████████| 698/698 [01:22<00:00,  8.47it/s]\n",
      "\u001b[4mEpoch 13  TEST DATA Batch No : 34 Epoch Loss: 56.811  Loss : 1.709 | Accuracy : 27.97%\u001b[0m: 100%|██████████| 35/35 [00:00<00:00, 40.89it/s]\n",
      "\u001b[1mEpoch 14  Train data \u001b[0m Batch No : 697 Epoch Loss: 1128.711 Loss : 1.619 Accuracy : 62.63% : 100%|██████████| 698/698 [01:22<00:00,  8.47it/s]\n",
      "\u001b[4mEpoch 14  TEST DATA Batch No : 34 Epoch Loss: 56.977  Loss : 1.709 | Accuracy : 27.71%\u001b[0m: 100%|██████████| 35/35 [00:00<00:00, 40.89it/s]\n",
      "\u001b[1mEpoch 15  Train data \u001b[0m Batch No : 697 Epoch Loss: 1129.999 Loss : 1.622 Accuracy : 61.87% : 100%|██████████| 698/698 [01:22<00:00,  8.47it/s]\n",
      "\u001b[4mEpoch 15  TEST DATA Batch No : 34 Epoch Loss: 56.739  Loss : 1.709 | Accuracy : 28.55%\u001b[0m: 100%|██████████| 35/35 [00:00<00:00, 41.46it/s]\n",
      "\u001b[1mEpoch 16  Train data \u001b[0m Batch No : 697 Epoch Loss: 1131.515 Loss : 1.622 Accuracy : 61.10% : 100%|██████████| 698/698 [01:22<00:00,  8.50it/s]\n",
      "\u001b[4mEpoch 16  TEST DATA Batch No : 34 Epoch Loss: 56.828  Loss : 1.559 | Accuracy : 27.35%\u001b[0m: 100%|██████████| 35/35 [00:00<00:00, 41.15it/s]\n",
      "\u001b[1mEpoch 17  Train data \u001b[0m Batch No : 697 Epoch Loss: 1130.526 Loss : 1.588 Accuracy : 61.28% : 100%|██████████| 698/698 [01:22<00:00,  8.49it/s]\n",
      "\u001b[4mEpoch 17  TEST DATA Batch No : 11 Epoch Loss: 19.454  Loss : 1.560 | Accuracy : 8.12%\u001b[0m:  23%|██▎       | 8/35 [00:00<00:00, 75.17it/s]"
     ]
    },
    {
     "name": "stdout",
     "output_type": "stream",
     "text": [
      "Epoch    18: reducing learning rate of group 0 to 1.0259e-02.\n"
     ]
    },
    {
     "name": "stderr",
     "output_type": "stream",
     "text": [
      "\u001b[4mEpoch 17  TEST DATA Batch No : 34 Epoch Loss: 56.749  Loss : 1.641 | Accuracy : 28.28%\u001b[0m: 100%|██████████| 35/35 [00:00<00:00, 40.74it/s]\n",
      "\u001b[1mEpoch 18  Train data \u001b[0m Batch No : 697 Epoch Loss: 1130.624 Loss : 1.591 Accuracy : 61.34% : 100%|██████████| 698/698 [01:21<00:00,  8.53it/s]\n",
      "\u001b[4mEpoch 18  TEST DATA Batch No : 34 Epoch Loss: 56.570  Loss : 1.632 | Accuracy : 28.51%\u001b[0m: 100%|██████████| 35/35 [00:00<00:00, 41.33it/s]\n",
      "\u001b[1mEpoch 19  Train data \u001b[0m Batch No : 697 Epoch Loss: 1131.565 Loss : 1.622 Accuracy : 60.91% : 100%|██████████| 698/698 [01:21<00:00,  8.56it/s]\n",
      "\u001b[4mEpoch 19  TEST DATA Batch No : 34 Epoch Loss: 56.570  Loss : 1.632 | Accuracy : 28.51%\u001b[0m: 100%|██████████| 35/35 [00:00<00:00, 40.78it/s]\n",
      "\u001b[1mEpoch 20  Train data \u001b[0m Batch No : 697 Epoch Loss: 1130.736 Loss : 1.624 Accuracy : 61.03% : 100%|██████████| 698/698 [01:21<00:00,  8.56it/s]\n",
      "\u001b[4mEpoch 20  TEST DATA Batch No : 12 Epoch Loss: 20.975  Loss : 1.619 | Accuracy : 9.91%\u001b[0m:  23%|██▎       | 8/35 [00:00<00:00, 78.20it/s]"
     ]
    },
    {
     "name": "stdout",
     "output_type": "stream",
     "text": [
      "Epoch    21: reducing learning rate of group 0 to 1.7692e-03.\n"
     ]
    },
    {
     "name": "stderr",
     "output_type": "stream",
     "text": [
      "\u001b[4mEpoch 20  TEST DATA Batch No : 34 Epoch Loss: 56.639  Loss : 1.564 | Accuracy : 28.06%\u001b[0m: 100%|██████████| 35/35 [00:00<00:00, 41.88it/s]\n",
      "\u001b[1mEpoch 21  Train data \u001b[0m Batch No : 697 Epoch Loss: 1131.529 Loss : 1.624 Accuracy : 60.87% : 100%|██████████| 698/698 [01:21<00:00,  8.52it/s]\n",
      "\u001b[4mEpoch 21  TEST DATA Batch No : 34 Epoch Loss: 56.670  Loss : 1.564 | Accuracy : 28.06%\u001b[0m: 100%|██████████| 35/35 [00:00<00:00, 40.67it/s]\n",
      "\u001b[1mEpoch 22  Train data \u001b[0m Batch No : 697 Epoch Loss: 1131.941 Loss : 1.653 Accuracy : 60.87% : 100%|██████████| 698/698 [01:22<00:00,  8.51it/s]\n",
      "\u001b[4mEpoch 22  TEST DATA Batch No : 34 Epoch Loss: 56.612  Loss : 1.564 | Accuracy : 27.84%\u001b[0m: 100%|██████████| 35/35 [00:00<00:00, 40.56it/s]\n",
      "\u001b[1mEpoch 23  Train data \u001b[0m Batch No : 697 Epoch Loss: 1130.162 Loss : 1.622 Accuracy : 61.39% : 100%|██████████| 698/698 [01:22<00:00,  8.50it/s]\n",
      "\u001b[4mEpoch 23  TEST DATA Batch No : 12 Epoch Loss: 21.063  Loss : 1.653 | Accuracy : 9.55%\u001b[0m:  23%|██▎       | 8/35 [00:00<00:00, 78.97it/s]"
     ]
    },
    {
     "name": "stdout",
     "output_type": "stream",
     "text": [
      "Epoch    24: reducing learning rate of group 0 to 3.0512e-04.\n"
     ]
    },
    {
     "name": "stderr",
     "output_type": "stream",
     "text": [
      "\u001b[4mEpoch 23  TEST DATA Batch No : 34 Epoch Loss: 56.732  Loss : 1.632 | Accuracy : 27.58%\u001b[0m: 100%|██████████| 35/35 [00:00<00:00, 41.77it/s]\n",
      "\u001b[1mEpoch 24  Train data \u001b[0m Batch No : 697 Epoch Loss: 1131.614 Loss : 1.622 Accuracy : 61.12% : 100%|██████████| 698/698 [01:21<00:00,  8.54it/s]\n",
      "\u001b[4mEpoch 24  TEST DATA Batch No : 34 Epoch Loss: 56.773  Loss : 1.632 | Accuracy : 27.58%\u001b[0m: 100%|██████████| 35/35 [00:00<00:00, 41.98it/s]\n",
      "\u001b[1mEpoch 25  Train data \u001b[0m Batch No : 697 Epoch Loss: 1130.594 Loss : 1.591 Accuracy : 61.35% : 100%|██████████| 698/698 [01:21<00:00,  8.53it/s]\n",
      "\u001b[4mEpoch 25  TEST DATA Batch No : 34 Epoch Loss: 56.773  Loss : 1.632 | Accuracy : 27.49%\u001b[0m: 100%|██████████| 35/35 [00:00<00:00, 40.77it/s]\n",
      "\u001b[1mEpoch 26  Train data \u001b[0m Batch No : 697 Epoch Loss: 1131.106 Loss : 1.622 Accuracy : 61.11% : 100%|██████████| 698/698 [01:22<00:00,  8.49it/s]\n",
      "\u001b[4mEpoch 26  TEST DATA Batch No : 11 Epoch Loss: 19.410  Loss : 1.619 | Accuracy : 8.04%\u001b[0m:  23%|██▎       | 8/35 [00:00<00:00, 75.65it/s]"
     ]
    },
    {
     "name": "stdout",
     "output_type": "stream",
     "text": [
      "Epoch    27: reducing learning rate of group 0 to 5.2621e-05.\n"
     ]
    },
    {
     "name": "stderr",
     "output_type": "stream",
     "text": [
      "\u001b[4mEpoch 26  TEST DATA Batch No : 34 Epoch Loss: 56.773  Loss : 1.632 | Accuracy : 27.49%\u001b[0m: 100%|██████████| 35/35 [00:00<00:00, 41.48it/s]\n",
      "\u001b[1mEpoch 27  Train data \u001b[0m Batch No : 697 Epoch Loss: 1131.067 Loss : 1.648 Accuracy : 61.32% : 100%|██████████| 698/698 [01:22<00:00,  8.51it/s]\n",
      "\u001b[4mEpoch 27  TEST DATA Batch No : 34 Epoch Loss: 56.743  Loss : 1.632 | Accuracy : 27.66%\u001b[0m: 100%|██████████| 35/35 [00:00<00:00, 41.05it/s]\n",
      "\u001b[1mEpoch 28  Train data \u001b[0m Batch No : 697 Epoch Loss: 1131.627 Loss : 1.622 Accuracy : 61.35% : 100%|██████████| 698/698 [01:22<00:00,  8.50it/s]\n",
      "\u001b[4mEpoch 28  TEST DATA Batch No : 34 Epoch Loss: 56.743  Loss : 1.632 | Accuracy : 27.66%\u001b[0m: 100%|██████████| 35/35 [00:00<00:00, 41.00it/s]\n",
      "\u001b[1mEpoch 29  Train data \u001b[0m Batch No : 697 Epoch Loss: 1130.216 Loss : 1.622 Accuracy : 61.45% : 100%|██████████| 698/698 [01:22<00:00,  8.51it/s]\n",
      "\u001b[4mEpoch 29  TEST DATA Batch No : 11 Epoch Loss: 19.382  Loss : 1.622 | Accuracy : 8.12%\u001b[0m:  23%|██▎       | 8/35 [00:00<00:00, 77.44it/s]"
     ]
    },
    {
     "name": "stdout",
     "output_type": "stream",
     "text": [
      "Epoch    30: reducing learning rate of group 0 to 9.0750e-06.\n"
     ]
    },
    {
     "name": "stderr",
     "output_type": "stream",
     "text": [
      "\u001b[4mEpoch 29  TEST DATA Batch No : 34 Epoch Loss: 56.743  Loss : 1.632 | Accuracy : 27.66%\u001b[0m: 100%|██████████| 35/35 [00:00<00:00, 41.08it/s]\n",
      "\u001b[1mEpoch 30  Train data \u001b[0m Batch No : 697 Epoch Loss: 1130.184 Loss : 1.624 Accuracy : 61.42% : 100%|██████████| 698/698 [01:22<00:00,  8.50it/s]\n",
      "\u001b[4mEpoch 30  TEST DATA Batch No : 34 Epoch Loss: 56.743  Loss : 1.632 | Accuracy : 27.58%\u001b[0m: 100%|██████████| 35/35 [00:00<00:00, 41.26it/s]\n",
      "\u001b[1mEpoch 31  Train data \u001b[0m Batch No : 697 Epoch Loss: 1131.204 Loss : 1.591 Accuracy : 61.16% : 100%|██████████| 698/698 [01:22<00:00,  8.49it/s]\n",
      "\u001b[4mEpoch 31  TEST DATA Batch No : 34 Epoch Loss: 56.743  Loss : 1.632 | Accuracy : 27.58%\u001b[0m: 100%|██████████| 35/35 [00:00<00:00, 41.06it/s]\n",
      "\u001b[1mEpoch 32  Train data \u001b[0m Batch No : 697 Epoch Loss: 1130.684 Loss : 1.591 Accuracy : 61.33% : 100%|██████████| 698/698 [01:22<00:00,  8.48it/s]\n",
      "\u001b[4mEpoch 32  TEST DATA Batch No : 12 Epoch Loss: 21.032  Loss : 1.650 | Accuracy : 9.64%\u001b[0m:  23%|██▎       | 8/35 [00:00<00:00, 77.85it/s]"
     ]
    },
    {
     "name": "stdout",
     "output_type": "stream",
     "text": [
      "Epoch    33: reducing learning rate of group 0 to 1.5651e-06.\n"
     ]
    },
    {
     "name": "stderr",
     "output_type": "stream",
     "text": [
      "\u001b[4mEpoch 32  TEST DATA Batch No : 34 Epoch Loss: 56.700  Loss : 1.632 | Accuracy : 27.93%\u001b[0m: 100%|██████████| 35/35 [00:00<00:00, 41.55it/s]\n",
      "\u001b[1mEpoch 33  Train data \u001b[0m Batch No : 697 Epoch Loss: 1131.249 Loss : 1.619 Accuracy : 61.07% : 100%|██████████| 698/698 [01:22<00:00,  8.49it/s]\n",
      "\u001b[4mEpoch 33  TEST DATA Batch No : 34 Epoch Loss: 56.702  Loss : 1.632 | Accuracy : 28.02%\u001b[0m: 100%|██████████| 35/35 [00:00<00:00, 41.14it/s]\n",
      "\u001b[1mEpoch 34  Train data \u001b[0m Batch No : 697 Epoch Loss: 1131.103 Loss : 1.653 Accuracy : 61.32% : 100%|██████████| 698/698 [01:22<00:00,  8.48it/s]\n",
      "\u001b[4mEpoch 34  TEST DATA Batch No : 34 Epoch Loss: 56.702  Loss : 1.632 | Accuracy : 28.02%\u001b[0m: 100%|██████████| 35/35 [00:00<00:00, 41.55it/s]\n",
      "\u001b[1mEpoch 35  Train data \u001b[0m Batch No : 697 Epoch Loss: 1131.010 Loss : 1.622 Accuracy : 61.13% : 100%|██████████| 698/698 [01:22<00:00,  8.48it/s]\n",
      "\u001b[4mEpoch 35  TEST DATA Batch No : 11 Epoch Loss: 19.382  Loss : 1.622 | Accuracy : 8.12%\u001b[0m:  23%|██▎       | 8/35 [00:00<00:00, 76.36it/s]"
     ]
    },
    {
     "name": "stdout",
     "output_type": "stream",
     "text": [
      "Epoch    36: reducing learning rate of group 0 to 2.6991e-07.\n"
     ]
    },
    {
     "name": "stderr",
     "output_type": "stream",
     "text": [
      "\u001b[4mEpoch 35  TEST DATA Batch No : 34 Epoch Loss: 56.702  Loss : 1.632 | Accuracy : 28.02%\u001b[0m: 100%|██████████| 35/35 [00:00<00:00, 40.99it/s]\n",
      "\u001b[1mEpoch 36  Train data \u001b[0m Batch No : 697 Epoch Loss: 1129.915 Loss : 1.622 Accuracy : 61.44% : 100%|██████████| 698/698 [01:22<00:00,  8.47it/s]\n",
      "\u001b[4mEpoch 36  TEST DATA Batch No : 34 Epoch Loss: 56.702  Loss : 1.632 | Accuracy : 28.02%\u001b[0m: 100%|██████████| 35/35 [00:00<00:00, 40.76it/s]\n",
      "\u001b[1mEpoch 37  Train data \u001b[0m Batch No : 697 Epoch Loss: 1130.176 Loss : 1.619 Accuracy : 61.24% : 100%|██████████| 698/698 [01:22<00:00,  8.48it/s]\n",
      "\u001b[4mEpoch 37  TEST DATA Batch No : 34 Epoch Loss: 56.732  Loss : 1.632 | Accuracy : 27.75%\u001b[0m: 100%|██████████| 35/35 [00:00<00:00, 41.91it/s]\n",
      "\u001b[1mEpoch 38  Train data \u001b[0m Batch No : 697 Epoch Loss: 1130.883 Loss : 1.591 Accuracy : 61.17% : 100%|██████████| 698/698 [01:22<00:00,  8.51it/s]\n",
      "\u001b[4mEpoch 38  TEST DATA Batch No : 12 Epoch Loss: 21.032  Loss : 1.650 | Accuracy : 9.64%\u001b[0m:  23%|██▎       | 8/35 [00:00<00:00, 78.04it/s]"
     ]
    },
    {
     "name": "stdout",
     "output_type": "stream",
     "text": [
      "Epoch    39: reducing learning rate of group 0 to 4.6549e-08.\n"
     ]
    },
    {
     "name": "stderr",
     "output_type": "stream",
     "text": [
      "\u001b[4mEpoch 38  TEST DATA Batch No : 34 Epoch Loss: 56.732  Loss : 1.632 | Accuracy : 27.75%\u001b[0m: 100%|██████████| 35/35 [00:00<00:00, 41.04it/s]\n",
      "\u001b[1mEpoch 39  Train data \u001b[0m Batch No : 697 Epoch Loss: 1130.264 Loss : 1.622 Accuracy : 61.32% : 100%|██████████| 698/698 [01:22<00:00,  8.50it/s]\n",
      "\u001b[4mEpoch 39  TEST DATA Batch No : 34 Epoch Loss: 56.702  Loss : 1.632 | Accuracy : 27.84%\u001b[0m: 100%|██████████| 35/35 [00:00<00:00, 41.05it/s]\n",
      "\u001b[1mEpoch 40  Train data \u001b[0m Batch No : 697 Epoch Loss: 1130.325 Loss : 1.591 Accuracy : 61.58% : 100%|██████████| 698/698 [01:22<00:00,  8.51it/s]\n",
      "\u001b[4mEpoch 40  TEST DATA Batch No : 34 Epoch Loss: 56.702  Loss : 1.632 | Accuracy : 27.84%\u001b[0m: 100%|██████████| 35/35 [00:00<00:00, 41.87it/s]\n",
      "\u001b[1mEpoch 41  Train data \u001b[0m Batch No : 697 Epoch Loss: 1130.227 Loss : 1.622 Accuracy : 61.32% : 100%|██████████| 698/698 [01:21<00:00,  8.51it/s]\n",
      "\u001b[4mEpoch 41  TEST DATA Batch No : 12 Epoch Loss: 21.032  Loss : 1.650 | Accuracy : 9.64%\u001b[0m:  23%|██▎       | 8/35 [00:00<00:00, 74.24it/s]"
     ]
    },
    {
     "name": "stdout",
     "output_type": "stream",
     "text": [
      "Epoch    42: reducing learning rate of group 0 to 8.0279e-09.\n"
     ]
    },
    {
     "name": "stderr",
     "output_type": "stream",
     "text": [
      "\u001b[4mEpoch 41  TEST DATA Batch No : 34 Epoch Loss: 56.702  Loss : 1.632 | Accuracy : 27.84%\u001b[0m: 100%|██████████| 35/35 [00:00<00:00, 41.55it/s]\n",
      "\u001b[1mEpoch 42  Train data \u001b[0m Batch No : 697 Epoch Loss: 1130.479 Loss : 1.622 Accuracy : 61.60% : 100%|██████████| 698/698 [01:22<00:00,  8.51it/s]\n",
      "\u001b[4mEpoch 42  TEST DATA Batch No : 34 Epoch Loss: 56.702  Loss : 1.632 | Accuracy : 27.84%\u001b[0m: 100%|██████████| 35/35 [00:00<00:00, 41.04it/s]\n",
      "\u001b[1mEpoch 43  Train data \u001b[0m Batch No : 697 Epoch Loss: 1130.715 Loss : 1.620 Accuracy : 61.32% : 100%|██████████| 698/698 [01:22<00:00,  8.50it/s]\n",
      "\u001b[4mEpoch 43  TEST DATA Batch No : 34 Epoch Loss: 56.702  Loss : 1.632 | Accuracy : 27.84%\u001b[0m: 100%|██████████| 35/35 [00:00<00:00, 41.10it/s]\n",
      "\u001b[1mEpoch 44  Train data \u001b[0m Batch No : 697 Epoch Loss: 1131.296 Loss : 1.619 Accuracy : 61.36% : 100%|██████████| 698/698 [01:22<00:00,  8.51it/s]\n",
      "\u001b[4mEpoch 44  TEST DATA Batch No : 34 Epoch Loss: 56.702  Loss : 1.632 | Accuracy : 27.84%\u001b[0m: 100%|██████████| 35/35 [00:00<00:00, 40.96it/s]\n",
      "\u001b[1mEpoch 45  Train data \u001b[0m Batch No : 697 Epoch Loss: 1129.729 Loss : 1.624 Accuracy : 61.45% : 100%|██████████| 698/698 [01:22<00:00,  8.50it/s]\n",
      "\u001b[4mEpoch 45  TEST DATA Batch No : 34 Epoch Loss: 56.730  Loss : 1.632 | Accuracy : 27.75%\u001b[0m: 100%|██████████| 35/35 [00:00<00:00, 40.75it/s]\n",
      "\u001b[1mEpoch 46  Train data \u001b[0m Batch No : 697 Epoch Loss: 1130.616 Loss : 1.622 Accuracy : 61.37% : 100%|██████████| 698/698 [01:22<00:00,  8.50it/s]\n",
      "\u001b[4mEpoch 46  TEST DATA Batch No : 34 Epoch Loss: 56.730  Loss : 1.632 | Accuracy : 27.75%\u001b[0m: 100%|██████████| 35/35 [00:00<00:00, 40.97it/s]\n",
      "\u001b[1mEpoch 47  Train data \u001b[0m Batch No : 697 Epoch Loss: 1130.370 Loss : 1.588 Accuracy : 61.09% : 100%|██████████| 698/698 [01:21<00:00,  8.52it/s]\n",
      "\u001b[4mEpoch 47  TEST DATA Batch No : 34 Epoch Loss: 56.730  Loss : 1.632 | Accuracy : 27.75%\u001b[0m: 100%|██████████| 35/35 [00:00<00:00, 40.71it/s]\n",
      "\u001b[1mEpoch 48  Train data \u001b[0m Batch No : 697 Epoch Loss: 1130.848 Loss : 1.619 Accuracy : 61.14% : 100%|██████████| 698/698 [01:22<00:00,  8.49it/s]\n",
      "\u001b[4mEpoch 48  TEST DATA Batch No : 34 Epoch Loss: 56.730  Loss : 1.632 | Accuracy : 27.75%\u001b[0m: 100%|██████████| 35/35 [00:00<00:00, 40.55it/s]\n",
      "\u001b[1mEpoch 49  Train data \u001b[0m Batch No : 697 Epoch Loss: 1131.343 Loss : 1.622 Accuracy : 61.23% : 100%|██████████| 698/698 [01:22<00:00,  8.50it/s]\n",
      "\u001b[4mEpoch 49  TEST DATA Batch No : 34 Epoch Loss: 56.730  Loss : 1.632 | Accuracy : 27.75%\u001b[0m: 100%|██████████| 35/35 [00:00<00:00, 41.24it/s]\n",
      "\u001b[1mEpoch 50  Train data \u001b[0m Batch No : 697 Epoch Loss: 1130.372 Loss : 1.622 Accuracy : 61.11% : 100%|██████████| 698/698 [01:17<00:00,  8.99it/s]\n",
      "\u001b[4mEpoch 50  TEST DATA Batch No : 34 Epoch Loss: 56.730  Loss : 1.632 | Accuracy : 27.75%\u001b[0m: 100%|██████████| 35/35 [00:00<00:00, 44.24it/s]\n",
      "\u001b[1mEpoch 51  Train data \u001b[0m Batch No : 697 Epoch Loss: 1130.170 Loss : 1.591 Accuracy : 61.28% : 100%|██████████| 698/698 [01:14<00:00,  9.31it/s]\n",
      "\u001b[4mEpoch 51  TEST DATA Batch No : 34 Epoch Loss: 56.730  Loss : 1.632 | Accuracy : 27.75%\u001b[0m: 100%|██████████| 35/35 [00:00<00:00, 45.37it/s]\n",
      "\u001b[1mEpoch 52  Train data \u001b[0m Batch No : 697 Epoch Loss: 1129.409 Loss : 1.619 Accuracy : 61.42% : 100%|██████████| 698/698 [01:14<00:00,  9.31it/s]\n",
      "\u001b[4mEpoch 52  TEST DATA Batch No : 34 Epoch Loss: 56.730  Loss : 1.632 | Accuracy : 27.75%\u001b[0m: 100%|██████████| 35/35 [00:00<00:00, 45.06it/s]\n",
      "\u001b[1mEpoch 53  Train data \u001b[0m Batch No : 697 Epoch Loss: 1130.450 Loss : 1.624 Accuracy : 61.16% : 100%|██████████| 698/698 [01:14<00:00,  9.32it/s]\n",
      "\u001b[4mEpoch 53  TEST DATA Batch No : 34 Epoch Loss: 56.727  Loss : 1.632 | Accuracy : 27.75%\u001b[0m: 100%|██████████| 35/35 [00:00<00:00, 45.31it/s]\n",
      "\u001b[1mEpoch 54  Train data \u001b[0m Batch No : 697 Epoch Loss: 1129.570 Loss : 1.622 Accuracy : 61.41% : 100%|██████████| 698/698 [01:14<00:00,  9.31it/s]\n",
      "\u001b[4mEpoch 54  TEST DATA Batch No : 34 Epoch Loss: 56.727  Loss : 1.632 | Accuracy : 27.75%\u001b[0m: 100%|██████████| 35/35 [00:00<00:00, 45.99it/s]\n",
      "\u001b[1mEpoch 55  Train data \u001b[0m Batch No : 697 Epoch Loss: 1131.941 Loss : 1.622 Accuracy : 61.12% : 100%|██████████| 698/698 [01:15<00:00,  9.30it/s]\n",
      "\u001b[4mEpoch 55  TEST DATA Batch No : 34 Epoch Loss: 56.724  Loss : 1.632 | Accuracy : 27.84%\u001b[0m: 100%|██████████| 35/35 [00:00<00:00, 45.11it/s]\n",
      "\u001b[1mEpoch 56  Train data \u001b[0m Batch No : 697 Epoch Loss: 1132.372 Loss : 1.622 Accuracy : 61.00% : 100%|██████████| 698/698 [01:14<00:00,  9.35it/s]\n",
      "\u001b[4mEpoch 56  TEST DATA Batch No : 34 Epoch Loss: 56.724  Loss : 1.632 | Accuracy : 27.84%\u001b[0m: 100%|██████████| 35/35 [00:00<00:00, 45.45it/s]\n",
      "\u001b[1mEpoch 57  Train data \u001b[0m Batch No : 697 Epoch Loss: 1130.483 Loss : 1.619 Accuracy : 61.19% : 100%|██████████| 698/698 [01:15<00:00,  9.30it/s]\n",
      "\u001b[4mEpoch 57  TEST DATA Batch No : 34 Epoch Loss: 56.724  Loss : 1.632 | Accuracy : 27.84%\u001b[0m: 100%|██████████| 35/35 [00:00<00:00, 45.55it/s]\n",
      "\u001b[1mEpoch 58  Train data \u001b[0m Batch No : 697 Epoch Loss: 1131.535 Loss : 1.650 Accuracy : 61.34% : 100%|██████████| 698/698 [01:14<00:00,  9.31it/s]\n",
      "\u001b[4mEpoch 58  TEST DATA Batch No : 34 Epoch Loss: 56.724  Loss : 1.632 | Accuracy : 27.84%\u001b[0m: 100%|██████████| 35/35 [00:00<00:00, 45.01it/s]\n",
      "\u001b[1mEpoch 59  Train data \u001b[0m Batch No : 697 Epoch Loss: 1129.804 Loss : 1.376 Accuracy : 61.44% : 100%|██████████| 698/698 [01:18<00:00,  8.94it/s]\n",
      "\u001b[4mEpoch 59  TEST DATA Batch No : 34 Epoch Loss: 56.727  Loss : 1.632 | Accuracy : 27.84%\u001b[0m: 100%|██████████| 35/35 [00:00<00:00, 44.94it/s]\n"
     ]
    }
   ],
   "source": [
    "total_epoch = 60\n",
    "for epoch in range(total_epoch):\n",
    "    result = train(epoch,model=model, iterator=train_iterator)\n",
    "    evaluate(epoch,model,test_iterator,criterion,'TEST DATA')\n",
    "\n",
    "#     evaluate(epoch,model,valid_iterator,criterion,'Valid data')\n"
   ]
  },
  {
   "cell_type": "code",
   "execution_count": null,
   "metadata": {},
   "outputs": [],
   "source": []
  },
  {
   "cell_type": "code",
   "execution_count": null,
   "metadata": {},
   "outputs": [],
   "source": []
  },
  {
   "cell_type": "code",
   "execution_count": 72,
   "metadata": {
    "colab": {
     "base_uri": "https://localhost:8080/",
     "height": 299
    },
    "id": "cXRPWnCguOh4",
    "outputId": "b63eea99-5878-4ed5-9277-765ea0a101b4"
   },
   "outputs": [
    {
     "data": {
      "text/plain": [
       "[<matplotlib.lines.Line2D at 0x7f17b6667fd0>]"
      ]
     },
     "execution_count": 72,
     "metadata": {},
     "output_type": "execute_result"
    },
    {
     "data": {
      "text/plain": [
       "Text(0.5, 1.0, 'Train_accuracy')"
      ]
     },
     "execution_count": 72,
     "metadata": {},
     "output_type": "execute_result"
    },
    {
     "data": {
      "image/png": "[encoded data removed]",
      "text/plain": [
       "<Figure size 432x288 with 1 Axes>"
      ]
     },
     "metadata": {
      "needs_background": "light"
     },
     "output_type": "display_data"
    }
   ],
   "source": [
    "import matplotlib.pyplot as plt\n",
    "\n",
    "plt.plot([i.item() for i in train_accuracy],'green')\n",
    "plt.title(\"Train_accuracy\")"
   ]
  },
  {
   "cell_type": "code",
   "execution_count": 73,
   "metadata": {
    "colab": {
     "base_uri": "https://localhost:8080/",
     "height": 299
    },
    "id": "H_TH1AIWuQiS",
    "outputId": "674e82cd-7c3b-4e4f-942f-b8adf420e629"
   },
   "outputs": [
    {
     "data": {
      "text/plain": [
       "[<matplotlib.lines.Line2D at 0x7f17b65fb2e0>]"
      ]
     },
     "execution_count": 73,
     "metadata": {},
     "output_type": "execute_result"
    },
    {
     "data": {
      "text/plain": [
       "Text(0.5, 1.0, 'train_loss')"
      ]
     },
     "execution_count": 73,
     "metadata": {},
     "output_type": "execute_result"
    },
    {
     "data": {
      "image/png": "[encoded data removed]",
      "text/plain": [
       "<Figure size 432x288 with 1 Axes>"
      ]
     },
     "metadata": {
      "needs_background": "light"
     },
     "output_type": "display_data"
    }
   ],
   "source": [
    "plt.plot(train_loss,'green')\n",
    "plt.title('train_loss')"
   ]
  },
  {
   "cell_type": "markdown",
   "metadata": {
    "id": "FTIcFxMguc76"
   },
   "source": [
    "### Augmented Data Visualization"
   ]
  },
  {
   "cell_type": "code",
   "execution_count": 64,
   "metadata": {},
   "outputs": [
    {
     "name": "stdout",
     "output_type": "stream",
     "text": [
      "ORIGINAL\n"
     ]
    },
    {
     "data": {
      "text/plain": [
       "\"The Rock is destined to be the 21st Century 's new `` Conan '' and that he 's going to make a splash even greater than Arnold Schwarzenegger , Jean-Claud Van Damme or Steven Segal .\""
      ]
     },
     "execution_count": 64,
     "metadata": {},
     "output_type": "execute_result"
    },
    {
     "name": "stdout",
     "output_type": "stream",
     "text": [
      "\n",
      "\n",
      "BACK Translation\n"
     ]
    },
    {
     "data": {
      "text/plain": [
       "\"The Rock is destined to be the new `` Conan '' of the 21st century and that it will cause an even greater sensation than Arnold Schwarzenegger, Jean-Claud Van Damme or Steven Segal.\""
      ]
     },
     "execution_count": 64,
     "metadata": {},
     "output_type": "execute_result"
    },
    {
     "name": "stdout",
     "output_type": "stream",
     "text": [
      "\n",
      "\n",
      "Random deletion\n"
     ]
    },
    {
     "data": {
      "text/plain": [
       "\"Rock is 21st '' that going to make a even than Arnold Steven .\""
      ]
     },
     "execution_count": 64,
     "metadata": {},
     "output_type": "execute_result"
    },
    {
     "name": "stdout",
     "output_type": "stream",
     "text": [
      "\n",
      "\n",
      "Random pick\n"
     ]
    },
    {
     "data": {
      "text/plain": [
       "\"Century Rock the destined to be '' 21st The 's new `` Conan is and that he 's going to make a splash Steven greater than Arnold Schwarzenegger , Jean-Claud Van Segal or even Damme .\""
      ]
     },
     "execution_count": 64,
     "metadata": {},
     "output_type": "execute_result"
    },
    {
     "name": "stdout",
     "output_type": "stream",
     "text": [
      "\n",
      "\n",
      "+++++++++++++++++++++++++++++++++++++++++++++++++++++++++++++++++++++++++++++\n",
      "ORIGINAL\n"
     ]
    },
    {
     "data": {
      "text/plain": [
       "\"The gorgeously elaborate continuation of `` The Lord of the Rings '' trilogy is so huge that a column of words can not adequately describe co-writer\\\\/director Peter Jackson 's expanded vision of J.R.R. Tolkien 's Middle-earth .\""
      ]
     },
     "execution_count": 64,
     "metadata": {},
     "output_type": "execute_result"
    },
    {
     "name": "stdout",
     "output_type": "stream",
     "text": [
      "\n",
      "\n",
      "BACK Translation\n"
     ]
    },
    {
     "data": {
      "text/plain": [
       "\"The Rock is destined to be the new `` Conan '' of the 21st century and is going to make an even bigger impact than Arnold Schwarzenegger, Jean-Claud Van Damme or Steven Segal.\""
      ]
     },
     "execution_count": 64,
     "metadata": {},
     "output_type": "execute_result"
    },
    {
     "name": "stdout",
     "output_type": "stream",
     "text": [
      "\n",
      "\n",
      "Random deletion\n"
     ]
    },
    {
     "data": {
      "text/plain": [
       "\"destined 21st 's `` Conan and that he 's to greater Schwarzenegger Jean-Claud Van or Steven Segal\""
      ]
     },
     "execution_count": 64,
     "metadata": {},
     "output_type": "execute_result"
    },
    {
     "name": "stdout",
     "output_type": "stream",
     "text": [
      "\n",
      "\n",
      "Random pick\n"
     ]
    },
    {
     "data": {
      "text/plain": [
       "\"The Rock is destined he be the 21st Century 's Damme `` Conan '' new that to 's a to or going splash even greater than Arnold Schwarzenegger , Jean-Claud Van and make Steven Segal .\""
      ]
     },
     "execution_count": 64,
     "metadata": {},
     "output_type": "execute_result"
    },
    {
     "name": "stdout",
     "output_type": "stream",
     "text": [
      "\n",
      "\n",
      "+++++++++++++++++++++++++++++++++++++++++++++++++++++++++++++++++++++++++++++\n",
      "ORIGINAL\n"
     ]
    },
    {
     "data": {
      "text/plain": [
       "'Singer\\\\/composer Bryan Adams contributes a slew of songs -- a few potential hits , a few more simply intrusive to the story -- but the whole package certainly captures the intended , er , spirit of the piece .'"
      ]
     },
     "execution_count": 64,
     "metadata": {},
     "output_type": "execute_result"
    },
    {
     "name": "stdout",
     "output_type": "stream",
     "text": [
      "\n",
      "\n",
      "BACK Translation\n"
     ]
    },
    {
     "data": {
      "text/plain": [
       "\"The Rock is destined to be the 21st Century 's new `` Conan '' and that he 's going to make a splash even greater than Arnold Schwarzenegger , Jean-Claud Van Damme or Steven Segal .\""
      ]
     },
     "execution_count": 64,
     "metadata": {},
     "output_type": "execute_result"
    },
    {
     "name": "stdout",
     "output_type": "stream",
     "text": [
      "\n",
      "\n",
      "Random deletion\n"
     ]
    },
    {
     "data": {
      "text/plain": [
       "\"The is the Century 's new `` '' to a splash even than Arnold or\""
      ]
     },
     "execution_count": 64,
     "metadata": {},
     "output_type": "execute_result"
    },
    {
     "name": "stdout",
     "output_type": "stream",
     "text": [
      "\n",
      "\n",
      "Random pick\n"
     ]
    },
    {
     "data": {
      "text/plain": [
       "\"The Rock is destined to be the 21st Century 's new `` Jean-Claud than and that he 's Steven to make even splash a greater Conan Arnold Schwarzenegger , '' Van Damme or going Segal .\""
      ]
     },
     "execution_count": 64,
     "metadata": {},
     "output_type": "execute_result"
    },
    {
     "name": "stdout",
     "output_type": "stream",
     "text": [
      "\n",
      "\n",
      "+++++++++++++++++++++++++++++++++++++++++++++++++++++++++++++++++++++++++++++\n",
      "ORIGINAL\n"
     ]
    },
    {
     "data": {
      "text/plain": [
       "\"You 'd think by now America would have had enough of plucky British eccentrics with hearts of gold .\""
      ]
     },
     "execution_count": 64,
     "metadata": {},
     "output_type": "execute_result"
    },
    {
     "name": "stdout",
     "output_type": "stream",
     "text": [
      "\n",
      "\n",
      "BACK Translation\n"
     ]
    },
    {
     "data": {
      "text/plain": [
       "\"The Rock is be the 21st new Conan that he 's make splash greater than Arnold Schwarzenegger , or Steven Segal\""
      ]
     },
     "execution_count": 64,
     "metadata": {},
     "output_type": "execute_result"
    },
    {
     "name": "stdout",
     "output_type": "stream",
     "text": [
      "\n",
      "\n",
      "Random deletion\n"
     ]
    },
    {
     "data": {
      "text/plain": [
       "\"The Rock that Damme to be the 21st even 's new `` Conan '' and greater he 's going Century make a splash to is than Arnold Schwarzenegger , Jean-Claud Van destined or Steven Segal .\""
      ]
     },
     "execution_count": 64,
     "metadata": {},
     "output_type": "execute_result"
    },
    {
     "name": "stdout",
     "output_type": "stream",
     "text": [
      "\n",
      "\n",
      "Random pick\n"
     ]
    },
    {
     "data": {
      "text/plain": [
       "\"Rock is destined to be Conan '' that he make a splash Schwarzenegger , Jean-Claud Van Damme or Steven Segal .\""
      ]
     },
     "execution_count": 64,
     "metadata": {},
     "output_type": "execute_result"
    },
    {
     "name": "stdout",
     "output_type": "stream",
     "text": [
      "\n",
      "\n",
      "+++++++++++++++++++++++++++++++++++++++++++++++++++++++++++++++++++++++++++++\n",
      "ORIGINAL\n"
     ]
    },
    {
     "data": {
      "text/plain": [
       "'Yet the act is still charming here .'"
      ]
     },
     "execution_count": 64,
     "metadata": {},
     "output_type": "execute_result"
    },
    {
     "name": "stdout",
     "output_type": "stream",
     "text": [
      "\n",
      "\n",
      "BACK Translation\n"
     ]
    },
    {
     "data": {
      "text/plain": [
       "\"The Rock is destined to be Steven 21st Century 's new , Conan even make that he 's going to than a splash '' greater and Arnold Schwarzenegger `` Jean-Claud Van Damme or the Segal .\""
      ]
     },
     "execution_count": 64,
     "metadata": {},
     "output_type": "execute_result"
    },
    {
     "name": "stdout",
     "output_type": "stream",
     "text": [
      "\n",
      "\n",
      "Random deletion\n"
     ]
    },
    {
     "data": {
      "text/plain": [
       "'destined to 21st new that to splash , Steven'"
      ]
     },
     "execution_count": 64,
     "metadata": {},
     "output_type": "execute_result"
    },
    {
     "name": "stdout",
     "output_type": "stream",
     "text": [
      "\n",
      "\n",
      "Random pick\n"
     ]
    },
    {
     "data": {
      "text/plain": [
       "\"The Rock is destined to be Van 21st Century 's new `` Conan make and Steven he that going to '' a splash even 's than Arnold Schwarzenegger , Jean-Claud the Damme or greater Segal .\""
      ]
     },
     "execution_count": 64,
     "metadata": {},
     "output_type": "execute_result"
    },
    {
     "name": "stdout",
     "output_type": "stream",
     "text": [
      "\n",
      "\n",
      "+++++++++++++++++++++++++++++++++++++++++++++++++++++++++++++++++++++++++++++\n",
      "ORIGINAL\n"
     ]
    },
    {
     "data": {
      "text/plain": [
       "\"Whether or not you 're enlightened by any of Derrida 's lectures on `` the other '' and `` the self , '' Derrida is an undeniably fascinating and playful fellow .\""
      ]
     },
     "execution_count": 64,
     "metadata": {},
     "output_type": "execute_result"
    },
    {
     "name": "stdout",
     "output_type": "stream",
     "text": [
      "\n",
      "\n",
      "BACK Translation\n"
     ]
    },
    {
     "data": {
      "text/plain": [
       "\"is destined to the Century new '' he 's going make even greater , Steven\""
      ]
     },
     "execution_count": 64,
     "metadata": {},
     "output_type": "execute_result"
    },
    {
     "name": "stdout",
     "output_type": "stream",
     "text": [
      "\n",
      "\n",
      "Random deletion\n"
     ]
    },
    {
     "data": {
      "text/plain": [
       "\"The Rock is destined Schwarzenegger be the Conan Century 's new `` 21st '' and or he 's going to make a splash even greater than Steven Jean-Claud , to Van Damme that Arnold Segal .\""
      ]
     },
     "execution_count": 64,
     "metadata": {},
     "output_type": "execute_result"
    },
    {
     "name": "stdout",
     "output_type": "stream",
     "text": [
      "\n",
      "\n",
      "Random pick\n"
     ]
    },
    {
     "data": {
      "text/plain": [
       "\"The Rock be new `` Conan '' that he 's make even greater than Jean-Claud Damme or Steven Segal .\""
      ]
     },
     "execution_count": 64,
     "metadata": {},
     "output_type": "execute_result"
    },
    {
     "name": "stdout",
     "output_type": "stream",
     "text": [
      "\n",
      "\n",
      "+++++++++++++++++++++++++++++++++++++++++++++++++++++++++++++++++++++++++++++\n",
      "ORIGINAL\n"
     ]
    },
    {
     "data": {
      "text/plain": [
       "'Just the labour involved in creating the layered richness of the imagery in this chiaroscuro of madness and light is astonishing .'"
      ]
     },
     "execution_count": 64,
     "metadata": {},
     "output_type": "execute_result"
    },
    {
     "name": "stdout",
     "output_type": "stream",
     "text": [
      "\n",
      "\n",
      "BACK Translation\n"
     ]
    },
    {
     "data": {
      "text/plain": [
       "\"The Rock is destined Arnold be the 21st Century new '' `` Conan or and that he 's going to make a Segal even greater than to Schwarzenegger , Jean-Claud Van Damme 's Steven splash .\""
      ]
     },
     "execution_count": 64,
     "metadata": {},
     "output_type": "execute_result"
    },
    {
     "name": "stdout",
     "output_type": "stream",
     "text": [
      "\n",
      "\n",
      "Random deletion\n"
     ]
    },
    {
     "data": {
      "text/plain": [
       "'The to be the 21st Century new he a even than Schwarzenegger Jean-Claud Van Damme or Steven Segal'"
      ]
     },
     "execution_count": 64,
     "metadata": {},
     "output_type": "execute_result"
    },
    {
     "name": "stdout",
     "output_type": "stream",
     "text": [
      "\n",
      "\n",
      "Random pick\n"
     ]
    },
    {
     "data": {
      "text/plain": [
       "\"destined Rock is The to the be 21st Century 's new `` Conan '' to that he 's going Segal make a splash even greater than Arnold Steven , Jean-Claud Van Damme or Schwarzenegger and .\""
      ]
     },
     "execution_count": 64,
     "metadata": {},
     "output_type": "execute_result"
    },
    {
     "name": "stdout",
     "output_type": "stream",
     "text": [
      "\n",
      "\n",
      "+++++++++++++++++++++++++++++++++++++++++++++++++++++++++++++++++++++++++++++\n",
      "ORIGINAL\n"
     ]
    },
    {
     "data": {
      "text/plain": [
       "'Part of the charm of Satin Rouge is that it avoids the obvious with humour and lightness .'"
      ]
     },
     "execution_count": 64,
     "metadata": {},
     "output_type": "execute_result"
    },
    {
     "name": "stdout",
     "output_type": "stream",
     "text": [
      "\n",
      "\n",
      "BACK Translation\n"
     ]
    },
    {
     "data": {
      "text/plain": [
       "\"The to be the 21st new Conan '' and that he going to splash than or Steven Segal\""
      ]
     },
     "execution_count": 64,
     "metadata": {},
     "output_type": "execute_result"
    },
    {
     "name": "stdout",
     "output_type": "stream",
     "text": [
      "\n",
      "\n",
      "Random deletion\n"
     ]
    },
    {
     "data": {
      "text/plain": [
       "\"The Steven even destined to be the 21st Century 's new `` Conan Arnold and that he 's going to make a splash is greater than Schwarzenegger '' , Jean-Claud Van Damme Rock or Segal .\""
      ]
     },
     "execution_count": 64,
     "metadata": {},
     "output_type": "execute_result"
    },
    {
     "name": "stdout",
     "output_type": "stream",
     "text": [
      "\n",
      "\n",
      "Random pick\n"
     ]
    },
    {
     "data": {
      "text/plain": [
       "\"Rock destined the `` Conan and that 's going make a splash than Arnold Jean-Claud or Segal .\""
      ]
     },
     "execution_count": 64,
     "metadata": {},
     "output_type": "execute_result"
    },
    {
     "name": "stdout",
     "output_type": "stream",
     "text": [
      "\n",
      "\n",
      "+++++++++++++++++++++++++++++++++++++++++++++++++++++++++++++++++++++++++++++\n",
      "ORIGINAL\n"
     ]
    },
    {
     "data": {
      "text/plain": [
       "\"a screenplay more ingeniously constructed than `` Memento ''\""
      ]
     },
     "execution_count": 64,
     "metadata": {},
     "output_type": "execute_result"
    },
    {
     "name": "stdout",
     "output_type": "stream",
     "text": [
      "\n",
      "\n",
      "BACK Translation\n"
     ]
    },
    {
     "data": {
      "text/plain": [
       "\"The than is going to be the 21st Van 's new `` Conan '' and that he 's Rock to make a splash even greater destined Arnold Schwarzenegger , Jean-Claud Century . or Steven Segal Damme\""
      ]
     },
     "execution_count": 64,
     "metadata": {},
     "output_type": "execute_result"
    },
    {
     "name": "stdout",
     "output_type": "stream",
     "text": [
      "\n",
      "\n",
      "Random deletion\n"
     ]
    },
    {
     "data": {
      "text/plain": [
       "\"is to new `` he 's to a even Van Damme Steven Segal .\""
      ]
     },
     "execution_count": 64,
     "metadata": {},
     "output_type": "execute_result"
    },
    {
     "name": "stdout",
     "output_type": "stream",
     "text": [
      "\n",
      "\n",
      "Random pick\n"
     ]
    },
    {
     "data": {
      "text/plain": [
       "\"The Conan is destined to be the 21st 's Century going `` Rock '' and that he than new to 's a splash even greater make Arnold Schwarzenegger , Jean-Claud Van Damme or Steven Segal .\""
      ]
     },
     "execution_count": 64,
     "metadata": {},
     "output_type": "execute_result"
    },
    {
     "name": "stdout",
     "output_type": "stream",
     "text": [
      "\n",
      "\n",
      "+++++++++++++++++++++++++++++++++++++++++++++++++++++++++++++++++++++++++++++\n",
      "ORIGINAL\n"
     ]
    },
    {
     "data": {
      "text/plain": [
       "\"`` Extreme Ops '' exceeds expectations .\""
      ]
     },
     "execution_count": 64,
     "metadata": {},
     "output_type": "execute_result"
    },
    {
     "name": "stdout",
     "output_type": "stream",
     "text": [
      "\n",
      "\n",
      "BACK Translation\n"
     ]
    },
    {
     "data": {
      "text/plain": [
       "\"Rock destined be Century 's `` '' and that he 's make a splash greater than Jean-Claud Damme Segal\""
      ]
     },
     "execution_count": 64,
     "metadata": {},
     "output_type": "execute_result"
    },
    {
     "name": "stdout",
     "output_type": "stream",
     "text": [
      "\n",
      "\n",
      "Random deletion\n"
     ]
    },
    {
     "data": {
      "text/plain": [
       "\"destined Rock he than to be the 21st Century 's Conan `` new '' and Schwarzenegger is 's going to make a splash even greater The Arnold that , Jean-Claud Van Damme or Steven Segal .\""
      ]
     },
     "execution_count": 64,
     "metadata": {},
     "output_type": "execute_result"
    },
    {
     "name": "stdout",
     "output_type": "stream",
     "text": [
      "\n",
      "\n",
      "Random pick\n"
     ]
    },
    {
     "data": {
      "text/plain": [
       "\"Rock to be the Century 's new `` Conan '' that he 's to splash greater than Schwarzenegger or .\""
      ]
     },
     "execution_count": 64,
     "metadata": {},
     "output_type": "execute_result"
    },
    {
     "name": "stdout",
     "output_type": "stream",
     "text": [
      "\n",
      "\n",
      "+++++++++++++++++++++++++++++++++++++++++++++++++++++++++++++++++++++++++++++\n"
     ]
    }
   ],
   "source": [
    "for i in range(0,10):\n",
    "    \n",
    "    print(\"ORIGINAL\")\n",
    "    Train_df.sentence[i]\n",
    "    print('\\n')\n",
    "    \n",
    "    print ('BACK Translation')\n",
    "    Augmented_files.sentence[3*i]\n",
    "    print('\\n')\n",
    "    \n",
    "    print ('Random deletion')\n",
    "    Augmented_files.sentence[(3*i)+1]\n",
    "    print('\\n')\n",
    "    \n",
    "    print ('Random pick')\n",
    "    Augmented_files.sentence[(3*i)+2]\n",
    "    print('\\n')\n",
    "    \n",
    "    print ('+++++++++++++++++++++++++++++++++++++++++++++++++++++++++++++++++++++++++++++')"
   ]
  },
  {
   "cell_type": "code",
   "execution_count": null,
   "metadata": {},
   "outputs": [],
   "source": []
  }
 ],
 "metadata": {
  "accelerator": "GPU",
  "colab": {
   "collapsed_sections": [],
   "machine_shape": "hm",
   "name": "LSTM_sentiment_analysis_try.ipynb",
   "provenance": []
  },
  "kernelspec": {
   "display_name": "Python 3",
   "language": "python",
   "name": "python3"
  },
  "language_info": {
   "codemirror_mode": {
    "name": "ipython",
    "version": 3
   },
   "file_extension": ".py",
   "mimetype": "text/x-python",
   "name": "python",
   "nbconvert_exporter": "python",
   "pygments_lexer": "ipython3",
   "version": "3.8.10"
  }
 },
 "nbformat": 4,
 "nbformat_minor": 4
}
