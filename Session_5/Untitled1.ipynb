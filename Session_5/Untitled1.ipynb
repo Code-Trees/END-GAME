{
 "cells": [
  {
   "cell_type": "code",
   "execution_count": 5,
   "id": "91adeb90-2767-4f93-92f6-626285fd3b3e",
   "metadata": {},
   "outputs": [],
   "source": [
    "import numpy as np\n",
    "import pandas as pd \n",
    "\n",
    "from torchtext.legacy import data\n",
    "import torch\n",
    "import torch.nn as nn\n",
    "import torch.optim as optim\n",
    "from torchtext.legacy import data\n",
    "from torchtext.legacy.datasets import IMDB\n",
    "from torchtext.legacy.data import Field, LabelField, BucketIterator"
   ]
  },
  {
   "cell_type": "code",
   "execution_count": 6,
   "id": "84861975-3571-48a7-8828-d13842ad5af0",
   "metadata": {},
   "outputs": [
    {
     "name": "stdout",
     "output_type": "stream",
     "text": [
      "stanfordSentimentTreebank/SOStr.txt\n",
      "stanfordSentimentTreebank/sentiment_labels.txt\n",
      "stanfordSentimentTreebank/README.txt\n",
      "stanfordSentimentTreebank/original_rt_snippets.txt\n",
      "stanfordSentimentTreebank/datasetSplit.txt\n",
      "stanfordSentimentTreebank/dictionary.txt\n",
      "stanfordSentimentTreebank/STree.txt\n",
      "stanfordSentimentTreebank/datasetSentences.txt\n",
      "stanfordSentimentTreebank/.ipynb_checkpoints/README-checkpoint.txt\n",
      "stanfordSentimentTreebank/.ipynb_checkpoints/datasetSplit-checkpoint.txt\n",
      "stanfordSentimentTreebank/.ipynb_checkpoints/datasetSentences-checkpoint.txt\n",
      "stanfordSentimentTreebank/.ipynb_checkpoints/sentiment_labels-checkpoint.txt\n"
     ]
    }
   ],
   "source": [
    "\n",
    "import os\n",
    "for dirname, _, filenames in os.walk('stanfordSentimentTreebank'):\n",
    "    for filename in filenames:\n",
    "        print(os.path.join(dirname, filename))"
   ]
  },
  {
   "cell_type": "code",
   "execution_count": 7,
   "id": "96c191a5-a493-4f5a-b3b4-0180cfd8e42a",
   "metadata": {},
   "outputs": [],
   "source": [
    "\n",
    "def get_merged_dataset(sst_dir,split_idx):\n",
    "    sentiment_labels = pd.read_csv(os.path.join(sst_dir, \"sentiment_labels.txt\"), sep=\"|\")\n",
    "    sentence_ids = pd.read_csv(os.path.join(sst_dir, \"datasetSentences.txt\"), sep=\"\\t\")\n",
    "    dictionary = pd.read_csv(os.path.join(sst_dir, \"dictionary.txt\"), sep=\"|\", names=['phrase', 'phrase ids'])\n",
    "    train_test_split = pd.read_csv(os.path.join(sst_dir, \"datasetSplit.txt\"))\n",
    "    sentence_phrase_merge = pd.merge(sentence_ids, dictionary, left_on='sentence', right_on='phrase')\n",
    "    sentence_phrase_split = pd.merge(sentence_phrase_merge, train_test_split, on='sentence_index')\n",
    "    final = pd.merge(sentence_phrase_split, sentiment_labels, on='phrase ids').sample(frac=1)\n",
    "    \n",
    "#     return final[final[\"splitset_label\"] == split_idx].reset_index()\n",
    "    return final\n",
    "\n",
    "\n",
    "def discretize_label(label):\n",
    "    if label <= 0.2: return 0\n",
    "    if label <= 0.4: return 1\n",
    "    if label <= 0.6: return 2\n",
    "    if label <= 0.8: return 3\n",
    "    return 4"
   ]
  },
  {
   "cell_type": "code",
   "execution_count": 8,
   "id": "bb26d8a2-67be-4817-b411-e8a4387e4002",
   "metadata": {},
   "outputs": [],
   "source": [
    "\n",
    "def get_data(sst_dir,split_idx):\n",
    "    df = get_merged_dataset(sst_dir,split_idx)\n",
    "    df['label'] = df['sentiment values'].apply(discretize_label)\n",
    "    df = df[['sentence','label']]\n",
    "    TEXT = data.Field (sequential = True, tokenize = 'spacy', batch_first =True, include_lengths=True)\n",
    "    LABEL = data.LabelField (tokenize ='spacy', is_target=True, batch_first =True, sequential =False)\n",
    "    fields = [('Text', TEXT),('labels',LABEL)]\n",
    "    example = [data.Example.fromlist([df.sentence[i],df.label[i]], fields) for i in range(df.shape[0])]\n",
    "    \n",
    "    return data.Dataset(example, fields)\n",
    "    "
   ]
  },
  {
   "cell_type": "code",
   "execution_count": 9,
   "id": "8d4192db-1d6f-49c2-a925-f1dc8ae6cdb8",
   "metadata": {},
   "outputs": [],
   "source": [
    "sst_dir= 'stanfordSentimentTreebank/'\n",
    "split_idx = 1"
   ]
  },
  {
   "cell_type": "code",
   "execution_count": 10,
   "id": "53f3bd82-3799-42af-a291-ae6cecaa61b5",
   "metadata": {},
   "outputs": [
    {
     "name": "stderr",
     "output_type": "stream",
     "text": [
      "/home/jd/anaconda3/envs/eva/lib/python3.8/site-packages/torchtext/data/utils.py:123: UserWarning: Spacy model \"en\" could not be loaded, trying \"en_core_web_sm\" instead\n",
      "  warnings.warn(f'Spacy model \"{language}\" could not be loaded, trying \"{OLD_MODEL_SHORTCUTS[language]}\" instead')\n"
     ]
    }
   ],
   "source": [
    "df = get_data(sst_dir,split_idx)"
   ]
  },
  {
   "cell_type": "code",
   "execution_count": 11,
   "id": "5599955f-6701-4f8e-b68f-6c8eae555a2f",
   "metadata": {},
   "outputs": [
    {
     "data": {
      "text/plain": [
       "torchtext.legacy.data.dataset.Dataset"
      ]
     },
     "execution_count": 11,
     "metadata": {},
     "output_type": "execute_result"
    }
   ],
   "source": [
    "type(df)"
   ]
  },
  {
   "cell_type": "code",
   "execution_count": 14,
   "id": "96f0cdca-4a14-4a63-a03a-b0be8fd8b47b",
   "metadata": {},
   "outputs": [
    {
     "data": {
      "text/plain": [
       "11286"
      ]
     },
     "execution_count": 14,
     "metadata": {},
     "output_type": "execute_result"
    }
   ],
   "source": [
    "len(df)"
   ]
  },
  {
   "cell_type": "code",
   "execution_count": null,
   "id": "204fe581-8060-4fdb-9963-20e03c919b42",
   "metadata": {},
   "outputs": [],
   "source": [
    "TEXT.build_vocab(df)\n",
    "LABEL.build_vocab(df)"
   ]
  },
  {
   "cell_type": "code",
   "execution_count": null,
   "id": "36ad7abc-d41e-47b1-9849-242ab940974a",
   "metadata": {},
   "outputs": [],
   "source": []
  }
 ],
 "metadata": {
  "kernelspec": {
   "display_name": "Python 3",
   "language": "python",
   "name": "python3"
  },
  "language_info": {
   "codemirror_mode": {
    "name": "ipython",
    "version": 3
   },
   "file_extension": ".py",
   "mimetype": "text/x-python",
   "name": "python",
   "nbconvert_exporter": "python",
   "pygments_lexer": "ipython3",
   "version": "3.8.10"
  }
 },
 "nbformat": 4,
 "nbformat_minor": 5
}
