{
 "cells": [
  {
   "cell_type": "code",
   "execution_count": 1,
   "metadata": {},
   "outputs": [],
   "source": [
    "from  IPython.core.interactiveshell import InteractiveShell\n",
    "InteractiveShell.ast_node_interactivity = 'all'"
   ]
  },
  {
   "cell_type": "raw",
   "metadata": {},
   "source": [
    "!pip install torchtext\n",
    "!pip install spacy\n",
    "!python -m spacy download en_core_web_sm"
   ]
  },
  {
   "cell_type": "code",
   "execution_count": 2,
   "metadata": {},
   "outputs": [],
   "source": [
    "import torch\n",
    "from torchtext.legacy import data\n",
    "from torchtext.legacy import datasets\n",
    "import torch.nn as nn\n",
    "import torch.optim as optim\n",
    "from torchsummary import summary\n",
    "\n",
    "import random\n",
    "import time\n",
    "import sys"
   ]
  },
  {
   "cell_type": "code",
   "execution_count": 3,
   "metadata": {},
   "outputs": [],
   "source": [
    "def gpu_check(seed_val = 1):\n",
    "    print('The Seed is set to {}'.format(seed_val))\n",
    "    if torch.cuda.is_available():\n",
    "        print('Model will Run on CUDA.')\n",
    "        print (\"Type 'watch nvidia-smi' to monitor GPU\\n\")\n",
    "        torch.cuda.manual_seed(seed_val)\n",
    "        device = 'cuda'\n",
    "    else:\n",
    "        torch.manual_seed(seed_val)\n",
    "        print ('Running in CPU')\n",
    "        device = 'cpu'\n",
    "    cuda = torch.cuda.is_available()\n",
    "    return cuda,seed_val,device"
   ]
  },
  {
   "cell_type": "code",
   "execution_count": 4,
   "metadata": {},
   "outputs": [
    {
     "name": "stdout",
     "output_type": "stream",
     "text": [
      "The Seed is set to 1234\n",
      "Model will Run on CUDA.\n",
      "Type 'watch nvidia-smi' to monitor GPU\n",
      "\n"
     ]
    }
   ],
   "source": [
    "cuda,SEED,device = gpu_check(seed_val=1234)"
   ]
  },
  {
   "cell_type": "code",
   "execution_count": 5,
   "metadata": {},
   "outputs": [],
   "source": [
    "torch.backends.cudnn.deterministic = True"
   ]
  },
  {
   "cell_type": "raw",
   "metadata": {},
   "source": [
    "tokenize: The function used to tokenize strings using this field into\n",
    "        sequential examples. If \"spacy\", the SpaCy tokenizer is\n",
    "        used. If a non-serializable function is passed as an argument,\n",
    "        the field will not be able to be serialized. Default: string.split.\n",
    "tokenizer_language: The language of the tokenizer to be constructed.\n",
    "    Various languages currently supported only in SpaCy."
   ]
  },
  {
   "cell_type": "code",
   "execution_count": 6,
   "metadata": {
    "id": "4SPhj6gnAnT2"
   },
   "outputs": [],
   "source": [
    "TEXT = data.Field(tokenize = 'spacy',\n",
    "                  tokenizer_language = 'en_core_web_sm')\n",
    "LABEL = data.LabelField(dtype = torch.float)"
   ]
  },
  {
   "cell_type": "code",
   "execution_count": 7,
   "metadata": {},
   "outputs": [
    {
     "data": {
      "text/plain": [
       "torchtext.legacy.data.field.Field"
      ]
     },
     "execution_count": 7,
     "metadata": {},
     "output_type": "execute_result"
    },
    {
     "data": {
      "text/plain": [
       "torchtext.legacy.data.field.LabelField"
      ]
     },
     "execution_count": 7,
     "metadata": {},
     "output_type": "execute_result"
    }
   ],
   "source": [
    "type(TEXT)\n",
    "type(LABEL)"
   ]
  },
  {
   "cell_type": "raw",
   "metadata": {},
   "source": [
    "Args:\n",
    "text_field: The field that will be used for the sentence.\n",
    "label_field: The field that will be used for label data.\n",
    "root: Root dataset storage directory. Default is '.data'.\n",
    "train: The directory that contains the training examples\n",
    "test: The directory that contains the test examples\n",
    "Remaining keyword arguments: Passed to the splits method of"
   ]
  },
  {
   "cell_type": "code",
   "execution_count": 8,
   "metadata": {
    "colab": {
     "background_save": true
    },
    "id": "lwn4oStE6PzV"
   },
   "outputs": [],
   "source": [
    "train_data, test_data = datasets.IMDB.splits(TEXT, LABEL,root = '/home/jd/Desktop/DATASET/IMDB_data')"
   ]
  },
  {
   "cell_type": "code",
   "execution_count": 9,
   "metadata": {},
   "outputs": [
    {
     "data": {
      "text/plain": [
       "\"I just saw this film @ TIFF ( Toronto International Film Festival ) . Fans of Hal Hartley will not be disappointed ! ! And if you are not familiar with this director 's oeuvre ... does n't matter . This film can definitely stand all on its own . I have to go the second screening ... it was amazing I need to see it again -- and fast ! ! < br /><br />This film is very funny . It 's dialogue is very smart , and the performance of Parker Posey is outstanding as she stars in the title role of Fay Grim . Fay Grim is the latest feature revisiting the world and characters introduced in the film Henry Fool ( 2000 ) . Visually , the most salient stylistic feature employs the habitual use of the canted ( or dutch ) angle , which can be often seen in past Hartley works appearing in various shorts , available in the Possible Films : short works by Hal Hartley 1994 - 2004 collection , and in The Girl from Monday ( 2005).<br /><br />I viewed this film most aptly on Sept 11th . Textually , Fay Grim 's adventure in this story is backdropped against the changed world after September 11 , 2001 . Without going into major spoilers , I view this work , and story - world as a bravely political and original portrait of geo - politics that is rarely , if ever , foregrounded in mainstream fictional cinema post-911 heretofore ( cf . Syrianna : of side note - Mark Cuban Exec . Prod in both these films ... most interesting , to say the least ) . < br /><br />Lastly , for those closely attached to the characters of Henry Fool , Simone , Fay and Henry this film is hilariously self - conscious and self - referential . That being said , the character of Fay Grimm starts off in the film , exactly where she was when Henry Fool ended , but by the end of the film ... Fay 's knowledge and experience has total changed and expanded over the course of the narrative . What can be in store for the future of Fay and the Fool family ... ? ? I ca n't wait for the third part in this story ! \""
      ]
     },
     "execution_count": 9,
     "metadata": {},
     "output_type": "execute_result"
    },
    {
     "data": {
      "text/plain": [
       "'pos'"
      ]
     },
     "execution_count": 9,
     "metadata": {},
     "output_type": "execute_result"
    }
   ],
   "source": [
    "line = ''\n",
    "filenumber = 10\n",
    "\n",
    "for i in train_data.examples[filenumber].text:\n",
    "    line += i + ' '\n",
    "line\n",
    "train_data.examples[filenumber].label"
   ]
  },
  {
   "cell_type": "code",
   "execution_count": 10,
   "metadata": {
    "colab": {
     "background_save": true
    },
    "id": "5DLJ86m56Xdn",
    "outputId": "e686fc25-a690-41a6-b876-7c41d2830103"
   },
   "outputs": [
    {
     "name": "stdout",
     "output_type": "stream",
     "text": [
      "Number of training examples: 25000\n",
      "Number of testing examples: 25000\n"
     ]
    }
   ],
   "source": [
    "print(f'Number of training examples: {len(train_data)}')\n",
    "print(f'Number of testing examples: {len(test_data)}')"
   ]
  },
  {
   "cell_type": "code",
   "execution_count": 11,
   "metadata": {
    "colab": {
     "background_save": true
    },
    "id": "iXTWwqXA6rP2",
    "outputId": "34a09b27-9438-490e-9d3e-e68af72ffd22"
   },
   "outputs": [
    {
     "name": "stdout",
     "output_type": "stream",
     "text": [
      "{'text': ['Centered', 'in', 'the', 'downtown', 'and', 'out', 'skirts', 'of', 'Detroit', ',', 'this', 'comedy', 'I', 'found', 'to', 'be', 'a', 'terrific', 'new', 'comedic', 'duo', '.', \"'\", 'Noriyuki', 'Pat', 'Morita', \"'\", 'is', 'a', 'very', 'funny', 'man', ',', 'who', 'happens', 'to', 'be', 'a', 'cop', 'from', 'Japan', 'on', 'the', 'trail', 'of', 'an', 'industrial', 'secrets', 'thief', ',', 'who', 'has', 'stolen', 'a', \"'\", 'proto', 'type', \"'\", 'turbo', 'super', 'charger', ',', 'reluctantly', 'he', 'goes', 'to', 'the', 'United', 'States', 'to', 'follow', 'the', 'thief', ',', 'after', 'being', 'ordered', 'by', 'his', 'commander', '.', 'Pat', \"'s\", 'character', 'collides', 'with', \"'\", 'Jay', 'Leno', \"'s\", \"'\", 'character', ',', 'a', 'fast', 'talking', \"'\", 'but', 'down', 'to', 'business', '-', 'player', 'type', 'Detroit', 'cop', '.', 'When', 'they', 'cross', 'paths', 'though', ',', 'the', 'honorable', \"'\", 'Ways', \"'\", 'of', 'Japan', 'meet', 'the', 'all', '-', 'out', 'old', 'school', 'Detroit', 'police', 'investigative', \"'\", 'Ways', \"'\", '.', 'The', 'two', 'stumble', 'and', 'trip', 'over', 'each', 'other', 'at', 'first', ',', 'but', 'then', 'develop', 'a', \"'\", 'rythym', \"'\", 'that', 'turns', 'into', 'an', 'explosive', 'two', 'layered', 'powerhouse', 'team', ',', 'that', 'solves', 'the', 'case', ',', 'cold', '.', 'After', 'battling', 'a', 'city', 'crime', 'boss', 'for', 'the', 'stolen', \"'\", 'equiptment', \"'\", 'and', 'closing', 'the', 'case', ',', 'these', 'two', 'go', 'from', 'despising', 'each', 'other', 'to', 'being', 'friends', 'and', 'working', 'well', 'together', '.', 'A', 'little', 'worse', 'for', 'wear', 'and', 'in', 'need', 'of', 'an', 'extended', '-', 'vacation', 'on', 'top', 'of', 'it', 'all', ',', 'they', 'manage', 'to', 'come', 'to', 'a', 'victorious', 'closing', '.', 'I', 'rated', 'this', 'a', '9', '.', 'Lewis', \"'s\", 'direction', 'makes', \"'\", 'this', 'a', 'near', 'perfect', 'comedy', '.', 'Fun', 'for', 'all', 'ages', '.', 'I', 'recommend', 'it', 'highly', '.', '(', '*', '*', '*', ')'], 'label': 'pos'}\n"
     ]
    }
   ],
   "source": [
    "\n",
    "print(vars(train_data.examples[0]))"
   ]
  },
  {
   "cell_type": "code",
   "execution_count": 12,
   "metadata": {
    "id": "3HMVqiZd6tR0"
   },
   "outputs": [],
   "source": [
    "import random\n",
    "\n",
    "train_data, valid_data = train_data.split(random_state = random.seed(SEED))"
   ]
  },
  {
   "cell_type": "code",
   "execution_count": 13,
   "metadata": {
    "colab": {
     "base_uri": "https://localhost:8080/"
    },
    "id": "uOeQ6KpP7M-0",
    "outputId": "58c313da-a3f9-4872-ce25-da4a439ab659"
   },
   "outputs": [
    {
     "name": "stdout",
     "output_type": "stream",
     "text": [
      "Number of training examples: 17500\n",
      "Number of validation examples: 7500\n",
      "Number of testing examples: 25000\n"
     ]
    }
   ],
   "source": [
    "print(f'Number of training examples: {len(train_data)}')\n",
    "print(f'Number of validation examples: {len(valid_data)}')\n",
    "print(f'Number of testing examples: {len(test_data)}')"
   ]
  },
  {
   "cell_type": "code",
   "execution_count": 14,
   "metadata": {
    "id": "KixkM1jQ7TB-"
   },
   "outputs": [],
   "source": [
    "MAX_VOCAB_SIZE = 25_000\n",
    "\n",
    "TEXT.build_vocab(train_data, max_size = MAX_VOCAB_SIZE) #Construct the Vocab object for this field from one or more datasets.\n",
    "LABEL.build_vocab(train_data)"
   ]
  },
  {
   "cell_type": "code",
   "execution_count": 15,
   "metadata": {
    "colab": {
     "base_uri": "https://localhost:8080/"
    },
    "id": "hD4SFKnc7g0D",
    "outputId": "7b03f8aa-6786-4cbc-ff89-be59b463a3ea"
   },
   "outputs": [
    {
     "name": "stdout",
     "output_type": "stream",
     "text": [
      "Unique tokens in TEXT vocabulary: 25002\n",
      "Unique tokens in LABEL vocabulary: 2\n"
     ]
    }
   ],
   "source": [
    "print(f\"Unique tokens in TEXT vocabulary: {len(TEXT.vocab)}\")\n",
    "print(f\"Unique tokens in LABEL vocabulary: {len(LABEL.vocab)}\")"
   ]
  },
  {
   "cell_type": "code",
   "execution_count": null,
   "metadata": {},
   "outputs": [],
   "source": []
  },
  {
   "cell_type": "code",
   "execution_count": 16,
   "metadata": {
    "colab": {
     "base_uri": "https://localhost:8080/"
    },
    "id": "ttKvFTCQ7isK",
    "outputId": "de9394cb-6602-4d26-d11d-0c8b5f8702ae"
   },
   "outputs": [
    {
     "name": "stdout",
     "output_type": "stream",
     "text": [
      "[('the', 202895), (',', 193215), ('.', 166188), ('a', 109830), ('and', 109762), ('of', 101071), ('to', 93999), ('is', 76505), ('in', 61400), ('I', 54509), ('it', 53489), ('that', 49345), ('\"', 44905), (\"'s\", 43571), ('this', 42386), ('-', 37875), ('/><br', 35672), ('was', 34875), ('as', 30563), ('with', 30194)]\n"
     ]
    }
   ],
   "source": [
    "print(TEXT.vocab.freqs.most_common(20))"
   ]
  },
  {
   "cell_type": "code",
   "execution_count": 17,
   "metadata": {
    "colab": {
     "base_uri": "https://localhost:8080/"
    },
    "id": "fZXIsIV47mlI",
    "outputId": "034507c9-eec1-45e7-c6b7-ce79c18b9b55"
   },
   "outputs": [
    {
     "name": "stdout",
     "output_type": "stream",
     "text": [
      "['<unk>', '<pad>', 'the', ',', '.', 'a', 'and', 'of', 'to', 'is']\n"
     ]
    }
   ],
   "source": [
    "print(TEXT.vocab.itos[:10])"
   ]
  },
  {
   "cell_type": "code",
   "execution_count": 18,
   "metadata": {
    "colab": {
     "base_uri": "https://localhost:8080/"
    },
    "id": "vmbx3T9-7x4g",
    "outputId": "44965d53-d3ab-4c77-9962-54fd6045cc5c"
   },
   "outputs": [
    {
     "name": "stdout",
     "output_type": "stream",
     "text": [
      "defaultdict(None, {'neg': 0, 'pos': 1})\n"
     ]
    }
   ],
   "source": [
    "print(LABEL.vocab.stoi)"
   ]
  },
  {
   "cell_type": "code",
   "execution_count": 19,
   "metadata": {
    "id": "B3gBfP6mEJ_0"
   },
   "outputs": [],
   "source": [
    "BATCH_SIZE = 32\n",
    "#Create Iterator objects for multiple splits of a dataset.\n",
    "train_iterator, valid_iterator, test_iterator = data.BucketIterator.splits(\n",
    "    (train_data, valid_data, test_data), \n",
    "    batch_size = BATCH_SIZE,\n",
    "    device = device)"
   ]
  },
  {
   "cell_type": "code",
   "execution_count": 20,
   "metadata": {
    "id": "E2ZQQV1-ELZf"
   },
   "outputs": [],
   "source": [
    "import torch.nn as nn\n",
    "\n",
    "class RNN(nn.Module):\n",
    "    def __init__(self, input_dim, embedding_dim, hidden_dim, output_dim):\n",
    "        \n",
    "        super().__init__()\n",
    "        \n",
    "        self.embedding = nn.Embedding(input_dim, embedding_dim)\n",
    "        \n",
    "        self.rnn = nn.RNN(embedding_dim, hidden_dim)\n",
    "        \n",
    "        self.fc = nn.Linear(hidden_dim, output_dim)\n",
    "        \n",
    "    def forward(self, text):\n",
    "\n",
    "        #text = [sent len, batch size]\n",
    "        \n",
    "        embedded = self.embedding(text)\n",
    "        \n",
    "        #embedded = [sent len, batch size, emb dim]\n",
    "        \n",
    "        output, hidden = self.rnn(embedded)\n",
    "        \n",
    "        #output = [sent len, batch size, hid dim]\n",
    "        #hidden = [1, batch size, hid dim]\n",
    "        \n",
    "        assert torch.equal(output[-1,:,:], hidden.squeeze(0))\n",
    "        \n",
    "        return self.fc(hidden.squeeze(0))"
   ]
  },
  {
   "cell_type": "code",
   "execution_count": 21,
   "metadata": {
    "id": "x0_X5kSwENad"
   },
   "outputs": [],
   "source": [
    "\n",
    "INPUT_DIM = len(TEXT.vocab)\n",
    "EMBEDDING_DIM = 100\n",
    "HIDDEN_DIM = 256\n",
    "OUTPUT_DIM = 1\n",
    "\n",
    "model = RNN(INPUT_DIM, EMBEDDING_DIM, HIDDEN_DIM, OUTPUT_DIM)"
   ]
  },
  {
   "cell_type": "code",
   "execution_count": null,
   "metadata": {},
   "outputs": [],
   "source": []
  },
  {
   "cell_type": "code",
   "execution_count": 22,
   "metadata": {
    "colab": {
     "base_uri": "https://localhost:8080/"
    },
    "id": "VdGb8dKBEO2x",
    "outputId": "a7a0e95e-4add-4515-cb76-b77c019e7c77"
   },
   "outputs": [
    {
     "name": "stdout",
     "output_type": "stream",
     "text": [
      "The model has 2,592,105 trainable parameters\n"
     ]
    }
   ],
   "source": [
    "def count_parameters(model):\n",
    "    return sum(p.numel() for p in model.parameters() if p.requires_grad)\n",
    "\n",
    "print(f'The model has {count_parameters(model):,} trainable parameters')"
   ]
  },
  {
   "cell_type": "code",
   "execution_count": 23,
   "metadata": {
    "id": "AAeEtXiJEQCj"
   },
   "outputs": [],
   "source": [
    "optimizer = optim.SGD(model.parameters(), lr=1e-3)"
   ]
  },
  {
   "cell_type": "code",
   "execution_count": 24,
   "metadata": {
    "id": "0Utp4-qAERRG"
   },
   "outputs": [],
   "source": [
    "criterion = nn.BCEWithLogitsLoss()"
   ]
  },
  {
   "cell_type": "code",
   "execution_count": 25,
   "metadata": {
    "id": "PyAXf58FESdL"
   },
   "outputs": [],
   "source": [
    "model = model.to(device)\n",
    "criterion = criterion.to(device)"
   ]
  },
  {
   "cell_type": "code",
   "execution_count": 26,
   "metadata": {
    "id": "w4yNiGXQETh9"
   },
   "outputs": [],
   "source": [
    "def binary_accuracy(preds, y):\n",
    "    \"\"\"\n",
    "    Returns accuracy per batch, i.e. if you get 8/10 right, this returns 0.8, NOT 8\n",
    "    \"\"\"\n",
    "\n",
    "    #round predictions to the closest integer\n",
    "    rounded_preds = torch.round(torch.sigmoid(preds))\n",
    "    correct = (rounded_preds == y).float() #convert into float for division \n",
    "    acc = correct.sum() / len(correct)\n",
    "    return acc"
   ]
  },
  {
   "cell_type": "code",
   "execution_count": 27,
   "metadata": {
    "id": "N1iGJW1wEUrL"
   },
   "outputs": [],
   "source": [
    "def train(model, iterator, optimizer, criterion):\n",
    "    \n",
    "    epoch_loss = 0\n",
    "    epoch_acc = 0\n",
    "    \n",
    "    model.train()\n",
    "    \n",
    "    for batch in iterator:\n",
    "        \n",
    "        optimizer.zero_grad()\n",
    "                \n",
    "        predictions = model(batch.text).squeeze(1)\n",
    "        \n",
    "        loss = criterion(predictions, batch.label)\n",
    "        \n",
    "        acc = binary_accuracy(predictions, batch.label)\n",
    "        \n",
    "        loss.backward()\n",
    "        \n",
    "        optimizer.step()\n",
    "        \n",
    "        epoch_loss += loss.item()\n",
    "        epoch_acc += acc.item()\n",
    "        \n",
    "    return epoch_loss / len(iterator), epoch_acc / len(iterator)"
   ]
  },
  {
   "cell_type": "code",
   "execution_count": null,
   "metadata": {},
   "outputs": [],
   "source": []
  },
  {
   "cell_type": "code",
   "execution_count": 28,
   "metadata": {
    "id": "HNQxQS3tEWUW"
   },
   "outputs": [],
   "source": [
    "def evaluate(model, iterator, criterion):\n",
    "    \n",
    "    epoch_loss = 0\n",
    "    epoch_acc = 0\n",
    "    \n",
    "    model.eval()\n",
    "    \n",
    "    with torch.no_grad():\n",
    "    \n",
    "        for batch in iterator:\n",
    "\n",
    "            predictions = model(batch.text).squeeze(1)\n",
    "            \n",
    "            loss = criterion(predictions, batch.label)\n",
    "            \n",
    "            acc = binary_accuracy(predictions, batch.label)\n",
    "\n",
    "            epoch_loss += loss.item()\n",
    "            epoch_acc += acc.item()\n",
    "        \n",
    "    return epoch_loss / len(iterator), epoch_acc / len(iterator)"
   ]
  },
  {
   "cell_type": "code",
   "execution_count": 29,
   "metadata": {
    "id": "DVM8MtV6EYIw"
   },
   "outputs": [],
   "source": [
    "import time\n",
    "\n",
    "def epoch_time(start_time, end_time):\n",
    "    elapsed_time = end_time - start_time\n",
    "    elapsed_mins = int(elapsed_time / 60)\n",
    "    elapsed_secs = int(elapsed_time - (elapsed_mins * 60))\n",
    "    return elapsed_mins, elapsed_secs"
   ]
  },
  {
   "cell_type": "code",
   "execution_count": 30,
   "metadata": {
    "colab": {
     "base_uri": "https://localhost:8080/"
    },
    "id": "yJ5KZmM4EZXW",
    "outputId": "63ea3c29-ee38-4ce7-8246-68ffa704f0cb"
   },
   "outputs": [
    {
     "name": "stdout",
     "output_type": "stream",
     "text": [
      "Epoch: 01 | Epoch Time: 0m 35s\n",
      "\tTrain Loss: 0.694 | Train Acc: 49.64%\n",
      "\t Val. Loss: 0.696 |  Val. Acc: 51.29%\n",
      "Epoch: 02 | Epoch Time: 0m 32s\n",
      "\tTrain Loss: 0.693 | Train Acc: 50.34%\n",
      "\t Val. Loss: 0.695 |  Val. Acc: 49.96%\n",
      "Epoch: 03 | Epoch Time: 0m 32s\n",
      "\tTrain Loss: 0.693 | Train Acc: 50.12%\n",
      "\t Val. Loss: 0.695 |  Val. Acc: 49.95%\n",
      "Epoch: 04 | Epoch Time: 0m 32s\n",
      "\tTrain Loss: 0.693 | Train Acc: 50.25%\n",
      "\t Val. Loss: 0.695 |  Val. Acc: 49.59%\n",
      "Epoch: 05 | Epoch Time: 0m 32s\n",
      "\tTrain Loss: 0.693 | Train Acc: 49.96%\n",
      "\t Val. Loss: 0.695 |  Val. Acc: 49.67%\n"
     ]
    }
   ],
   "source": [
    "N_EPOCHS = 5\n",
    "\n",
    "best_valid_loss = float('inf')\n",
    "\n",
    "for epoch in range(N_EPOCHS):\n",
    "\n",
    "    start_time = time.time()\n",
    "    \n",
    "    train_loss, train_acc = train(model, train_iterator, optimizer, criterion)\n",
    "    valid_loss, valid_acc = evaluate(model, valid_iterator, criterion)\n",
    "    \n",
    "    end_time = time.time()\n",
    "\n",
    "    epoch_mins, epoch_secs = epoch_time(start_time, end_time)\n",
    "    \n",
    "    if valid_loss < best_valid_loss:\n",
    "        best_valid_loss = valid_loss\n",
    "        torch.save(model.state_dict(), 'tut1-model.pt')\n",
    "    \n",
    "    print(f'Epoch: {epoch+1:02} | Epoch Time: {epoch_mins}m {epoch_secs}s')\n",
    "    print(f'\\tTrain Loss: {train_loss:.3f} | Train Acc: {train_acc*100:.2f}%')\n",
    "    print(f'\\t Val. Loss: {valid_loss:.3f} |  Val. Acc: {valid_acc*100:.2f}%')"
   ]
  },
  {
   "cell_type": "code",
   "execution_count": 31,
   "metadata": {},
   "outputs": [],
   "source": [
    "test_loss, test_acc = evaluate(model, test_iterator, criterion)"
   ]
  },
  {
   "cell_type": "code",
   "execution_count": 32,
   "metadata": {},
   "outputs": [
    {
     "name": "stdout",
     "output_type": "stream",
     "text": [
      "Test Loss: 0.698 | Test Acc: 46.74%\n"
     ]
    }
   ],
   "source": [
    "print(f'Test Loss: {test_loss:.3f} | Test Acc: {test_acc*100:.2f}%')"
   ]
  },
  {
   "cell_type": "raw",
   "metadata": {
    "colab": {
     "base_uri": "https://localhost:8080/"
    },
    "id": "qIiKAJMaEbKO",
    "outputId": "069950c9-b228-473e-a1ad-67fb5f8f7942"
   },
   "source": [
    "model.load_state_dict(torch.load('tut1-model.pt'))\n",
    "\n",
    "test_loss, test_acc = evaluate(model, test_iterator, criterion)\n",
    "\n"
   ]
  },
  {
   "cell_type": "code",
   "execution_count": null,
   "metadata": {
    "id": "G024NssCEcj0"
   },
   "outputs": [],
   "source": []
  }
 ],
 "metadata": {
  "colab": {
   "name": "END2 Session 4.ipynb",
   "provenance": []
  },
  "kernelspec": {
   "display_name": "Python 3",
   "language": "python",
   "name": "python3"
  },
  "language_info": {
   "codemirror_mode": {
    "name": "ipython",
    "version": 3
   },
   "file_extension": ".py",
   "mimetype": "text/x-python",
   "name": "python",
   "nbconvert_exporter": "python",
   "pygments_lexer": "ipython3",
   "version": "3.8.8"
  }
 },
 "nbformat": 4,
 "nbformat_minor": 4
}
