{
 "cells": [
  {
   "cell_type": "code",
   "execution_count": 10,
   "metadata": {
    "id": "Qe4koen3Zvge"
   },
   "outputs": [],
   "source": []
  },
  {
   "cell_type": "markdown",
   "metadata": {
    "id": "E4wWGRUAY2di"
   },
   "source": [
    "### Importing Important Library"
   ]
  },
  {
   "cell_type": "code",
   "execution_count": 11,
   "metadata": {
    "id": "NrSurWA_XM84"
   },
   "outputs": [],
   "source": [
    "from IPython.core.interactiveshell import InteractiveShell\n",
    "InteractiveShell.ast_node_interactivity = 'all'"
   ]
  },
  {
   "cell_type": "code",
   "execution_count": 12,
   "metadata": {
    "_cell_guid": "5848330f-e52f-49a7-ac18-ab07b0cb8136",
    "_uuid": "dc83c491-711e-4278-b0cc-24896e3e812f",
    "id": "K1cspYuNXM87"
   },
   "outputs": [],
   "source": [
    "import torch\n",
    "import torch.nn as nn\n",
    "import torch.optim as optim\n",
    "\n",
    "from torchtext.legacy.datasets import IMDB\n",
    "from torchtext.legacy.data import Field, LabelField, BucketIterator"
   ]
  },
  {
   "cell_type": "code",
   "execution_count": 13,
   "metadata": {
    "id": "j6L6NAg5XM88"
   },
   "outputs": [],
   "source": [
    "from tqdm import tqdm\n",
    "import random\n",
    "import sys"
   ]
  },
  {
   "cell_type": "markdown",
   "metadata": {
    "id": "zHooDyoPY2dn"
   },
   "source": [
    "### Version chcek"
   ]
  },
  {
   "cell_type": "code",
   "execution_count": 14,
   "metadata": {
    "colab": {
     "base_uri": "https://localhost:8080/",
     "height": 36
    },
    "id": "8YJ1c4vQXM88",
    "outputId": "a194a978-1430-49c3-97bb-67f1dceb5f7a"
   },
   "outputs": [
    {
     "data": {
      "application/vnd.google.colaboratory.intrinsic+json": {
       "type": "string"
      },
      "text/plain": [
       "'Torch CUDA Version :10.1'"
      ]
     },
     "execution_count": 14,
     "metadata": {
      "tags": []
     },
     "output_type": "execute_result"
    },
    {
     "data": {
      "application/vnd.google.colaboratory.intrinsic+json": {
       "type": "string"
      },
      "text/plain": [
       "'Torch Version :1.8.1+cu101'"
      ]
     },
     "execution_count": 14,
     "metadata": {
      "tags": []
     },
     "output_type": "execute_result"
    },
    {
     "data": {
      "application/vnd.google.colaboratory.intrinsic+json": {
       "type": "string"
      },
      "text/plain": [
       "'Python Version :3.7.10 (default, May  3 2021, 02:48:31) \\n[GCC 7.5.0]'"
      ]
     },
     "execution_count": 14,
     "metadata": {
      "tags": []
     },
     "output_type": "execute_result"
    }
   ],
   "source": [
    "f'Torch CUDA Version :{torch.version.cuda}'\n",
    "f'Torch Version :{torch.__version__}'\n",
    "f'Python Version :{sys.version}'"
   ]
  },
  {
   "cell_type": "markdown",
   "metadata": {
    "id": "-Z0CebYrY2do"
   },
   "source": [
    "### GPU Checker "
   ]
  },
  {
   "cell_type": "code",
   "execution_count": 15,
   "metadata": {
    "id": "ixoEQjp8XM89"
   },
   "outputs": [],
   "source": [
    "def gpu_check(seed_val = 1):\n",
    "    print('The Seed is set to {}'.format(seed_val))\n",
    "    if torch.cuda.is_available():\n",
    "        print('Model will Run on CUDA.')\n",
    "        print (\"Type 'watch nvidia-smi' to monitor GPU\\n\")\n",
    "        torch.cuda.manual_seed(seed_val)\n",
    "        device = 'cuda'\n",
    "    else:\n",
    "        torch.manual_seed(seed_val)\n",
    "        print ('Running in CPU')\n",
    "        device = 'cpu'\n",
    "    cuda = torch.cuda.is_available()\n",
    "    return cuda,seed_val,device"
   ]
  },
  {
   "cell_type": "code",
   "execution_count": 16,
   "metadata": {
    "colab": {
     "base_uri": "https://localhost:8080/"
    },
    "id": "ktIAtn89XM8-",
    "outputId": "d0e151ee-2894-4d41-e113-011efbdb1bf0"
   },
   "outputs": [
    {
     "name": "stdout",
     "output_type": "stream",
     "text": [
      "The Seed is set to 1234\n",
      "Model will Run on CUDA.\n",
      "Type 'watch nvidia-smi' to monitor GPU\n",
      "\n"
     ]
    }
   ],
   "source": [
    "cuda,SEED,device = gpu_check(seed_val=1234)"
   ]
  },
  {
   "cell_type": "code",
   "execution_count": 17,
   "metadata": {
    "colab": {
     "base_uri": "https://localhost:8080/"
    },
    "id": "cZBmBSftXM8-",
    "outputId": "fda972dd-313a-4b21-943b-c9fe9558f3f7"
   },
   "outputs": [
    {
     "name": "stdout",
     "output_type": "stream",
     "text": [
      "Wed May 26 06:45:20 2021       \n",
      "+-----------------------------------------------------------------------------+\n",
      "| NVIDIA-SMI 465.19.01    Driver Version: 460.32.03    CUDA Version: 11.2     |\n",
      "|-------------------------------+----------------------+----------------------+\n",
      "| GPU  Name        Persistence-M| Bus-Id        Disp.A | Volatile Uncorr. ECC |\n",
      "| Fan  Temp  Perf  Pwr:Usage/Cap|         Memory-Usage | GPU-Util  Compute M. |\n",
      "|                               |                      |               MIG M. |\n",
      "|===============================+======================+======================|\n",
      "|   0  Tesla P100-PCIE...  Off  | 00000000:00:04.0 Off |                    0 |\n",
      "| N/A   37C    P0    27W / 250W |      2MiB / 16280MiB |      0%      Default |\n",
      "|                               |                      |                  N/A |\n",
      "+-------------------------------+----------------------+----------------------+\n",
      "                                                                               \n",
      "+-----------------------------------------------------------------------------+\n",
      "| Processes:                                                                  |\n",
      "|  GPU   GI   CI        PID   Type   Process name                  GPU Memory |\n",
      "|        ID   ID                                                   Usage      |\n",
      "|=============================================================================|\n",
      "|  No running processes found                                                 |\n",
      "+-----------------------------------------------------------------------------+\n"
     ]
    }
   ],
   "source": [
    "!nvidia-smi"
   ]
  },
  {
   "cell_type": "code",
   "execution_count": 18,
   "metadata": {
    "id": "D-09gG16r06x"
   },
   "outputs": [],
   "source": [
    "def tokenize(s):\n",
    "    return s.split(' ')"
   ]
  },
  {
   "cell_type": "markdown",
   "metadata": {
    "id": "GWxj4mrkY2dq"
   },
   "source": [
    "### Removing spacy for faster execution and loading custion tokenizer"
   ]
  },
  {
   "cell_type": "code",
   "execution_count": 19,
   "metadata": {
    "id": "luBHAVVmXM8_"
   },
   "outputs": [],
   "source": [
    "TEXT = Field(tokenize = 'spacy',tokenizer_language = 'en_core_web_sm', lower = True)\n",
    "# TEXT = Field(tokenize = tokenize,tokenizer_language = 'en_core_web_sm', lower = True)\n",
    "LABEL = LabelField(dtype = torch.float)"
   ]
  },
  {
   "cell_type": "markdown",
   "metadata": {
    "id": "z-DQGM2lY2dr"
   },
   "source": [
    "### Creating the data split "
   ]
  },
  {
   "cell_type": "code",
   "execution_count": 20,
   "metadata": {
    "colab": {
     "base_uri": "https://localhost:8080/"
    },
    "id": "CXdq1nbuXM8_",
    "outputId": "73c985e5-baba-4ed8-8ba3-c85c25328918"
   },
   "outputs": [
    {
     "name": "stderr",
     "output_type": "stream",
     "text": [
      "aclImdb_v1.tar.gz:   0%|          | 115k/84.1M [00:00<01:13, 1.14MB/s]"
     ]
    },
    {
     "name": "stdout",
     "output_type": "stream",
     "text": [
      "downloading aclImdb_v1.tar.gz\n"
     ]
    },
    {
     "name": "stderr",
     "output_type": "stream",
     "text": [
      "aclImdb_v1.tar.gz: 100%|██████████| 84.1M/84.1M [00:01<00:00, 76.6MB/s]\n"
     ]
    }
   ],
   "source": [
    "train_data, test_data = IMDB.splits(TEXT, LABEL,root ='./')"
   ]
  },
  {
   "cell_type": "code",
   "execution_count": 21,
   "metadata": {
    "id": "eqpHA4YCXM9A"
   },
   "outputs": [],
   "source": [
    "train_data, valid_data = train_data.split(random_state = random.seed(SEED))"
   ]
  },
  {
   "cell_type": "code",
   "execution_count": 22,
   "metadata": {
    "colab": {
     "base_uri": "https://localhost:8080/"
    },
    "id": "ItAx3-A5XM9A",
    "outputId": "19d33751-5280-42ba-c68f-92687ecc5db9"
   },
   "outputs": [
    {
     "name": "stdout",
     "output_type": "stream",
     "text": [
      "Number of training examples: 17500\n",
      "Number of testing examples: 25000\n"
     ]
    }
   ],
   "source": [
    "# display lenght of test and traing data\n",
    "print(f\"Number of training examples: {len(train_data.examples)}\")\n",
    "print(f\"Number of testing examples: {len(test_data.examples)}\")"
   ]
  },
  {
   "cell_type": "code",
   "execution_count": 23,
   "metadata": {
    "colab": {
     "base_uri": "https://localhost:8080/"
    },
    "id": "svozR8VZXM9A",
    "outputId": "4481d658-8b1a-44f3-ca08-90c0f02f8985"
   },
   "outputs": [
    {
     "name": "stdout",
     "output_type": "stream",
     "text": [
      "{'text': ['most', 'book', 'adaptations', 'are', 'bad', 'but', 'this', 'film', 'left', 'out', 'key', 'parts', 'of', 'the', 'storyline', 'and', 'changed', 'the', 'description', 'and', 'some', 'characters', '.', 'they', 'rewired', 'the', 'storyline', 'and', 'combined', 'scenes', 'and', 'changed', 'the', 'order', '.', 'they', 'added', 'ridiculous', 'things', 'into', 'it', 'that', 'never', 'happened', 'in', 'the', 'book', 'and', 'would', 'never', 'happen.<br', '/><br', '/>if', 'i', 'had', \"n't\", 'read', 'the', 'book', 'beforehand', 'it', 'would', 'have', 'been', 'an', 'incredibly', 'dull', 'film', ',', 'it', 'did', \"n't\", 'make', 'you', 'care', 'about', 'the', 'characters', ',', 'like', 'them', 'or', 'dislike', 'them', '.', 'it', 'turns', 'the', 'characters', 'into', 'jokes.<br', '/><br', '/>awful.<br', '/><br', '/>ridiculous.<br', '/><br', '/>waste', 'of', 'two', 'hours', 'of', 'my', 'life', '.'], 'label': 'neg'}\n"
     ]
    }
   ],
   "source": [
    "# display single example at index 0\n",
    "print(vars(train_data.examples[0]))"
   ]
  },
  {
   "cell_type": "markdown",
   "metadata": {
    "id": "7-ZPPwSyXM9B"
   },
   "source": [
    "### Visualizing the data"
   ]
  },
  {
   "cell_type": "code",
   "execution_count": 24,
   "metadata": {
    "colab": {
     "base_uri": "https://localhost:8080/",
     "height": 107
    },
    "id": "WyL3o2uUXM9B",
    "outputId": "ef75c70c-0093-4eef-a4eb-93c2442c3088"
   },
   "outputs": [
    {
     "data": {
      "application/vnd.google.colaboratory.intrinsic+json": {
       "type": "string"
      },
      "text/plain": [
       "\"i loved this movie from the opening sequence right through to the end . i found the director/ actor 's style of directly addressing me / the audience very engaging.<br /><br />what i found most exciting and refreshing about this movie was its ignoring -- and thus challenging -- of gender and class stereotypes . the idiosyncrasies of the characters are portrayed as strengths , and the absence of judgment -- and the characters ' acceptance of themselves and each other -- enabled me to embrace them and allow myself to be drawn into their world . without preaching , and with intelligence and gentle and loving humor , this movie has the power to open us to new possibilities , and offers hope for a world in which people see and accept each other as unique and precious individuals . i look forward to more offerings from this creative and talented director . \""
      ]
     },
     "execution_count": 24,
     "metadata": {
      "tags": []
     },
     "output_type": "execute_result"
    },
    {
     "data": {
      "application/vnd.google.colaboratory.intrinsic+json": {
       "type": "string"
      },
      "text/plain": [
       "'pos'"
      ]
     },
     "execution_count": 24,
     "metadata": {
      "tags": []
     },
     "output_type": "execute_result"
    }
   ],
   "source": [
    "line = ''\n",
    "filenumber = 11\n",
    "\n",
    "for i in train_data.examples[filenumber].text:\n",
    "    line += i + ' '\n",
    "line\n",
    "\n",
    "train_data.examples[filenumber].label"
   ]
  },
  {
   "cell_type": "markdown",
   "metadata": {
    "id": "nMjNB_eoY2dt"
   },
   "source": [
    "###  Build vocabulary for source and target from training data\n",
    " "
   ]
  },
  {
   "cell_type": "code",
   "execution_count": 25,
   "metadata": {
    "id": "q9PE4q54XM9B"
   },
   "outputs": [],
   "source": [
    "# Build vocabulary for source and target from training data\n",
    "\n",
    "TEXT.build_vocab(train_data, max_size=25_000)\n",
    "LABEL.build_vocab(train_data)\n"
   ]
  },
  {
   "cell_type": "code",
   "execution_count": 26,
   "metadata": {
    "colab": {
     "base_uri": "https://localhost:8080/"
    },
    "id": "6bHVCk9oXM9C",
    "outputId": "4e3c1d45-f669-4198-94f6-7b39d7b042ae"
   },
   "outputs": [
    {
     "name": "stdout",
     "output_type": "stream",
     "text": [
      "Unique tokens in source vocabulary: 25002\n",
      "Unique tokens in TRG vocabulary: 2\n"
     ]
    }
   ],
   "source": [
    "\n",
    "# print(vars(TEXT.vocab))\n",
    "print(f\"Unique tokens in source vocabulary: {len(TEXT.vocab)}\")\n",
    "print(f\"Unique tokens in TRG vocabulary: {len(LABEL.vocab)}\")"
   ]
  },
  {
   "cell_type": "markdown",
   "metadata": {
    "id": "mDhMPajJY2du"
   },
   "source": [
    "### train and test iteartor"
   ]
  },
  {
   "cell_type": "code",
   "execution_count": 27,
   "metadata": {
    "id": "bogX6jtDXM9C"
   },
   "outputs": [],
   "source": [
    "\n",
    "BATCH_SIZE = 32\n",
    "train_iterator,valid_iterator ,test_iterator = BucketIterator.splits(\n",
    "      (train_data, valid_data,test_data), \n",
    "      batch_size = BATCH_SIZE, \n",
    "      device = device\n",
    "    )"
   ]
  },
  {
   "cell_type": "markdown",
   "metadata": {
    "id": "3Da-tC_aXM9C"
   },
   "source": [
    "### Creating Model"
   ]
  },
  {
   "cell_type": "code",
   "execution_count": 28,
   "metadata": {
    "id": "n1udFd0cXM9D"
   },
   "outputs": [],
   "source": [
    "# Model class\n",
    "class Model(nn.Module):\n",
    "    def __init__(self, input_dim, output_dim,emb_dim, hidden_dim, n_layers, dropout):\n",
    "        # input_dim <--- vocabulary size\n",
    "        # output_dim <--- len ([positive, negative]) == 2 \n",
    "        # emb_dim <--- embedding dimension of embedding matrix\n",
    "\n",
    "        super(Model, self).__init__()\n",
    "        self.n_layers = n_layers\n",
    "        self.hidden_dim = hidden_dim\n",
    "\n",
    "        self.embedding = nn.Embedding(input_dim, emb_dim)\n",
    "        self.rnn = nn.LSTM(emb_dim, hidden_dim, n_layers, dropout=dropout)\n",
    "        self.fc1 = nn.Linear(hidden_dim, output_dim)\n",
    "        self.relu = nn.ReLU()\n",
    "        self.dropout = nn.Dropout(dropout)\n",
    "\n",
    "    def forward(self, src):\n",
    "        # shape: [source_len, batch_size]\n",
    "        embedded = self.dropout(self.embedding(src)) # shape: [src_len, batch_size, embed_dim]\n",
    "        output, (hidden, cell) = self.rnn(embedded) \n",
    "        # output shape -> [batch, hidden_dim]\n",
    "        # hiddden shape -> [n_layers, batch, hidden_dim]\n",
    "        # cell shape -> [n_layers, batch, hidden_dim]\n",
    "        output = self.fc1(output[-1])\n",
    "#         output = self.fc2(self.relu(output))\n",
    "        return output"
   ]
  },
  {
   "cell_type": "code",
   "execution_count": 29,
   "metadata": {
    "colab": {
     "base_uri": "https://localhost:8080/"
    },
    "id": "sJ4gPZzAXM9D",
    "outputId": "49bc1a7d-c122-4c77-9be6-2abe26414d24"
   },
   "outputs": [
    {
     "name": "stderr",
     "output_type": "stream",
     "text": [
      "/usr/local/lib/python3.7/dist-packages/torch/nn/modules/rnn.py:63: UserWarning: dropout option adds dropout after all but last recurrent layer, so non-zero dropout expects num_layers greater than 1, but got dropout=0.6 and num_layers=1\n",
      "  \"num_layers={}\".format(dropout, num_layers))\n"
     ]
    }
   ],
   "source": [
    "#initializing variables and hyper parameters\n",
    "INPUT_DIM = len(TEXT.vocab)\n",
    "OUTPUT_DIM = len(LABEL.vocab)\n",
    "\n",
    "EMBEDDING_DIM = 100\n",
    "DEC_EMB_DIM = 100\n",
    "HIDDEN_DIM = 256\n",
    "\n",
    "N_LAYERS = 1\n",
    "DROPOUT = 0.6\n",
    "\n",
    "# initializing our model\n",
    "model = Model(INPUT_DIM, OUTPUT_DIM, EMBEDDING_DIM, HIDDEN_DIM, N_LAYERS, DROPOUT).to(device)\n",
    "\n"
   ]
  },
  {
   "cell_type": "code",
   "execution_count": 30,
   "metadata": {
    "id": "cssKRzERXM9E"
   },
   "outputs": [],
   "source": [
    "train_loss = []\n",
    "train_accuracy = []"
   ]
  },
  {
   "cell_type": "code",
   "execution_count": 31,
   "metadata": {
    "id": "k9LTjlYCXM9E"
   },
   "outputs": [],
   "source": [
    "# loop and train our model\n",
    "optimizer = optim.Adam(model.parameters(), lr=3e-3)\n",
    "\n",
    "# defining learnig rate scheduler (optional)\n",
    "scheduler = optim.lr_scheduler.ReduceLROnPlateau(optimizer, patience=3, verbose=True)\n",
    "\n",
    "criterion = nn.CrossEntropyLoss()\n"
   ]
  },
  {
   "cell_type": "markdown",
   "metadata": {
    "id": "9AS-J8geY2dw"
   },
   "source": [
    "### Model training function"
   ]
  },
  {
   "cell_type": "code",
   "execution_count": 32,
   "metadata": {
    "id": "VPPTpYnFXM9E"
   },
   "outputs": [],
   "source": [
    "\n",
    "def train(EPOCH,model, iterator, optimizer=optimizer, criterion=criterion, clip=1,):\n",
    "    model.train()\n",
    "    epoch_loss = 0\n",
    "    total_correct = 0\n",
    "    total_count = 0\n",
    "    pbar = tqdm(iterator)\n",
    "    for i, batch in enumerate(pbar):\n",
    "        src = batch.text.to(device)\n",
    "        trg = batch.label.to(device)\n",
    "        trg = trg.long()\n",
    "        optimizer.zero_grad()\n",
    "        output = model(src)\n",
    "        \n",
    "        total_correct += torch.sum(torch.eq(output.argmax(1), trg))\n",
    "        total_count+=len(trg)\n",
    "        \n",
    "        loss = criterion(output, trg)\n",
    "        \n",
    "        loss.backward() \n",
    "        torch.nn.utils.clip_grad_norm_(model.parameters(), clip)\n",
    "        optimizer.step()\n",
    "        epoch_loss += loss.item()\n",
    "        pbar.set_description(desc= f'Epoch {EPOCH} Train data Batch No : {i} Loss : {loss.item():.3f} Accuracy : {total_correct/total_count * 100 :.2f}% ' )\n",
    "    \n",
    "    train_accuracy.append(total_correct/total_count)\n",
    "    mean_loss = epoch_loss / len(iterator)\n",
    "    train_loss.append(mean_loss)\n",
    "    \n",
    "    scheduler.step(mean_loss)\n",
    "    "
   ]
  },
  {
   "cell_type": "markdown",
   "metadata": {
    "id": "3eMoNPfmY2dy"
   },
   "source": [
    "### Model Validation function"
   ]
  },
  {
   "cell_type": "code",
   "execution_count": 33,
   "metadata": {
    "id": "s2OZgevLZIm7"
   },
   "outputs": [],
   "source": [
    "test_loss = []\n",
    "test_accuracy = []\n",
    "validation_loss = []\n",
    "validation_accuracy = []"
   ]
  },
  {
   "cell_type": "code",
   "execution_count": 34,
   "metadata": {
    "id": "_-bx851mXM9G"
   },
   "outputs": [],
   "source": [
    "def evaluate(EPOCH,model, iterator, criterion,typ_loader):\n",
    "    \n",
    "    epoch_loss = 0\n",
    "    epoch_acc = 0\n",
    "    \n",
    "    model.eval()\n",
    "    pbar  = tqdm(iterator)\n",
    "    with torch.no_grad():\n",
    "        \n",
    "        for i,batch in enumerate(pbar):\n",
    "            src = batch.text.to(device)\n",
    "            trg = batch.label.to(device)\n",
    "            trg = trg.long()\n",
    "            predictions = model(src)\n",
    "            \n",
    "            loss = criterion(predictions, trg)\n",
    "            \n",
    "            acc = binary_accuracy(predictions, trg)\n",
    "\n",
    "            epoch_loss += loss.item()\n",
    "            epoch_acc += acc\n",
    "            if typ_loader == 'Valid data':\n",
    "                validation_loss.append(loss)\n",
    "                validation_accuracy.append(acc)\n",
    "            elif typ_loader == 'Test data':\n",
    "                test_loss.append(loss)\n",
    "                test_accuracy.append(acc)\n",
    "\n",
    "            pbar.set_description(desc= f'Epoch {EPOCH} {typ_loader} Batch No : {i} Loss : {loss.item():.3f} Accuracy : {epoch_acc / len(iterator)* 100 :.2f}% ' )"
   ]
  },
  {
   "cell_type": "code",
   "execution_count": 35,
   "metadata": {
    "id": "BQoU37TFXM9G"
   },
   "outputs": [],
   "source": [
    "def binary_accuracy(preds, y):\n",
    "    \"\"\"\n",
    "    Returns accuracy per batch, i.e. if you get 8/10 right, this returns 0.8, NOT 8\n",
    "    \"\"\"\n",
    "\n",
    "    #round predictions to the closest integer\n",
    "    rounded_preds = torch.round(torch.sigmoid(preds))\n",
    "    correct = (rounded_preds.argmax(1) == y).float() #convert into float for division \n",
    "    acc = correct.sum() / len(correct)\n",
    "    return acc.item()"
   ]
  },
  {
   "cell_type": "code",
   "execution_count": 35,
   "metadata": {
    "id": "rUowPx2KXM9H"
   },
   "outputs": [],
   "source": []
  },
  {
   "cell_type": "code",
   "execution_count": 36,
   "metadata": {
    "colab": {
     "base_uri": "https://localhost:8080/"
    },
    "id": "HYJ2RintXM9H",
    "outputId": "294495c6-21ac-430e-bc60-d4a08b0ab677"
   },
   "outputs": [
    {
     "name": "stderr",
     "output_type": "stream",
     "text": [
      "Epoch 0 Train data Batch No : 546 Loss : 0.689 Accuracy : 50.39% : 100%|██████████| 547/547 [00:39<00:00, 14.01it/s]\n",
      "Epoch 0 Valid data Batch No : 234 Loss : 0.680 Accuracy : 50.70% : 100%|██████████| 235/235 [00:02<00:00, 94.77it/s]\n",
      "Epoch 0 Test data Batch No : 781 Loss : 0.691 Accuracy : 59.86% : 100%|██████████| 782/782 [00:08<00:00, 97.39it/s]\n",
      "Epoch 1 Train data Batch No : 546 Loss : 0.704 Accuracy : 50.59% : 100%|██████████| 547/547 [00:39<00:00, 13.97it/s]\n",
      "Epoch 1 Valid data Batch No : 234 Loss : 0.709 Accuracy : 50.36% : 100%|██████████| 235/235 [00:02<00:00, 94.14it/s]\n",
      "Epoch 1 Test data Batch No : 781 Loss : 0.704 Accuracy : 56.90% : 100%|██████████| 782/782 [00:08<00:00, 97.40it/s]\n",
      "Epoch 2 Train data Batch No : 546 Loss : 0.695 Accuracy : 50.19% : 100%|██████████| 547/547 [00:39<00:00, 13.96it/s]\n",
      "Epoch 2 Valid data Batch No : 234 Loss : 0.692 Accuracy : 49.76% : 100%|██████████| 235/235 [00:02<00:00, 96.10it/s]\n",
      "Epoch 2 Test data Batch No : 781 Loss : 0.667 Accuracy : 65.44% : 100%|██████████| 782/782 [00:07<00:00, 99.12it/s]\n",
      "Epoch 3 Train data Batch No : 546 Loss : 0.678 Accuracy : 50.62% : 100%|██████████| 547/547 [00:39<00:00, 13.94it/s]\n",
      "Epoch 3 Valid data Batch No : 234 Loss : 0.797 Accuracy : 50.20% : 100%|██████████| 235/235 [00:02<00:00, 95.54it/s]\n",
      "Epoch 3 Test data Batch No : 781 Loss : 0.712 Accuracy : 55.87% : 100%|██████████| 782/782 [00:07<00:00, 98.03it/s]\n",
      "Epoch 4 Train data Batch No : 546 Loss : 0.702 Accuracy : 50.35% : 100%|██████████| 547/547 [00:39<00:00, 13.90it/s]\n",
      "Epoch 4 Valid data Batch No : 234 Loss : 0.760 Accuracy : 51.24% : 100%|██████████| 235/235 [00:02<00:00, 94.89it/s]\n",
      "Epoch 4 Test data Batch No : 781 Loss : 0.700 Accuracy : 57.70% : 100%|██████████| 782/782 [00:07<00:00, 97.89it/s]\n",
      "Epoch 5 Train data Batch No : 546 Loss : 0.699 Accuracy : 50.40% : 100%|██████████| 547/547 [00:39<00:00, 13.86it/s]\n",
      "Epoch 5 Valid data Batch No : 234 Loss : 0.661 Accuracy : 52.41% : 100%|██████████| 235/235 [00:02<00:00, 94.64it/s]\n",
      "Epoch 5 Test data Batch No : 781 Loss : 0.679 Accuracy : 52.35% : 100%|██████████| 782/782 [00:07<00:00, 97.92it/s]\n",
      "Epoch 6 Train data Batch No : 546 Loss : 0.679 Accuracy : 50.10% : 100%|██████████| 547/547 [00:39<00:00, 13.93it/s]\n",
      "Epoch 6 Valid data Batch No : 234 Loss : 0.724 Accuracy : 55.51% : 100%|██████████| 235/235 [00:02<00:00, 93.84it/s]\n",
      "Epoch 6 Test data Batch No : 781 Loss : 0.718 Accuracy : 57.09% : 100%|██████████| 782/782 [00:08<00:00, 97.29it/s]\n",
      "Epoch 7 Train data Batch No : 546 Loss : 0.695 Accuracy : 50.86% : 100%|██████████| 547/547 [00:39<00:00, 13.90it/s]\n",
      "Epoch 7 Valid data Batch No : 234 Loss : 0.693 Accuracy : 52.15% : 100%|██████████| 235/235 [00:02<00:00, 94.41it/s]\n",
      "Epoch 7 Test data Batch No : 781 Loss : 0.755 Accuracy : 58.32% : 100%|██████████| 782/782 [00:08<00:00, 97.57it/s]\n",
      "Epoch 8 Train data Batch No : 546 Loss : 0.681 Accuracy : 50.58% : 100%|██████████| 547/547 [00:39<00:00, 13.90it/s]\n",
      "Epoch 8 Valid data Batch No : 234 Loss : 0.776 Accuracy : 52.85% : 100%|██████████| 235/235 [00:02<00:00, 95.52it/s]\n",
      "Epoch 8 Test data Batch No : 781 Loss : 0.640 Accuracy : 60.63% : 100%|██████████| 782/782 [00:07<00:00, 98.32it/s]\n",
      "Epoch 9 Train data Batch No : 546 Loss : 0.742 Accuracy : 50.27% : 100%|██████████| 547/547 [00:39<00:00, 13.78it/s]\n",
      "Epoch 9 Valid data Batch No : 234 Loss : 0.747 Accuracy : 53.05% : 100%|██████████| 235/235 [00:02<00:00, 91.35it/s]\n",
      "Epoch 9 Test data Batch No : 781 Loss : 0.658 Accuracy : 60.11% : 100%|██████████| 782/782 [00:08<00:00, 94.47it/s]\n",
      "Epoch 10 Train data Batch No : 546 Loss : 0.680 Accuracy : 51.29% : 100%|██████████| 547/547 [00:39<00:00, 13.94it/s]\n",
      "Epoch 10 Valid data Batch No : 234 Loss : 0.701 Accuracy : 55.56% : 100%|██████████| 235/235 [00:02<00:00, 95.66it/s]\n",
      "Epoch 10 Test data Batch No : 781 Loss : 0.631 Accuracy : 59.41% : 100%|██████████| 782/782 [00:07<00:00, 97.91it/s]\n",
      "Epoch 11 Train data Batch No : 546 Loss : 0.674 Accuracy : 51.51% : 100%|██████████| 547/547 [00:39<00:00, 13.83it/s]\n",
      "Epoch 11 Valid data Batch No : 234 Loss : 0.731 Accuracy : 57.70% : 100%|██████████| 235/235 [00:02<00:00, 92.88it/s]\n",
      "Epoch 11 Test data Batch No : 781 Loss : 0.638 Accuracy : 58.23% : 100%|██████████| 782/782 [00:08<00:00, 96.74it/s]\n",
      "Epoch 12 Train data Batch No : 546 Loss : 0.675 Accuracy : 51.11% : 100%|██████████| 547/547 [00:39<00:00, 13.85it/s]\n",
      "Epoch 12 Valid data Batch No : 234 Loss : 0.721 Accuracy : 57.30% : 100%|██████████| 235/235 [00:02<00:00, 96.08it/s]\n",
      "Epoch 12 Test data Batch No : 781 Loss : 0.598 Accuracy : 57.64% : 100%|██████████| 782/782 [00:07<00:00, 98.32it/s]\n",
      "Epoch 13 Train data Batch No : 546 Loss : 0.698 Accuracy : 51.32% : 100%|██████████| 547/547 [00:39<00:00, 14.01it/s]\n",
      "Epoch 13 Valid data Batch No : 234 Loss : 0.720 Accuracy : 57.81% : 100%|██████████| 235/235 [00:02<00:00, 93.96it/s]\n",
      "Epoch 13 Test data Batch No : 781 Loss : 0.640 Accuracy : 59.02% : 100%|██████████| 782/782 [00:07<00:00, 98.55it/s]\n",
      "Epoch 14 Train data Batch No : 546 Loss : 0.695 Accuracy : 50.51% : 100%|██████████| 547/547 [00:39<00:00, 13.92it/s]\n",
      "Epoch 14 Valid data Batch No : 234 Loss : 0.662 Accuracy : 56.42% : 100%|██████████| 235/235 [00:02<00:00, 93.08it/s]\n",
      "Epoch 14 Test data Batch No : 781 Loss : 0.629 Accuracy : 57.51% : 100%|██████████| 782/782 [00:08<00:00, 91.33it/s]\n",
      "Epoch 15 Train data Batch No : 546 Loss : 0.684 Accuracy : 50.38% : 100%|██████████| 547/547 [00:39<00:00, 13.95it/s]\n",
      "Epoch 15 Valid data Batch No : 234 Loss : 0.743 Accuracy : 55.82% : 100%|██████████| 235/235 [00:02<00:00, 92.96it/s]\n",
      "Epoch 15 Test data Batch No : 781 Loss : 0.632 Accuracy : 63.32% : 100%|██████████| 782/782 [00:07<00:00, 98.17it/s]\n",
      "Epoch 16 Train data Batch No : 546 Loss : 0.668 Accuracy : 50.79% : 100%|██████████| 547/547 [00:39<00:00, 13.95it/s]\n",
      "Epoch 16 Valid data Batch No : 234 Loss : 0.822 Accuracy : 58.18% : 100%|██████████| 235/235 [00:02<00:00, 95.79it/s]\n",
      "Epoch 16 Test data Batch No : 781 Loss : 0.638 Accuracy : 60.92% : 100%|██████████| 782/782 [00:07<00:00, 98.11it/s]\n",
      "Epoch 17 Train data Batch No : 546 Loss : 0.695 Accuracy : 51.34% : 100%|██████████| 547/547 [00:39<00:00, 13.83it/s]\n",
      "Epoch 17 Valid data Batch No : 234 Loss : 0.673 Accuracy : 59.45% : 100%|██████████| 235/235 [00:02<00:00, 94.70it/s]\n",
      "Epoch 17 Test data Batch No : 781 Loss : 0.610 Accuracy : 58.03% : 100%|██████████| 782/782 [00:08<00:00, 97.67it/s]\n",
      "Epoch 18 Train data Batch No : 546 Loss : 0.709 Accuracy : 51.44% : 100%|██████████| 547/547 [00:39<00:00, 13.86it/s]\n",
      "Epoch 18 Valid data Batch No : 234 Loss : 0.670 Accuracy : 58.36% : 100%|██████████| 235/235 [00:02<00:00, 95.62it/s]\n",
      "Epoch 18 Test data Batch No : 781 Loss : 0.649 Accuracy : 60.29% : 100%|██████████| 782/782 [00:07<00:00, 98.12it/s]\n",
      "Epoch 19 Train data Batch No : 546 Loss : 0.695 Accuracy : 50.62% : 100%|██████████| 547/547 [00:39<00:00, 13.88it/s]\n",
      "Epoch 19 Valid data Batch No : 234 Loss : 0.717 Accuracy : 58.66% : 100%|██████████| 235/235 [00:02<00:00, 93.91it/s]\n",
      "Epoch 19 Test data Batch No : 781 Loss : 0.766 Accuracy : 59.63% : 100%|██████████| 782/782 [00:08<00:00, 96.89it/s]\n",
      "Epoch 20 Train data Batch No : 546 Loss : 0.688 Accuracy : 50.39% : 100%|██████████| 547/547 [00:38<00:00, 14.03it/s]\n",
      "Epoch 20 Valid data Batch No : 234 Loss : 0.687 Accuracy : 59.36% : 100%|██████████| 235/235 [00:02<00:00, 94.61it/s]\n",
      "Epoch 20 Test data Batch No : 781 Loss : 0.633 Accuracy : 60.23% : 100%|██████████| 782/782 [00:07<00:00, 98.22it/s]\n",
      "Epoch 21 Train data Batch No : 546 Loss : 0.678 Accuracy : 51.20% : 100%|██████████| 547/547 [00:39<00:00, 13.93it/s]\n",
      "Epoch 21 Valid data Batch No : 234 Loss : 0.675 Accuracy : 60.35% : 100%|██████████| 235/235 [00:02<00:00, 95.53it/s]\n",
      "Epoch 21 Test data Batch No : 781 Loss : 0.626 Accuracy : 60.77% : 100%|██████████| 782/782 [00:07<00:00, 98.44it/s]\n",
      "Epoch 22 Train data Batch No : 546 Loss : 0.757 Accuracy : 51.02% : 100%|██████████| 547/547 [00:39<00:00, 13.94it/s]\n",
      "Epoch 22 Valid data Batch No : 234 Loss : 0.728 Accuracy : 60.04% : 100%|██████████| 235/235 [00:02<00:00, 95.59it/s]\n",
      "Epoch 22 Test data Batch No : 781 Loss : 0.636 Accuracy : 60.67% : 100%|██████████| 782/782 [00:07<00:00, 98.95it/s]\n",
      "Epoch 23 Train data Batch No : 546 Loss : 0.682 Accuracy : 50.82% : 100%|██████████| 547/547 [00:39<00:00, 13.93it/s]\n",
      "Epoch 23 Valid data Batch No : 234 Loss : 0.666 Accuracy : 57.76% : 100%|██████████| 235/235 [00:02<00:00, 96.53it/s]\n",
      "Epoch 23 Test data Batch No : 781 Loss : 0.617 Accuracy : 57.94% : 100%|██████████| 782/782 [00:07<00:00, 98.93it/s]\n",
      "Epoch 24 Train data Batch No : 546 Loss : 0.671 Accuracy : 51.40% : 100%|██████████| 547/547 [00:39<00:00, 13.98it/s]\n",
      "Epoch 24 Valid data Batch No : 234 Loss : 0.694 Accuracy : 59.88% : 100%|██████████| 235/235 [00:02<00:00, 95.36it/s]\n",
      "Epoch 24 Test data Batch No : 781 Loss : 0.695 Accuracy : 59.97% : 100%|██████████| 782/782 [00:07<00:00, 98.93it/s]\n",
      "Epoch 25 Train data Batch No : 546 Loss : 0.662 Accuracy : 51.35% : 100%|██████████| 547/547 [00:39<00:00, 13.90it/s]\n",
      "Epoch 25 Valid data Batch No : 234 Loss : 0.680 Accuracy : 60.57% : 100%|██████████| 235/235 [00:02<00:00, 95.39it/s]\n",
      "Epoch 25 Test data Batch No : 781 Loss : 1.209 Accuracy : 60.97% : 100%|██████████| 782/782 [00:07<00:00, 99.18it/s]\n",
      "Epoch 26 Train data Batch No : 546 Loss : 0.677 Accuracy : 50.83% : 100%|██████████| 547/547 [00:39<00:00, 13.89it/s]\n",
      "Epoch 26 Valid data Batch No : 234 Loss : 0.741 Accuracy : 61.25% : 100%|██████████| 235/235 [00:02<00:00, 95.24it/s]\n",
      "Epoch 26 Test data Batch No : 781 Loss : 0.952 Accuracy : 60.46% : 100%|██████████| 782/782 [00:07<00:00, 99.71it/s]\n",
      "Epoch 27 Train data Batch No : 546 Loss : 0.677 Accuracy : 50.79% : 100%|██████████| 547/547 [00:39<00:00, 13.87it/s]\n",
      "Epoch 27 Valid data Batch No : 234 Loss : 0.714 Accuracy : 61.88% : 100%|██████████| 235/235 [00:02<00:00, 95.94it/s]\n",
      "Epoch 27 Test data Batch No : 781 Loss : 0.647 Accuracy : 61.46% : 100%|██████████| 782/782 [00:07<00:00, 98.70it/s]\n",
      "Epoch 28 Train data Batch No : 546 Loss : 0.688 Accuracy : 54.85% : 100%|██████████| 547/547 [00:39<00:00, 13.92it/s]\n",
      "Epoch 28 Valid data Batch No : 234 Loss : 0.689 Accuracy : 63.01% : 100%|██████████| 235/235 [00:02<00:00, 92.51it/s]\n",
      "Epoch 28 Test data Batch No : 781 Loss : 0.775 Accuracy : 62.01% : 100%|██████████| 782/782 [00:08<00:00, 96.82it/s]\n",
      "Epoch 29 Train data Batch No : 546 Loss : 0.714 Accuracy : 60.79% : 100%|██████████| 547/547 [00:38<00:00, 14.04it/s]\n",
      "Epoch 29 Valid data Batch No : 234 Loss : 0.686 Accuracy : 64.84% : 100%|██████████| 235/235 [00:02<00:00, 95.66it/s]\n",
      "Epoch 29 Test data Batch No : 781 Loss : 0.412 Accuracy : 63.88% : 100%|██████████| 782/782 [00:07<00:00, 99.30it/s]\n"
     ]
    }
   ],
   "source": [
    "\n",
    "total_epoch = 30\n",
    "for epoch in range(total_epoch):\n",
    "    result = train(epoch,model=model, iterator=train_iterator)\n",
    "    evaluate(epoch,model,valid_iterator,criterion,'Valid data')\n",
    "    evaluate(epoch,model,test_iterator,criterion,'Test data')\n",
    "    "
   ]
  },
  {
   "cell_type": "code",
   "execution_count": 37,
   "metadata": {
    "colab": {
     "base_uri": "https://localhost:8080/",
     "height": 299
    },
    "id": "xz-HGi6JXM9I",
    "outputId": "437f6a87-6399-42ec-b493-ad07fa6c49ac"
   },
   "outputs": [
    {
     "data": {
      "text/plain": [
       "[<matplotlib.lines.Line2D at 0x7fbc5b2fda50>]"
      ]
     },
     "execution_count": 37,
     "metadata": {
      "tags": []
     },
     "output_type": "execute_result"
    },
    {
     "data": {
      "text/plain": [
       "Text(0.5, 1.0, 'train_acc')"
      ]
     },
     "execution_count": 37,
     "metadata": {
      "tags": []
     },
     "output_type": "execute_result"
    },
    {
     "data": {
      "image/png": "[encoded data removed]",
      "text/plain": [
       "<Figure size 432x288 with 1 Axes>"
      ]
     },
     "metadata": {
      "needs_background": "light",
      "tags": []
     },
     "output_type": "display_data"
    }
   ],
   "source": [
    "import matplotlib.pyplot as plt\n",
    "\n",
    "plt.plot(train_accuracy,'green')\n",
    "plt.title('train_acc')"
   ]
  },
  {
   "cell_type": "code",
   "execution_count": 51,
   "metadata": {
    "colab": {
     "base_uri": "https://localhost:8080/",
     "height": 299
    },
    "id": "fpNbUDDeaGhf",
    "outputId": "7651406e-fabe-43d8-dcd7-6f170f137557"
   },
   "outputs": [
    {
     "data": {
      "text/plain": [
       "[<matplotlib.lines.Line2D at 0x7fbbf640ba50>]"
      ]
     },
     "execution_count": 51,
     "metadata": {
      "tags": []
     },
     "output_type": "execute_result"
    },
    {
     "data": {
      "text/plain": [
       "Text(0.5, 1.0, 'train_loss')"
      ]
     },
     "execution_count": 51,
     "metadata": {
      "tags": []
     },
     "output_type": "execute_result"
    },
    {
     "data": {
      "image/png": "[encoded data removed]",
      "text/plain": [
       "<Figure size 432x288 with 1 Axes>"
      ]
     },
     "metadata": {
      "needs_background": "light",
      "tags": []
     },
     "output_type": "display_data"
    }
   ],
   "source": [
    "plt.plot(train_loss,'green')\n",
    "plt.title('train_loss')"
   ]
  },
  {
   "cell_type": "code",
   "execution_count": 47,
   "metadata": {
    "colab": {
     "base_uri": "https://localhost:8080/",
     "height": 299
    },
    "id": "9xFwVveDaNx4",
    "outputId": "e3f47f07-3d19-455b-c9d3-95e256587154"
   },
   "outputs": [
    {
     "data": {
      "text/plain": [
       "[<matplotlib.lines.Line2D at 0x7fbbf679d350>]"
      ]
     },
     "execution_count": 47,
     "metadata": {
      "tags": []
     },
     "output_type": "execute_result"
    },
    {
     "data": {
      "text/plain": [
       "Text(0.5, 1.0, 'test_acc')"
      ]
     },
     "execution_count": 47,
     "metadata": {
      "tags": []
     },
     "output_type": "execute_result"
    },
    {
     "data": {
      "image/png": "[encoded data removed]",
      "text/plain": [
       "<Figure size 432x288 with 1 Axes>"
      ]
     },
     "metadata": {
      "needs_background": "light",
      "tags": []
     },
     "output_type": "display_data"
    }
   ],
   "source": [
    "plt.plot(test_accuracy,'red')\n",
    "plt.title('test_acc')"
   ]
  },
  {
   "cell_type": "code",
   "execution_count": 48,
   "metadata": {
    "colab": {
     "base_uri": "https://localhost:8080/",
     "height": 299
    },
    "id": "KIH5LQ8faOOw",
    "outputId": "328145f4-5d7f-41d0-e929-7681609e2813"
   },
   "outputs": [
    {
     "data": {
      "text/plain": [
       "[<matplotlib.lines.Line2D at 0x7fbbf670d0d0>]"
      ]
     },
     "execution_count": 48,
     "metadata": {
      "tags": []
     },
     "output_type": "execute_result"
    },
    {
     "data": {
      "text/plain": [
       "Text(0.5, 1.0, 'test_loss')"
      ]
     },
     "execution_count": 48,
     "metadata": {
      "tags": []
     },
     "output_type": "execute_result"
    },
    {
     "data": {
      "image/png": "[encoded data removed]",
      "text/plain": [
       "<Figure size 432x288 with 1 Axes>"
      ]
     },
     "metadata": {
      "needs_background": "light",
      "tags": []
     },
     "output_type": "display_data"
    }
   ],
   "source": [
    "plt.plot(test_loss,'red')\n",
    "plt.title('test_loss')"
   ]
  },
  {
   "cell_type": "code",
   "execution_count": 49,
   "metadata": {
    "colab": {
     "base_uri": "https://localhost:8080/",
     "height": 299
    },
    "id": "bxUu7qBOaOc5",
    "outputId": "3923bcb1-c5fe-4c65-b1c6-97557ea11da1"
   },
   "outputs": [
    {
     "data": {
      "text/plain": [
       "[<matplotlib.lines.Line2D at 0x7fbbf66ef310>]"
      ]
     },
     "execution_count": 49,
     "metadata": {
      "tags": []
     },
     "output_type": "execute_result"
    },
    {
     "data": {
      "text/plain": [
       "Text(0.5, 1.0, 'test_acc')"
      ]
     },
     "execution_count": 49,
     "metadata": {
      "tags": []
     },
     "output_type": "execute_result"
    },
    {
     "data": {
      "image/png": "[encoded data removed]",
      "text/plain": [
       "<Figure size 432x288 with 1 Axes>"
      ]
     },
     "metadata": {
      "needs_background": "light",
      "tags": []
     },
     "output_type": "display_data"
    }
   ],
   "source": [
    "\n",
    "plt.plot(validation_accuracy,'blue')\n",
    "plt.title('test_acc')"
   ]
  },
  {
   "cell_type": "code",
   "execution_count": 50,
   "metadata": {
    "colab": {
     "base_uri": "https://localhost:8080/",
     "height": 299
    },
    "id": "DjpgdDMoaOrY",
    "outputId": "bd6f2633-8915-451e-cdd9-2141fc4198bd"
   },
   "outputs": [
    {
     "data": {
      "text/plain": [
       "[<matplotlib.lines.Line2D at 0x7fbbf649b390>]"
      ]
     },
     "execution_count": 50,
     "metadata": {
      "tags": []
     },
     "output_type": "execute_result"
    },
    {
     "data": {
      "text/plain": [
       "Text(0.5, 1.0, 'test_loss')"
      ]
     },
     "execution_count": 50,
     "metadata": {
      "tags": []
     },
     "output_type": "execute_result"
    },
    {
     "data": {
      "image/png": "[encoded data removed]",
      "text/plain": [
       "<Figure size 432x288 with 1 Axes>"
      ]
     },
     "metadata": {
      "needs_background": "light",
      "tags": []
     },
     "output_type": "display_data"
    }
   ],
   "source": [
    "plt.plot(validation_loss,'blue')\n",
    "plt.title('test_loss')"
   ]
  },
  {
   "cell_type": "markdown",
   "metadata": {
    "id": "LCdY46v9XM9I"
   },
   "source": [
    "### function to experiment movie review sentences"
   ]
  },
  {
   "cell_type": "code",
   "execution_count": 43,
   "metadata": {
    "id": "GBNt3vw0XM9I"
   },
   "outputs": [],
   "source": [
    "\n",
    "import spacy\n",
    "sp = spacy.load('en_core_web_sm')\n",
    "\n",
    "\n",
    "def predict(sentence):\n",
    "    if type(sentence) == str:\n",
    "        tokanized_sentence = [word.text for word in sp.tokenizer(sentence)]\n",
    "    else:\n",
    "        tokanized_sentence = sentence\n",
    "\n",
    "\n",
    "    input_data = [TEXT.vocab.stoi[word.lower()] for word in tokanized_sentence]\n",
    "    input_data = torch.tensor(input_data, dtype=torch.int64).unsqueeze(1).to(device)\n",
    "\n",
    "\n",
    "    model.eval()\n",
    "    output = model(input_data)\n",
    "    # print(output)\n",
    "    predict = output.argmax(1)\n",
    "    predict = predict.squeeze(0)\n",
    "    print(output)\n",
    "\n",
    "    if predict>0:\n",
    "        return \"---->> Positive Review\"\n",
    "    else:\n",
    "        return '---->> Negative Review'"
   ]
  },
  {
   "cell_type": "code",
   "execution_count": 44,
   "metadata": {
    "colab": {
     "base_uri": "https://localhost:8080/",
     "height": 54
    },
    "id": "WPwgS12DXM9I",
    "outputId": "b0c224c7-97a6-4e4b-8bf3-904c0bafab57"
   },
   "outputs": [
    {
     "name": "stdout",
     "output_type": "stream",
     "text": [
      "tensor([[ 0.4388, -0.4983]], device='cuda:0', grad_fn=<AddmmBackward>)\n"
     ]
    },
    {
     "data": {
      "application/vnd.google.colaboratory.intrinsic+json": {
       "type": "string"
      },
      "text/plain": [
       "'---->> Negative Review'"
      ]
     },
     "execution_count": 44,
     "metadata": {
      "tags": []
     },
     "output_type": "execute_result"
    }
   ],
   "source": [
    "predict('Very bad') # predict funciton will predict if this is positive or negative review."
   ]
  },
  {
   "cell_type": "code",
   "execution_count": 55,
   "metadata": {
    "colab": {
     "base_uri": "https://localhost:8080/",
     "height": 54
    },
    "id": "x2uj_PfgXM9I",
    "outputId": "53d25779-9a86-44ac-db94-d0b9cb06ece9"
   },
   "outputs": [
    {
     "name": "stdout",
     "output_type": "stream",
     "text": [
      "tensor([[ 0.0315, -0.1116]], device='cuda:0', grad_fn=<AddmmBackward>)\n"
     ]
    },
    {
     "data": {
      "application/vnd.google.colaboratory.intrinsic+json": {
       "type": "string"
      },
      "text/plain": [
       "'---->> Negative Review'"
      ]
     },
     "execution_count": 55,
     "metadata": {
      "tags": []
     },
     "output_type": "execute_result"
    }
   ],
   "source": [
    "predict('Good to watch') # predict funciton will predict if this is positive or negative review."
   ]
  },
  {
   "cell_type": "code",
   "execution_count": 56,
   "metadata": {
    "colab": {
     "base_uri": "https://localhost:8080/",
     "height": 54
    },
    "id": "stM8TNV9toH1",
    "outputId": "372759b5-7fc9-4a81-94cb-7889b511f4cd"
   },
   "outputs": [
    {
     "name": "stdout",
     "output_type": "stream",
     "text": [
      "tensor([[-0.4603,  0.6914]], device='cuda:0', grad_fn=<AddmmBackward>)\n"
     ]
    },
    {
     "data": {
      "application/vnd.google.colaboratory.intrinsic+json": {
       "type": "string"
      },
      "text/plain": [
       "'---->> Positive Review'"
      ]
     },
     "execution_count": 56,
     "metadata": {
      "tags": []
     },
     "output_type": "execute_result"
    }
   ],
   "source": [
    "predict('dzfsllghzofg') # predict funciton will predict if this is positive or negative review."
   ]
  },
  {
   "cell_type": "code",
   "execution_count": 53,
   "metadata": {
    "colab": {
     "base_uri": "https://localhost:8080/",
     "height": 54
    },
    "id": "SqXAX0yYtwmz",
    "outputId": "47f2da40-0d86-41af-cc73-eff4435b4d0b"
   },
   "outputs": [
    {
     "name": "stdout",
     "output_type": "stream",
     "text": [
      "tensor([[-0.7266,  0.7642]], device='cuda:0', grad_fn=<AddmmBackward>)\n"
     ]
    },
    {
     "data": {
      "application/vnd.google.colaboratory.intrinsic+json": {
       "type": "string"
      },
      "text/plain": [
       "'---->> Positive Review'"
      ]
     },
     "execution_count": 53,
     "metadata": {
      "tags": []
     },
     "output_type": "execute_result"
    }
   ],
   "source": [
    "predict('best movie') # predict funciton will predict if this is positive or negative review."
   ]
  },
  {
   "cell_type": "code",
   "execution_count": null,
   "metadata": {
    "id": "KPp32q0RkvrO"
   },
   "outputs": [],
   "source": []
  }
 ],
 "metadata": {
  "accelerator": "GPU",
  "colab": {
   "collapsed_sections": [],
   "machine_shape": "hm",
   "name": "LSTM_sentiment_analysis_colab.ipynb",
   "provenance": []
  },
  "kernelspec": {
   "display_name": "Python 3",
   "language": "python",
   "name": "python3"
  },
  "language_info": {
   "codemirror_mode": {
    "name": "ipython",
    "version": 3
   },
   "file_extension": ".py",
   "mimetype": "text/x-python",
   "name": "python",
   "nbconvert_exporter": "python",
   "pygments_lexer": "ipython3",
   "version": "3.8.10"
  }
 },
 "nbformat": 4,
 "nbformat_minor": 4
}
