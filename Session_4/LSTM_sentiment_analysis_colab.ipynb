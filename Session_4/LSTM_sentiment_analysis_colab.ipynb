{
 "cells": [
  {
   "cell_type": "markdown",
   "metadata": {
    "id": "N3AIljihtKB5"
   },
   "source": [
    "### Importing Important Library"
   ]
  },
  {
   "cell_type": "code",
   "execution_count": 1,
   "metadata": {
    "id": "NrSurWA_XM84"
   },
   "outputs": [],
   "source": [
    "from IPython.core.interactiveshell import InteractiveShell\n",
    "InteractiveShell.ast_node_interactivity = 'all'"
   ]
  },
  {
   "cell_type": "code",
   "execution_count": 2,
   "metadata": {
    "_cell_guid": "5848330f-e52f-49a7-ac18-ab07b0cb8136",
    "_uuid": "dc83c491-711e-4278-b0cc-24896e3e812f",
    "id": "K1cspYuNXM87"
   },
   "outputs": [],
   "source": [
    "import torch\n",
    "import torch.nn as nn\n",
    "import torch.optim as optim\n",
    "from torchtext.legacy import data\n",
    "from torchtext.legacy.datasets import IMDB\n",
    "from torchtext.legacy.data import Field, LabelField, BucketIterator"
   ]
  },
  {
   "cell_type": "code",
   "execution_count": 3,
   "metadata": {
    "id": "j6L6NAg5XM88"
   },
   "outputs": [],
   "source": [
    "from tqdm import tqdm\n",
    "import random\n",
    "import sys"
   ]
  },
  {
   "cell_type": "markdown",
   "metadata": {
    "id": "zOhuk1CWtKB-"
   },
   "source": [
    "### Version chcek"
   ]
  },
  {
   "cell_type": "code",
   "execution_count": 4,
   "metadata": {
    "colab": {
     "base_uri": "https://localhost:8080/",
     "height": 36
    },
    "id": "8YJ1c4vQXM88",
    "outputId": "65cb0501-2956-498c-bb8a-59cdbd263a5a"
   },
   "outputs": [
    {
     "data": {
      "application/vnd.google.colaboratory.intrinsic+json": {
       "type": "string"
      },
      "text/plain": [
       "'Torch CUDA Version :10.1'"
      ]
     },
     "execution_count": 4,
     "metadata": {
      "tags": []
     },
     "output_type": "execute_result"
    },
    {
     "data": {
      "application/vnd.google.colaboratory.intrinsic+json": {
       "type": "string"
      },
      "text/plain": [
       "'Torch Version :1.8.1+cu101'"
      ]
     },
     "execution_count": 4,
     "metadata": {
      "tags": []
     },
     "output_type": "execute_result"
    },
    {
     "data": {
      "application/vnd.google.colaboratory.intrinsic+json": {
       "type": "string"
      },
      "text/plain": [
       "'Python Version :3.7.10 (default, May  3 2021, 02:48:31) \\n[GCC 7.5.0]'"
      ]
     },
     "execution_count": 4,
     "metadata": {
      "tags": []
     },
     "output_type": "execute_result"
    }
   ],
   "source": [
    "f'Torch CUDA Version :{torch.version.cuda}'\n",
    "f'Torch Version :{torch.__version__}'\n",
    "f'Python Version :{sys.version}'"
   ]
  },
  {
   "cell_type": "markdown",
   "metadata": {
    "id": "NHAxLOfntKB_"
   },
   "source": [
    "### GPU Checker "
   ]
  },
  {
   "cell_type": "code",
   "execution_count": 5,
   "metadata": {
    "id": "ixoEQjp8XM89"
   },
   "outputs": [],
   "source": [
    "def gpu_check(seed_val = 1):\n",
    "    print('The Seed is set to {}'.format(seed_val))\n",
    "    if torch.cuda.is_available():\n",
    "        print('Model will Run on CUDA.')\n",
    "        print (\"Type 'watch nvidia-smi' to monitor GPU\\n\")\n",
    "        torch.cuda.manual_seed(seed_val)\n",
    "        device = 'cuda'\n",
    "    else:\n",
    "        torch.manual_seed(seed_val)\n",
    "        print ('Running in CPU')\n",
    "        device = 'cpu'\n",
    "    cuda = torch.cuda.is_available()\n",
    "    return cuda,seed_val,device"
   ]
  },
  {
   "cell_type": "code",
   "execution_count": 6,
   "metadata": {
    "colab": {
     "base_uri": "https://localhost:8080/"
    },
    "id": "ktIAtn89XM8-",
    "outputId": "5ae4969d-97e3-4adf-d393-cd39f570ac3f"
   },
   "outputs": [
    {
     "name": "stdout",
     "output_type": "stream",
     "text": [
      "The Seed is set to 1234\n",
      "Model will Run on CUDA.\n",
      "Type 'watch nvidia-smi' to monitor GPU\n",
      "\n"
     ]
    }
   ],
   "source": [
    "cuda,SEED,device = gpu_check(seed_val=1234)"
   ]
  },
  {
   "cell_type": "code",
   "execution_count": 7,
   "metadata": {
    "colab": {
     "base_uri": "https://localhost:8080/"
    },
    "id": "cZBmBSftXM8-",
    "outputId": "16cf6738-f23e-437b-ca6c-5abdf6130e0b"
   },
   "outputs": [
    {
     "name": "stdout",
     "output_type": "stream",
     "text": [
      "Thu May 27 12:47:13 2021       \n",
      "+-----------------------------------------------------------------------------+\n",
      "| NVIDIA-SMI 465.19.01    Driver Version: 460.32.03    CUDA Version: 11.2     |\n",
      "|-------------------------------+----------------------+----------------------+\n",
      "| GPU  Name        Persistence-M| Bus-Id        Disp.A | Volatile Uncorr. ECC |\n",
      "| Fan  Temp  Perf  Pwr:Usage/Cap|         Memory-Usage | GPU-Util  Compute M. |\n",
      "|                               |                      |               MIG M. |\n",
      "|===============================+======================+======================|\n",
      "|   0  Tesla V100-SXM2...  Off  | 00000000:00:04.0 Off |                    0 |\n",
      "| N/A   35C    P0    27W / 300W |      2MiB / 16160MiB |      0%      Default |\n",
      "|                               |                      |                  N/A |\n",
      "+-------------------------------+----------------------+----------------------+\n",
      "                                                                               \n",
      "+-----------------------------------------------------------------------------+\n",
      "| Processes:                                                                  |\n",
      "|  GPU   GI   CI        PID   Type   Process name                  GPU Memory |\n",
      "|        ID   ID                                                   Usage      |\n",
      "|=============================================================================|\n",
      "|  No running processes found                                                 |\n",
      "+-----------------------------------------------------------------------------+\n"
     ]
    }
   ],
   "source": [
    "!nvidia-smi"
   ]
  },
  {
   "cell_type": "code",
   "execution_count": 8,
   "metadata": {
    "id": "D-09gG16r06x"
   },
   "outputs": [],
   "source": [
    "def tokenize(s):\n",
    "    return s.split(' ')"
   ]
  },
  {
   "cell_type": "markdown",
   "metadata": {
    "id": "bXS2c_j7tKCB"
   },
   "source": [
    "### Removing spacy for faster execution and loading custion tokenizer"
   ]
  },
  {
   "cell_type": "code",
   "execution_count": 9,
   "metadata": {
    "id": "luBHAVVmXM8_"
   },
   "outputs": [],
   "source": [
    "TEXT = Field(tokenize = 'spacy',tokenizer_language = 'en_core_web_sm', lower = True,include_lengths = True)\n",
    "# TEXT = Field(tokenize = tokenize,tokenizer_language = 'en_core_web_sm', lower = True)\n",
    "LABEL = LabelField(dtype = torch.float)"
   ]
  },
  {
   "cell_type": "markdown",
   "metadata": {
    "id": "U5TmYribtKCC"
   },
   "source": [
    "### Creating the data split "
   ]
  },
  {
   "cell_type": "code",
   "execution_count": 10,
   "metadata": {
    "colab": {
     "base_uri": "https://localhost:8080/"
    },
    "id": "CXdq1nbuXM8_",
    "outputId": "cc4417f5-a463-4343-852a-7893cddfd43b"
   },
   "outputs": [
    {
     "name": "stdout",
     "output_type": "stream",
     "text": [
      "downloading aclImdb_v1.tar.gz\n"
     ]
    },
    {
     "name": "stderr",
     "output_type": "stream",
     "text": [
      "aclImdb_v1.tar.gz: 100%|██████████| 84.1M/84.1M [00:06<00:00, 13.5MB/s]\n"
     ]
    }
   ],
   "source": [
    "train_data, test_data = IMDB.splits(TEXT, LABEL,root ='./')"
   ]
  },
  {
   "cell_type": "code",
   "execution_count": 11,
   "metadata": {
    "id": "eqpHA4YCXM9A"
   },
   "outputs": [],
   "source": [
    "train_data, valid_data = train_data.split(random_state = random.seed(SEED))"
   ]
  },
  {
   "cell_type": "code",
   "execution_count": 12,
   "metadata": {
    "colab": {
     "base_uri": "https://localhost:8080/"
    },
    "id": "ItAx3-A5XM9A",
    "outputId": "a3fe1ceb-2d2e-42de-9a35-b3fda0262464"
   },
   "outputs": [
    {
     "name": "stdout",
     "output_type": "stream",
     "text": [
      "Number of training examples: 17500\n",
      "Number of testing examples: 25000\n"
     ]
    }
   ],
   "source": [
    "# display lenght of test and traing data\n",
    "print(f\"Number of training examples: {len(train_data.examples)}\")\n",
    "print(f\"Number of testing examples: {len(test_data.examples)}\")"
   ]
  },
  {
   "cell_type": "code",
   "execution_count": 13,
   "metadata": {
    "colab": {
     "base_uri": "https://localhost:8080/"
    },
    "id": "svozR8VZXM9A",
    "outputId": "871a8dd9-fff2-4e8c-8798-9755cbfc816b"
   },
   "outputs": [
    {
     "name": "stdout",
     "output_type": "stream",
     "text": [
      "{'text': ['when', 'i', 'first', 'watched', 'robotboy', ',', 'i', 'found', 'it', 'fresh', 'and', 'interesting', ',', 'but', 'then', 'i', 'noticed', ',', 'that', 'with', 'each', 'episode', 'this', 'show', 'is', 'trying', 'to', 'teach', 'you', 'how', 'to', 'behave', 'yourself', ',', 'what', 'is', 'good', '/', 'bad', '.', 'episodes', 'became', 'predictable', '.', 'and', 'main', 'characters', 'are', 'not', 'interesting', '.', 'again', 'we', 'see', 'a', 'hyper', '-', 'smart', 'boy', ',', 'beaten', 'by', 'his', 'older', 'brother', ',', 'parents', 'who', 'do', \"n't\", 'understand', 'their', 'kid', ',', 'and', 'his', 'friends', ':', 'girl', 'and', 'fat', 'boy', '.', 'also', 'this', 'show', 'has', 'no', 'logic', '.', 'a', 'super', '-', 'modern', 'robot', 'who', 'works', 'on', 'two', 'aa', '-', 'size', 'batteries', ',', 'and', 'can', 'use', 'a', 'lot', 'of', 'weapons', '.', 'but', 'the', 'biggest', 'problem', 'is', 'the', 'difference', 'between', 'activated', 'and', 'super', '-', 'activated', 'modes', '.', 'we', 'see', 'two', 'different', 'robots', ',', 'and', 'it', 'declines', 'main', 'idea', 'of', 'the', 'show', ':', '\"', 'robot', 'must', 'learn', 'how', 'to', 'behave', 'himself', 'in', 'human', 'society', '\"'], 'label': 'neg'}\n"
     ]
    }
   ],
   "source": [
    "# display single example at index 0\n",
    "print(vars(train_data.examples[0]))"
   ]
  },
  {
   "cell_type": "markdown",
   "metadata": {
    "id": "7-ZPPwSyXM9B"
   },
   "source": [
    "### Visualizing the data"
   ]
  },
  {
   "cell_type": "code",
   "execution_count": 14,
   "metadata": {
    "colab": {
     "base_uri": "https://localhost:8080/",
     "height": 125
    },
    "id": "WyL3o2uUXM9B",
    "outputId": "8ccff20a-d5bc-44ce-b337-3931bbf595a6"
   },
   "outputs": [
    {
     "data": {
      "application/vnd.google.colaboratory.intrinsic+json": {
       "type": "string"
      },
      "text/plain": [
       "\"i found this to be a surprisingly light - handed touch at a 1950 's culture - clash movie . john wayne would hardly be one 's first choice as a cultural attache , being about as diplomatic with his good intentions as a bull - run in harrods . but this time he was left to play a part that was far more passive than his usual bluff persona , and he accomplished his task with style . the duke was a guy who really could act well . his facial expressions and body language could be extremely subtle.<br /><br />despite his considerable presence both as an actor and in terms of screen time , he failed to dominate this movie . many of his good intentions came a cropper . he had authority over nobody , and the intermittent narrative was provided by the titular geisha to whom he was the barbarian.<br /><br />the story of american attempts to curry favour with an isolationist japan was one of political intrigue rather than swashbuckling or hell - for - leather battles . i can not comment on the accuracy of its research but the strangeness of the oriental culture to western sensibilities was demonstrated well . there was a great deal of minutely - choreographed ceremony entailing what looked to this observer like authentic costume and props . the set pieces were complex and detailed . a lot of money and thought had been applied to it.<br /><br />the fractured romance between wayne and his geisha added a little extra element , and stopped the movie becoming just a political or flag - waving effort . script was good without being too wordy . there was a great deal of japanese dialogue , but the lengthy periods of translation did n't interfere with the narrative . it was nice to see plenty of genuine orientals on the set . whether or not they were japanese , i could n't say . but anyway they looked the part . at least the leads were not played by cross - dressing caucasians , unlike other efforts such as ' blood alley ' ( yes , i know they were chinese ) ' the inn of the sixth happiness ' or even ' the king and i'.<br /><br />frankly , i enjoyed this more than any of those other movies . the script was better for a start . i never liked the songs in ' the king and i ' , and was n't impressed by the heavy - laden anti - communist subtext of ' blood alley ' . i confess to never having seen this work before and found it compared very favourably to many of the duke 's more popular outings.<br /><br />recommended . \""
      ]
     },
     "execution_count": 14,
     "metadata": {
      "tags": []
     },
     "output_type": "execute_result"
    },
    {
     "data": {
      "application/vnd.google.colaboratory.intrinsic+json": {
       "type": "string"
      },
      "text/plain": [
       "'pos'"
      ]
     },
     "execution_count": 14,
     "metadata": {
      "tags": []
     },
     "output_type": "execute_result"
    }
   ],
   "source": [
    "line = ''\n",
    "filenumber = 11\n",
    "\n",
    "for i in train_data.examples[filenumber].text:\n",
    "    line += i + ' '\n",
    "line\n",
    "\n",
    "train_data.examples[filenumber].label"
   ]
  },
  {
   "cell_type": "markdown",
   "metadata": {
    "id": "mg-qMQ6VtKCG"
   },
   "source": [
    "###  Build vocabulary for source and target from training data\n",
    " "
   ]
  },
  {
   "cell_type": "code",
   "execution_count": 15,
   "metadata": {
    "id": "q9PE4q54XM9B"
   },
   "outputs": [],
   "source": [
    "# Build vocabulary for source and target from training data\n",
    "\n",
    "TEXT.build_vocab(train_data, max_size=25_000)\n",
    "LABEL.build_vocab(train_data)\n"
   ]
  },
  {
   "cell_type": "code",
   "execution_count": 16,
   "metadata": {
    "colab": {
     "base_uri": "https://localhost:8080/"
    },
    "id": "6bHVCk9oXM9C",
    "outputId": "bd0b0aea-a180-4e6c-ffbf-217698c93cba"
   },
   "outputs": [
    {
     "name": "stdout",
     "output_type": "stream",
     "text": [
      "Unique tokens in source vocabulary: 25002\n",
      "Unique tokens in TRG vocabulary: 2\n"
     ]
    }
   ],
   "source": [
    "\n",
    "# print(vars(TEXT.vocab))\n",
    "print(f\"Unique tokens in source vocabulary: {len(TEXT.vocab)}\")\n",
    "print(f\"Unique tokens in TRG vocabulary: {len(LABEL.vocab)}\")"
   ]
  },
  {
   "cell_type": "markdown",
   "metadata": {
    "id": "Kcc5kk8BtKCH"
   },
   "source": [
    "### train and test iteartor"
   ]
  },
  {
   "cell_type": "code",
   "execution_count": 17,
   "metadata": {
    "id": "bogX6jtDXM9C"
   },
   "outputs": [],
   "source": [
    "BATCH_SIZE = 32\n",
    "\n",
    "train_iterator, valid_iterator, test_iterator = data.BucketIterator.splits(\n",
    "    (train_data, valid_data, test_data), \n",
    "    batch_size = BATCH_SIZE,\n",
    "    sort_within_batch=True, # necessary for packed_padded_sequence\n",
    "    device = device)"
   ]
  },
  {
   "cell_type": "code",
   "execution_count": 18,
   "metadata": {
    "id": "g4elkq1-tKCH"
   },
   "outputs": [],
   "source": [
    "for batch in train_iterator:\n",
    "    text, text_length = batch.text\n",
    "#     logits = model(text, text_length)\n",
    "    break"
   ]
  },
  {
   "cell_type": "code",
   "execution_count": 19,
   "metadata": {
    "colab": {
     "base_uri": "https://localhost:8080/"
    },
    "id": "Kk_zMYKMtKCI",
    "outputId": "54d782e2-75ac-4057-f62a-ad713ec5711b"
   },
   "outputs": [
    {
     "data": {
      "text/plain": [
       "tensor([135, 135, 135, 135, 135, 135, 135, 135, 135, 135, 135, 135, 135, 135,\n",
       "        134, 134, 134, 134, 134, 134, 134, 134, 134, 134, 134, 134, 134, 134,\n",
       "        134, 134, 134, 133], device='cuda:0')"
      ]
     },
     "execution_count": 19,
     "metadata": {
      "tags": []
     },
     "output_type": "execute_result"
    },
    {
     "data": {
      "text/plain": [
       "torch.Size([135, 32])"
      ]
     },
     "execution_count": 19,
     "metadata": {
      "tags": []
     },
     "output_type": "execute_result"
    }
   ],
   "source": [
    "text_length\n",
    "text.shape"
   ]
  },
  {
   "cell_type": "markdown",
   "metadata": {
    "id": "3Da-tC_aXM9C"
   },
   "source": [
    "### Creating Model"
   ]
  },
  {
   "cell_type": "code",
   "execution_count": 20,
   "metadata": {
    "id": "n1udFd0cXM9D"
   },
   "outputs": [],
   "source": [
    "# Model class\n",
    "class Model(nn.Module):\n",
    "    def __init__(self, input_dim, output_dim,emb_dim, hidden_dim, n_layers, dropout):\n",
    "        # input_dim <--- vocabulary size\n",
    "        # output_dim <--- len ([positive, negative]) == 2 \n",
    "        # emb_dim <--- embedding dimension of embedding matrix\n",
    "\n",
    "        super(Model, self).__init__()\n",
    "        self.n_layers = n_layers\n",
    "        self.hidden_dim = hidden_dim\n",
    "\n",
    "        self.embedding = nn.Embedding(input_dim, emb_dim)\n",
    "        self.rnn = nn.LSTM(emb_dim, hidden_dim, n_layers, dropout=dropout)\n",
    "\n",
    "        self.fc1 = nn.Linear(hidden_dim, output_dim)\n",
    "        self.relu = nn.ReLU()\n",
    "        self.dropout = nn.Dropout(dropout)\n",
    "\n",
    "    def forward(self, src,Len):\n",
    "        # shape: [source_len, batch_size]\n",
    "        embedded = self.dropout(self.embedding(src)) # shape: [src_len, batch_size, embed_dim]\n",
    "        packed = torch.nn.utils.rnn.pack_padded_sequence(embedded, Len.to('cpu'))\n",
    "        output, (hidden, cell) = self.rnn(packed) \n",
    "        # output shape -> [batch, hidden_dim]\n",
    "        # hiddden shape -> [n_layers, batch, hidden_dim]\n",
    "        # cell shape -> [n_layers, batch, hidden_dim]\n",
    "        output = self.fc1(hidden)\n",
    "#         output = self.fc2(self.relu(output))\n",
    "        return output.squeeze(0)"
   ]
  },
  {
   "cell_type": "code",
   "execution_count": 21,
   "metadata": {
    "colab": {
     "base_uri": "https://localhost:8080/"
    },
    "id": "sJ4gPZzAXM9D",
    "outputId": "84645ba0-4413-489a-ca7c-234b2be7d703"
   },
   "outputs": [
    {
     "name": "stderr",
     "output_type": "stream",
     "text": [
      "/usr/local/lib/python3.7/dist-packages/torch/nn/modules/rnn.py:63: UserWarning: dropout option adds dropout after all but last recurrent layer, so non-zero dropout expects num_layers greater than 1, but got dropout=0.6 and num_layers=1\n",
      "  \"num_layers={}\".format(dropout, num_layers))\n"
     ]
    }
   ],
   "source": [
    "#initializing variables and hyper parameters\n",
    "INPUT_DIM = len(TEXT.vocab)\n",
    "OUTPUT_DIM = len(LABEL.vocab)\n",
    "\n",
    "EMBEDDING_DIM = 100\n",
    "HIDDEN_DIM = 256\n",
    "\n",
    "N_LAYERS = 1\n",
    "DROPOUT = 0.6\n",
    "\n",
    "# initializing our model\n",
    "model = Model(INPUT_DIM, OUTPUT_DIM, EMBEDDING_DIM, HIDDEN_DIM, N_LAYERS, DROPOUT).to(device)\n",
    "\n"
   ]
  },
  {
   "cell_type": "code",
   "execution_count": 22,
   "metadata": {
    "id": "cssKRzERXM9E"
   },
   "outputs": [],
   "source": [
    "train_loss = []\n",
    "train_accuracy = []\n",
    "test_loss = []\n",
    "test_accuracy = []\n",
    "validation_loss = []\n",
    "validation_accuracy = []"
   ]
  },
  {
   "cell_type": "code",
   "execution_count": 23,
   "metadata": {
    "id": "k9LTjlYCXM9E"
   },
   "outputs": [],
   "source": [
    "# loop and train our model\n",
    "optimizer = optim.Adam(model.parameters(), lr=3e-3)\n",
    "\n",
    "# defining learnig rate scheduler (optional)\n",
    "scheduler = optim.lr_scheduler.ReduceLROnPlateau(optimizer, patience=3, verbose=True)\n",
    "\n",
    "criterion = nn.CrossEntropyLoss()\n"
   ]
  },
  {
   "cell_type": "markdown",
   "metadata": {
    "id": "qCGBCrHTtKCK"
   },
   "source": [
    "### Model training function"
   ]
  },
  {
   "cell_type": "code",
   "execution_count": 24,
   "metadata": {
    "id": "VPPTpYnFXM9E"
   },
   "outputs": [],
   "source": [
    "\n",
    "def train(EPOCH,model, iterator, optimizer=optimizer, criterion=criterion, clip=1,):\n",
    "    model.train()\n",
    "    epoch_loss = 0\n",
    "    total_correct = 0\n",
    "    total_count = 0\n",
    "    pbar = tqdm(iterator)\n",
    "    for i, batch in enumerate(pbar):\n",
    "        src,data_len = batch.text\n",
    "        src = src.to(device)\n",
    "        trg = batch.label.to(device)\n",
    "        trg = trg.long()\n",
    "        optimizer.zero_grad()\n",
    "        output = model(src,data_len)\n",
    "        \n",
    "        total_correct += torch.sum(torch.eq(output.argmax(1), trg))\n",
    "        total_count+=len(trg)\n",
    "        \n",
    "        loss = criterion(output, trg)\n",
    "        \n",
    "        loss.backward() \n",
    "        torch.nn.utils.clip_grad_norm_(model.parameters(), clip)\n",
    "        optimizer.step()\n",
    "        epoch_loss += loss.item()\n",
    "        pbar.set_description(desc= f'Epoch {EPOCH} Train data Batch No : {i} Loss : {loss.item():.3f} Accuracy : {total_correct/total_count * 100 :.2f}% ' )\n",
    "    \n",
    "    train_accuracy.append(total_correct/total_count)\n",
    "    mean_loss = epoch_loss / len(iterator)\n",
    "    train_loss.append(mean_loss)\n",
    "    \n",
    "    scheduler.step(mean_loss)\n"
   ]
  },
  {
   "cell_type": "markdown",
   "metadata": {
    "id": "zcNqZfvctKCL"
   },
   "source": [
    "### Model Validation function"
   ]
  },
  {
   "cell_type": "code",
   "execution_count": 25,
   "metadata": {
    "id": "_-bx851mXM9G"
   },
   "outputs": [],
   "source": [
    "\n",
    "def evaluate(EPOCH,model, iterator, criterion,typ_loader):\n",
    "    epoch_loss = 0\n",
    "    epoch_acc = 0\n",
    "    model.eval()\n",
    "    pbar  = tqdm(iterator)\n",
    "    with torch.no_grad():\n",
    "        \n",
    "        for i,batch in enumerate(pbar):\n",
    "            src,data_len = batch.text\n",
    "            src = src.to(device)\n",
    "            trg = batch.label.to(device)\n",
    "            trg = trg.long()\n",
    "            predictions = model(src,data_len)\n",
    "            \n",
    "            loss = criterion(predictions, trg)\n",
    "            \n",
    "            acc = binary_accuracy(predictions, trg)\n",
    "\n",
    "            epoch_loss += loss.item()\n",
    "            epoch_acc += acc\n",
    "            if typ_loader == 'Valid data':\n",
    "                validation_loss.append(loss)\n",
    "                validation_accuracy.append(acc)\n",
    "            elif typ_loader == 'Test data':\n",
    "                test_loss.append(loss)\n",
    "                test_accuracy.append(acc)\n",
    "\n",
    "            pbar.set_description(desc= f'     -->{typ_loader} Loss : {loss.item():.3f} | Accuracy : {epoch_acc / len(iterator)* 100 :.2f}% ' )"
   ]
  },
  {
   "cell_type": "code",
   "execution_count": 25,
   "metadata": {
    "id": "o_CsZoXR2_SG"
   },
   "outputs": [],
   "source": []
  },
  {
   "cell_type": "code",
   "execution_count": 26,
   "metadata": {
    "id": "BQoU37TFXM9G"
   },
   "outputs": [],
   "source": [
    "def binary_accuracy(preds, y):\n",
    "    \"\"\"\n",
    "    Returns accuracy per batch, i.e. if you get 8/10 right, this returns 0.8, NOT 8\n",
    "    \"\"\"\n",
    "\n",
    "    #round predictions to the closest integer\n",
    "    rounded_preds = torch.round(torch.sigmoid(preds))\n",
    "    correct = (rounded_preds.argmax(1) == y).float() #convert into float for division \n",
    "    acc = correct.sum() / len(correct)\n",
    "    return acc.item()"
   ]
  },
  {
   "cell_type": "code",
   "execution_count": 26,
   "metadata": {
    "id": "rUowPx2KXM9H"
   },
   "outputs": [],
   "source": []
  },
  {
   "cell_type": "code",
   "execution_count": 27,
   "metadata": {
    "colab": {
     "base_uri": "https://localhost:8080/"
    },
    "id": "HYJ2RintXM9H",
    "outputId": "d4da680b-6d3d-4e2e-e8a6-1f2718b4ed83"
   },
   "outputs": [
    {
     "name": "stderr",
     "output_type": "stream",
     "text": [
      "Epoch 0 Train data Batch No : 546 Loss : 0.449 Accuracy : 56.79% : 100%|██████████| 547/547 [00:13<00:00, 39.32it/s]\n",
      "     -->Valid data Loss : 0.774 | Accuracy : 71.41% : 100%|██████████| 235/235 [00:02<00:00, 88.23it/s]\n",
      "     -->Test data Loss : 0.506 | Accuracy : 71.77% : 100%|██████████| 782/782 [00:09<00:00, 81.80it/s]\n",
      "Epoch 1 Train data Batch No : 546 Loss : 0.547 Accuracy : 71.53% : 100%|██████████| 547/547 [00:13<00:00, 40.02it/s]\n",
      "     -->Valid data Loss : 0.445 | Accuracy : 78.55% : 100%|██████████| 235/235 [00:02<00:00, 89.43it/s]\n",
      "     -->Test data Loss : 0.681 | Accuracy : 78.54% : 100%|██████████| 782/782 [00:08<00:00, 92.40it/s]\n",
      "Epoch 2 Train data Batch No : 546 Loss : 0.420 Accuracy : 83.29% : 100%|██████████| 547/547 [00:13<00:00, 40.55it/s]\n",
      "     -->Valid data Loss : 0.201 | Accuracy : 86.47% : 100%|██████████| 235/235 [00:02<00:00, 93.01it/s]\n",
      "     -->Test data Loss : 0.601 | Accuracy : 85.86% : 100%|██████████| 782/782 [00:09<00:00, 84.30it/s]\n",
      "Epoch 3 Train data Batch No : 546 Loss : 0.529 Accuracy : 87.23% : 100%|██████████| 547/547 [00:13<00:00, 39.77it/s]\n",
      "     -->Valid data Loss : 0.481 | Accuracy : 86.98% : 100%|██████████| 235/235 [00:02<00:00, 88.00it/s]\n",
      "     -->Test data Loss : 0.576 | Accuracy : 86.65% : 100%|██████████| 782/782 [00:08<00:00, 90.31it/s]\n",
      "Epoch 4 Train data Batch No : 546 Loss : 0.324 Accuracy : 89.03% : 100%|██████████| 547/547 [00:13<00:00, 39.90it/s]\n",
      "     -->Valid data Loss : 0.131 | Accuracy : 87.49% : 100%|██████████| 235/235 [00:02<00:00, 89.28it/s]\n",
      "     -->Test data Loss : 0.655 | Accuracy : 86.86% : 100%|██████████| 782/782 [00:09<00:00, 83.97it/s]\n",
      "Epoch 5 Train data Batch No : 546 Loss : 0.149 Accuracy : 90.48% : 100%|██████████| 547/547 [00:13<00:00, 39.84it/s]\n",
      "     -->Valid data Loss : 0.007 | Accuracy : 87.89% : 100%|██████████| 235/235 [00:02<00:00, 90.65it/s]\n",
      "     -->Test data Loss : 1.167 | Accuracy : 86.95% : 100%|██████████| 782/782 [00:08<00:00, 90.34it/s]\n",
      "Epoch 6 Train data Batch No : 546 Loss : 0.209 Accuracy : 91.68% : 100%|██████████| 547/547 [00:13<00:00, 39.42it/s]\n",
      "     -->Valid data Loss : 0.223 | Accuracy : 88.34% : 100%|██████████| 235/235 [00:02<00:00, 88.11it/s]\n",
      "     -->Test data Loss : 2.639 | Accuracy : 87.19% : 100%|██████████| 782/782 [00:09<00:00, 80.99it/s]\n",
      "Epoch 7 Train data Batch No : 546 Loss : 0.183 Accuracy : 92.26% : 100%|██████████| 547/547 [00:13<00:00, 39.57it/s]\n",
      "     -->Valid data Loss : 0.022 | Accuracy : 89.06% : 100%|██████████| 235/235 [00:02<00:00, 91.91it/s]\n",
      "     -->Test data Loss : 1.008 | Accuracy : 88.02% : 100%|██████████| 782/782 [00:08<00:00, 92.93it/s]\n",
      "Epoch 8 Train data Batch No : 546 Loss : 0.110 Accuracy : 93.11% : 100%|██████████| 547/547 [00:13<00:00, 40.18it/s]\n",
      "     -->Valid data Loss : 0.209 | Accuracy : 89.05% : 100%|██████████| 235/235 [00:02<00:00, 87.43it/s]\n",
      "     -->Test data Loss : 0.940 | Accuracy : 88.05% : 100%|██████████| 782/782 [00:09<00:00, 83.63it/s]\n",
      "Epoch 9 Train data Batch No : 546 Loss : 0.053 Accuracy : 93.71% : 100%|██████████| 547/547 [00:13<00:00, 39.48it/s]\n",
      "     -->Valid data Loss : 0.044 | Accuracy : 88.88% : 100%|██████████| 235/235 [00:02<00:00, 87.33it/s]\n",
      "     -->Test data Loss : 1.269 | Accuracy : 87.56% : 100%|██████████| 782/782 [00:08<00:00, 90.14it/s]\n",
      "Epoch 10 Train data Batch No : 546 Loss : 0.345 Accuracy : 94.31% : 100%|██████████| 547/547 [00:13<00:00, 39.68it/s]\n",
      "     -->Valid data Loss : 0.086 | Accuracy : 89.07% : 100%|██████████| 235/235 [00:02<00:00, 89.16it/s]\n",
      "     -->Test data Loss : 1.097 | Accuracy : 88.48% : 100%|██████████| 782/782 [00:09<00:00, 85.30it/s]\n",
      "Epoch 11 Train data Batch No : 546 Loss : 0.055 Accuracy : 94.61% : 100%|██████████| 547/547 [00:13<00:00, 39.84it/s]\n",
      "     -->Valid data Loss : 0.117 | Accuracy : 89.23% : 100%|██████████| 235/235 [00:02<00:00, 88.73it/s]\n",
      "     -->Test data Loss : 1.530 | Accuracy : 88.33% : 100%|██████████| 782/782 [00:08<00:00, 90.74it/s]\n",
      "Epoch 12 Train data Batch No : 546 Loss : 0.121 Accuracy : 95.37% : 100%|██████████| 547/547 [00:13<00:00, 39.37it/s]\n",
      "     -->Valid data Loss : 0.290 | Accuracy : 88.83% : 100%|██████████| 235/235 [00:02<00:00, 88.69it/s]\n",
      "     -->Test data Loss : 1.773 | Accuracy : 88.07% : 100%|██████████| 782/782 [00:09<00:00, 82.67it/s]\n",
      "Epoch 13 Train data Batch No : 546 Loss : 0.093 Accuracy : 95.64% : 100%|██████████| 547/547 [00:13<00:00, 39.46it/s]\n",
      "     -->Valid data Loss : 0.044 | Accuracy : 88.99% : 100%|██████████| 235/235 [00:02<00:00, 88.12it/s]\n",
      "     -->Test data Loss : 1.955 | Accuracy : 88.00% : 100%|██████████| 782/782 [00:08<00:00, 90.07it/s]\n",
      "Epoch 14 Train data Batch No : 546 Loss : 0.265 Accuracy : 95.86% : 100%|██████████| 547/547 [00:13<00:00, 39.35it/s]\n",
      "     -->Valid data Loss : 0.043 | Accuracy : 87.70% : 100%|██████████| 235/235 [00:02<00:00, 90.23it/s]\n",
      "     -->Test data Loss : 2.702 | Accuracy : 85.95% : 100%|██████████| 782/782 [00:09<00:00, 82.32it/s]\n",
      "Epoch 15 Train data Batch No : 546 Loss : 0.200 Accuracy : 96.25% : 100%|██████████| 547/547 [00:13<00:00, 39.46it/s]\n",
      "     -->Valid data Loss : 0.297 | Accuracy : 89.11% : 100%|██████████| 235/235 [00:02<00:00, 88.36it/s]\n",
      "     -->Test data Loss : 1.150 | Accuracy : 87.97% : 100%|██████████| 782/782 [00:08<00:00, 88.77it/s]\n",
      "Epoch 16 Train data Batch No : 546 Loss : 0.009 Accuracy : 96.69% : 100%|██████████| 547/547 [00:13<00:00, 39.60it/s]\n",
      "     -->Valid data Loss : 0.097 | Accuracy : 88.93% : 100%|██████████| 235/235 [00:02<00:00, 86.73it/s]\n",
      "     -->Test data Loss : 1.279 | Accuracy : 87.54% : 100%|██████████| 782/782 [00:09<00:00, 81.94it/s]\n",
      "Epoch 17 Train data Batch No : 546 Loss : 0.047 Accuracy : 96.85% : 100%|██████████| 547/547 [00:13<00:00, 39.71it/s]\n",
      "     -->Valid data Loss : 0.160 | Accuracy : 89.17% : 100%|██████████| 235/235 [00:02<00:00, 87.82it/s]\n",
      "     -->Test data Loss : 1.306 | Accuracy : 87.53% : 100%|██████████| 782/782 [00:08<00:00, 89.29it/s]\n",
      "Epoch 18 Train data Batch No : 546 Loss : 0.097 Accuracy : 97.18% : 100%|██████████| 547/547 [00:13<00:00, 39.99it/s]\n",
      "     -->Valid data Loss : 0.365 | Accuracy : 88.67% : 100%|██████████| 235/235 [00:02<00:00, 92.18it/s]\n",
      "     -->Test data Loss : 0.902 | Accuracy : 87.78% : 100%|██████████| 782/782 [00:09<00:00, 84.98it/s]\n",
      "Epoch 19 Train data Batch No : 546 Loss : 0.066 Accuracy : 97.16% : 100%|██████████| 547/547 [00:13<00:00, 39.89it/s]\n",
      "     -->Valid data Loss : 0.042 | Accuracy : 89.02% : 100%|██████████| 235/235 [00:02<00:00, 87.48it/s]\n",
      "     -->Test data Loss : 1.078 | Accuracy : 87.50% : 100%|██████████| 782/782 [00:08<00:00, 88.47it/s]\n",
      "Epoch 20 Train data Batch No : 546 Loss : 0.190 Accuracy : 97.42% : 100%|██████████| 547/547 [00:13<00:00, 39.34it/s]\n",
      "     -->Valid data Loss : 0.076 | Accuracy : 89.02% : 100%|██████████| 235/235 [00:02<00:00, 87.91it/s]\n",
      "     -->Test data Loss : 0.930 | Accuracy : 86.97% : 100%|██████████| 782/782 [00:09<00:00, 83.87it/s]\n",
      "Epoch 21 Train data Batch No : 546 Loss : 0.012 Accuracy : 97.50% : 100%|██████████| 547/547 [00:13<00:00, 39.66it/s]\n",
      "     -->Valid data Loss : 0.422 | Accuracy : 88.73% : 100%|██████████| 235/235 [00:02<00:00, 87.68it/s]\n",
      "     -->Test data Loss : 1.097 | Accuracy : 87.36% : 100%|██████████| 782/782 [00:08<00:00, 88.95it/s]\n",
      "Epoch 22 Train data Batch No : 546 Loss : 0.018 Accuracy : 97.83% : 100%|██████████| 547/547 [00:13<00:00, 39.42it/s]\n",
      "     -->Valid data Loss : 0.526 | Accuracy : 88.67% : 100%|██████████| 235/235 [00:02<00:00, 86.20it/s]\n",
      "     -->Test data Loss : 1.127 | Accuracy : 87.00% : 100%|██████████| 782/782 [00:09<00:00, 82.77it/s]\n",
      "Epoch 23 Train data Batch No : 546 Loss : 0.024 Accuracy : 97.90% : 100%|██████████| 547/547 [00:13<00:00, 39.76it/s]\n",
      "     -->Valid data Loss : 0.410 | Accuracy : 89.05% : 100%|██████████| 235/235 [00:02<00:00, 88.04it/s]\n",
      "     -->Test data Loss : 1.399 | Accuracy : 87.10% : 100%|██████████| 782/782 [00:08<00:00, 89.85it/s]\n",
      "Epoch 24 Train data Batch No : 546 Loss : 0.029 Accuracy : 97.82% : 100%|██████████| 547/547 [00:13<00:00, 39.09it/s]\n",
      "     -->Valid data Loss : 0.349 | Accuracy : 88.62% : 100%|██████████| 235/235 [00:02<00:00, 85.50it/s]\n",
      "     -->Test data Loss : 1.263 | Accuracy : 86.88% : 100%|██████████| 782/782 [00:09<00:00, 80.25it/s]\n",
      "Epoch 25 Train data Batch No : 546 Loss : 0.008 Accuracy : 98.09% : 100%|██████████| 547/547 [00:13<00:00, 39.23it/s]\n",
      "     -->Valid data Loss : 0.409 | Accuracy : 88.66% : 100%|██████████| 235/235 [00:02<00:00, 88.64it/s]\n",
      "     -->Test data Loss : 2.537 | Accuracy : 86.64% : 100%|██████████| 782/782 [00:08<00:00, 89.07it/s]\n",
      "Epoch 26 Train data Batch No : 546 Loss : 0.005 Accuracy : 97.94% : 100%|██████████| 547/547 [00:13<00:00, 39.66it/s]\n",
      "     -->Valid data Loss : 0.147 | Accuracy : 88.38% : 100%|██████████| 235/235 [00:02<00:00, 91.57it/s]\n",
      "     -->Test data Loss : 1.852 | Accuracy : 86.29% : 100%|██████████| 782/782 [00:08<00:00, 87.70it/s]\n",
      "Epoch 27 Train data Batch No : 546 Loss : 0.020 Accuracy : 98.04% : 100%|██████████| 547/547 [00:13<00:00, 39.78it/s]\n",
      "     -->Valid data Loss : 0.372 | Accuracy : 88.05% : 100%|██████████| 235/235 [00:02<00:00, 88.36it/s]\n",
      "     -->Test data Loss : 1.935 | Accuracy : 85.97% : 100%|██████████| 782/782 [00:08<00:00, 89.03it/s]\n",
      "Epoch 28 Train data Batch No : 546 Loss : 0.022 Accuracy : 98.16% : 100%|██████████| 547/547 [00:13<00:00, 39.56it/s]\n",
      "     -->Valid data Loss : 0.014 | Accuracy : 88.12% : 100%|██████████| 235/235 [00:02<00:00, 87.21it/s]\n",
      "     -->Test data Loss : 2.231 | Accuracy : 85.51% : 100%|██████████| 782/782 [00:09<00:00, 82.18it/s]\n",
      "Epoch 29 Train data Batch No : 546 Loss : 0.166 Accuracy : 98.32% : 100%|██████████| 547/547 [00:13<00:00, 39.47it/s]\n",
      "     -->Valid data Loss : 0.521 | Accuracy : 88.40% : 100%|██████████| 235/235 [00:02<00:00, 87.30it/s]\n",
      "     -->Test data Loss : 1.215 | Accuracy : 86.52% : 100%|██████████| 782/782 [00:08<00:00, 88.75it/s]\n"
     ]
    }
   ],
   "source": [
    "total_epoch = 30\n",
    "for epoch in range(total_epoch):\n",
    "    result = train(epoch,model=model, iterator=train_iterator)\n",
    "    evaluate(epoch,model,valid_iterator,criterion,'Valid data')\n",
    "    evaluate(epoch,model,test_iterator,criterion,'Test data')"
   ]
  },
  {
   "cell_type": "code",
   "execution_count": 27,
   "metadata": {
    "id": "xz-HGi6JXM9I"
   },
   "outputs": [],
   "source": []
  },
  {
   "cell_type": "code",
   "execution_count": null,
   "metadata": {
    "id": "x2uj_PfgXM9I"
   },
   "outputs": [],
   "source": [
    "predict('Very good') # predict funciton will predict if this is positive or negative review."
   ]
  },
  {
   "cell_type": "code",
   "execution_count": null,
   "metadata": {
    "id": "stM8TNV9toH1"
   },
   "outputs": [],
   "source": [
    "predict('i recommend to watch the movie once. It is mindblowing') # predict funciton will predict if this is positive or negative review."
   ]
  },
  {
   "cell_type": "code",
   "execution_count": 30,
   "metadata": {
    "colab": {
     "base_uri": "https://localhost:8080/",
     "height": 299
    },
    "id": "cXRPWnCguOh4",
    "outputId": "b63eea99-5878-4ed5-9277-765ea0a101b4"
   },
   "outputs": [
    {
     "data": {
      "text/plain": [
       "[<matplotlib.lines.Line2D at 0x7ff70253ce50>]"
      ]
     },
     "execution_count": 30,
     "metadata": {
      "tags": []
     },
     "output_type": "execute_result"
    },
    {
     "data": {
      "text/plain": [
       "Text(0.5, 1.0, 'train_acc')"
      ]
     },
     "execution_count": 30,
     "metadata": {
      "tags": []
     },
     "output_type": "execute_result"
    },
    {
     "data": {
      "image/png": "[encoded data removed]",
      "text/plain": [
       "<Figure size 432x288 with 1 Axes>"
      ]
     },
     "metadata": {
      "needs_background": "light",
      "tags": []
     },
     "output_type": "display_data"
    }
   ],
   "source": [
    "import matplotlib.pyplot as plt\n",
    "\n",
    "plt.plot(train_accuracy,'green')\n",
    "plt.title('train_acc')"
   ]
  },
  {
   "cell_type": "code",
   "execution_count": 31,
   "metadata": {
    "colab": {
     "base_uri": "https://localhost:8080/",
     "height": 299
    },
    "id": "H_TH1AIWuQiS",
    "outputId": "674e82cd-7c3b-4e4f-942f-b8adf420e629"
   },
   "outputs": [
    {
     "data": {
      "text/plain": [
       "[<matplotlib.lines.Line2D at 0x7ff7024707d0>]"
      ]
     },
     "execution_count": 31,
     "metadata": {
      "tags": []
     },
     "output_type": "execute_result"
    },
    {
     "data": {
      "text/plain": [
       "Text(0.5, 1.0, 'train_loss')"
      ]
     },
     "execution_count": 31,
     "metadata": {
      "tags": []
     },
     "output_type": "execute_result"
    },
    {
     "data": {
      "image/png": "[encoded data removed]",
      "text/plain": [
       "<Figure size 432x288 with 1 Axes>"
      ]
     },
     "metadata": {
      "needs_background": "light",
      "tags": []
     },
     "output_type": "display_data"
    }
   ],
   "source": [
    "plt.plot(train_loss,'green')\n",
    "plt.title('train_loss')"
   ]
  },
  {
   "cell_type": "code",
   "execution_count": 32,
   "metadata": {
    "colab": {
     "base_uri": "https://localhost:8080/",
     "height": 299
    },
    "id": "vDtwiMBYuTEY",
    "outputId": "26807711-5768-4351-f6ad-265446a648c3"
   },
   "outputs": [
    {
     "data": {
      "text/plain": [
       "[<matplotlib.lines.Line2D at 0x7ff70244c090>]"
      ]
     },
     "execution_count": 32,
     "metadata": {
      "tags": []
     },
     "output_type": "execute_result"
    },
    {
     "data": {
      "text/plain": [
       "Text(0.5, 1.0, 'test_acc')"
      ]
     },
     "execution_count": 32,
     "metadata": {
      "tags": []
     },
     "output_type": "execute_result"
    },
    {
     "data": {
      "image/png": "[encoded data removed]",
      "text/plain": [
       "<Figure size 432x288 with 1 Axes>"
      ]
     },
     "metadata": {
      "needs_background": "light",
      "tags": []
     },
     "output_type": "display_data"
    }
   ],
   "source": [
    "plt.plot(test_accuracy,'red')\n",
    "plt.title('test_acc')"
   ]
  },
  {
   "cell_type": "code",
   "execution_count": 33,
   "metadata": {
    "colab": {
     "base_uri": "https://localhost:8080/",
     "height": 299
    },
    "id": "oLBVuaF3uVjC",
    "outputId": "15368df8-eb33-4feb-e2f5-8336079e4b42"
   },
   "outputs": [
    {
     "data": {
      "text/plain": [
       "[<matplotlib.lines.Line2D at 0x7ff699d0f290>]"
      ]
     },
     "execution_count": 33,
     "metadata": {
      "tags": []
     },
     "output_type": "execute_result"
    },
    {
     "data": {
      "text/plain": [
       "Text(0.5, 1.0, 'test_loss')"
      ]
     },
     "execution_count": 33,
     "metadata": {
      "tags": []
     },
     "output_type": "execute_result"
    },
    {
     "data": {
      "image/png": "[encoded data removed]",
      "text/plain": [
       "<Figure size 432x288 with 1 Axes>"
      ]
     },
     "metadata": {
      "needs_background": "light",
      "tags": []
     },
     "output_type": "display_data"
    }
   ],
   "source": [
    "plt.plot(test_loss,'red')\n",
    "plt.title('test_loss')"
   ]
  },
  {
   "cell_type": "code",
   "execution_count": 34,
   "metadata": {
    "colab": {
     "base_uri": "https://localhost:8080/",
     "height": 299
    },
    "id": "8g-0SHwBuX0Z",
    "outputId": "4ca55475-3aa1-40f3-82c1-4c8418c9b91b"
   },
   "outputs": [
    {
     "data": {
      "text/plain": [
       "[<matplotlib.lines.Line2D at 0x7ff699cf07d0>]"
      ]
     },
     "execution_count": 34,
     "metadata": {
      "tags": []
     },
     "output_type": "execute_result"
    },
    {
     "data": {
      "text/plain": [
       "Text(0.5, 1.0, 'test_acc')"
      ]
     },
     "execution_count": 34,
     "metadata": {
      "tags": []
     },
     "output_type": "execute_result"
    },
    {
     "data": {
      "image/png": "[encoded data removed]",
      "text/plain": [
       "<Figure size 432x288 with 1 Axes>"
      ]
     },
     "metadata": {
      "needs_background": "light",
      "tags": []
     },
     "output_type": "display_data"
    }
   ],
   "source": [
    "plt.plot(validation_accuracy,'blue')\n",
    "plt.title('test_acc')"
   ]
  },
  {
   "cell_type": "code",
   "execution_count": 35,
   "metadata": {
    "colab": {
     "base_uri": "https://localhost:8080/",
     "height": 299
    },
    "id": "KxmEnqAxuZ2R",
    "outputId": "b893bbe3-0b5b-443a-8549-01e7ab7319e0"
   },
   "outputs": [
    {
     "data": {
      "text/plain": [
       "[<matplotlib.lines.Line2D at 0x7ff699c5f1d0>]"
      ]
     },
     "execution_count": 35,
     "metadata": {
      "tags": []
     },
     "output_type": "execute_result"
    },
    {
     "data": {
      "text/plain": [
       "Text(0.5, 1.0, 'test_loss')"
      ]
     },
     "execution_count": 35,
     "metadata": {
      "tags": []
     },
     "output_type": "execute_result"
    },
    {
     "data": {
      "image/png": "[encoded data removed]",
      "text/plain": [
       "<Figure size 432x288 with 1 Axes>"
      ]
     },
     "metadata": {
      "needs_background": "light",
      "tags": []
     },
     "output_type": "display_data"
    }
   ],
   "source": [
    "plt.plot(validation_loss,'blue')\n",
    "plt.title('test_loss')"
   ]
  },
  {
   "cell_type": "code",
   "execution_count": null,
   "metadata": {
    "id": "FTIcFxMguc76"
   },
   "outputs": [],
   "source": []
  }
 ],
 "metadata": {
  "accelerator": "GPU",
  "colab": {
   "collapsed_sections": [],
   "machine_shape": "hm",
   "name": "LSTM_sentiment_analysis_try.ipynb",
   "provenance": []
  },
  "kernelspec": {
   "display_name": "Python 3",
   "language": "python",
   "name": "python3"
  },
  "language_info": {
   "codemirror_mode": {
    "name": "ipython",
    "version": 3
   },
   "file_extension": ".py",
   "mimetype": "text/x-python",
   "name": "python",
   "nbconvert_exporter": "python",
   "pygments_lexer": "ipython3",
   "version": "3.8.10"
  }
 },
 "nbformat": 4,
 "nbformat_minor": 4
}
