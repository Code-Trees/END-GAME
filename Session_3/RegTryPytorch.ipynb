{
 "cells": [
  {
   "cell_type": "code",
   "execution_count": 1,
   "metadata": {
    "id": "_p7kUcdxqVP7"
   },
   "outputs": [],
   "source": [
    "from IPython.core.interactiveshell import InteractiveShell\n",
    "InteractiveShell.ast_node_interactivity = 'all'"
   ]
  },
  {
   "cell_type": "code",
   "execution_count": 46,
   "metadata": {
    "id": "hByN4oFwWvuH"
   },
   "outputs": [
    {
     "ename": "ModuleNotFoundError",
     "evalue": "No module named 'utils'",
     "output_type": "error",
     "traceback": [
      "\u001b[0;31m---------------------------------------------------------------------------\u001b[0m",
      "\u001b[0;31mModuleNotFoundError\u001b[0m                       Traceback (most recent call last)",
      "\u001b[0;32m<ipython-input-46-ba8d601e0d9b>\u001b[0m in \u001b[0;36m<module>\u001b[0;34m\u001b[0m\n\u001b[1;32m     15\u001b[0m \u001b[0;34m\u001b[0m\u001b[0m\n\u001b[1;32m     16\u001b[0m \u001b[0;32mimport\u001b[0m \u001b[0mpylab\u001b[0m\u001b[0;34m\u001b[0m\u001b[0;34m\u001b[0m\u001b[0m\n\u001b[0;32m---> 17\u001b[0;31m \u001b[0;32mfrom\u001b[0m \u001b[0mutils\u001b[0m \u001b[0;32mimport\u001b[0m \u001b[0;34m*\u001b[0m\u001b[0;34m\u001b[0m\u001b[0;34m\u001b[0m\u001b[0m\n\u001b[0m",
      "\u001b[0;31mModuleNotFoundError\u001b[0m: No module named 'utils'"
     ]
    }
   ],
   "source": [
    "import torch\n",
    "import torch.nn as nn\n",
    "import torch.nn.functional as F\n",
    "from torch.autograd import Variable\n",
    "import torch.optim as optim\n",
    "from torchsummary import summary\n",
    "from torch.utils.data import Dataset, DataLoader\n",
    "from __future__ import print_function\n",
    "from torchvision import datasets, transforms\n",
    "\n",
    "import numpy as np\n",
    "import matplotlib.pyplot as plt\n",
    "from tqdm import tqdm\n",
    "import math\n",
    "\n",
    "import pylab\n",
    "f"
   ]
  },
  {
   "cell_type": "code",
   "execution_count": 3,
   "metadata": {
    "id": "OlMl3xFMWxm8"
   },
   "outputs": [],
   "source": [
    "device = 'cuda' if torch.cuda.is_available() else 'cpu'"
   ]
  },
  {
   "cell_type": "code",
   "execution_count": 4,
   "metadata": {
    "colab": {
     "base_uri": "https://localhost:8080/"
    },
    "id": "PUcrPzGbW6ZV",
    "outputId": "2dcce114-416c-4280-db2d-9751ff30de7a"
   },
   "outputs": [
    {
     "name": "stdout",
     "output_type": "stream",
     "text": [
      "Model can run on :cuda\n"
     ]
    }
   ],
   "source": [
    "print('Model can run on :{}'.format(device))"
   ]
  },
  {
   "cell_type": "code",
   "execution_count": 5,
   "metadata": {
    "id": "zGN-_QIQZskO"
   },
   "outputs": [],
   "source": [
    "a = torch.randint(0,10,(10000,))\n",
    "b = torch.randint(0,10,(10000,))\n",
    "c = torch.randint(0,10,(1000,))\n",
    "d = torch.randint(0,10,(1000,))"
   ]
  },
  {
   "cell_type": "code",
   "execution_count": 6,
   "metadata": {
    "id": "XHIDLCnLaWqW"
   },
   "outputs": [],
   "source": [
    "e = a+b\n",
    "f = c+d"
   ]
  },
  {
   "cell_type": "code",
   "execution_count": 7,
   "metadata": {
    "id": "vc9nyp9EaYgU"
   },
   "outputs": [],
   "source": [
    "X_train = torch.stack((a,b),1).float()\n",
    "Y_train = e\n",
    "X_test = torch.stack((c,d),1).float()\n",
    "Y_test = f"
   ]
  },
  {
   "cell_type": "code",
   "execution_count": 8,
   "metadata": {
    "id": "N-sF_MaCXH6r"
   },
   "outputs": [],
   "source": [
    "class my_data():\n",
    "    def __init__(self,X,Y):\n",
    "        self.x = X\n",
    "        self.y = Y\n",
    "#         self.y = F.one_hot(self.y,)\n",
    "\n",
    "    def __getitem__(self,idx):\n",
    "        return self.x[idx,:],self.y[idx]\n",
    "\n",
    "    def __len__(self):\n",
    "        return len(self.x)"
   ]
  },
  {
   "cell_type": "code",
   "execution_count": 9,
   "metadata": {
    "id": "iKS1bgYPXjOE"
   },
   "outputs": [],
   "source": [
    "train_data = my_data(X_train,Y_train)\n",
    "test_data = my_data(X_test,Y_test)"
   ]
  },
  {
   "cell_type": "code",
   "execution_count": null,
   "metadata": {},
   "outputs": [],
   "source": []
  },
  {
   "cell_type": "code",
   "execution_count": 10,
   "metadata": {},
   "outputs": [
    {
     "data": {
      "text/plain": [
       "tensor(0)"
      ]
     },
     "execution_count": 10,
     "metadata": {},
     "output_type": "execute_result"
    },
    {
     "data": {
      "text/plain": [
       "tensor(0)"
      ]
     },
     "execution_count": 10,
     "metadata": {},
     "output_type": "execute_result"
    },
    {
     "name": "stdout",
     "output_type": "stream",
     "text": [
      "+++++++++++\n",
      "0\n"
     ]
    },
    {
     "data": {
      "text/plain": [
       "tensor(1)"
      ]
     },
     "execution_count": 10,
     "metadata": {},
     "output_type": "execute_result"
    },
    {
     "data": {
      "text/plain": [
       "tensor(1)"
      ]
     },
     "execution_count": 10,
     "metadata": {},
     "output_type": "execute_result"
    },
    {
     "name": "stdout",
     "output_type": "stream",
     "text": [
      "+++++++++++\n",
      "1\n"
     ]
    },
    {
     "data": {
      "text/plain": [
       "tensor(2)"
      ]
     },
     "execution_count": 10,
     "metadata": {},
     "output_type": "execute_result"
    },
    {
     "data": {
      "text/plain": [
       "tensor(2)"
      ]
     },
     "execution_count": 10,
     "metadata": {},
     "output_type": "execute_result"
    },
    {
     "name": "stdout",
     "output_type": "stream",
     "text": [
      "+++++++++++\n",
      "2\n"
     ]
    },
    {
     "data": {
      "text/plain": [
       "tensor(3)"
      ]
     },
     "execution_count": 10,
     "metadata": {},
     "output_type": "execute_result"
    },
    {
     "data": {
      "text/plain": [
       "tensor(3)"
      ]
     },
     "execution_count": 10,
     "metadata": {},
     "output_type": "execute_result"
    },
    {
     "name": "stdout",
     "output_type": "stream",
     "text": [
      "+++++++++++\n",
      "3\n"
     ]
    },
    {
     "data": {
      "text/plain": [
       "tensor(4)"
      ]
     },
     "execution_count": 10,
     "metadata": {},
     "output_type": "execute_result"
    },
    {
     "data": {
      "text/plain": [
       "tensor(4)"
      ]
     },
     "execution_count": 10,
     "metadata": {},
     "output_type": "execute_result"
    },
    {
     "name": "stdout",
     "output_type": "stream",
     "text": [
      "+++++++++++\n",
      "4\n"
     ]
    },
    {
     "data": {
      "text/plain": [
       "tensor(5)"
      ]
     },
     "execution_count": 10,
     "metadata": {},
     "output_type": "execute_result"
    },
    {
     "data": {
      "text/plain": [
       "tensor(5)"
      ]
     },
     "execution_count": 10,
     "metadata": {},
     "output_type": "execute_result"
    },
    {
     "name": "stdout",
     "output_type": "stream",
     "text": [
      "+++++++++++\n",
      "5\n"
     ]
    },
    {
     "data": {
      "text/plain": [
       "tensor(6)"
      ]
     },
     "execution_count": 10,
     "metadata": {},
     "output_type": "execute_result"
    },
    {
     "data": {
      "text/plain": [
       "tensor(6)"
      ]
     },
     "execution_count": 10,
     "metadata": {},
     "output_type": "execute_result"
    },
    {
     "name": "stdout",
     "output_type": "stream",
     "text": [
      "+++++++++++\n",
      "6\n"
     ]
    },
    {
     "data": {
      "text/plain": [
       "tensor(7)"
      ]
     },
     "execution_count": 10,
     "metadata": {},
     "output_type": "execute_result"
    },
    {
     "data": {
      "text/plain": [
       "tensor(7)"
      ]
     },
     "execution_count": 10,
     "metadata": {},
     "output_type": "execute_result"
    },
    {
     "name": "stdout",
     "output_type": "stream",
     "text": [
      "+++++++++++\n",
      "7\n"
     ]
    },
    {
     "data": {
      "text/plain": [
       "tensor(8)"
      ]
     },
     "execution_count": 10,
     "metadata": {},
     "output_type": "execute_result"
    },
    {
     "data": {
      "text/plain": [
       "tensor(8)"
      ]
     },
     "execution_count": 10,
     "metadata": {},
     "output_type": "execute_result"
    },
    {
     "name": "stdout",
     "output_type": "stream",
     "text": [
      "+++++++++++\n",
      "8\n"
     ]
    },
    {
     "data": {
      "text/plain": [
       "tensor(9)"
      ]
     },
     "execution_count": 10,
     "metadata": {},
     "output_type": "execute_result"
    },
    {
     "data": {
      "text/plain": [
       "tensor(9)"
      ]
     },
     "execution_count": 10,
     "metadata": {},
     "output_type": "execute_result"
    },
    {
     "name": "stdout",
     "output_type": "stream",
     "text": [
      "+++++++++++\n",
      "9\n"
     ]
    },
    {
     "data": {
      "text/plain": [
       "tensor(10)"
      ]
     },
     "execution_count": 10,
     "metadata": {},
     "output_type": "execute_result"
    },
    {
     "data": {
      "text/plain": [
       "tensor(10)"
      ]
     },
     "execution_count": 10,
     "metadata": {},
     "output_type": "execute_result"
    },
    {
     "name": "stdout",
     "output_type": "stream",
     "text": [
      "+++++++++++\n",
      "10\n"
     ]
    },
    {
     "data": {
      "text/plain": [
       "tensor(11)"
      ]
     },
     "execution_count": 10,
     "metadata": {},
     "output_type": "execute_result"
    },
    {
     "data": {
      "text/plain": [
       "tensor(11)"
      ]
     },
     "execution_count": 10,
     "metadata": {},
     "output_type": "execute_result"
    },
    {
     "name": "stdout",
     "output_type": "stream",
     "text": [
      "+++++++++++\n",
      "11\n"
     ]
    },
    {
     "data": {
      "text/plain": [
       "tensor(12)"
      ]
     },
     "execution_count": 10,
     "metadata": {},
     "output_type": "execute_result"
    },
    {
     "data": {
      "text/plain": [
       "tensor(12)"
      ]
     },
     "execution_count": 10,
     "metadata": {},
     "output_type": "execute_result"
    },
    {
     "name": "stdout",
     "output_type": "stream",
     "text": [
      "+++++++++++\n",
      "12\n"
     ]
    },
    {
     "data": {
      "text/plain": [
       "tensor(13)"
      ]
     },
     "execution_count": 10,
     "metadata": {},
     "output_type": "execute_result"
    },
    {
     "data": {
      "text/plain": [
       "tensor(13)"
      ]
     },
     "execution_count": 10,
     "metadata": {},
     "output_type": "execute_result"
    },
    {
     "name": "stdout",
     "output_type": "stream",
     "text": [
      "+++++++++++\n",
      "13\n"
     ]
    },
    {
     "data": {
      "text/plain": [
       "tensor(14)"
      ]
     },
     "execution_count": 10,
     "metadata": {},
     "output_type": "execute_result"
    },
    {
     "data": {
      "text/plain": [
       "tensor(14)"
      ]
     },
     "execution_count": 10,
     "metadata": {},
     "output_type": "execute_result"
    },
    {
     "name": "stdout",
     "output_type": "stream",
     "text": [
      "+++++++++++\n",
      "14\n"
     ]
    },
    {
     "data": {
      "text/plain": [
       "tensor(15)"
      ]
     },
     "execution_count": 10,
     "metadata": {},
     "output_type": "execute_result"
    },
    {
     "data": {
      "text/plain": [
       "tensor(15)"
      ]
     },
     "execution_count": 10,
     "metadata": {},
     "output_type": "execute_result"
    },
    {
     "name": "stdout",
     "output_type": "stream",
     "text": [
      "+++++++++++\n",
      "15\n"
     ]
    },
    {
     "data": {
      "text/plain": [
       "tensor(16)"
      ]
     },
     "execution_count": 10,
     "metadata": {},
     "output_type": "execute_result"
    },
    {
     "data": {
      "text/plain": [
       "tensor(16)"
      ]
     },
     "execution_count": 10,
     "metadata": {},
     "output_type": "execute_result"
    },
    {
     "name": "stdout",
     "output_type": "stream",
     "text": [
      "+++++++++++\n",
      "16\n"
     ]
    },
    {
     "data": {
      "text/plain": [
       "tensor(17)"
      ]
     },
     "execution_count": 10,
     "metadata": {},
     "output_type": "execute_result"
    },
    {
     "data": {
      "text/plain": [
       "tensor(17)"
      ]
     },
     "execution_count": 10,
     "metadata": {},
     "output_type": "execute_result"
    },
    {
     "name": "stdout",
     "output_type": "stream",
     "text": [
      "+++++++++++\n",
      "17\n"
     ]
    },
    {
     "data": {
      "text/plain": [
       "tensor(18)"
      ]
     },
     "execution_count": 10,
     "metadata": {},
     "output_type": "execute_result"
    },
    {
     "data": {
      "text/plain": [
       "tensor(18)"
      ]
     },
     "execution_count": 10,
     "metadata": {},
     "output_type": "execute_result"
    },
    {
     "name": "stdout",
     "output_type": "stream",
     "text": [
      "+++++++++++\n",
      "18\n"
     ]
    }
   ],
   "source": [
    "count = 0\n",
    "for p in range(0,10000):\n",
    "    if (Y_train[p].item() == count) & (count <= 20) :\n",
    "        train_data.y[p]\n",
    "        Y_train[p]\n",
    "        print (\"+++++++++++\")\n",
    "        print (count)\n",
    "        count += 1"
   ]
  },
  {
   "cell_type": "code",
   "execution_count": 11,
   "metadata": {
    "id": "RR2hTpMVc1nP"
   },
   "outputs": [],
   "source": [
    "cuda = torch.cuda.is_available()"
   ]
  },
  {
   "cell_type": "code",
   "execution_count": 12,
   "metadata": {
    "colab": {
     "base_uri": "https://localhost:8080/"
    },
    "id": "PvOsHGVDc5IQ",
    "outputId": "4eb1cdf5-fd20-447b-bce2-c53806507745"
   },
   "outputs": [
    {
     "data": {
      "text/plain": [
       "True"
      ]
     },
     "execution_count": 12,
     "metadata": {},
     "output_type": "execute_result"
    }
   ],
   "source": [
    "cuda"
   ]
  },
  {
   "cell_type": "code",
   "execution_count": 13,
   "metadata": {
    "id": "3bqjBpu1cf4U"
   },
   "outputs": [],
   "source": [
    "dataloader_args = dict(shuffle=True, batch_size=16, num_workers=4, pin_memory=True) if cuda else dict(shuffle=True, batch_size=1)"
   ]
  },
  {
   "cell_type": "code",
   "execution_count": 14,
   "metadata": {
    "id": "BI8e3adqZEPl"
   },
   "outputs": [],
   "source": [
    "train_loader = DataLoader(train_data,**dataloader_args)\n",
    "test_loader = DataLoader(test_data,**dataloader_args)"
   ]
  },
  {
   "cell_type": "code",
   "execution_count": 15,
   "metadata": {
    "id": "K1RJMzeudZVc"
   },
   "outputs": [],
   "source": [
    "class MNISTadder(nn.Module):\n",
    "    def __init__(self,input_dim = 2,output_dim = 1):\n",
    "        super(MNISTadder,self).__init__()\n",
    "        \n",
    "        self.layer1 = nn.Linear(in_features=input_dim,out_features=8)\n",
    "        self.layer2 = nn.Linear(in_features=8,out_features=16)\n",
    "        self.layer3 = nn.Linear(in_features=16,out_features=32)\n",
    "        self.layer4 = nn.Linear(in_features=32,out_features=19)\n",
    "    \n",
    "    def forward(self,x):\n",
    "        x = self.layer1(x)\n",
    "        x = F.relu(x)\n",
    "        x = self.layer2(x)\n",
    "        x = F.relu(x)\n",
    "        x = self.layer3(x)\n",
    "        x = F.relu(x)\n",
    "        x = self.layer4(x)\n",
    "        return x "
   ]
  },
  {
   "cell_type": "code",
   "execution_count": 40,
   "metadata": {},
   "outputs": [
    {
     "data": {
      "text/plain": [
       "1339"
      ]
     },
     "execution_count": 40,
     "metadata": {},
     "output_type": "execute_result"
    }
   ],
   "source": [
    "(2*8 + 8) + (8*16 + 16) + (16*32 + 32) + (32*19 + 19)"
   ]
  },
  {
   "cell_type": "code",
   "execution_count": 44,
   "metadata": {},
   "outputs": [
    {
     "data": {
      "text/plain": [
       "24000"
      ]
     },
     "execution_count": 44,
     "metadata": {},
     "output_type": "execute_result"
    }
   ],
   "source": [
    "500 * 2*6 * 4"
   ]
  },
  {
   "cell_type": "code",
   "execution_count": 43,
   "metadata": {},
   "outputs": [
    {
     "data": {
      "text/plain": [
       "1.3076171875"
      ]
     },
     "execution_count": 43,
     "metadata": {},
     "output_type": "execute_result"
    }
   ],
   "source": [
    "1339 / 1024"
   ]
  },
  {
   "cell_type": "code",
   "execution_count": 16,
   "metadata": {},
   "outputs": [],
   "source": [
    "model = MNISTadder().to('cuda')"
   ]
  },
  {
   "cell_type": "code",
   "execution_count": 17,
   "metadata": {},
   "outputs": [
    {
     "name": "stdout",
     "output_type": "stream",
     "text": [
      "----------------------------------------------------------------\n",
      "        Layer (type)               Output Shape         Param #\n",
      "================================================================\n",
      "            Linear-1                    [-1, 8]              24\n",
      "            Linear-2                   [-1, 16]             144\n",
      "            Linear-3                   [-1, 32]             544\n",
      "            Linear-4                   [-1, 19]             627\n",
      "================================================================\n",
      "Total params: 1,339\n",
      "Trainable params: 1,339\n",
      "Non-trainable params: 0\n",
      "----------------------------------------------------------------\n",
      "Input size (MB): 0.00\n",
      "Forward/backward pass size (MB): 0.00\n",
      "Params size (MB): 0.01\n",
      "Estimated Total Size (MB): 0.01\n",
      "----------------------------------------------------------------\n"
     ]
    }
   ],
   "source": [
    "summary(model,(2,))"
   ]
  },
  {
   "cell_type": "raw",
   "metadata": {
    "colab": {
     "base_uri": "https://localhost:8080/",
     "height": 375
    },
    "id": "IQImc6ULrR7g",
    "outputId": "93467902-bf4e-4cbd-b641-30391713ffa5"
   },
   "source": [
    "import sklearn.metrics as sm\n",
    "print(\"Mean absolute error =\", round(sm.mean_absolute_error(target1.item(),pred ), 2)) \n",
    "print(\"Mean squared error =\", round(sm.mean_squared_error(target1.item(),pred ), 2)) \n",
    "print(\"Median absolute error =\", round(sm.median_absolute_error(target1.item(),pred ), 2)) \n",
    "print(\"Explain variance score =\", round(sm.explained_variance_score(target1.item(),pred ), 2)) \n",
    "print(\"R2 score =\", round(sm.r2_score(target1.item(),pred), 2))"
   ]
  },
  {
   "cell_type": "code",
   "execution_count": 18,
   "metadata": {
    "id": "rtAGZzu5f3oi"
   },
   "outputs": [],
   "source": [
    "from tqdm import tqdm\n",
    "\n",
    "train_losses = []\n",
    "test_losses = []\n",
    "train_acc = []\n",
    "test_acc = []\n",
    "\n",
    "def accuracy(model, ds):\n",
    "    # assumes model.eval()\n",
    "    n_correct = 0; n_wrong = 0\n",
    "    # using loader avoids resize() issues\n",
    "    ldr = DataLoader(ds, batch_size=1,shuffle=False)\n",
    "    for _, (data,target) in enumerate(ldr):\n",
    "        data,target = data.to('cuda'),target.to('cuda')\n",
    "        X = data\n",
    "        Y = target\n",
    "        with torch.no_grad():\n",
    "            oupt = model(X)  # probs form    \n",
    "        if torch.argmax(Y) == torch.argmax(oupt):\n",
    "            n_correct += 1\n",
    "        else:\n",
    "            n_wrong += 1\n",
    "    acc = (n_correct * 1.0) / (n_correct + n_wrong)\n",
    "    return acc\n",
    "\n",
    "def train(model, device, train_loader, optimizer, epoch,loss_fun):\n",
    "    model.train()\n",
    "    pbar = tqdm(train_loader)\n",
    "    correct = 0\n",
    "    processed = 0\n",
    "    for batch_idx, (data,target) in enumerate(pbar):\n",
    "        # get samples\n",
    "        data, target = data.to(device), target.to(device)\n",
    "#         target = target.to(torch.float32)\n",
    "        # Init\n",
    "        optimizer.zero_grad()\n",
    "        # In PyTorch, we need to set the gradients to zero before starting to do backpropragation because PyTorch accumulates the gradients on subsequent backward passes. \n",
    "        # Because of this, when you start your training loop, ideally you should zero out the gradients so that you do the parameter update correctly.\n",
    "\n",
    "        # Predict\n",
    "        y_pred = model(data)\n",
    "\n",
    "        # Calculate loss\n",
    "        loss = loss_fun(y_pred,target)\n",
    "#         loss = F.nll_loss(y_pred, target)\n",
    "        train_losses.append(loss)\n",
    "        # Backpropagation\n",
    "        loss.backward()\n",
    "        optimizer.step()\n",
    "\n",
    "        # Update pbar-tqdm\n",
    "\n",
    "        pred = y_pred.argmax(dim=1, keepdim=True)  # get the index of the max log-probability\n",
    "\n",
    "        pbar.set_description(desc= f'Loss={loss.item()} Batch_id={batch_idx} ')\n",
    "\n",
    "def test(model,test_data):\n",
    "    acc = accuracy(model,test_data)\n",
    "    test_acc.append(acc)\n",
    "    print (f'Test data Accuracy :{acc*100}%')\n",
    "        \n",
    "# def test(model, device, test_loader,loss_fun):\n",
    "#     model.eval()\n",
    "#     test_loss = 0\n",
    "#     correct = 0\n",
    "#     with torch.no_grad():\n",
    "#         for data,target in test_loader:\n",
    "#             data, target = data.to(device), target.to(device)\n",
    "            \n",
    "#             output = model(data)\n",
    "            \n",
    "#             # sum up batch loss\n",
    "#             pred = output.argmax(dim=1, keepdim=True)  # get the index of the max log-probability\n",
    "#             acc = accuracy(pred,target)\n",
    "            \n",
    "#     print('\\nTest set: Accuracy:{}'.format(acc)\n",
    "#     test_acc.append(acc)"
   ]
  },
  {
   "cell_type": "code",
   "execution_count": null,
   "metadata": {},
   "outputs": [],
   "source": [
    "\n"
   ]
  },
  {
   "cell_type": "code",
   "execution_count": 19,
   "metadata": {
    "colab": {
     "base_uri": "https://localhost:8080/"
    },
    "id": "xCLwXOkKgQAr",
    "outputId": "6e58052e-574e-4d4e-f85d-c250ebaedb0e"
   },
   "outputs": [
    {
     "name": "stderr",
     "output_type": "stream",
     "text": [
      "  0%|          | 0/625 [00:00<?, ?it/s]"
     ]
    },
    {
     "name": "stdout",
     "output_type": "stream",
     "text": [
      "cuda\n",
      "\n",
      " EPOCH: 0\n"
     ]
    },
    {
     "name": "stderr",
     "output_type": "stream",
     "text": [
      "Loss=2.968987464904785 Batch_id=624 : 100%|██████████| 625/625 [00:02<00:00, 214.50it/s] \n",
      "  0%|          | 0/625 [00:00<?, ?it/s]"
     ]
    },
    {
     "name": "stdout",
     "output_type": "stream",
     "text": [
      "Test data Accuracy :1.0%\n",
      "\n",
      " EPOCH: 1\n"
     ]
    },
    {
     "name": "stderr",
     "output_type": "stream",
     "text": [
      "Loss=2.693539619445801 Batch_id=624 : 100%|██████████| 625/625 [00:02<00:00, 223.42it/s] \n",
      "  0%|          | 0/625 [00:00<?, ?it/s]"
     ]
    },
    {
     "name": "stdout",
     "output_type": "stream",
     "text": [
      "Test data Accuracy :1.0%\n",
      "\n",
      " EPOCH: 2\n"
     ]
    },
    {
     "name": "stderr",
     "output_type": "stream",
     "text": [
      "Loss=2.928516149520874 Batch_id=624 : 100%|██████████| 625/625 [00:02<00:00, 232.48it/s] \n",
      "  0%|          | 0/625 [00:00<?, ?it/s]"
     ]
    },
    {
     "name": "stdout",
     "output_type": "stream",
     "text": [
      "Test data Accuracy :1.0%\n",
      "\n",
      " EPOCH: 3\n"
     ]
    },
    {
     "name": "stderr",
     "output_type": "stream",
     "text": [
      "Loss=2.5665476322174072 Batch_id=624 : 100%|██████████| 625/625 [00:03<00:00, 204.55it/s]\n",
      "  0%|          | 0/625 [00:00<?, ?it/s]"
     ]
    },
    {
     "name": "stdout",
     "output_type": "stream",
     "text": [
      "Test data Accuracy :1.0%\n",
      "\n",
      " EPOCH: 4\n"
     ]
    },
    {
     "name": "stderr",
     "output_type": "stream",
     "text": [
      "Loss=2.607525110244751 Batch_id=624 : 100%|██████████| 625/625 [00:02<00:00, 210.99it/s] \n",
      "  0%|          | 0/625 [00:00<?, ?it/s]"
     ]
    },
    {
     "name": "stdout",
     "output_type": "stream",
     "text": [
      "Test data Accuracy :1.0%\n",
      "\n",
      " EPOCH: 5\n"
     ]
    },
    {
     "name": "stderr",
     "output_type": "stream",
     "text": [
      "Loss=2.6348907947540283 Batch_id=624 : 100%|██████████| 625/625 [00:02<00:00, 230.11it/s]\n",
      "  0%|          | 0/625 [00:00<?, ?it/s]"
     ]
    },
    {
     "name": "stdout",
     "output_type": "stream",
     "text": [
      "Test data Accuracy :1.0%\n",
      "\n",
      " EPOCH: 6\n"
     ]
    },
    {
     "name": "stderr",
     "output_type": "stream",
     "text": [
      "Loss=2.759486198425293 Batch_id=624 : 100%|██████████| 625/625 [00:02<00:00, 238.53it/s] \n",
      "  0%|          | 0/625 [00:00<?, ?it/s]"
     ]
    },
    {
     "name": "stdout",
     "output_type": "stream",
     "text": [
      "Test data Accuracy :1.0%\n",
      "\n",
      " EPOCH: 7\n"
     ]
    },
    {
     "name": "stderr",
     "output_type": "stream",
     "text": [
      "Loss=2.265517234802246 Batch_id=624 : 100%|██████████| 625/625 [00:02<00:00, 237.06it/s] \n",
      "  0%|          | 0/625 [00:00<?, ?it/s]"
     ]
    },
    {
     "name": "stdout",
     "output_type": "stream",
     "text": [
      "Test data Accuracy :1.0%\n",
      "\n",
      " EPOCH: 8\n"
     ]
    },
    {
     "name": "stderr",
     "output_type": "stream",
     "text": [
      "Loss=2.539642095565796 Batch_id=624 : 100%|██████████| 625/625 [00:02<00:00, 238.56it/s] \n",
      "  0%|          | 0/625 [00:00<?, ?it/s]"
     ]
    },
    {
     "name": "stdout",
     "output_type": "stream",
     "text": [
      "Test data Accuracy :1.0%\n",
      "\n",
      " EPOCH: 9\n"
     ]
    },
    {
     "name": "stderr",
     "output_type": "stream",
     "text": [
      "Loss=2.6168298721313477 Batch_id=624 : 100%|██████████| 625/625 [00:02<00:00, 239.36it/s]\n",
      "  0%|          | 0/625 [00:00<?, ?it/s]"
     ]
    },
    {
     "name": "stdout",
     "output_type": "stream",
     "text": [
      "Test data Accuracy :1.0%\n",
      "\n",
      " EPOCH: 10\n"
     ]
    },
    {
     "name": "stderr",
     "output_type": "stream",
     "text": [
      "Loss=2.670196771621704 Batch_id=624 : 100%|██████████| 625/625 [00:02<00:00, 237.07it/s] \n",
      "  0%|          | 0/625 [00:00<?, ?it/s]"
     ]
    },
    {
     "name": "stdout",
     "output_type": "stream",
     "text": [
      "Test data Accuracy :1.0%\n",
      "\n",
      " EPOCH: 11\n"
     ]
    },
    {
     "name": "stderr",
     "output_type": "stream",
     "text": [
      "Loss=2.75085711479187 Batch_id=624 : 100%|██████████| 625/625 [00:02<00:00, 236.52it/s]  \n",
      "  0%|          | 0/625 [00:00<?, ?it/s]"
     ]
    },
    {
     "name": "stdout",
     "output_type": "stream",
     "text": [
      "Test data Accuracy :1.0%\n",
      "\n",
      " EPOCH: 12\n"
     ]
    },
    {
     "name": "stderr",
     "output_type": "stream",
     "text": [
      "Loss=2.883265256881714 Batch_id=624 : 100%|██████████| 625/625 [00:02<00:00, 236.90it/s] \n",
      "  0%|          | 0/625 [00:00<?, ?it/s]"
     ]
    },
    {
     "name": "stdout",
     "output_type": "stream",
     "text": [
      "Test data Accuracy :1.0%\n",
      "\n",
      " EPOCH: 13\n"
     ]
    },
    {
     "name": "stderr",
     "output_type": "stream",
     "text": [
      "Loss=2.8351194858551025 Batch_id=624 : 100%|██████████| 625/625 [00:02<00:00, 236.86it/s]\n",
      "  0%|          | 0/625 [00:00<?, ?it/s]"
     ]
    },
    {
     "name": "stdout",
     "output_type": "stream",
     "text": [
      "Test data Accuracy :1.0%\n",
      "\n",
      " EPOCH: 14\n"
     ]
    },
    {
     "name": "stderr",
     "output_type": "stream",
     "text": [
      "Loss=2.314021587371826 Batch_id=624 : 100%|██████████| 625/625 [00:02<00:00, 233.04it/s] \n",
      "  0%|          | 0/625 [00:00<?, ?it/s]"
     ]
    },
    {
     "name": "stdout",
     "output_type": "stream",
     "text": [
      "Test data Accuracy :1.0%\n",
      "\n",
      " EPOCH: 15\n"
     ]
    },
    {
     "name": "stderr",
     "output_type": "stream",
     "text": [
      "Loss=2.7866368293762207 Batch_id=624 : 100%|██████████| 625/625 [00:02<00:00, 238.56it/s]\n",
      "  0%|          | 0/625 [00:00<?, ?it/s]"
     ]
    },
    {
     "name": "stdout",
     "output_type": "stream",
     "text": [
      "Test data Accuracy :1.0%\n",
      "\n",
      " EPOCH: 16\n"
     ]
    },
    {
     "name": "stderr",
     "output_type": "stream",
     "text": [
      "Loss=2.531508684158325 Batch_id=624 : 100%|██████████| 625/625 [00:02<00:00, 236.82it/s] \n",
      "  0%|          | 0/625 [00:00<?, ?it/s]"
     ]
    },
    {
     "name": "stdout",
     "output_type": "stream",
     "text": [
      "Test data Accuracy :1.0%\n",
      "\n",
      " EPOCH: 17\n"
     ]
    },
    {
     "name": "stderr",
     "output_type": "stream",
     "text": [
      "Loss=2.894926071166992 Batch_id=624 : 100%|██████████| 625/625 [00:02<00:00, 237.68it/s] \n",
      "  0%|          | 0/625 [00:00<?, ?it/s]"
     ]
    },
    {
     "name": "stdout",
     "output_type": "stream",
     "text": [
      "Test data Accuracy :1.0%\n",
      "\n",
      " EPOCH: 18\n"
     ]
    },
    {
     "name": "stderr",
     "output_type": "stream",
     "text": [
      "Loss=2.7579822540283203 Batch_id=624 : 100%|██████████| 625/625 [00:02<00:00, 238.83it/s]\n",
      "  0%|          | 0/625 [00:00<?, ?it/s]"
     ]
    },
    {
     "name": "stdout",
     "output_type": "stream",
     "text": [
      "Test data Accuracy :1.0%\n",
      "\n",
      " EPOCH: 19\n"
     ]
    },
    {
     "name": "stderr",
     "output_type": "stream",
     "text": [
      "Loss=2.812260627746582 Batch_id=624 : 100%|██████████| 625/625 [00:02<00:00, 234.82it/s] \n",
      "  0%|          | 0/625 [00:00<?, ?it/s]"
     ]
    },
    {
     "name": "stdout",
     "output_type": "stream",
     "text": [
      "Test data Accuracy :1.0%\n",
      "\n",
      " EPOCH: 20\n"
     ]
    },
    {
     "name": "stderr",
     "output_type": "stream",
     "text": [
      "Loss=2.685832977294922 Batch_id=624 : 100%|██████████| 625/625 [00:02<00:00, 215.66it/s] \n",
      "  0%|          | 0/625 [00:00<?, ?it/s]"
     ]
    },
    {
     "name": "stdout",
     "output_type": "stream",
     "text": [
      "Test data Accuracy :1.0%\n",
      "\n",
      " EPOCH: 21\n"
     ]
    },
    {
     "name": "stderr",
     "output_type": "stream",
     "text": [
      "Loss=2.740638017654419 Batch_id=624 : 100%|██████████| 625/625 [00:02<00:00, 229.78it/s] \n",
      "  0%|          | 0/625 [00:00<?, ?it/s]"
     ]
    },
    {
     "name": "stdout",
     "output_type": "stream",
     "text": [
      "Test data Accuracy :1.0%\n",
      "\n",
      " EPOCH: 22\n"
     ]
    },
    {
     "name": "stderr",
     "output_type": "stream",
     "text": [
      "Loss=2.4038095474243164 Batch_id=624 : 100%|██████████| 625/625 [00:02<00:00, 225.36it/s]\n",
      "  0%|          | 0/625 [00:00<?, ?it/s]"
     ]
    },
    {
     "name": "stdout",
     "output_type": "stream",
     "text": [
      "Test data Accuracy :1.0%\n",
      "\n",
      " EPOCH: 23\n"
     ]
    },
    {
     "name": "stderr",
     "output_type": "stream",
     "text": [
      "Loss=2.76102876663208 Batch_id=624 : 100%|██████████| 625/625 [00:02<00:00, 228.55it/s]  \n",
      "  0%|          | 0/625 [00:00<?, ?it/s]"
     ]
    },
    {
     "name": "stdout",
     "output_type": "stream",
     "text": [
      "Test data Accuracy :1.0%\n",
      "\n",
      " EPOCH: 24\n"
     ]
    },
    {
     "name": "stderr",
     "output_type": "stream",
     "text": [
      "Loss=2.877095937728882 Batch_id=624 : 100%|██████████| 625/625 [00:02<00:00, 222.82it/s] \n",
      "  0%|          | 0/625 [00:00<?, ?it/s]"
     ]
    },
    {
     "name": "stdout",
     "output_type": "stream",
     "text": [
      "Test data Accuracy :1.0%\n",
      "\n",
      " EPOCH: 25\n"
     ]
    },
    {
     "name": "stderr",
     "output_type": "stream",
     "text": [
      "Loss=2.6306772232055664 Batch_id=624 : 100%|██████████| 625/625 [00:02<00:00, 226.45it/s]\n",
      "  0%|          | 0/625 [00:00<?, ?it/s]"
     ]
    },
    {
     "name": "stdout",
     "output_type": "stream",
     "text": [
      "Test data Accuracy :1.0%\n",
      "\n",
      " EPOCH: 26\n"
     ]
    },
    {
     "name": "stderr",
     "output_type": "stream",
     "text": [
      "Loss=2.7422754764556885 Batch_id=624 : 100%|██████████| 625/625 [00:02<00:00, 230.81it/s]\n",
      "  0%|          | 0/625 [00:00<?, ?it/s]"
     ]
    },
    {
     "name": "stdout",
     "output_type": "stream",
     "text": [
      "Test data Accuracy :1.0%\n",
      "\n",
      " EPOCH: 27\n"
     ]
    },
    {
     "name": "stderr",
     "output_type": "stream",
     "text": [
      "Loss=2.65427303314209 Batch_id=624 : 100%|██████████| 625/625 [00:02<00:00, 227.11it/s]  \n",
      "  0%|          | 0/625 [00:00<?, ?it/s]"
     ]
    },
    {
     "name": "stdout",
     "output_type": "stream",
     "text": [
      "Test data Accuracy :1.0%\n",
      "\n",
      " EPOCH: 28\n"
     ]
    },
    {
     "name": "stderr",
     "output_type": "stream",
     "text": [
      "Loss=2.7263882160186768 Batch_id=624 : 100%|██████████| 625/625 [00:02<00:00, 222.54it/s]\n",
      "  0%|          | 0/625 [00:00<?, ?it/s]"
     ]
    },
    {
     "name": "stdout",
     "output_type": "stream",
     "text": [
      "Test data Accuracy :1.0%\n",
      "\n",
      " EPOCH: 29\n"
     ]
    },
    {
     "name": "stderr",
     "output_type": "stream",
     "text": [
      "Loss=2.5587317943573 Batch_id=624 : 100%|██████████| 625/625 [00:02<00:00, 220.43it/s]   \n",
      "  0%|          | 0/625 [00:00<?, ?it/s]"
     ]
    },
    {
     "name": "stdout",
     "output_type": "stream",
     "text": [
      "Test data Accuracy :1.0%\n",
      "\n",
      " EPOCH: 30\n"
     ]
    },
    {
     "name": "stderr",
     "output_type": "stream",
     "text": [
      "Loss=2.884580612182617 Batch_id=624 : 100%|██████████| 625/625 [00:02<00:00, 219.15it/s] \n",
      "  0%|          | 0/625 [00:00<?, ?it/s]"
     ]
    },
    {
     "name": "stdout",
     "output_type": "stream",
     "text": [
      "Test data Accuracy :1.0%\n",
      "\n",
      " EPOCH: 31\n"
     ]
    },
    {
     "name": "stderr",
     "output_type": "stream",
     "text": [
      "Loss=2.6541998386383057 Batch_id=624 : 100%|██████████| 625/625 [00:02<00:00, 219.29it/s]\n",
      "  0%|          | 0/625 [00:00<?, ?it/s]"
     ]
    },
    {
     "name": "stdout",
     "output_type": "stream",
     "text": [
      "Test data Accuracy :1.0%\n",
      "\n",
      " EPOCH: 32\n"
     ]
    },
    {
     "name": "stderr",
     "output_type": "stream",
     "text": [
      "Loss=3.1548757553100586 Batch_id=624 : 100%|██████████| 625/625 [00:02<00:00, 223.50it/s]\n",
      "  0%|          | 0/625 [00:00<?, ?it/s]"
     ]
    },
    {
     "name": "stdout",
     "output_type": "stream",
     "text": [
      "Test data Accuracy :1.0%\n",
      "\n",
      " EPOCH: 33\n"
     ]
    },
    {
     "name": "stderr",
     "output_type": "stream",
     "text": [
      "Loss=2.6196324825286865 Batch_id=624 : 100%|██████████| 625/625 [00:02<00:00, 219.27it/s]\n",
      "  0%|          | 0/625 [00:00<?, ?it/s]"
     ]
    },
    {
     "name": "stdout",
     "output_type": "stream",
     "text": [
      "Test data Accuracy :1.0%\n",
      "\n",
      " EPOCH: 34\n"
     ]
    },
    {
     "name": "stderr",
     "output_type": "stream",
     "text": [
      "Loss=2.8619134426116943 Batch_id=624 : 100%|██████████| 625/625 [00:02<00:00, 216.37it/s]\n",
      "  0%|          | 0/625 [00:00<?, ?it/s]"
     ]
    },
    {
     "name": "stdout",
     "output_type": "stream",
     "text": [
      "Test data Accuracy :1.0%\n",
      "\n",
      " EPOCH: 35\n"
     ]
    },
    {
     "name": "stderr",
     "output_type": "stream",
     "text": [
      "Loss=2.788459539413452 Batch_id=624 : 100%|██████████| 625/625 [00:02<00:00, 222.49it/s] \n",
      "  0%|          | 0/625 [00:00<?, ?it/s]"
     ]
    },
    {
     "name": "stdout",
     "output_type": "stream",
     "text": [
      "Test data Accuracy :1.0%\n",
      "\n",
      " EPOCH: 36\n"
     ]
    },
    {
     "name": "stderr",
     "output_type": "stream",
     "text": [
      "Loss=2.5414140224456787 Batch_id=624 : 100%|██████████| 625/625 [00:02<00:00, 223.69it/s]\n",
      "  0%|          | 0/625 [00:00<?, ?it/s]"
     ]
    },
    {
     "name": "stdout",
     "output_type": "stream",
     "text": [
      "Test data Accuracy :1.0%\n",
      "\n",
      " EPOCH: 37\n"
     ]
    },
    {
     "name": "stderr",
     "output_type": "stream",
     "text": [
      "Loss=2.778291702270508 Batch_id=624 : 100%|██████████| 625/625 [00:02<00:00, 224.09it/s] \n",
      "  0%|          | 0/625 [00:00<?, ?it/s]"
     ]
    },
    {
     "name": "stdout",
     "output_type": "stream",
     "text": [
      "Test data Accuracy :1.0%\n",
      "\n",
      " EPOCH: 38\n"
     ]
    },
    {
     "name": "stderr",
     "output_type": "stream",
     "text": [
      "Loss=2.636626958847046 Batch_id=624 : 100%|██████████| 625/625 [00:02<00:00, 226.53it/s] \n",
      "  0%|          | 0/625 [00:00<?, ?it/s]"
     ]
    },
    {
     "name": "stdout",
     "output_type": "stream",
     "text": [
      "Test data Accuracy :1.0%\n",
      "\n",
      " EPOCH: 39\n"
     ]
    },
    {
     "name": "stderr",
     "output_type": "stream",
     "text": [
      "Loss=2.857792377471924 Batch_id=624 : 100%|██████████| 625/625 [00:02<00:00, 217.63it/s] \n",
      "  0%|          | 0/625 [00:00<?, ?it/s]"
     ]
    },
    {
     "name": "stdout",
     "output_type": "stream",
     "text": [
      "Test data Accuracy :1.0%\n",
      "\n",
      " EPOCH: 40\n"
     ]
    },
    {
     "name": "stderr",
     "output_type": "stream",
     "text": [
      "Loss=2.467146635055542 Batch_id=624 : 100%|██████████| 625/625 [00:02<00:00, 230.64it/s] \n",
      "  0%|          | 0/625 [00:00<?, ?it/s]"
     ]
    },
    {
     "name": "stdout",
     "output_type": "stream",
     "text": [
      "Test data Accuracy :1.0%\n",
      "\n",
      " EPOCH: 41\n"
     ]
    },
    {
     "name": "stderr",
     "output_type": "stream",
     "text": [
      "Loss=2.7156870365142822 Batch_id=624 : 100%|██████████| 625/625 [00:02<00:00, 237.84it/s]\n",
      "  0%|          | 0/625 [00:00<?, ?it/s]"
     ]
    },
    {
     "name": "stdout",
     "output_type": "stream",
     "text": [
      "Test data Accuracy :1.0%\n",
      "\n",
      " EPOCH: 42\n"
     ]
    },
    {
     "name": "stderr",
     "output_type": "stream",
     "text": [
      "Loss=2.815171003341675 Batch_id=624 : 100%|██████████| 625/625 [00:02<00:00, 224.18it/s] \n",
      "  0%|          | 0/625 [00:00<?, ?it/s]"
     ]
    },
    {
     "name": "stdout",
     "output_type": "stream",
     "text": [
      "Test data Accuracy :1.0%\n",
      "\n",
      " EPOCH: 43\n"
     ]
    },
    {
     "name": "stderr",
     "output_type": "stream",
     "text": [
      "Loss=2.5302722454071045 Batch_id=624 : 100%|██████████| 625/625 [00:02<00:00, 233.51it/s]\n",
      "  0%|          | 0/625 [00:00<?, ?it/s]"
     ]
    },
    {
     "name": "stdout",
     "output_type": "stream",
     "text": [
      "Test data Accuracy :1.0%\n",
      "\n",
      " EPOCH: 44\n"
     ]
    },
    {
     "name": "stderr",
     "output_type": "stream",
     "text": [
      "Loss=2.742215156555176 Batch_id=624 : 100%|██████████| 625/625 [00:02<00:00, 239.04it/s] \n",
      "  0%|          | 0/625 [00:00<?, ?it/s]"
     ]
    },
    {
     "name": "stdout",
     "output_type": "stream",
     "text": [
      "Test data Accuracy :1.0%\n",
      "\n",
      " EPOCH: 45\n"
     ]
    },
    {
     "name": "stderr",
     "output_type": "stream",
     "text": [
      "Loss=2.8103737831115723 Batch_id=624 : 100%|██████████| 625/625 [00:02<00:00, 238.84it/s]\n",
      "  0%|          | 0/625 [00:00<?, ?it/s]"
     ]
    },
    {
     "name": "stdout",
     "output_type": "stream",
     "text": [
      "Test data Accuracy :1.0%\n",
      "\n",
      " EPOCH: 46\n"
     ]
    },
    {
     "name": "stderr",
     "output_type": "stream",
     "text": [
      "Loss=2.7533791065216064 Batch_id=624 : 100%|██████████| 625/625 [00:02<00:00, 233.34it/s]\n",
      "  0%|          | 0/625 [00:00<?, ?it/s]"
     ]
    },
    {
     "name": "stdout",
     "output_type": "stream",
     "text": [
      "Test data Accuracy :1.0%\n",
      "\n",
      " EPOCH: 47\n"
     ]
    },
    {
     "name": "stderr",
     "output_type": "stream",
     "text": [
      "Loss=2.7119274139404297 Batch_id=624 : 100%|██████████| 625/625 [00:02<00:00, 226.84it/s]\n",
      "  0%|          | 0/625 [00:00<?, ?it/s]"
     ]
    },
    {
     "name": "stdout",
     "output_type": "stream",
     "text": [
      "Test data Accuracy :1.0%\n",
      "\n",
      " EPOCH: 48\n"
     ]
    },
    {
     "name": "stderr",
     "output_type": "stream",
     "text": [
      "Loss=2.8528270721435547 Batch_id=624 : 100%|██████████| 625/625 [00:02<00:00, 234.11it/s]\n",
      "  0%|          | 0/625 [00:00<?, ?it/s]"
     ]
    },
    {
     "name": "stdout",
     "output_type": "stream",
     "text": [
      "Test data Accuracy :1.0%\n",
      "\n",
      " EPOCH: 49\n"
     ]
    },
    {
     "name": "stderr",
     "output_type": "stream",
     "text": [
      "Loss=2.8971283435821533 Batch_id=624 : 100%|██████████| 625/625 [00:02<00:00, 225.02it/s]\n"
     ]
    },
    {
     "name": "stdout",
     "output_type": "stream",
     "text": [
      "Test data Accuracy :1.0%\n"
     ]
    }
   ],
   "source": [
    "device = 'cuda' if torch.cuda.is_available() else 'cpu'\n",
    "print(device)\n",
    "model = MNISTadder().to(device)\n",
    "optimizer = optim.SGD(model.parameters(), lr=0.09, momentum=0.9)\n",
    "# loss_func = torch.nn.MSELoss()\n",
    "loss_func = nn.CrossEntropyLoss()\n",
    "# loss_func2 = nn.CrossEntropyLoss()\n",
    "EPOCHS = 50\n",
    "for epoch in range(EPOCHS):\n",
    "    print(\"\\n EPOCH:\", epoch)\n",
    "    train(model, device, train_loader, optimizer, epoch,loss_func)\n",
    "    test(model, test_data)"
   ]
  },
  {
   "cell_type": "code",
   "execution_count": 20,
   "metadata": {},
   "outputs": [
    {
     "data": {
      "text/plain": [
       "MNISTadder(\n",
       "  (layer1): Linear(in_features=2, out_features=8, bias=True)\n",
       "  (layer2): Linear(in_features=8, out_features=16, bias=True)\n",
       "  (layer3): Linear(in_features=16, out_features=32, bias=True)\n",
       "  (layer4): Linear(in_features=32, out_features=19, bias=True)\n",
       ")"
      ]
     },
     "execution_count": 20,
     "metadata": {},
     "output_type": "execute_result"
    },
    {
     "name": "stderr",
     "output_type": "stream",
     "text": [
      "  0%|          | 0/625 [00:00<?, ?it/s]\n"
     ]
    }
   ],
   "source": [
    "model.train()\n",
    "pbar = tqdm(train_loader)\n",
    "correct = 0\n",
    "processed = 0\n",
    "for batch_idx, (data,target) in enumerate(pbar):\n",
    "    # get samples\n",
    "    data, target = data.to(device), target.to(device)\n",
    "    \n",
    "    \n",
    "    break\n",
    "    "
   ]
  },
  {
   "cell_type": "code",
   "execution_count": 21,
   "metadata": {},
   "outputs": [],
   "source": [
    "pred = model(data)"
   ]
  },
  {
   "cell_type": "code",
   "execution_count": 22,
   "metadata": {},
   "outputs": [
    {
     "data": {
      "text/plain": [
       "tensor([ 9,  1,  8, 10,  4,  6,  9,  3,  9,  3,  5,  5, 10, 10,  5,  8],\n",
       "       device='cuda:0')"
      ]
     },
     "execution_count": 22,
     "metadata": {},
     "output_type": "execute_result"
    }
   ],
   "source": [
    "target.long()"
   ]
  },
  {
   "cell_type": "code",
   "execution_count": 23,
   "metadata": {},
   "outputs": [
    {
     "data": {
      "text/plain": [
       "tensor([ 9,  1,  8, 10,  4,  6,  9,  3,  9,  3,  5,  5, 10, 10,  5,  8],\n",
       "       device='cuda:0')"
      ]
     },
     "execution_count": 23,
     "metadata": {},
     "output_type": "execute_result"
    }
   ],
   "source": [
    "target"
   ]
  },
  {
   "cell_type": "code",
   "execution_count": 24,
   "metadata": {},
   "outputs": [
    {
     "data": {
      "text/plain": [
       "tensor(2.7392, device='cuda:0', grad_fn=<NllLossBackward>)"
      ]
     },
     "execution_count": 24,
     "metadata": {},
     "output_type": "execute_result"
    }
   ],
   "source": [
    "loss_func(pred,target)"
   ]
  },
  {
   "cell_type": "code",
   "execution_count": 25,
   "metadata": {},
   "outputs": [],
   "source": [
    "loss = nn.CrossEntropyLoss()\n",
    "input = torch.randn(3, 5, requires_grad=True)\n",
    "target = torch.empty(3, dtype=torch.long).random_(5)\n",
    "output = loss(input, target)\n",
    "output.backward()"
   ]
  },
  {
   "cell_type": "code",
   "execution_count": 26,
   "metadata": {},
   "outputs": [
    {
     "data": {
      "text/plain": [
       "tensor([[ 0.1629, -0.2480,  1.1818,  1.8425, -1.4741],\n",
       "        [-1.0327, -0.2342,  0.6834,  1.9487, -0.6355],\n",
       "        [-2.6688, -0.8213, -0.9976, -0.2528,  1.1162]], requires_grad=True)"
      ]
     },
     "execution_count": 26,
     "metadata": {},
     "output_type": "execute_result"
    },
    {
     "data": {
      "text/plain": [
       "tensor([4, 0, 0])"
      ]
     },
     "execution_count": 26,
     "metadata": {},
     "output_type": "execute_result"
    }
   ],
   "source": [
    "input\n",
    "target"
   ]
  },
  {
   "cell_type": "code",
   "execution_count": 27,
   "metadata": {},
   "outputs": [
    {
     "data": {
      "text/plain": [
       "tensor([4, 0, 0])"
      ]
     },
     "execution_count": 27,
     "metadata": {},
     "output_type": "execute_result"
    }
   ],
   "source": [
    "target"
   ]
  },
  {
   "cell_type": "code",
   "execution_count": 28,
   "metadata": {},
   "outputs": [
    {
     "data": {
      "text/plain": [
       "tensor([4, 0, 0])"
      ]
     },
     "execution_count": 28,
     "metadata": {},
     "output_type": "execute_result"
    }
   ],
   "source": [
    "target"
   ]
  },
  {
   "cell_type": "code",
   "execution_count": 29,
   "metadata": {},
   "outputs": [],
   "source": [
    "import matplotlib.pyplot as plt"
   ]
  },
  {
   "cell_type": "code",
   "execution_count": 30,
   "metadata": {},
   "outputs": [
    {
     "data": {
      "text/plain": [
       "[<matplotlib.lines.Line2D at 0x7ff32b020c70>]"
      ]
     },
     "execution_count": 30,
     "metadata": {},
     "output_type": "execute_result"
    },
    {
     "data": {
      "image/png": "[encoded data removed]",
      "text/plain": [
       "<Figure size 432x288 with 1 Axes>"
      ]
     },
     "metadata": {
      "needs_background": "light"
     },
     "output_type": "display_data"
    }
   ],
   "source": [
    "plt.plot(train_losses)"
   ]
  },
  {
   "cell_type": "code",
   "execution_count": 31,
   "metadata": {},
   "outputs": [
    {
     "data": {
      "text/plain": [
       "[<matplotlib.lines.Line2D at 0x7ff32af69190>]"
      ]
     },
     "execution_count": 31,
     "metadata": {},
     "output_type": "execute_result"
    },
    {
     "data": {
      "image/png": "[encoded data removed]",
      "text/plain": [
       "<Figure size 432x288 with 1 Axes>"
      ]
     },
     "metadata": {
      "needs_background": "light"
     },
     "output_type": "display_data"
    }
   ],
   "source": [
    "plt.plot(test_acc)"
   ]
  },
  {
   "cell_type": "code",
   "execution_count": 32,
   "metadata": {},
   "outputs": [],
   "source": [
    "p = model(torch.tensor([1.,6.]).to('cuda'))"
   ]
  },
  {
   "cell_type": "code",
   "execution_count": 33,
   "metadata": {},
   "outputs": [
    {
     "data": {
      "text/plain": [
       "tensor([-6.8105, -0.3407,  0.0341,  0.1265,  0.4165,  0.4437,  0.5620,  0.9188,\n",
       "         1.1616,  1.0979,  1.2663,  1.0688,  1.0696,  0.3626,  0.5873,  0.1375,\n",
       "        -0.0830, -0.4668, -1.1642], device='cuda:0', grad_fn=<AddBackward0>)"
      ]
     },
     "execution_count": 33,
     "metadata": {},
     "output_type": "execute_result"
    }
   ],
   "source": [
    "p"
   ]
  },
  {
   "cell_type": "code",
   "execution_count": 34,
   "metadata": {},
   "outputs": [],
   "source": [
    "for batch_idx, (data,target) in enumerate(train_loader):\n",
    "    data, target = data.to(device), target.to(device)\n",
    "#     target = target.to(torch.float32)\n",
    "    break"
   ]
  },
  {
   "cell_type": "code",
   "execution_count": 35,
   "metadata": {},
   "outputs": [],
   "source": [
    "p = model(data)"
   ]
  },
  {
   "cell_type": "code",
   "execution_count": 36,
   "metadata": {},
   "outputs": [
    {
     "data": {
      "text/plain": [
       "tensor([[8., 1., 2., 0., 5., 1., 4., 9., 7., 1., 4., 1., 7., 3., 3., 2.],\n",
       "        [1., 5., 7., 5., 2., 0., 8., 0., 2., 2., 9., 2., 2., 2., 1., 3.]],\n",
       "       device='cuda:0')"
      ]
     },
     "execution_count": 36,
     "metadata": {},
     "output_type": "execute_result"
    }
   ],
   "source": [
    "data.T"
   ]
  },
  {
   "cell_type": "code",
   "execution_count": 37,
   "metadata": {},
   "outputs": [
    {
     "ename": "IndexError",
     "evalue": "Dimension out of range (expected to be in range of [-1, 0], but got 1)",
     "output_type": "error",
     "traceback": [
      "\u001b[0;31m---------------------------------------------------------------------------\u001b[0m",
      "\u001b[0;31mIndexError\u001b[0m                                Traceback (most recent call last)",
      "\u001b[0;32m<ipython-input-37-9596867be6e4>\u001b[0m in \u001b[0;36m<module>\u001b[0;34m\u001b[0m\n\u001b[0;32m----> 1\u001b[0;31m \u001b[0mtarget\u001b[0m\u001b[0;34m.\u001b[0m\u001b[0margmax\u001b[0m\u001b[0;34m(\u001b[0m\u001b[0mdim\u001b[0m \u001b[0;34m=\u001b[0m \u001b[0;36m1\u001b[0m\u001b[0;34m)\u001b[0m\u001b[0;34m\u001b[0m\u001b[0;34m\u001b[0m\u001b[0m\n\u001b[0m",
      "\u001b[0;31mIndexError\u001b[0m: Dimension out of range (expected to be in range of [-1, 0], but got 1)"
     ]
    }
   ],
   "source": [
    "target.argmax(dim = 1)"
   ]
  },
  {
   "cell_type": "code",
   "execution_count": null,
   "metadata": {},
   "outputs": [],
   "source": [
    "p.argmax(dim = 1)\n"
   ]
  },
  {
   "cell_type": "code",
   "execution_count": null,
   "metadata": {},
   "outputs": [],
   "source": [
    "count = 0\n",
    "for m in range(0,10000):\n",
    "    \n",
    "    if (Y_train[m].item() == 8) & (X_train[m][0].item() == 6) & (X_train[m][1].item() == 2) :\n",
    "        print (m)\n",
    "        train_data.y[m]\n",
    "        X_train[m]\n",
    "        Y_train[m]\n",
    "        print (\"+++++++++++\")\n",
    "        print (count)\n",
    "        count += 1\n",
    "        break"
   ]
  },
  {
   "cell_type": "code",
   "execution_count": null,
   "metadata": {},
   "outputs": [],
   "source": []
  }
 ],
 "metadata": {
  "colab": {
   "collapsed_sections": [],
   "name": "RegTryPytorch.ipynb",
   "provenance": []
  },
  "kernelspec": {
   "display_name": "Python 3",
   "language": "python",
   "name": "python3"
  },
  "language_info": {
   "codemirror_mode": {
    "name": "ipython",
    "version": 3
   },
   "file_extension": ".py",
   "mimetype": "text/x-python",
   "name": "python",
   "nbconvert_exporter": "python",
   "pygments_lexer": "ipython3",
   "version": "3.8.8"
  }
 },
 "nbformat": 4,
 "nbformat_minor": 4
}
