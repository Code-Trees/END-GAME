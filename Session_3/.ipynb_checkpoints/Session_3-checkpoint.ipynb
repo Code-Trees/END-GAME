{
 "cells": [
  {
   "cell_type": "markdown",
   "id": "c3d289c5-89ba-475e-ab06-288039987180",
   "metadata": {},
   "source": [
    "### %autosave 20"
   ]
  },
  {
   "cell_type": "code",
   "execution_count": 1,
   "id": "4a2f7e37-e435-4cfb-b274-905b1108ec89",
   "metadata": {},
   "outputs": [],
   "source": [
    "from IPython.core.interactiveshell import InteractiveShell\n",
    "InteractiveShell.ast_node_interactivity = 'all'"
   ]
  },
  {
   "cell_type": "code",
   "execution_count": 2,
   "id": "d7ec7d4f-3299-4b58-b4e4-2c05268939fc",
   "metadata": {},
   "outputs": [],
   "source": [
    "import math\n",
    "import numpy as np\n",
    "\n",
    "import torch\n",
    "import torch.nn as nn\n",
    "import torch.nn.functional as F\n",
    "import torch.optim as optim\n",
    "from torch.utils.data import Dataset, DataLoader\n",
    "from torchvision import datasets, models,transforms\n",
    "\n",
    "from tqdm import tqdm\n",
    "from torchsummary import summary\n",
    "\n",
    "from utils import *\n",
    "\n",
    "from rf_calc import receptive_field"
   ]
  },
  {
   "cell_type": "code",
   "execution_count": 3,
   "id": "8c0285a9-faf7-4d0e-af5a-06bef645aef4",
   "metadata": {},
   "outputs": [],
   "source": [
    "def gpu_check(seed_val = 1):\n",
    "    print('The Seed is set to {}'.format(seed_val))\n",
    "    if torch.cuda.is_available():\n",
    "        print('Model will Run on CUDA.')\n",
    "        print (\"Type 'watch nvidia-smi' to monitor GPU\\n\")\n",
    "        torch.cuda.manual_seed(seed_val)\n",
    "        device = 'cuda'\n",
    "    else:\n",
    "        torch.manual_seed(seed_val)\n",
    "        print ('Running in CPU')\n",
    "        device = 'cpu'\n",
    "    cuda = torch.cuda.is_available()\n",
    "    return cuda,seed_val,device"
   ]
  },
  {
   "cell_type": "code",
   "execution_count": 4,
   "id": "955eec80-f828-4e17-939f-3cc537c6e12d",
   "metadata": {},
   "outputs": [
    {
     "name": "stdout",
     "output_type": "stream",
     "text": [
      "The Seed is set to 1\n",
      "Model will Run on CUDA.\n",
      "Type 'watch nvidia-smi' to monitor GPU\n",
      "\n"
     ]
    }
   ],
   "source": [
    "cuda,SEED,device = gpu_check(seed_val=1)"
   ]
  },
  {
   "cell_type": "code",
   "execution_count": 5,
   "id": "1cff32d4-f0e8-4175-bc2b-f208b45435c4",
   "metadata": {},
   "outputs": [],
   "source": [
    "# Train transformations\n",
    "train_transforms = transforms.Compose([ transforms.ColorJitter(brightness=0.10, contrast=0.1, saturation=0.10, hue=0.1),\n",
    "                                        transforms.ToTensor(),\n",
    "                                        transforms.Normalize((0.1307,), (0.3081,)) # The mean and std have to be sequences (e.g., tuples), therefore you should add a comma after the values. \n",
    "                                       ])\n",
    "\n",
    "# Test transformations\n",
    "test_transforms = transforms.Compose([ transforms.ColorJitter(brightness=0.10, contrast=0.1, saturation=0.10, hue=0.1),\n",
    "                                       transforms.ToTensor(),\n",
    "                                       transforms.Normalize((0.1307,), (0.3081,))\n",
    "                                       ])\n"
   ]
  },
  {
   "cell_type": "code",
   "execution_count": 6,
   "id": "836552f1-fb6e-4780-b115-3224996c2bc1",
   "metadata": {},
   "outputs": [],
   "source": [
    "train_d = datasets.MNIST('/home/jd/Desktop/DATASET/data', train=True, download=True, transform=train_transforms)\n",
    "test_d = datasets.MNIST('/home/jd/Desktop/DATASET/data', train=False, download=True, transform=test_transforms)"
   ]
  },
  {
   "cell_type": "code",
   "execution_count": null,
   "id": "37568cf3-fa50-43f0-b1d0-21ac61c95d0a",
   "metadata": {},
   "outputs": [],
   "source": []
  },
  {
   "cell_type": "code",
   "execution_count": 7,
   "id": "a5774a3e-78be-4de9-8c44-f05fdfc9b4c1",
   "metadata": {},
   "outputs": [],
   "source": [
    "def data_generator(typ ,MNIST,N):\n",
    "    X = torch.randint(low=0, high=10, size=(N,))\n",
    "    \n",
    "    if typ == 'train':\n",
    "        image = train_d.train_data\n",
    "        labels = train_d.train_labels\n",
    "    elif typ == 'test':\n",
    "        image = test_d.test_data\n",
    "        labels = test_d.test_labels\n",
    "    else:\n",
    "        print ('Input the Type')\n",
    "        \n",
    "    return image,labels,X,X+labels"
   ]
  },
  {
   "cell_type": "code",
   "execution_count": 8,
   "id": "19d276d4-2df4-43bb-b784-1f67baf174d5",
   "metadata": {},
   "outputs": [],
   "source": [
    "class MNISTRandom_loader(Dataset,):\n",
    "\n",
    "    def __init__(self,Image,Image_lables, X,transform=None):\n",
    "\n",
    "        self.image = Image.float()\n",
    "        self.image_labels = Image_lables\n",
    "        self.Y = X + self.image_labels\n",
    "        self.Y = F.one_hot(self.Y,num_classes =19 )\n",
    "        self.X = F.one_hot(X,num_classes = 10)\n",
    "        self.transform = transform\n",
    "        \n",
    "    def __len__(self):\n",
    "        return len(self.image_labels)\n",
    "\n",
    "    def __getitem__(self, idx):\n",
    "        \n",
    "        if self.transform:\n",
    "            self.image = self.transform(self.image)\n",
    "            \n",
    "#         return self.image, self.image_labels, self.X,self.Y\n",
    "            \n",
    "        return self.image[idx,:].reshape(1,28,28), self.image_labels[idx], self.X[idx,:], self.Y[idx,:]"
   ]
  },
  {
   "cell_type": "code",
   "execution_count": 9,
   "id": "52000e3e-651f-4767-a374-b440dca6931d",
   "metadata": {},
   "outputs": [
    {
     "name": "stderr",
     "output_type": "stream",
     "text": [
      "/home/jd/anaconda3/envs/eva5/lib/python3.8/site-packages/torchvision/datasets/mnist.py:54: UserWarning: train_labels has been renamed targets\n",
      "  warnings.warn(\"train_labels has been renamed targets\")\n",
      "/home/jd/anaconda3/envs/eva5/lib/python3.8/site-packages/torchvision/datasets/mnist.py:64: UserWarning: train_data has been renamed data\n",
      "  warnings.warn(\"train_data has been renamed data\")\n",
      "/home/jd/anaconda3/envs/eva5/lib/python3.8/site-packages/torchvision/datasets/mnist.py:59: UserWarning: test_labels has been renamed targets\n",
      "  warnings.warn(\"test_labels has been renamed targets\")\n",
      "/home/jd/anaconda3/envs/eva5/lib/python3.8/site-packages/torchvision/datasets/mnist.py:69: UserWarning: test_data has been renamed data\n",
      "  warnings.warn(\"test_data has been renamed data\")\n"
     ]
    }
   ],
   "source": [
    "train_images,train_labels,train_random_num,train_labels2 = data_generator('train',train_d,train_d.train_labels.shape[0])\n",
    "test_images,test_labels,test_random_num,test_labels2 = data_generator('test',test_d,test_d.test_labels.shape[0])"
   ]
  },
  {
   "cell_type": "code",
   "execution_count": 10,
   "id": "99ae6d91-8bec-45ab-ba9f-18c8ae73b0b5",
   "metadata": {},
   "outputs": [],
   "source": [
    "train_data = MNISTRandom_loader(train_images,train_labels,train_random_num)\n",
    "test_data = MNISTRandom_loader(test_images,test_labels,test_random_num)"
   ]
  },
  {
   "cell_type": "code",
   "execution_count": 11,
   "id": "6d828267-50f1-4f10-bea9-75861674d7c2",
   "metadata": {},
   "outputs": [
    {
     "data": {
      "text/plain": [
       "torch.Size([10000, 28, 28])"
      ]
     },
     "execution_count": 11,
     "metadata": {},
     "output_type": "execute_result"
    }
   ],
   "source": [
    "test_data.image.shape"
   ]
  },
  {
   "cell_type": "raw",
   "id": "9678c6d8-4fd9-4334-aa4d-1f111c3b29c3",
   "metadata": {},
   "source": [
    "count = 0\n",
    "for p in range(0,1000):\n",
    "    if (train_random_num[p].item() == count) & (count <=9) :\n",
    "        \n",
    "        train_random_num[p].item()\n",
    "        train_data.X[p,:]\n",
    "        train_data.image_labels[p]\n",
    "        train_data.Y[p]\n",
    "        print (\"+++++++++++\")\n",
    "        count+= 1"
   ]
  },
  {
   "cell_type": "code",
   "execution_count": 12,
   "id": "de7ef5f8-ff44-4e93-b025-0810a21111b2",
   "metadata": {},
   "outputs": [],
   "source": [
    "cuda = torch.cuda.is_available()"
   ]
  },
  {
   "cell_type": "code",
   "execution_count": 13,
   "id": "b1a64069-451d-4e67-8495-4b22a94d2ef3",
   "metadata": {},
   "outputs": [],
   "source": [
    "dataloader_args = dict(shuffle=True, batch_size=128, num_workers=4, pin_memory=True) if cuda else dict(shuffle=True, batch_size=64)"
   ]
  },
  {
   "cell_type": "code",
   "execution_count": 14,
   "id": "082bc31d-bd9d-487e-9197-2bb7f5827446",
   "metadata": {},
   "outputs": [],
   "source": [
    "train_loader = DataLoader(train_data, **dataloader_args)\n",
    "test_loader = DataLoader(test_data, **dataloader_args)"
   ]
  },
  {
   "cell_type": "code",
   "execution_count": null,
   "id": "a7bae9ff-1102-4863-a221-035377dd42a5",
   "metadata": {},
   "outputs": [],
   "source": []
  },
  {
   "cell_type": "code",
   "execution_count": 15,
   "id": "472f3de9-6d43-481d-beea-1edc6329d762",
   "metadata": {},
   "outputs": [],
   "source": [
    "class MNISt(nn.Module):\n",
    "    def __init__(self):\n",
    "        super(MNISt, self).__init__()\n",
    "        dropout_value = 0.01\n",
    "        # Input Block\n",
    "        self.convblock1 = nn.Sequential(\n",
    "            nn.Conv2d(in_channels=1, out_channels=10, kernel_size=(3, 3), padding=0, bias=False),\n",
    "            nn.BatchNorm2d(10),\n",
    "            nn.ReLU(),\n",
    "            nn.Dropout(dropout_value)\n",
    "        ) # input_size = 28 output_size = 26 receptive_field = 3\n",
    "\n",
    "        # CONVOLUTION BLOCK 1\n",
    "        self.convblock2 = nn.Sequential(\n",
    "            nn.Conv2d(in_channels=10, out_channels=10, kernel_size=(3, 3), padding=0, bias=False),\n",
    "            nn.BatchNorm2d(10),\n",
    "            nn.ReLU(),\n",
    "            nn.Dropout(dropout_value)\n",
    "        ) # input_size = 26 output_size = 24 receptive_field = 5\n",
    "        self.convblock3 = nn.Sequential(\n",
    "            nn.Conv2d(in_channels=10, out_channels=15, kernel_size=(3, 3), padding=0, bias=False),\n",
    "            nn.BatchNorm2d(15),\n",
    "            nn.ReLU(),\n",
    "        ) # input_size = 24 output_size = 22 receptive_field = 7\n",
    "\n",
    "        # TRANSITION BLOCK 1\n",
    "        self.pool1 = nn.MaxPool2d(2, 2) # input_size = 22 output_size = 11 receptive_field = 9\n",
    "        \n",
    "        self.convblock4 = nn.Sequential(\n",
    "            nn.Conv2d(in_channels=15, out_channels=10, kernel_size=(1, 1), padding=0, bias=False),\n",
    "            nn.BatchNorm2d(10),\n",
    "            nn.ReLU(),\n",
    "            nn.Dropout(dropout_value)\n",
    "        ) # input_size = 11 output_size = 11 receptive_field = 9\n",
    "\n",
    "        # CONVOLUTION BLOCK 2\n",
    "        self.convblock5 = nn.Sequential(\n",
    "            nn.Conv2d(in_channels=10, out_channels=10, kernel_size=(3, 3), padding=0, bias=False),\n",
    "            nn.BatchNorm2d(10),\n",
    "            nn.ReLU(),\n",
    "            nn.Dropout(dropout_value)\n",
    "        ) # input_size = 11 output_size = 9 receptive_field = 13\n",
    "        self.convblock6 = nn.Sequential(\n",
    "            nn.Conv2d(in_channels=10, out_channels=10, kernel_size=(3, 3), padding=0, bias=False),\n",
    "            nn.BatchNorm2d(10),\n",
    "            nn.ReLU(),\n",
    "            nn.Dropout(dropout_value)\n",
    "        ) # input_size = 9 output_size = 7 receptive_field = 17\n",
    "        self.convblock7 = nn.Sequential(\n",
    "            nn.Conv2d(in_channels=10, out_channels=10, kernel_size=(3, 3), padding=0, bias=False),\n",
    "            nn.BatchNorm2d(10),\n",
    "            nn.ReLU(),\n",
    "            nn.Dropout(dropout_value)\n",
    "        ) # input_size = 7 output_size = 5 receptive_field = 21\n",
    "        # OUTPUT BLOCK\n",
    "        self.convblock8 = nn.Sequential(\n",
    "            nn.Conv2d(in_channels=10, out_channels=10, kernel_size=(5, 5), padding=0, bias=False)\n",
    "        ) # input_size = 5 output_size = 1  receptive_field = 29\n",
    "        \n",
    "\n",
    "    def forward(self, x):\n",
    "#         print (x.shape)\n",
    "        x = self.convblock1(x)\n",
    "        x = self.convblock2(x)\n",
    "        x = self.convblock3(x)\n",
    "        x = self.pool1(x)\n",
    "        x = self.convblock4(x)\n",
    "        x = self.convblock5(x)\n",
    "        x = self.convblock6(x)\n",
    "        x = self.convblock7(x)\n",
    "        x = self.convblock8(x)\n",
    "#         print (y.shape)\n",
    "        x = x.view(-1, 10)\n",
    "        out = F.log_softmax(x, dim=-1)\n",
    "        return x,out\n",
    "    \n",
    "    def backward(self, retain_variables=True):\n",
    "        #Why is retain_variables True??\n",
    "        self.loss.backward(retain_variables=retain_variables)\n",
    "        return self.loss"
   ]
  },
  {
   "cell_type": "code",
   "execution_count": 16,
   "id": "afb65891-463a-4125-bb63-3873038989ba",
   "metadata": {},
   "outputs": [],
   "source": [
    "model1 = MNISt().to(device)"
   ]
  },
  {
   "cell_type": "code",
   "execution_count": 17,
   "id": "c3d8bd10-623d-4674-a180-ba900cd9c901",
   "metadata": {},
   "outputs": [
    {
     "name": "stdout",
     "output_type": "stream",
     "text": [
      "=======================================Reciptive Field Calculator========================================\n",
      "|    | Kernel_size   | Padding   |   Stride | Input_Img_size   | Output_Img_size   | Receptive_field   |\n",
      "|---:|:--------------|:----------|---------:|:-----------------|:------------------|:------------------|\n",
      "|  0 | 3*3           | NO        |        1 | 28*28            | 26*26             | 3*3               |\n",
      "|  1 | 3*3           | NO        |        1 | 26*26            | 24*24             | 5*5               |\n",
      "|  2 | 3*3           | NO        |        1 | 24*24            | 22*22             | 7*7               |\n",
      "|  3 | 2*2           | NO        |        2 | 22*22            | 11*11             | 8*8               |\n",
      "|  4 | 1*1           | NO        |        1 | 11*11            | 11*11             | 8*8               |\n",
      "|  5 | 3*3           | NO        |        1 | 11*11            | 9*9               | 12*12             |\n",
      "|  6 | 3*3           | NO        |        1 | 9*9              | 7*7               | 16*16             |\n",
      "|  7 | 3*3           | NO        |        1 | 7*7              | 5*5               | 20*20             |\n",
      "|  8 | 5*5           | NO        |        1 | 5*5              | 1*1               | 28*28             |\n",
      "=========================================================================================================\n"
     ]
    }
   ],
   "source": [
    "_ = receptive_field(model1,28)"
   ]
  },
  {
   "cell_type": "code",
   "execution_count": null,
   "id": "1fc6629d-6ae2-45f9-a5f5-cd48f4e7e1d5",
   "metadata": {},
   "outputs": [],
   "source": []
  },
  {
   "cell_type": "code",
   "execution_count": 18,
   "id": "20df3889-fb1d-4222-935a-c352528f8730",
   "metadata": {},
   "outputs": [],
   "source": [
    "class MNISTadder(nn.Module):\n",
    "    def __init__(self):\n",
    "        super(MNISTadder,self).__init__()\n",
    "        dropout_value = 0.01\n",
    "        self.mnist_mode = MNISt().to('cuda')\n",
    "        \n",
    "        self.layer1 = nn.Sequential(nn.Linear(in_features=20,out_features=32),\n",
    "                            nn.BatchNorm1d(32),\n",
    "                            nn.ReLU(),\n",
    "                            nn.Dropout(dropout_value)\n",
    "                                   )\n",
    "\n",
    "        self.layer2 = nn.Sequential(nn.Linear(in_features=32,out_features=64),\n",
    "                            nn.BatchNorm1d(64),\n",
    "                            nn.ReLU(),\n",
    "                            nn.Dropout(dropout_value)\n",
    "                                   )\n",
    "\n",
    "        self.layer3 = nn.Sequential(nn.Linear(in_features=64,out_features=128),\n",
    "                            nn.BatchNorm1d(128),\n",
    "                            nn.ReLU(),\n",
    "                            nn.Dropout(dropout_value)\n",
    "                                   )\n",
    "\n",
    "        self.model2_out = nn.Linear(in_features=128,out_features=19)\n",
    "        #         self.model1_out = nn.Linear(in_features=32,out_features=10)\n",
    "        \n",
    "    def forward(self,mnist_img,Num ):\n",
    "        \n",
    "        mnist_d,pred_image = self.mnist_mode(mnist_img)\n",
    "        mnist_number = torch.cat([mnist_d,Num],dim  = -1)\n",
    "        \n",
    "        x = self.layer1(mnist_number)\n",
    "        x = self.layer2(x)\n",
    "        x = self.layer3(x)\n",
    "        out2 = self.model2_out(x)\n",
    "        return pred_image,out2"
   ]
  },
  {
   "cell_type": "code",
   "execution_count": 19,
   "id": "34bb3a11-7c0c-4855-8532-07ecfa28cdea",
   "metadata": {},
   "outputs": [
    {
     "name": "stdout",
     "output_type": "stream",
     "text": [
      "Model can run on CUDA cuda\n"
     ]
    }
   ],
   "source": [
    "use_cuda = torch.cuda.is_available()\n",
    "device = torch.device(\"cuda\" if use_cuda else \"cpu\")\n",
    "\n",
    "print(f'Model can run on CUDA {device}')\n",
    "\n",
    "model2 = MNISTadder().to(device)"
   ]
  },
  {
   "cell_type": "code",
   "execution_count": 20,
   "id": "bd7892fb-f409-49a2-a1bc-9ec8bf510037",
   "metadata": {},
   "outputs": [],
   "source": [
    "train_losses_image = []\n",
    "train_losses_random = []\n",
    "\n",
    "test_losses_image = []\n",
    "test_losses_random = []\n",
    "\n",
    "train_acc = []\n",
    "test_acc = []"
   ]
  },
  {
   "cell_type": "code",
   "execution_count": null,
   "id": "dc320fa8-0846-4e65-8e26-48fbb64e0f48",
   "metadata": {},
   "outputs": [],
   "source": []
  },
  {
   "cell_type": "code",
   "execution_count": null,
   "id": "c4bd6b7e-26d9-4941-935e-5e6e1db8d87d",
   "metadata": {},
   "outputs": [],
   "source": []
  },
  {
   "cell_type": "code",
   "execution_count": 21,
   "id": "45855218-9b00-4b27-8839-11fcb5202c5c",
   "metadata": {},
   "outputs": [],
   "source": [
    "def accuracy(model, ds):\n",
    "    # assumes model.eval()\n",
    "    n_correct = 0; n_wrong = 0\n",
    "    # using loader avoids resize() issues\n",
    "    ldr = DataLoader(ds, batch_size=1,shuffle=False)\n",
    "    for _, (data1,target1,data2,target2) in enumerate(ldr):\n",
    "        data,target = data.to('cuda'),target.to('cuda')\n",
    "        X = data\n",
    "        Y = target\n",
    "        with torch.no_grad():\n",
    "            y_pred1,y_pred2 = model(data1,data2)  # probs form    \n",
    "        if torch.argmax(Y) == torch.argmax(oupt):\n",
    "            n_correct += 1\n",
    "        else:\n",
    "            n_wrong += 1\n",
    "    acc = (n_correct * 1.0) / (n_correct + n_wrong)\n",
    "    return acc"
   ]
  },
  {
   "cell_type": "code",
   "execution_count": 22,
   "id": "f4daa828-965f-4c5c-acb9-73ec0035bebf",
   "metadata": {},
   "outputs": [],
   "source": [
    "def total_loss(y_pred1, target1,y_pred2, target2):\n",
    "#     loss_fun = torch.nn.MSELoss()\n",
    "    loss_fun = nn.CrossEntropyLoss()\n",
    "    loss1,loss2 = F.nll_loss(y_pred1, target1), loss_fun(y_pred2,target2)\n",
    "    return loss1,loss2"
   ]
  },
  {
   "cell_type": "code",
   "execution_count": null,
   "id": "1e098efa-425d-4ff0-9c1a-301da704636d",
   "metadata": {},
   "outputs": [],
   "source": []
  },
  {
   "cell_type": "code",
   "execution_count": 23,
   "id": "ebd98b70-5f3c-4069-af44-e9f30047839d",
   "metadata": {},
   "outputs": [],
   "source": [
    "def train(model, device, train_loader, optimizer, epoch,train_data):\n",
    "    model.train()\n",
    "    pbar = tqdm(train_loader)\n",
    "    correct = 0\n",
    "    processed = 0\n",
    "    second_correct = 0\n",
    "    for batch_idx, (data1,target1,data2,target2) in enumerate(pbar):\n",
    "        # get samples\n",
    "        data1, target1 = data1.to(device), target1.to(device)\n",
    "        data2, target2 = data2.to(device), target2.to(device)\n",
    "        # Init\n",
    "        optimizer.zero_grad()\n",
    "        # In PyTorch, we need to set the gradients to zero before starting to do backpropragation because PyTorch accumulates the gradients on subsequent backward passes. \n",
    "        # Because of this, when you start your training loop, ideally you should zero out the gradients so that you do the parameter update correctly.\n",
    "\n",
    "        # Predict\n",
    "        y_pred1,y_pred2 = model(data1,data2)\n",
    "\n",
    "        # Calculate loss\n",
    "        loss1,loss2 = total_loss(y_pred1, target1,y_pred2, target2.argmax(dim = 1))\n",
    "        loss = loss1+loss2\n",
    "        train_losses_image.append(loss)\n",
    "        train_losses_random.append(loss)\n",
    " \n",
    "        # Backpropagation\n",
    "#         loss1.backward(retain_graph=True)\n",
    "#         loss2.backward()\n",
    "        loss.backward()\n",
    "        optimizer.step()\n",
    "\n",
    "        # Update pbar-tqdm\n",
    "\n",
    "        pred = y_pred1.argmax(dim=1, keepdim=True)  # get the index of the max log-probability\n",
    "        correct += pred.eq(target1.view_as(pred)).sum().item()\n",
    "        processed += len(data1)\n",
    "        \n",
    "        second_correct += y_pred2.argmax(dim =1).eq(target2.argmax(dim = 1)).sum().item()\n",
    "        \n",
    "        pbar.set_description(desc= f' Loss1={loss1.item() } and loss2 {loss2.item()} Batch_id={batch_idx} Accuracy1={100*correct/processed:0.2f},Accuracy2={100*second_correct/processed:0.2f}')\n",
    "        train_acc.append(100*correct/processed)"
   ]
  },
  {
   "cell_type": "code",
   "execution_count": null,
   "id": "0621b4cb-b580-4928-b9d1-da28448fe698",
   "metadata": {},
   "outputs": [],
   "source": []
  },
  {
   "cell_type": "raw",
   "id": "826d7cee-5318-4eb8-86ba-0ea734e120f4",
   "metadata": {},
   "source": []
  },
  {
   "cell_type": "code",
   "execution_count": 24,
   "id": "55ed933a-ebc2-430e-be07-381b31397ed5",
   "metadata": {},
   "outputs": [],
   "source": [
    "def test(model, device, test_loader):\n",
    "    model.eval()\n",
    "    test_losses1 = 0\n",
    "    test_losses2 = 0\n",
    "    test_loss = 0\n",
    "    correct = 0\n",
    "    second_correct = 0\n",
    "    with torch.no_grad():\n",
    "        for data1,target1,data2,target2 in test_loader:\n",
    "            data1, target1 = data1.to(device), target1.to(device)\n",
    "            data2, target2 = data2.to(device), target2.to(device)\n",
    "            \n",
    "            y_pred1,y_pred2 = model(data1,data2)\n",
    "            loss1,loss2 = total_loss(y_pred1, target1,y_pred2, target2.argmax(dim = 1))\n",
    "            test_losses1 += loss1.item() # sum up batch loss\n",
    "            test_losses2 += loss2.item() # sum up batch loss\n",
    "            pred = y_pred1.argmax(dim=1, keepdim=True)  # get the index of the max log-probability\n",
    "            correct += pred.eq(target1.view_as(pred)).sum().item()\n",
    "            second_correct += y_pred2.argmax(dim =1).eq(target2.argmax(dim = 1)).sum().item()\n",
    "            \n",
    "    test_loss /= len(test_loader.dataset)\n",
    "    test_losses_image.append(test_losses1)\n",
    "    test_losses_random.append(test_losses2)\n",
    "\n",
    "    print('\\nTest set: Average loss: {:.4f}, Accuracy1: {}/{} ({:.2f}%),Accuracy2: {}/{} ({:.2f}%)\\n'.format(test_loss,\n",
    "                                                                                                             correct,len(test_loader.dataset),100. * correct / len(test_loader.dataset) ,second_correct,len(test_loader.dataset),\n",
    "                                                                                                             100. * second_correct / len(test_loader.dataset)))\n",
    "    test_acc.append(100. * correct / len(test_loader.dataset))"
   ]
  },
  {
   "cell_type": "code",
   "execution_count": null,
   "id": "36efe575-d597-4ba2-a14e-9afe8d1fd585",
   "metadata": {},
   "outputs": [],
   "source": []
  },
  {
   "cell_type": "code",
   "execution_count": 25,
   "id": "5d70a384-9f5c-48ad-8aa9-6678a5c9710b",
   "metadata": {
    "tags": []
   },
   "outputs": [
    {
     "name": "stderr",
     "output_type": "stream",
     "text": [
      "  0%|          | 0/469 [00:00<?, ?it/s]"
     ]
    },
    {
     "name": "stdout",
     "output_type": "stream",
     "text": [
      "EPOCH: 0\n"
     ]
    },
    {
     "name": "stderr",
     "output_type": "stream",
     "text": [
      " Loss1=0.0883975699543953 and loss2 0.20725907385349274 Batch_id=468 Accuracy1=93.50,Accuracy2=72.54: 100%|██████████| 469/469 [00:10<00:00, 43.89it/s]  \n",
      "  0%|          | 0/469 [00:00<?, ?it/s]"
     ]
    },
    {
     "name": "stdout",
     "output_type": "stream",
     "text": [
      "\n",
      "Test set: Average loss: 0.0000, Accuracy1: 9834/10000 (98.34%),Accuracy2: 9743/10000 (97.43%)\n",
      "\n",
      "EPOCH: 1\n"
     ]
    },
    {
     "name": "stderr",
     "output_type": "stream",
     "text": [
      " Loss1=0.05928048491477966 and loss2 0.16008220613002777 Batch_id=468 Accuracy1=98.22,Accuracy2=96.16: 100%|██████████| 469/469 [00:10<00:00, 43.18it/s] \n",
      "  0%|          | 0/469 [00:00<?, ?it/s]"
     ]
    },
    {
     "name": "stdout",
     "output_type": "stream",
     "text": [
      "\n",
      "Test set: Average loss: 0.0000, Accuracy1: 9867/10000 (98.67%),Accuracy2: 9821/10000 (98.21%)\n",
      "\n",
      "EPOCH: 2\n"
     ]
    },
    {
     "name": "stderr",
     "output_type": "stream",
     "text": [
      " Loss1=0.02728169970214367 and loss2 0.09155096858739853 Batch_id=468 Accuracy1=98.63,Accuracy2=97.17: 100%|██████████| 469/469 [00:10<00:00, 44.62it/s]  \n",
      "  0%|          | 0/469 [00:00<?, ?it/s]"
     ]
    },
    {
     "name": "stdout",
     "output_type": "stream",
     "text": [
      "\n",
      "Test set: Average loss: 0.0000, Accuracy1: 9869/10000 (98.69%),Accuracy2: 9841/10000 (98.41%)\n",
      "\n",
      "EPOCH: 3\n"
     ]
    },
    {
     "name": "stderr",
     "output_type": "stream",
     "text": [
      " Loss1=0.046822890639305115 and loss2 0.07904442399740219 Batch_id=468 Accuracy1=98.82,Accuracy2=97.63: 100%|██████████| 469/469 [00:10<00:00, 44.14it/s] \n",
      "  0%|          | 0/469 [00:00<?, ?it/s]"
     ]
    },
    {
     "name": "stdout",
     "output_type": "stream",
     "text": [
      "\n",
      "Test set: Average loss: 0.0000, Accuracy1: 9883/10000 (98.83%),Accuracy2: 9865/10000 (98.65%)\n",
      "\n",
      "EPOCH: 4\n"
     ]
    },
    {
     "name": "stderr",
     "output_type": "stream",
     "text": [
      " Loss1=0.04686601459980011 and loss2 0.11249015480279922 Batch_id=468 Accuracy1=98.98,Accuracy2=98.03: 100%|██████████| 469/469 [00:10<00:00, 44.91it/s]  \n",
      "  0%|          | 0/469 [00:00<?, ?it/s]"
     ]
    },
    {
     "name": "stdout",
     "output_type": "stream",
     "text": [
      "\n",
      "Test set: Average loss: 0.0000, Accuracy1: 9888/10000 (98.88%),Accuracy2: 9880/10000 (98.80%)\n",
      "\n",
      "EPOCH: 5\n"
     ]
    },
    {
     "name": "stderr",
     "output_type": "stream",
     "text": [
      " Loss1=0.08430001884698868 and loss2 0.12337883561849594 Batch_id=468 Accuracy1=99.00,Accuracy2=98.19: 100%|██████████| 469/469 [00:10<00:00, 44.69it/s]  \n",
      "  0%|          | 0/469 [00:00<?, ?it/s]"
     ]
    },
    {
     "name": "stdout",
     "output_type": "stream",
     "text": [
      "\n",
      "Test set: Average loss: 0.0000, Accuracy1: 9917/10000 (99.17%),Accuracy2: 9883/10000 (98.83%)\n",
      "\n",
      "EPOCH: 6\n"
     ]
    },
    {
     "name": "stderr",
     "output_type": "stream",
     "text": [
      " Loss1=0.008237090893089771 and loss2 0.013756245374679565 Batch_id=468 Accuracy1=99.12,Accuracy2=98.30: 100%|██████████| 469/469 [00:10<00:00, 44.74it/s]\n",
      "  0%|          | 0/469 [00:00<?, ?it/s]"
     ]
    },
    {
     "name": "stdout",
     "output_type": "stream",
     "text": [
      "\n",
      "Test set: Average loss: 0.0000, Accuracy1: 9922/10000 (99.22%),Accuracy2: 9894/10000 (98.94%)\n",
      "\n",
      "EPOCH: 7\n"
     ]
    },
    {
     "name": "stderr",
     "output_type": "stream",
     "text": [
      " Loss1=0.04475908353924751 and loss2 0.019311606884002686 Batch_id=468 Accuracy1=99.17,Accuracy2=98.45: 100%|██████████| 469/469 [00:10<00:00, 45.19it/s] \n",
      "  0%|          | 0/469 [00:00<?, ?it/s]"
     ]
    },
    {
     "name": "stdout",
     "output_type": "stream",
     "text": [
      "\n",
      "Test set: Average loss: 0.0000, Accuracy1: 9898/10000 (98.98%),Accuracy2: 9882/10000 (98.82%)\n",
      "\n",
      "EPOCH: 8\n"
     ]
    },
    {
     "name": "stderr",
     "output_type": "stream",
     "text": [
      " Loss1=0.021745340898633003 and loss2 0.03174702450633049 Batch_id=468 Accuracy1=99.26,Accuracy2=98.55: 100%|██████████| 469/469 [00:10<00:00, 44.99it/s]  \n",
      "  0%|          | 0/469 [00:00<?, ?it/s]"
     ]
    },
    {
     "name": "stdout",
     "output_type": "stream",
     "text": [
      "\n",
      "Test set: Average loss: 0.0000, Accuracy1: 9919/10000 (99.19%),Accuracy2: 9911/10000 (99.11%)\n",
      "\n",
      "EPOCH: 9\n"
     ]
    },
    {
     "name": "stderr",
     "output_type": "stream",
     "text": [
      " Loss1=0.07114315778017044 and loss2 0.050756972283124924 Batch_id=468 Accuracy1=99.29,Accuracy2=98.63: 100%|██████████| 469/469 [00:10<00:00, 45.04it/s]  \n",
      "  0%|          | 0/469 [00:00<?, ?it/s]"
     ]
    },
    {
     "name": "stdout",
     "output_type": "stream",
     "text": [
      "\n",
      "Test set: Average loss: 0.0000, Accuracy1: 9908/10000 (99.08%),Accuracy2: 9879/10000 (98.79%)\n",
      "\n",
      "EPOCH: 10\n"
     ]
    },
    {
     "name": "stderr",
     "output_type": "stream",
     "text": [
      " Loss1=0.02351284958422184 and loss2 0.017306605353951454 Batch_id=468 Accuracy1=99.28,Accuracy2=98.76: 100%|██████████| 469/469 [00:10<00:00, 46.02it/s]  \n",
      "  0%|          | 0/469 [00:00<?, ?it/s]"
     ]
    },
    {
     "name": "stdout",
     "output_type": "stream",
     "text": [
      "\n",
      "Test set: Average loss: 0.0000, Accuracy1: 9917/10000 (99.17%),Accuracy2: 9906/10000 (99.06%)\n",
      "\n",
      "EPOCH: 11\n"
     ]
    },
    {
     "name": "stderr",
     "output_type": "stream",
     "text": [
      " Loss1=0.06890641152858734 and loss2 0.07269681990146637 Batch_id=468 Accuracy1=99.38,Accuracy2=98.83: 100%|██████████| 469/469 [00:10<00:00, 44.47it/s]    \n",
      "  0%|          | 0/469 [00:00<?, ?it/s]"
     ]
    },
    {
     "name": "stdout",
     "output_type": "stream",
     "text": [
      "\n",
      "Test set: Average loss: 0.0000, Accuracy1: 9917/10000 (99.17%),Accuracy2: 9896/10000 (98.96%)\n",
      "\n",
      "EPOCH: 12\n"
     ]
    },
    {
     "name": "stderr",
     "output_type": "stream",
     "text": [
      " Loss1=0.04054577276110649 and loss2 0.04604124650359154 Batch_id=468 Accuracy1=99.39,Accuracy2=98.84: 100%|██████████| 469/469 [00:10<00:00, 44.60it/s]   \n",
      "  0%|          | 0/469 [00:00<?, ?it/s]"
     ]
    },
    {
     "name": "stdout",
     "output_type": "stream",
     "text": [
      "\n",
      "Test set: Average loss: 0.0000, Accuracy1: 9912/10000 (99.12%),Accuracy2: 9888/10000 (98.88%)\n",
      "\n",
      "EPOCH: 13\n"
     ]
    },
    {
     "name": "stderr",
     "output_type": "stream",
     "text": [
      " Loss1=0.019626779481768608 and loss2 0.027467237785458565 Batch_id=468 Accuracy1=99.36,Accuracy2=98.86: 100%|██████████| 469/469 [00:10<00:00, 44.54it/s]  \n",
      "  0%|          | 0/469 [00:00<?, ?it/s]"
     ]
    },
    {
     "name": "stdout",
     "output_type": "stream",
     "text": [
      "\n",
      "Test set: Average loss: 0.0000, Accuracy1: 9905/10000 (99.05%),Accuracy2: 9886/10000 (98.86%)\n",
      "\n",
      "EPOCH: 14\n"
     ]
    },
    {
     "name": "stderr",
     "output_type": "stream",
     "text": [
      " Loss1=0.041691288352012634 and loss2 0.018891355022788048 Batch_id=468 Accuracy1=99.47,Accuracy2=98.97: 100%|██████████| 469/469 [00:10<00:00, 44.44it/s] \n",
      "  0%|          | 0/469 [00:00<?, ?it/s]"
     ]
    },
    {
     "name": "stdout",
     "output_type": "stream",
     "text": [
      "\n",
      "Test set: Average loss: 0.0000, Accuracy1: 9915/10000 (99.15%),Accuracy2: 9899/10000 (98.99%)\n",
      "\n",
      "EPOCH: 15\n"
     ]
    },
    {
     "name": "stderr",
     "output_type": "stream",
     "text": [
      " Loss1=0.03854751959443092 and loss2 0.09390022605657578 Batch_id=468 Accuracy1=99.47,Accuracy2=98.94: 100%|██████████| 469/469 [00:10<00:00, 44.58it/s]   \n",
      "  0%|          | 0/469 [00:00<?, ?it/s]"
     ]
    },
    {
     "name": "stdout",
     "output_type": "stream",
     "text": [
      "\n",
      "Test set: Average loss: 0.0000, Accuracy1: 9918/10000 (99.18%),Accuracy2: 9899/10000 (98.99%)\n",
      "\n",
      "EPOCH: 16\n"
     ]
    },
    {
     "name": "stderr",
     "output_type": "stream",
     "text": [
      " Loss1=0.006949508097022772 and loss2 0.020576154813170433 Batch_id=468 Accuracy1=99.46,Accuracy2=98.99: 100%|██████████| 469/469 [00:10<00:00, 44.16it/s] \n",
      "  0%|          | 0/469 [00:00<?, ?it/s]"
     ]
    },
    {
     "name": "stdout",
     "output_type": "stream",
     "text": [
      "\n",
      "Test set: Average loss: 0.0000, Accuracy1: 9910/10000 (99.10%),Accuracy2: 9903/10000 (99.03%)\n",
      "\n",
      "EPOCH: 17\n"
     ]
    },
    {
     "name": "stderr",
     "output_type": "stream",
     "text": [
      " Loss1=0.006417587399482727 and loss2 0.02165362797677517 Batch_id=468 Accuracy1=99.48,Accuracy2=99.07: 100%|██████████| 469/469 [00:10<00:00, 44.46it/s]   \n",
      "  0%|          | 0/469 [00:00<?, ?it/s]"
     ]
    },
    {
     "name": "stdout",
     "output_type": "stream",
     "text": [
      "\n",
      "Test set: Average loss: 0.0000, Accuracy1: 9922/10000 (99.22%),Accuracy2: 9907/10000 (99.07%)\n",
      "\n",
      "EPOCH: 18\n"
     ]
    },
    {
     "name": "stderr",
     "output_type": "stream",
     "text": [
      " Loss1=0.0037806944455951452 and loss2 0.02263530157506466 Batch_id=468 Accuracy1=99.50,Accuracy2=99.08: 100%|██████████| 469/469 [00:10<00:00, 44.51it/s]  \n",
      "  0%|          | 0/469 [00:00<?, ?it/s]"
     ]
    },
    {
     "name": "stdout",
     "output_type": "stream",
     "text": [
      "\n",
      "Test set: Average loss: 0.0000, Accuracy1: 9922/10000 (99.22%),Accuracy2: 9913/10000 (99.13%)\n",
      "\n",
      "EPOCH: 19\n"
     ]
    },
    {
     "name": "stderr",
     "output_type": "stream",
     "text": [
      " Loss1=0.005929660517722368 and loss2 0.015265163034200668 Batch_id=468 Accuracy1=99.51,Accuracy2=99.16: 100%|██████████| 469/469 [00:10<00:00, 44.75it/s]  \n",
      "  0%|          | 0/469 [00:00<?, ?it/s]"
     ]
    },
    {
     "name": "stdout",
     "output_type": "stream",
     "text": [
      "\n",
      "Test set: Average loss: 0.0000, Accuracy1: 9911/10000 (99.11%),Accuracy2: 9896/10000 (98.96%)\n",
      "\n",
      "EPOCH: 20\n"
     ]
    },
    {
     "name": "stderr",
     "output_type": "stream",
     "text": [
      " Loss1=0.04788801074028015 and loss2 0.04052243009209633 Batch_id=468 Accuracy1=99.53,Accuracy2=99.16: 100%|██████████| 469/469 [00:10<00:00, 44.06it/s]    \n",
      "  0%|          | 0/469 [00:00<?, ?it/s]"
     ]
    },
    {
     "name": "stdout",
     "output_type": "stream",
     "text": [
      "\n",
      "Test set: Average loss: 0.0000, Accuracy1: 9907/10000 (99.07%),Accuracy2: 9903/10000 (99.03%)\n",
      "\n",
      "EPOCH: 21\n"
     ]
    },
    {
     "name": "stderr",
     "output_type": "stream",
     "text": [
      " Loss1=0.044841159135103226 and loss2 0.08125009387731552 Batch_id=468 Accuracy1=99.54,Accuracy2=99.15: 100%|██████████| 469/469 [00:10<00:00, 44.23it/s]   \n",
      "  0%|          | 0/469 [00:00<?, ?it/s]"
     ]
    },
    {
     "name": "stdout",
     "output_type": "stream",
     "text": [
      "\n",
      "Test set: Average loss: 0.0000, Accuracy1: 9918/10000 (99.18%),Accuracy2: 9903/10000 (99.03%)\n",
      "\n",
      "EPOCH: 22\n"
     ]
    },
    {
     "name": "stderr",
     "output_type": "stream",
     "text": [
      " Loss1=0.012911397032439709 and loss2 0.008549935184419155 Batch_id=468 Accuracy1=99.58,Accuracy2=99.17: 100%|██████████| 469/469 [00:10<00:00, 43.56it/s]  \n",
      "  0%|          | 0/469 [00:00<?, ?it/s]"
     ]
    },
    {
     "name": "stdout",
     "output_type": "stream",
     "text": [
      "\n",
      "Test set: Average loss: 0.0000, Accuracy1: 9925/10000 (99.25%),Accuracy2: 9915/10000 (99.15%)\n",
      "\n",
      "EPOCH: 23\n"
     ]
    },
    {
     "name": "stderr",
     "output_type": "stream",
     "text": [
      " Loss1=0.008185100741684437 and loss2 0.017711246386170387 Batch_id=468 Accuracy1=99.54,Accuracy2=99.19: 100%|██████████| 469/469 [00:10<00:00, 44.20it/s]  \n",
      "  0%|          | 0/469 [00:00<?, ?it/s]"
     ]
    },
    {
     "name": "stdout",
     "output_type": "stream",
     "text": [
      "\n",
      "Test set: Average loss: 0.0000, Accuracy1: 9924/10000 (99.24%),Accuracy2: 9915/10000 (99.15%)\n",
      "\n",
      "EPOCH: 24\n"
     ]
    },
    {
     "name": "stderr",
     "output_type": "stream",
     "text": [
      " Loss1=0.010075291618704796 and loss2 0.011189118027687073 Batch_id=468 Accuracy1=99.61,Accuracy2=99.27: 100%|██████████| 469/469 [00:10<00:00, 44.03it/s]  \n"
     ]
    },
    {
     "name": "stdout",
     "output_type": "stream",
     "text": [
      "\n",
      "Test set: Average loss: 0.0000, Accuracy1: 9926/10000 (99.26%),Accuracy2: 9913/10000 (99.13%)\n",
      "\n"
     ]
    }
   ],
   "source": [
    "model2 =  MNISTadder().to(device)\n",
    "optimizer = optim.SGD(model2.parameters(), lr=0.01, momentum=0.9)\n",
    "EPOCHS = 25\n",
    "\n",
    "device = 'cuda'\n",
    "for epoch in range(EPOCHS):\n",
    "    print(\"EPOCH:\", epoch)\n",
    "    train(model2, device, train_loader, optimizer, epoch,train_data)\n",
    "    test(model2, device, test_loader)"
   ]
  },
  {
   "cell_type": "code",
   "execution_count": null,
   "id": "cd05a9cd-33c0-4260-b155-d128f042dc10",
   "metadata": {},
   "outputs": [],
   "source": []
  },
  {
   "cell_type": "code",
   "execution_count": 26,
   "id": "00155bcd-f9e8-40be-9f15-dcfa1667651d",
   "metadata": {},
   "outputs": [],
   "source": [
    "def wrong_pred(model,test_loader,test_data,num_of_image,row,col):\n",
    "    a = model.eval()\n",
    "    miss_class  = []\n",
    "    pred_class = []\n",
    "    with torch.no_grad():\n",
    "        for data1,target1,data2,target2 in test_loader:\n",
    "            data1, target1 = data1.to(device), target1.to(device)\n",
    "            data2, target2 = data2.to(device), target2.to(device)\n",
    "            \n",
    "            y_pred1,y_pred2 = model(data1,data2)\n",
    "            \n",
    "            pred = y_pred1.argmax(dim = 1,keepdim = True)\n",
    "            pred_class.extend(list(pred.cpu().numpy()[:,0]))\n",
    "            op = pred.eq(target1.view_as (pred))\n",
    "            miss_class.extend(list(op.cpu().numpy()[:,0]))\n",
    "            \n",
    "    fig = plt.figure(figsize=(12,12))\n",
    "    count = 1\n",
    "    for ids,val in enumerate(miss_class):\n",
    "        if (val  == False) & (count <= num_of_image):\n",
    "            _ = fig.add_subplot(row,col,count)\n",
    "            _ = plt.imshow(test_data.image[ids])\n",
    "            _ = plt.axis('off')\n",
    "#             _ = model(test_data.X[ids])\n",
    "            _ = plt.title(f'Target: {test_data.X[ids].argmax().item()} + {test_data.image_labels[ids].item()} = {test_data.X[ids].argmax().item() + test_data.image_labels[ids].item()} \\n Predicted:')\n",
    "            count += 1\n",
    "    fig.savefig('Wrong_classified.png')"
   ]
  },
  {
   "cell_type": "raw",
   "id": "64d61875-ecb3-497d-853f-7c851c3bb23f",
   "metadata": {},
   "source": [
    "Actual {test_data.image_labels[ids].item()},Predicted {pred_class[ids]} "
   ]
  },
  {
   "cell_type": "code",
   "execution_count": 27,
   "id": "ed6bb148-591d-4907-940b-72139b9fa9b6",
   "metadata": {},
   "outputs": [
    {
     "data": {
      "image/png": "[encoded data removed]",
      "text/plain": [
       "<Figure size 864x864 with 30 Axes>"
      ]
     },
     "metadata": {
      "needs_background": "light"
     },
     "output_type": "display_data"
    }
   ],
   "source": [
    "wrong_pred(model2,test_loader,test_data,30,6,5)"
   ]
  },
  {
   "cell_type": "code",
   "execution_count": 28,
   "id": "9ee62236-c3c3-4348-b804-54a82e47846c",
   "metadata": {},
   "outputs": [
    {
     "data": {
      "image/png": "[encoded data removed]",
      "text/plain": [
       "<Figure size 432x288 with 1 Axes>"
      ]
     },
     "metadata": {
      "needs_background": "light"
     },
     "output_type": "display_data"
    }
   ],
   "source": [
    "_ = plt.plot(train_losses_image,color = 'black')\n",
    "_ = plt.title('Train Losses')"
   ]
  },
  {
   "cell_type": "code",
   "execution_count": 29,
   "id": "b357f977-3fdd-4bfe-a232-67d4135b7785",
   "metadata": {},
   "outputs": [
    {
     "data": {
      "image/png": "[encoded data removed]",
      "text/plain": [
       "<Figure size 432x288 with 1 Axes>"
      ]
     },
     "metadata": {
      "needs_background": "light"
     },
     "output_type": "display_data"
    }
   ],
   "source": [
    "_ = plt.plot(train_acc,color = 'black')\n",
    "_ = plt.title('Train Accuracy')"
   ]
  },
  {
   "cell_type": "code",
   "execution_count": 30,
   "id": "64c48219-17d4-4fbf-b7be-c7a19b614076",
   "metadata": {},
   "outputs": [
    {
     "data": {
      "image/png": "[encoded data removed]",
      "text/plain": [
       "<Figure size 432x288 with 1 Axes>"
      ]
     },
     "metadata": {
      "needs_background": "light"
     },
     "output_type": "display_data"
    }
   ],
   "source": [
    "_ = plt.plot(test_losses_image,color = 'green')\n",
    "_ = plt.title('Test Losses')"
   ]
  },
  {
   "cell_type": "code",
   "execution_count": 31,
   "id": "bd1e7201-97d9-4fa7-9ded-b4b763a50cb8",
   "metadata": {},
   "outputs": [
    {
     "data": {
      "image/png": "[encoded data removed]",
      "text/plain": [
       "<Figure size 432x288 with 1 Axes>"
      ]
     },
     "metadata": {
      "needs_background": "light"
     },
     "output_type": "display_data"
    }
   ],
   "source": [
    "_ = plt.plot(test_acc,color = 'green')\n",
    "_ = plt.title('Test Accuracy')"
   ]
  },
  {
   "cell_type": "code",
   "execution_count": null,
   "id": "e78f7432-1bee-4158-b2a9-27107f5ac772",
   "metadata": {},
   "outputs": [],
   "source": []
  }
 ],
 "metadata": {
  "kernelspec": {
   "display_name": "Python 3",
   "language": "python",
   "name": "python3"
  },
  "language_info": {
   "codemirror_mode": {
    "name": "ipython",
    "version": 3
   },
   "file_extension": ".py",
   "mimetype": "text/x-python",
   "name": "python",
   "nbconvert_exporter": "python",
   "pygments_lexer": "ipython3",
   "version": "3.8.8"
  }
 },
 "nbformat": 4,
 "nbformat_minor": 5
}
