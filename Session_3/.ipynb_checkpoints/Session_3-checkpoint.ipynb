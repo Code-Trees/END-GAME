{
 "cells": [
  {
   "cell_type": "markdown",
   "id": "c3d289c5-89ba-475e-ab06-288039987180",
   "metadata": {},
   "source": [
    "### %autosave 20"
   ]
  },
  {
   "cell_type": "code",
   "execution_count": 104,
   "id": "62202a42-0228-4e8c-9265-ed6028819e92",
   "metadata": {},
   "outputs": [
    {
     "name": "stdout",
     "output_type": "stream",
     "text": [
      "jd\n",
      "/home/jd/Desktop/END-GAME/Session_3\n"
     ]
    }
   ],
   "source": [
    "!hostname -f\n",
    "!pwd"
   ]
  },
  {
   "cell_type": "code",
   "execution_count": 1,
   "id": "4a2f7e37-e435-4cfb-b274-905b1108ec89",
   "metadata": {},
   "outputs": [],
   "source": [
    "from IPython.core.interactiveshell import InteractiveShell\n",
    "InteractiveShell.ast_node_interactivity = 'all'"
   ]
  },
  {
   "cell_type": "markdown",
   "id": "2c6b7ca9-0b52-4c12-a3b7-d8000e3d7d54",
   "metadata": {},
   "source": [
    "### Importing Libraries"
   ]
  },
  {
   "cell_type": "code",
   "execution_count": 110,
   "id": "d7ec7d4f-3299-4b58-b4e4-2c05268939fc",
   "metadata": {},
   "outputs": [],
   "source": [
    "import math\n",
    "import numpy as np\n",
    "import sys\n",
    "import torch\n",
    "import torch.nn as nn\n",
    "import torch.nn.functional as F\n",
    "import torch.optim as optim\n",
    "from torch.utils.data import Dataset, DataLoader\n",
    "from torchvision import datasets, models,transforms\n",
    "\n",
    "from tqdm import tqdm\n",
    "from torchsummary import summary\n",
    "\n",
    "from utils import *\n",
    "\n",
    "from rf_calc import receptive_field"
   ]
  },
  {
   "cell_type": "markdown",
   "id": "bb491958-9af4-4e20-924d-3261d6cedaa9",
   "metadata": {},
   "source": [
    "### Version Chcek"
   ]
  },
  {
   "cell_type": "code",
   "execution_count": 115,
   "id": "681d72ea-a45f-4484-86ba-d7206d418733",
   "metadata": {},
   "outputs": [
    {
     "data": {
      "text/plain": [
       "'Torch CUDA Version :10.2'"
      ]
     },
     "execution_count": 115,
     "metadata": {},
     "output_type": "execute_result"
    },
    {
     "data": {
      "text/plain": [
       "'Torch Version :1.8.1'"
      ]
     },
     "execution_count": 115,
     "metadata": {},
     "output_type": "execute_result"
    },
    {
     "data": {
      "text/plain": [
       "'Numpy Version :1.19.4'"
      ]
     },
     "execution_count": 115,
     "metadata": {},
     "output_type": "execute_result"
    },
    {
     "data": {
      "text/plain": [
       "'Python Version :3.8.8 (default, Feb 24 2021, 21:46:12) \\n[GCC 7.3.0]'"
      ]
     },
     "execution_count": 115,
     "metadata": {},
     "output_type": "execute_result"
    }
   ],
   "source": [
    "f'Torch CUDA Version :{torch.version.cuda}'\n",
    "f'Torch Version :{torch.__version__}'\n",
    "f'Numpy Version :{np.__version__}'\n",
    "f'Python Version :{sys.version}'"
   ]
  },
  {
   "cell_type": "markdown",
   "id": "c7484de9-8e9c-4dc8-a127-f3712fd8b9d5",
   "metadata": {},
   "source": [
    "### GUU checker "
   ]
  },
  {
   "cell_type": "code",
   "execution_count": 3,
   "id": "8c0285a9-faf7-4d0e-af5a-06bef645aef4",
   "metadata": {},
   "outputs": [],
   "source": [
    "def gpu_check(seed_val = 1):\n",
    "    print('The Seed is set to {}'.format(seed_val))\n",
    "    if torch.cuda.is_available():\n",
    "        print('Model will Run on CUDA.')\n",
    "        print (\"Type 'watch nvidia-smi' to monitor GPU\\n\")\n",
    "        torch.cuda.manual_seed(seed_val)\n",
    "        device = 'cuda'\n",
    "    else:\n",
    "        torch.manual_seed(seed_val)\n",
    "        print ('Running in CPU')\n",
    "        device = 'cpu'\n",
    "    cuda = torch.cuda.is_available()\n",
    "    return cuda,seed_val,device"
   ]
  },
  {
   "cell_type": "code",
   "execution_count": 4,
   "id": "955eec80-f828-4e17-939f-3cc537c6e12d",
   "metadata": {},
   "outputs": [
    {
     "name": "stdout",
     "output_type": "stream",
     "text": [
      "The Seed is set to 1\n",
      "Model will Run on CUDA.\n",
      "Type 'watch nvidia-smi' to monitor GPU\n",
      "\n"
     ]
    }
   ],
   "source": [
    "cuda,SEED,device = gpu_check(seed_val=1)"
   ]
  },
  {
   "cell_type": "markdown",
   "id": "f8fcaf52-5aa8-4625-84f0-262bb3973318",
   "metadata": {},
   "source": [
    "### Train/Test Transforms "
   ]
  },
  {
   "cell_type": "code",
   "execution_count": 5,
   "id": "1cff32d4-f0e8-4175-bc2b-f208b45435c4",
   "metadata": {},
   "outputs": [],
   "source": [
    "# Train transformations\n",
    "train_transforms = transforms.Compose([ transforms.ColorJitter(brightness=0.10, contrast=0.1, saturation=0.10, hue=0.1),\n",
    "                                        transforms.ToTensor(),\n",
    "                                        transforms.Normalize((0.1307,), (0.3081,)) # The mean and std have to be sequences (e.g., tuples), therefore you should add a comma after the values. \n",
    "                                       ])\n",
    "\n",
    "# Test transformations\n",
    "test_transforms = transforms.Compose([ transforms.ColorJitter(brightness=0.10, contrast=0.1, saturation=0.10, hue=0.1),\n",
    "                                       transforms.ToTensor(),\n",
    "                                       transforms.Normalize((0.1307,), (0.3081,))\n",
    "                                       ])\n"
   ]
  },
  {
   "cell_type": "markdown",
   "id": "54980573-be95-44b4-8cc9-bae9b9d3b4ae",
   "metadata": {},
   "source": [
    "### Downloading The MNIST data"
   ]
  },
  {
   "cell_type": "code",
   "execution_count": 6,
   "id": "836552f1-fb6e-4780-b115-3224996c2bc1",
   "metadata": {},
   "outputs": [],
   "source": [
    "train_d = datasets.MNIST('/home/jd/Desktop/DATASET/data', train=True, download=True, transform=train_transforms)\n",
    "test_d = datasets.MNIST('/home/jd/Desktop/DATASET/data', train=False, download=True, transform=test_transforms)"
   ]
  },
  {
   "cell_type": "code",
   "execution_count": null,
   "id": "37568cf3-fa50-43f0-b1d0-21ac61c95d0a",
   "metadata": {},
   "outputs": [],
   "source": []
  },
  {
   "cell_type": "markdown",
   "id": "9e4df34c-623a-4049-a3ea-0f8ad04e0645",
   "metadata": {},
   "source": [
    "###  Function to return Image, random number, image label , sum"
   ]
  },
  {
   "cell_type": "code",
   "execution_count": 7,
   "id": "a5774a3e-78be-4de9-8c44-f05fdfc9b4c1",
   "metadata": {},
   "outputs": [],
   "source": [
    "def data_generator(typ ,MNIST,N):\n",
    "    X = torch.randint(low=0, high=10, size=(N,))\n",
    "    \n",
    "    if typ == 'train':\n",
    "        image = train_d.train_data\n",
    "        labels = train_d.train_labels\n",
    "    elif typ == 'test':\n",
    "        image = test_d.test_data\n",
    "        labels = test_d.test_labels\n",
    "    else:\n",
    "        print ('Input the Type')\n",
    "        \n",
    "    return image,labels,X,X+labels"
   ]
  },
  {
   "cell_type": "code",
   "execution_count": null,
   "id": "27c7c1c8-7c38-4717-8180-b13d7a67b3ee",
   "metadata": {},
   "outputs": [],
   "source": []
  },
  {
   "cell_type": "markdown",
   "id": "d2464234-9200-42a0-ac64-9fa2d9ffce1b",
   "metadata": {},
   "source": [
    "### Custom Data loader "
   ]
  },
  {
   "cell_type": "code",
   "execution_count": 8,
   "id": "19d276d4-2df4-43bb-b784-1f67baf174d5",
   "metadata": {},
   "outputs": [],
   "source": [
    "class MNISTRandom_loader(Dataset,):\n",
    "\n",
    "    def __init__(self,Image,Image_lables, X,transform=None):\n",
    "\n",
    "        self.image = Image.float()\n",
    "        self.image_labels = Image_lables\n",
    "        self.Y = X + self.image_labels\n",
    "        self.Y = F.one_hot(self.Y,num_classes =19 )\n",
    "        self.X = F.one_hot(X,num_classes = 10)\n",
    "        self.transform = transform\n",
    "        \n",
    "    def __len__(self):\n",
    "        return len(self.image_labels)\n",
    "\n",
    "    def __getitem__(self, idx):\n",
    "        \n",
    "        if self.transform:\n",
    "            self.image = self.transform(self.image)\n",
    "            \n",
    "#         return self.image, self.image_labels, self.X,self.Y\n",
    "            \n",
    "        return self.image[idx,:].reshape(1,28,28), self.image_labels[idx], self.X[idx,:], self.Y[idx,:]"
   ]
  },
  {
   "cell_type": "code",
   "execution_count": null,
   "id": "e77e5e7e-6423-41d3-bed1-c15a8e1e8b87",
   "metadata": {},
   "outputs": [],
   "source": []
  },
  {
   "cell_type": "code",
   "execution_count": 10,
   "id": "52000e3e-651f-4767-a374-b440dca6931d",
   "metadata": {},
   "outputs": [],
   "source": [
    "train_images,train_labels,train_random_num,train_labels2 = data_generator('train',train_d,train_d.train_labels.shape[0])\n",
    "test_images,test_labels,test_random_num,test_labels2 = data_generator('test',test_d,test_d.test_labels.shape[0])"
   ]
  },
  {
   "cell_type": "code",
   "execution_count": null,
   "id": "008398bb-dd1d-4b29-a131-3b16cdd4dc96",
   "metadata": {},
   "outputs": [],
   "source": []
  },
  {
   "cell_type": "code",
   "execution_count": 11,
   "id": "99ae6d91-8bec-45ab-ba9f-18c8ae73b0b5",
   "metadata": {},
   "outputs": [],
   "source": [
    "train_data = MNISTRandom_loader(train_images,train_labels,train_random_num)\n",
    "test_data = MNISTRandom_loader(test_images,test_labels,test_random_num)"
   ]
  },
  {
   "cell_type": "code",
   "execution_count": 12,
   "id": "6d828267-50f1-4f10-bea9-75861674d7c2",
   "metadata": {},
   "outputs": [
    {
     "data": {
      "text/plain": [
       "torch.Size([10000, 28, 28])"
      ]
     },
     "execution_count": 12,
     "metadata": {},
     "output_type": "execute_result"
    }
   ],
   "source": [
    "test_data.image.shape"
   ]
  },
  {
   "cell_type": "markdown",
   "id": "b059bc00-fec7-4936-985b-3486c6e8cd9d",
   "metadata": {},
   "source": [
    "### One hot Chceker "
   ]
  },
  {
   "cell_type": "raw",
   "id": "9678c6d8-4fd9-4334-aa4d-1f111c3b29c3",
   "metadata": {},
   "source": [
    "count = 0\n",
    "for p in range(0,1000):\n",
    "    if (train_random_num[p].item() == count) & (count <=9) :\n",
    "        \n",
    "        train_random_num[p].item()\n",
    "        train_data.X[p,:]\n",
    "        train_data.image_labels[p]\n",
    "        train_data.Y[p]\n",
    "        print (\"+++++++++++\")\n",
    "        count+= 1"
   ]
  },
  {
   "cell_type": "code",
   "execution_count": 13,
   "id": "de7ef5f8-ff44-4e93-b025-0810a21111b2",
   "metadata": {},
   "outputs": [],
   "source": [
    "cuda = torch.cuda.is_available()"
   ]
  },
  {
   "cell_type": "markdown",
   "id": "71cb6cea-9752-4ab9-be3a-828bd66bbb30",
   "metadata": {},
   "source": [
    "### Creating the Data Loader "
   ]
  },
  {
   "cell_type": "code",
   "execution_count": 14,
   "id": "b1a64069-451d-4e67-8495-4b22a94d2ef3",
   "metadata": {},
   "outputs": [],
   "source": [
    "dataloader_args = dict(shuffle=True, batch_size=128, num_workers=4, pin_memory=True) if cuda else dict(shuffle=True, batch_size=64)"
   ]
  },
  {
   "cell_type": "code",
   "execution_count": 15,
   "id": "082bc31d-bd9d-487e-9197-2bb7f5827446",
   "metadata": {},
   "outputs": [],
   "source": [
    "train_loader = DataLoader(train_data, **dataloader_args)\n",
    "test_loader = DataLoader(test_data, **dataloader_args)"
   ]
  },
  {
   "cell_type": "code",
   "execution_count": null,
   "id": "a7bae9ff-1102-4863-a221-035377dd42a5",
   "metadata": {},
   "outputs": [],
   "source": []
  },
  {
   "cell_type": "markdown",
   "id": "f9a55515-1ef8-4b96-bdbd-731266dbb773",
   "metadata": {},
   "source": [
    "### MNIST CNN model "
   ]
  },
  {
   "cell_type": "code",
   "execution_count": 16,
   "id": "472f3de9-6d43-481d-beea-1edc6329d762",
   "metadata": {},
   "outputs": [],
   "source": [
    "class MNISt(nn.Module):\n",
    "    def __init__(self):\n",
    "        super(MNISt, self).__init__()\n",
    "        dropout_value = 0.01\n",
    "        # Input Block\n",
    "        self.convblock1 = nn.Sequential(\n",
    "            nn.Conv2d(in_channels=1, out_channels=10, kernel_size=(3, 3), padding=0, bias=False),\n",
    "            nn.BatchNorm2d(10),\n",
    "            nn.ReLU(),\n",
    "            nn.Dropout(dropout_value)\n",
    "        ) # input_size = 28 output_size = 26 receptive_field = 3\n",
    "\n",
    "        # CONVOLUTION BLOCK 1\n",
    "        self.convblock2 = nn.Sequential(\n",
    "            nn.Conv2d(in_channels=10, out_channels=10, kernel_size=(3, 3), padding=0, bias=False),\n",
    "            nn.BatchNorm2d(10),\n",
    "            nn.ReLU(),\n",
    "            nn.Dropout(dropout_value)\n",
    "        ) # input_size = 26 output_size = 24 receptive_field = 5\n",
    "        self.convblock3 = nn.Sequential(\n",
    "            nn.Conv2d(in_channels=10, out_channels=15, kernel_size=(3, 3), padding=0, bias=False),\n",
    "            nn.BatchNorm2d(15),\n",
    "            nn.ReLU(),\n",
    "        ) # input_size = 24 output_size = 22 receptive_field = 7\n",
    "\n",
    "        # TRANSITION BLOCK 1\n",
    "        self.pool1 = nn.MaxPool2d(2, 2) # input_size = 22 output_size = 11 receptive_field = 9\n",
    "        \n",
    "        self.convblock4 = nn.Sequential(\n",
    "            nn.Conv2d(in_channels=15, out_channels=10, kernel_size=(1, 1), padding=0, bias=False),\n",
    "            nn.BatchNorm2d(10),\n",
    "            nn.ReLU(),\n",
    "            nn.Dropout(dropout_value)\n",
    "        ) # input_size = 11 output_size = 11 receptive_field = 9\n",
    "\n",
    "        # CONVOLUTION BLOCK 2\n",
    "        self.convblock5 = nn.Sequential(\n",
    "            nn.Conv2d(in_channels=10, out_channels=10, kernel_size=(3, 3), padding=0, bias=False),\n",
    "            nn.BatchNorm2d(10),\n",
    "            nn.ReLU(),\n",
    "            nn.Dropout(dropout_value)\n",
    "        ) # input_size = 11 output_size = 9 receptive_field = 13\n",
    "        self.convblock6 = nn.Sequential(\n",
    "            nn.Conv2d(in_channels=10, out_channels=10, kernel_size=(3, 3), padding=0, bias=False),\n",
    "            nn.BatchNorm2d(10),\n",
    "            nn.ReLU(),\n",
    "            nn.Dropout(dropout_value)\n",
    "        ) # input_size = 9 output_size = 7 receptive_field = 17\n",
    "        self.convblock7 = nn.Sequential(\n",
    "            nn.Conv2d(in_channels=10, out_channels=10, kernel_size=(3, 3), padding=0, bias=False),\n",
    "            nn.BatchNorm2d(10),\n",
    "            nn.ReLU(),\n",
    "            nn.Dropout(dropout_value)\n",
    "        ) # input_size = 7 output_size = 5 receptive_field = 21\n",
    "        # OUTPUT BLOCK\n",
    "        self.convblock8 = nn.Sequential(\n",
    "            nn.Conv2d(in_channels=10, out_channels=10, kernel_size=(5, 5), padding=0, bias=False)\n",
    "        ) # input_size = 5 output_size = 1  receptive_field = 29\n",
    "        \n",
    "\n",
    "    def forward(self, x):\n",
    "#         print (x.shape)\n",
    "        x = self.convblock1(x)\n",
    "        x = self.convblock2(x)\n",
    "        x = self.convblock3(x)\n",
    "        x = self.pool1(x)\n",
    "        x = self.convblock4(x)\n",
    "        x = self.convblock5(x)\n",
    "        x = self.convblock6(x)\n",
    "        x = self.convblock7(x)\n",
    "        x = self.convblock8(x)\n",
    "#         print (y.shape)\n",
    "        x = x.view(-1, 10)\n",
    "        out = F.log_softmax(x, dim=-1)\n",
    "        return x,out\n",
    "    \n",
    "    def backward(self, retain_variables=True):\n",
    "        #Why is retain_variables True??\n",
    "        self.loss.backward(retain_variables=retain_variables)\n",
    "        return self.loss"
   ]
  },
  {
   "cell_type": "code",
   "execution_count": 17,
   "id": "afb65891-463a-4125-bb63-3873038989ba",
   "metadata": {},
   "outputs": [],
   "source": [
    "model1 = MNISt().to(device)"
   ]
  },
  {
   "cell_type": "markdown",
   "id": "4603a6af-f91d-46bc-8b1f-af9106c15f6f",
   "metadata": {},
   "source": [
    "### My Python module to Calculate the Receptive Field of CNN module "
   ]
  },
  {
   "cell_type": "code",
   "execution_count": 18,
   "id": "c3d8bd10-623d-4674-a180-ba900cd9c901",
   "metadata": {},
   "outputs": [
    {
     "name": "stdout",
     "output_type": "stream",
     "text": [
      "=======================================Reciptive Field Calculator========================================\n",
      "|    | Kernel_size   | Padding   |   Stride | Input_Img_size   | Output_Img_size   | Receptive_field   |\n",
      "|---:|:--------------|:----------|---------:|:-----------------|:------------------|:------------------|\n",
      "|  0 | 3*3           | NO        |        1 | 28*28            | 26*26             | 3*3               |\n",
      "|  1 | 3*3           | NO        |        1 | 26*26            | 24*24             | 5*5               |\n",
      "|  2 | 3*3           | NO        |        1 | 24*24            | 22*22             | 7*7               |\n",
      "|  3 | 2*2           | NO        |        2 | 22*22            | 11*11             | 8*8               |\n",
      "|  4 | 1*1           | NO        |        1 | 11*11            | 11*11             | 8*8               |\n",
      "|  5 | 3*3           | NO        |        1 | 11*11            | 9*9               | 12*12             |\n",
      "|  6 | 3*3           | NO        |        1 | 9*9              | 7*7               | 16*16             |\n",
      "|  7 | 3*3           | NO        |        1 | 7*7              | 5*5               | 20*20             |\n",
      "|  8 | 5*5           | NO        |        1 | 5*5              | 1*1               | 28*28             |\n",
      "=========================================================================================================\n"
     ]
    }
   ],
   "source": [
    "_ = receptive_field(model1,28)"
   ]
  },
  {
   "cell_type": "markdown",
   "id": "d3f84c78-2547-40e0-a50e-fc4f6f26e690",
   "metadata": {},
   "source": [
    "### MNISTadder Model to give the sum of image label and Random number "
   ]
  },
  {
   "cell_type": "code",
   "execution_count": null,
   "id": "fd74a959-f204-46ac-bc66-d1ffb3e82cd0",
   "metadata": {},
   "outputs": [],
   "source": [
    "\n",
    "class MNISTadder(nn.Module):\n",
    "    def __init__(self):\n",
    "        super(MNISTadder,self).__init__()\n",
    "        dropout_value = 0.01\n",
    "        self.mnist_mode = MNISt().to('cuda')\n",
    "        \n",
    "        self.layer1 = nn.Sequential(nn.Linear(in_features=20,out_features=32),\n",
    "                            nn.BatchNorm1d(32),\n",
    "                            nn.ReLU(),\n",
    "                            nn.Dropout(dropout_value)\n",
    "                                   )\n",
    "\n",
    "        self.layer2 = nn.Sequential(nn.Linear(in_features=32,out_features=64),\n",
    "                            nn.BatchNorm1d(64),\n",
    "                            nn.ReLU(),\n",
    "                            nn.Dropout(dropout_value)\n",
    "                                   )\n",
    "\n",
    "        self.layer3 = nn.Sequential(nn.Linear(in_features=64,out_features=128),\n",
    "                            nn.BatchNorm1d(128),\n",
    "                            nn.ReLU(),\n",
    "                            nn.Dropout(dropout_value)\n",
    "                                   )\n",
    "\n",
    "        self.model2_out = nn.Linear(in_features=128,out_features=19)\n",
    "        #         self.model1_out = nn.Linear(in_features=32,out_features=10)\n",
    "        \n",
    "    def forward(self,mnist_img,Num ):\n",
    "        \n",
    "        mnist_d,pred_image = self.mnist_mode(mnist_img)  \n",
    "        mnist_number = torch.cat([mnist_d,Num],dim  = -1)  # concatenation \n",
    "        \n",
    "        x = self.layer1(mnist_number)\n",
    "        x = self.layer2(x)\n",
    "        x = self.layer3(x)\n",
    "        out2 = self.model2_out(x)\n",
    "        return pred_image,out2"
   ]
  },
  {
   "cell_type": "code",
   "execution_count": 20,
   "id": "34bb3a11-7c0c-4855-8532-07ecfa28cdea",
   "metadata": {},
   "outputs": [
    {
     "name": "stdout",
     "output_type": "stream",
     "text": [
      "Model can run on CUDA cuda\n"
     ]
    }
   ],
   "source": [
    "use_cuda = torch.cuda.is_available()\n",
    "device = torch.device(\"cuda\" if use_cuda else \"cpu\")\n",
    "\n",
    "print(f'Model can run on CUDA {device}')\n",
    "\n",
    "model2 = MNISTadder().to(device)"
   ]
  },
  {
   "cell_type": "code",
   "execution_count": 21,
   "id": "bd7892fb-f409-49a2-a1bc-9ec8bf510037",
   "metadata": {},
   "outputs": [],
   "source": [
    "train_losses_image = []\n",
    "train_losses_random = []\n",
    "\n",
    "test_losses_image = []\n",
    "test_losses_random = []\n",
    "\n",
    "train_acc = []\n",
    "test_acc = []"
   ]
  },
  {
   "cell_type": "code",
   "execution_count": null,
   "id": "dc320fa8-0846-4e65-8e26-48fbb64e0f48",
   "metadata": {},
   "outputs": [],
   "source": []
  },
  {
   "cell_type": "code",
   "execution_count": null,
   "id": "c4bd6b7e-26d9-4941-935e-5e6e1db8d87d",
   "metadata": {},
   "outputs": [],
   "source": []
  },
  {
   "cell_type": "markdown",
   "id": "93416f77-df29-488a-863d-7427597afbdf",
   "metadata": {},
   "source": [
    "###  Calculating Acuuracy "
   ]
  },
  {
   "cell_type": "code",
   "execution_count": 22,
   "id": "45855218-9b00-4b27-8839-11fcb5202c5c",
   "metadata": {},
   "outputs": [],
   "source": [
    "def accuracy(model, ds):\n",
    "    # assumes model.eval()\n",
    "    n_correct = 0; n_wrong = 0\n",
    "    # using loader avoids resize() issues\n",
    "    ldr = DataLoader(ds, batch_size=1,shuffle=False)\n",
    "    for _, (data1,target1,data2,target2) in enumerate(ldr):\n",
    "        data,target = data.to('cuda'),target.to('cuda')\n",
    "        X = data\n",
    "        Y = target\n",
    "        with torch.no_grad():\n",
    "            y_pred1,y_pred2 = model(data1,data2)  # probs form    \n",
    "        if torch.argmax(Y) == torch.argmax(oupt):\n",
    "            n_correct += 1\n",
    "        else:\n",
    "            n_wrong += 1\n",
    "    acc = (n_correct * 1.0) / (n_correct + n_wrong)\n",
    "    return acc"
   ]
  },
  {
   "cell_type": "markdown",
   "id": "63e1a9fa-5ae3-4a6a-8d7d-5397ea2d74c7",
   "metadata": {},
   "source": [
    "### Custom Loss Function "
   ]
  },
  {
   "cell_type": "code",
   "execution_count": 23,
   "id": "f4daa828-965f-4c5c-acb9-73ec0035bebf",
   "metadata": {},
   "outputs": [],
   "source": [
    "def total_loss(y_pred1, target1,y_pred2, target2):\n",
    "#     loss_fun = torch.nn.MSELoss()\n",
    "    loss_fun = nn.CrossEntropyLoss()\n",
    "    loss1,loss2 = F.nll_loss(y_pred1, target1), loss_fun(y_pred2,target2)\n",
    "    return loss1,loss2"
   ]
  },
  {
   "cell_type": "code",
   "execution_count": null,
   "id": "1e098efa-425d-4ff0-9c1a-301da704636d",
   "metadata": {},
   "outputs": [],
   "source": []
  },
  {
   "cell_type": "markdown",
   "id": "6bd84f06-aaf9-44e7-aa7a-7afde0bcdfd6",
   "metadata": {},
   "source": [
    "### Train Function  "
   ]
  },
  {
   "cell_type": "code",
   "execution_count": 24,
   "id": "ebd98b70-5f3c-4069-af44-e9f30047839d",
   "metadata": {},
   "outputs": [],
   "source": [
    "def train(model, device, train_loader, optimizer, epoch,train_data):\n",
    "    model.train()\n",
    "    pbar = tqdm(train_loader)\n",
    "    correct = 0\n",
    "    processed = 0\n",
    "    second_correct = 0\n",
    "    for batch_idx, (data1,target1,data2,target2) in enumerate(pbar):\n",
    "        # get samples\n",
    "        data1, target1 = data1.to(device), target1.to(device)\n",
    "        data2, target2 = data2.to(device), target2.to(device)\n",
    "        # Init\n",
    "        optimizer.zero_grad()\n",
    "        # In PyTorch, we need to set the gradients to zero before starting to do backpropragation because PyTorch accumulates the gradients on subsequent backward passes. \n",
    "        # Because of this, when you start your training loop, ideally you should zero out the gradients so that you do the parameter update correctly.\n",
    "\n",
    "        # Predict\n",
    "        y_pred1,y_pred2 = model(data1,data2)\n",
    "\n",
    "        # Calculate loss\n",
    "        loss1,loss2 = total_loss(y_pred1, target1,y_pred2, target2.argmax(dim = 1))\n",
    "        loss = loss1+loss2\n",
    "        train_losses_image.append(loss)\n",
    "        train_losses_random.append(loss)\n",
    " \n",
    "        # Backpropagation\n",
    "#         loss1.backward(retain_graph=True)\n",
    "#         loss2.backward()\n",
    "        loss.backward()\n",
    "        optimizer.step()\n",
    "\n",
    "        # Update pbar-tqdm\n",
    "\n",
    "        pred = y_pred1.argmax(dim=1, keepdim=True)  # get the index of the max log-probability\n",
    "        correct += pred.eq(target1.view_as(pred)).sum().item()\n",
    "        processed += len(data1)\n",
    "        \n",
    "        second_correct += y_pred2.argmax(dim =1).eq(target2.argmax(dim = 1)).sum().item()\n",
    "        \n",
    "        pbar.set_description(desc= f' Loss1={loss1.item() } and loss2 {loss2.item()} Batch_id={batch_idx} Accuracy1={100*correct/processed:0.2f},Accuracy2={100*second_correct/processed:0.2f}')\n",
    "        train_acc.append(100*correct/processed)"
   ]
  },
  {
   "cell_type": "markdown",
   "id": "82792f83-c230-4cce-ad6c-52c8cab2faf8",
   "metadata": {},
   "source": [
    "### Test Function "
   ]
  },
  {
   "cell_type": "code",
   "execution_count": 25,
   "id": "55ed933a-ebc2-430e-be07-381b31397ed5",
   "metadata": {},
   "outputs": [],
   "source": [
    "def test(model, device, test_loader):\n",
    "    model.eval()\n",
    "    test_losses1 = 0\n",
    "    test_losses2 = 0\n",
    "    test_loss = 0\n",
    "    correct = 0\n",
    "    second_correct = 0\n",
    "    with torch.no_grad():\n",
    "        for data1,target1,data2,target2 in test_loader:\n",
    "            data1, target1 = data1.to(device), target1.to(device)\n",
    "            data2, target2 = data2.to(device), target2.to(device)\n",
    "            \n",
    "            y_pred1,y_pred2 = model(data1,data2)\n",
    "            loss1,loss2 = total_loss(y_pred1, target1,y_pred2, target2.argmax(dim = 1))\n",
    "            test_losses1 += loss1.item() # sum up batch loss\n",
    "            test_losses2 += loss2.item() # sum up batch loss\n",
    "            pred = y_pred1.argmax(dim=1, keepdim=True)  # get the index of the max log-probability\n",
    "            correct += pred.eq(target1.view_as(pred)).sum().item()\n",
    "            second_correct += y_pred2.argmax(dim =1).eq(target2.argmax(dim = 1)).sum().item()\n",
    "            \n",
    "    test_loss /= len(test_loader.dataset)\n",
    "    test_losses_image.append(test_losses1)\n",
    "    test_losses_random.append(test_losses2)\n",
    "\n",
    "    print('\\nTest set: Average loss: {:.4f}, Accuracy1: {}/{} ({:.2f}%),Accuracy2: {}/{} ({:.2f}%)\\n'.format(test_loss,\n",
    "                                                                                                             correct,len(test_loader.dataset),100. * correct / len(test_loader.dataset) ,second_correct,len(test_loader.dataset),\n",
    "                                                                                                             100. * second_correct / len(test_loader.dataset)))\n",
    "    test_acc.append(100. * correct / len(test_loader.dataset))"
   ]
  },
  {
   "cell_type": "code",
   "execution_count": null,
   "id": "36efe575-d597-4ba2-a14e-9afe8d1fd585",
   "metadata": {},
   "outputs": [],
   "source": []
  },
  {
   "cell_type": "markdown",
   "id": "c7e8f2c9-35e2-44eb-8eb3-ba1102285b1a",
   "metadata": {},
   "source": [
    "### Trainning the model "
   ]
  },
  {
   "cell_type": "code",
   "execution_count": 26,
   "id": "5d70a384-9f5c-48ad-8aa9-6678a5c9710b",
   "metadata": {
    "tags": []
   },
   "outputs": [
    {
     "name": "stderr",
     "output_type": "stream",
     "text": [
      "  0%|          | 0/469 [00:00<?, ?it/s]"
     ]
    },
    {
     "name": "stdout",
     "output_type": "stream",
     "text": [
      "EPOCH: 0\n"
     ]
    },
    {
     "name": "stderr",
     "output_type": "stream",
     "text": [
      " Loss1=0.06050034984946251 and loss2 0.1652449369430542 Batch_id=468 Accuracy1=93.44,Accuracy2=69.47: 100%|██████████| 469/469 [00:10<00:00, 45.61it/s]  \n",
      "  0%|          | 0/469 [00:00<?, ?it/s]"
     ]
    },
    {
     "name": "stdout",
     "output_type": "stream",
     "text": [
      "\n",
      "Test set: Average loss: 0.0000, Accuracy1: 9790/10000 (97.90%),Accuracy2: 9690/10000 (96.90%)\n",
      "\n",
      "EPOCH: 1\n"
     ]
    },
    {
     "name": "stderr",
     "output_type": "stream",
     "text": [
      " Loss1=0.05526571348309517 and loss2 0.08636188507080078 Batch_id=468 Accuracy1=98.20,Accuracy2=96.22: 100%|██████████| 469/469 [00:09<00:00, 49.25it/s] \n",
      "  0%|          | 0/469 [00:00<?, ?it/s]"
     ]
    },
    {
     "name": "stdout",
     "output_type": "stream",
     "text": [
      "\n",
      "Test set: Average loss: 0.0000, Accuracy1: 9888/10000 (98.88%),Accuracy2: 9825/10000 (98.25%)\n",
      "\n",
      "EPOCH: 2\n"
     ]
    },
    {
     "name": "stderr",
     "output_type": "stream",
     "text": [
      " Loss1=0.057918205857276917 and loss2 0.07161306589841843 Batch_id=468 Accuracy1=98.63,Accuracy2=97.27: 100%|██████████| 469/469 [00:09<00:00, 48.66it/s] \n",
      "  0%|          | 0/469 [00:00<?, ?it/s]"
     ]
    },
    {
     "name": "stdout",
     "output_type": "stream",
     "text": [
      "\n",
      "Test set: Average loss: 0.0000, Accuracy1: 9877/10000 (98.77%),Accuracy2: 9865/10000 (98.65%)\n",
      "\n",
      "EPOCH: 3\n"
     ]
    },
    {
     "name": "stderr",
     "output_type": "stream",
     "text": [
      " Loss1=0.01873461902141571 and loss2 0.04256429150700569 Batch_id=468 Accuracy1=98.79,Accuracy2=97.77: 100%|██████████| 469/469 [00:09<00:00, 49.84it/s]  \n",
      "  0%|          | 0/469 [00:00<?, ?it/s]"
     ]
    },
    {
     "name": "stdout",
     "output_type": "stream",
     "text": [
      "\n",
      "Test set: Average loss: 0.0000, Accuracy1: 9892/10000 (98.92%),Accuracy2: 9875/10000 (98.75%)\n",
      "\n",
      "EPOCH: 4\n"
     ]
    },
    {
     "name": "stderr",
     "output_type": "stream",
     "text": [
      " Loss1=0.023453451693058014 and loss2 0.05872070789337158 Batch_id=468 Accuracy1=98.88,Accuracy2=97.98: 100%|██████████| 469/469 [00:09<00:00, 48.92it/s] \n",
      "  0%|          | 0/469 [00:00<?, ?it/s]"
     ]
    },
    {
     "name": "stdout",
     "output_type": "stream",
     "text": [
      "\n",
      "Test set: Average loss: 0.0000, Accuracy1: 9904/10000 (99.04%),Accuracy2: 9878/10000 (98.78%)\n",
      "\n",
      "EPOCH: 5\n"
     ]
    },
    {
     "name": "stderr",
     "output_type": "stream",
     "text": [
      " Loss1=0.032487332820892334 and loss2 0.040348004549741745 Batch_id=468 Accuracy1=99.01,Accuracy2=98.19: 100%|██████████| 469/469 [00:08<00:00, 53.81it/s] \n",
      "  0%|          | 0/469 [00:00<?, ?it/s]"
     ]
    },
    {
     "name": "stdout",
     "output_type": "stream",
     "text": [
      "\n",
      "Test set: Average loss: 0.0000, Accuracy1: 9899/10000 (98.99%),Accuracy2: 9885/10000 (98.85%)\n",
      "\n",
      "EPOCH: 6\n"
     ]
    },
    {
     "name": "stderr",
     "output_type": "stream",
     "text": [
      " Loss1=0.048143837600946426 and loss2 0.09603328257799149 Batch_id=468 Accuracy1=99.13,Accuracy2=98.40: 100%|██████████| 469/469 [00:09<00:00, 51.98it/s]  \n",
      "  0%|          | 0/469 [00:00<?, ?it/s]"
     ]
    },
    {
     "name": "stdout",
     "output_type": "stream",
     "text": [
      "\n",
      "Test set: Average loss: 0.0000, Accuracy1: 9909/10000 (99.09%),Accuracy2: 9907/10000 (99.07%)\n",
      "\n",
      "EPOCH: 7\n"
     ]
    },
    {
     "name": "stderr",
     "output_type": "stream",
     "text": [
      " Loss1=0.016680309548974037 and loss2 0.047977667301893234 Batch_id=468 Accuracy1=99.13,Accuracy2=98.52: 100%|██████████| 469/469 [00:08<00:00, 56.40it/s] \n",
      "  0%|          | 0/469 [00:00<?, ?it/s]"
     ]
    },
    {
     "name": "stdout",
     "output_type": "stream",
     "text": [
      "\n",
      "Test set: Average loss: 0.0000, Accuracy1: 9913/10000 (99.13%),Accuracy2: 9893/10000 (98.93%)\n",
      "\n",
      "EPOCH: 8\n"
     ]
    },
    {
     "name": "stderr",
     "output_type": "stream",
     "text": [
      " Loss1=0.022729063406586647 and loss2 0.04098047688603401 Batch_id=468 Accuracy1=99.20,Accuracy2=98.60: 100%|██████████| 469/469 [00:08<00:00, 56.66it/s]  \n",
      "  0%|          | 0/469 [00:00<?, ?it/s]"
     ]
    },
    {
     "name": "stdout",
     "output_type": "stream",
     "text": [
      "\n",
      "Test set: Average loss: 0.0000, Accuracy1: 9903/10000 (99.03%),Accuracy2: 9881/10000 (98.81%)\n",
      "\n",
      "EPOCH: 9\n"
     ]
    },
    {
     "name": "stderr",
     "output_type": "stream",
     "text": [
      " Loss1=0.05994876101613045 and loss2 0.09048748761415482 Batch_id=468 Accuracy1=99.25,Accuracy2=98.68: 100%|██████████| 469/469 [00:08<00:00, 53.82it/s]   \n",
      "  0%|          | 0/469 [00:00<?, ?it/s]"
     ]
    },
    {
     "name": "stdout",
     "output_type": "stream",
     "text": [
      "\n",
      "Test set: Average loss: 0.0000, Accuracy1: 9914/10000 (99.14%),Accuracy2: 9872/10000 (98.72%)\n",
      "\n",
      "EPOCH: 10\n"
     ]
    },
    {
     "name": "stderr",
     "output_type": "stream",
     "text": [
      " Loss1=0.09508665651082993 and loss2 0.12536561489105225 Batch_id=468 Accuracy1=99.28,Accuracy2=98.81: 100%|██████████| 469/469 [00:08<00:00, 52.30it/s]   \n",
      "  0%|          | 0/469 [00:00<?, ?it/s]"
     ]
    },
    {
     "name": "stdout",
     "output_type": "stream",
     "text": [
      "\n",
      "Test set: Average loss: 0.0000, Accuracy1: 9914/10000 (99.14%),Accuracy2: 9882/10000 (98.82%)\n",
      "\n",
      "EPOCH: 11\n"
     ]
    },
    {
     "name": "stderr",
     "output_type": "stream",
     "text": [
      " Loss1=0.024148382246494293 and loss2 0.052311111241579056 Batch_id=468 Accuracy1=99.36,Accuracy2=98.81: 100%|██████████| 469/469 [00:08<00:00, 54.24it/s] \n",
      "  0%|          | 0/469 [00:00<?, ?it/s]"
     ]
    },
    {
     "name": "stdout",
     "output_type": "stream",
     "text": [
      "\n",
      "Test set: Average loss: 0.0000, Accuracy1: 9930/10000 (99.30%),Accuracy2: 9908/10000 (99.08%)\n",
      "\n",
      "EPOCH: 12\n"
     ]
    },
    {
     "name": "stderr",
     "output_type": "stream",
     "text": [
      " Loss1=0.007190037053078413 and loss2 0.017841748893260956 Batch_id=468 Accuracy1=99.36,Accuracy2=98.89: 100%|██████████| 469/469 [00:08<00:00, 54.86it/s]  \n",
      "  0%|          | 0/469 [00:00<?, ?it/s]"
     ]
    },
    {
     "name": "stdout",
     "output_type": "stream",
     "text": [
      "\n",
      "Test set: Average loss: 0.0000, Accuracy1: 9922/10000 (99.22%),Accuracy2: 9901/10000 (99.01%)\n",
      "\n",
      "EPOCH: 13\n"
     ]
    },
    {
     "name": "stderr",
     "output_type": "stream",
     "text": [
      " Loss1=0.0019284719601273537 and loss2 0.06550388783216476 Batch_id=468 Accuracy1=99.34,Accuracy2=98.92: 100%|██████████| 469/469 [00:09<00:00, 49.86it/s] \n",
      "  0%|          | 0/469 [00:00<?, ?it/s]"
     ]
    },
    {
     "name": "stdout",
     "output_type": "stream",
     "text": [
      "\n",
      "Test set: Average loss: 0.0000, Accuracy1: 9917/10000 (99.17%),Accuracy2: 9907/10000 (99.07%)\n",
      "\n",
      "EPOCH: 14\n"
     ]
    },
    {
     "name": "stderr",
     "output_type": "stream",
     "text": [
      " Loss1=0.04923020675778389 and loss2 0.05621786043047905 Batch_id=468 Accuracy1=99.40,Accuracy2=99.00: 100%|██████████| 469/469 [00:08<00:00, 54.72it/s]   \n",
      "  0%|          | 0/469 [00:00<?, ?it/s]"
     ]
    },
    {
     "name": "stdout",
     "output_type": "stream",
     "text": [
      "\n",
      "Test set: Average loss: 0.0000, Accuracy1: 9913/10000 (99.13%),Accuracy2: 9898/10000 (98.98%)\n",
      "\n",
      "EPOCH: 15\n"
     ]
    },
    {
     "name": "stderr",
     "output_type": "stream",
     "text": [
      " Loss1=0.019334329292178154 and loss2 0.1052122414112091 Batch_id=468 Accuracy1=99.46,Accuracy2=99.02: 100%|██████████| 469/469 [00:08<00:00, 55.46it/s]    \n",
      "  0%|          | 0/469 [00:00<?, ?it/s]"
     ]
    },
    {
     "name": "stdout",
     "output_type": "stream",
     "text": [
      "\n",
      "Test set: Average loss: 0.0000, Accuracy1: 9924/10000 (99.24%),Accuracy2: 9915/10000 (99.15%)\n",
      "\n",
      "EPOCH: 16\n"
     ]
    },
    {
     "name": "stderr",
     "output_type": "stream",
     "text": [
      " Loss1=0.0053217546083033085 and loss2 0.007095555309206247 Batch_id=468 Accuracy1=99.45,Accuracy2=99.04: 100%|██████████| 469/469 [00:08<00:00, 52.88it/s]\n",
      "  0%|          | 0/469 [00:00<?, ?it/s]"
     ]
    },
    {
     "name": "stdout",
     "output_type": "stream",
     "text": [
      "\n",
      "Test set: Average loss: 0.0000, Accuracy1: 9916/10000 (99.16%),Accuracy2: 9893/10000 (98.93%)\n",
      "\n",
      "EPOCH: 17\n"
     ]
    },
    {
     "name": "stderr",
     "output_type": "stream",
     "text": [
      " Loss1=0.052293043583631516 and loss2 0.05879424512386322 Batch_id=468 Accuracy1=99.48,Accuracy2=99.08: 100%|██████████| 469/469 [00:08<00:00, 55.01it/s]   \n",
      "  0%|          | 0/469 [00:00<?, ?it/s]"
     ]
    },
    {
     "name": "stdout",
     "output_type": "stream",
     "text": [
      "\n",
      "Test set: Average loss: 0.0000, Accuracy1: 9915/10000 (99.15%),Accuracy2: 9903/10000 (99.03%)\n",
      "\n",
      "EPOCH: 18\n"
     ]
    },
    {
     "name": "stderr",
     "output_type": "stream",
     "text": [
      " Loss1=0.008599606342613697 and loss2 0.005282520782202482 Batch_id=468 Accuracy1=99.51,Accuracy2=99.22: 100%|██████████| 469/469 [00:09<00:00, 50.27it/s]  \n",
      "  0%|          | 0/469 [00:00<?, ?it/s]"
     ]
    },
    {
     "name": "stdout",
     "output_type": "stream",
     "text": [
      "\n",
      "Test set: Average loss: 0.0000, Accuracy1: 9928/10000 (99.28%),Accuracy2: 9912/10000 (99.12%)\n",
      "\n",
      "EPOCH: 19\n"
     ]
    },
    {
     "name": "stderr",
     "output_type": "stream",
     "text": [
      " Loss1=0.02737552486360073 and loss2 0.027035050094127655 Batch_id=468 Accuracy1=99.51,Accuracy2=99.12: 100%|██████████| 469/469 [00:08<00:00, 54.29it/s]   \n",
      "  0%|          | 0/469 [00:00<?, ?it/s]"
     ]
    },
    {
     "name": "stdout",
     "output_type": "stream",
     "text": [
      "\n",
      "Test set: Average loss: 0.0000, Accuracy1: 9915/10000 (99.15%),Accuracy2: 9897/10000 (98.97%)\n",
      "\n",
      "EPOCH: 20\n"
     ]
    },
    {
     "name": "stderr",
     "output_type": "stream",
     "text": [
      " Loss1=0.01477010641247034 and loss2 0.022565452381968498 Batch_id=468 Accuracy1=99.50,Accuracy2=99.15: 100%|██████████| 469/469 [00:08<00:00, 55.22it/s]   \n",
      "  0%|          | 0/469 [00:00<?, ?it/s]"
     ]
    },
    {
     "name": "stdout",
     "output_type": "stream",
     "text": [
      "\n",
      "Test set: Average loss: 0.0000, Accuracy1: 9922/10000 (99.22%),Accuracy2: 9901/10000 (99.01%)\n",
      "\n",
      "EPOCH: 21\n"
     ]
    },
    {
     "name": "stderr",
     "output_type": "stream",
     "text": [
      " Loss1=0.006854261737316847 and loss2 0.006861551199108362 Batch_id=468 Accuracy1=99.59,Accuracy2=99.24: 100%|██████████| 469/469 [00:08<00:00, 55.23it/s]  \n",
      "  0%|          | 0/469 [00:00<?, ?it/s]"
     ]
    },
    {
     "name": "stdout",
     "output_type": "stream",
     "text": [
      "\n",
      "Test set: Average loss: 0.0000, Accuracy1: 9922/10000 (99.22%),Accuracy2: 9905/10000 (99.05%)\n",
      "\n",
      "EPOCH: 22\n"
     ]
    },
    {
     "name": "stderr",
     "output_type": "stream",
     "text": [
      " Loss1=0.02853153645992279 and loss2 0.031161749735474586 Batch_id=468 Accuracy1=99.58,Accuracy2=99.25: 100%|██████████| 469/469 [00:08<00:00, 56.40it/s]   \n",
      "  0%|          | 0/469 [00:00<?, ?it/s]"
     ]
    },
    {
     "name": "stdout",
     "output_type": "stream",
     "text": [
      "\n",
      "Test set: Average loss: 0.0000, Accuracy1: 9924/10000 (99.24%),Accuracy2: 9914/10000 (99.14%)\n",
      "\n",
      "EPOCH: 23\n"
     ]
    },
    {
     "name": "stderr",
     "output_type": "stream",
     "text": [
      " Loss1=0.007539309561252594 and loss2 0.01256039272993803 Batch_id=468 Accuracy1=99.61,Accuracy2=99.27: 100%|██████████| 469/469 [00:08<00:00, 55.48it/s]   \n",
      "  0%|          | 0/469 [00:00<?, ?it/s]"
     ]
    },
    {
     "name": "stdout",
     "output_type": "stream",
     "text": [
      "\n",
      "Test set: Average loss: 0.0000, Accuracy1: 9914/10000 (99.14%),Accuracy2: 9894/10000 (98.94%)\n",
      "\n",
      "EPOCH: 24\n"
     ]
    },
    {
     "name": "stderr",
     "output_type": "stream",
     "text": [
      " Loss1=0.015108499675989151 and loss2 0.06173732876777649 Batch_id=468 Accuracy1=99.60,Accuracy2=99.31: 100%|██████████| 469/469 [00:09<00:00, 50.92it/s]   \n"
     ]
    },
    {
     "name": "stdout",
     "output_type": "stream",
     "text": [
      "\n",
      "Test set: Average loss: 0.0000, Accuracy1: 9932/10000 (99.32%),Accuracy2: 9916/10000 (99.16%)\n",
      "\n"
     ]
    }
   ],
   "source": [
    "model2 =  MNISTadder().to(device)\n",
    "optimizer = optim.SGD(model2.parameters(), lr=0.01, momentum=0.9)\n",
    "EPOCHS = 25\n",
    "\n",
    "device = 'cuda'\n",
    "for epoch in range(EPOCHS):\n",
    "    print(\"EPOCH:\", epoch)\n",
    "    train(model2, device, train_loader, optimizer, epoch,train_data)\n",
    "    test(model2, device, test_loader)"
   ]
  },
  {
   "cell_type": "markdown",
   "id": "e9795287-8790-421f-aea3-a887a1fd6546",
   "metadata": {},
   "source": [
    "### Model Visualizzation"
   ]
  },
  {
   "cell_type": "code",
   "execution_count": 57,
   "id": "00087f68-7ab4-4487-9e72-577ba2445f63",
   "metadata": {},
   "outputs": [],
   "source": [
    "from torchviz import make_dot"
   ]
  },
  {
   "cell_type": "code",
   "execution_count": 58,
   "id": "cf354208-5ff8-4381-a9a1-4ef4f9577cb3",
   "metadata": {},
   "outputs": [],
   "source": [
    "for data1,target1,data2,target2 in test_loader:\n",
    "    break"
   ]
  },
  {
   "cell_type": "code",
   "execution_count": 64,
   "id": "cb4b05f1-d156-4eea-93e2-2e19a11b08ca",
   "metadata": {},
   "outputs": [],
   "source": [
    "a,b = model2(data1.to(device),data2.to(device))"
   ]
  },
  {
   "cell_type": "code",
   "execution_count": 97,
   "id": "1f4b2ba8-6df9-41ae-9d3a-3010abff1010",
   "metadata": {},
   "outputs": [
    {
     "name": "stderr",
     "output_type": "stream",
     "text": [
      "/home/jd/anaconda3/envs/eva5/lib/python3.8/site-packages/torchviz/dot.py:67: UserWarning: make_dot: showing grad_fn attributes and saved variables requires PyTorch version >= 1.9. (This does NOT apply to saved tensors saved by custom autograd functions.)\n",
      "  warnings.warn(\n"
     ]
    }
   ],
   "source": [
    "model_image = make_dot(var=(a.mean(),b.mean()),params=dict(model2.named_parameters()), show_attrs=True, show_saved=True)"
   ]
  },
  {
   "cell_type": "code",
   "execution_count": 98,
   "id": "fe292827-3e6c-4eec-91eb-30f6259c4897",
   "metadata": {
    "tags": []
   },
   "outputs": [
    {
     "data": {
      "image/svg+xml": [
       "<?xml version=\"1.0\" encoding=\"UTF-8\" standalone=\"no\"?>\n",
       "<!DOCTYPE svg PUBLIC \"-//W3C//DTD SVG 1.1//EN\"\n",
       " \"http://www.w3.org/Graphics/SVG/1.1/DTD/svg11.dtd\">\n",
       "<!-- Generated by graphviz version 2.43.0 (0)\n",
       " -->\n",
       "<!-- Title: %3 Pages: 1 -->\n",
       "<svg width=\"2495pt\" height=\"2318pt\"\n",
       " viewBox=\"0.00 0.00 2495.00 2318.43\" xmlns=\"http://www.w3.org/2000/svg\" xmlns:xlink=\"http://www.w3.org/1999/xlink\">\n",
       "<g id=\"graph0\" class=\"graph\" transform=\"scale(1.04 1.04) rotate(0) translate(4 2412)\">\n",
       "<title>%3</title>\n",
       "<polygon fill=\"white\" stroke=\"transparent\" points=\"-4,4 -4,-2412 2596,-2412 2596,4 -4,4\"/>\n",
       "<!-- 140079861668672 -->\n",
       "<g id=\"node1\" class=\"node\">\n",
       "<title>140079861668672</title>\n",
       "<polygon fill=\"#caff70\" stroke=\"black\" points=\"2440.5,-659 2386.5,-659 2386.5,-628 2440.5,-628 2440.5,-659\"/>\n",
       "<text text-anchor=\"middle\" x=\"2413.5\" y=\"-635\" font-family=\"monospace\" font-size=\"10.00\"> ()</text>\n",
       "</g>\n",
       "<!-- 140082473996000 -->\n",
       "<g id=\"node2\" class=\"node\">\n",
       "<title>140082473996000</title>\n",
       "<polygon fill=\"lightgrey\" stroke=\"black\" points=\"2461,-719.5 2366,-719.5 2366,-700.5 2461,-700.5 2461,-719.5\"/>\n",
       "<text text-anchor=\"middle\" x=\"2413.5\" y=\"-707.5\" font-family=\"monospace\" font-size=\"10.00\">MeanBackward0</text>\n",
       "</g>\n",
       "<!-- 140082473996000&#45;&gt;140079861668672 -->\n",
       "<g id=\"edge70\" class=\"edge\">\n",
       "<title>140082473996000&#45;&gt;140079861668672</title>\n",
       "<path fill=\"none\" stroke=\"black\" d=\"M2413.5,-700.3C2413.5,-692.46 2413.5,-680.54 2413.5,-669.72\"/>\n",
       "<polygon fill=\"black\" stroke=\"black\" points=\"2417,-669.47 2413.5,-659.47 2410,-669.47 2417,-669.47\"/>\n",
       "</g>\n",
       "<!-- 140082473996144 -->\n",
       "<g id=\"node3\" class=\"node\">\n",
       "<title>140082473996144</title>\n",
       "<polygon fill=\"lightgrey\" stroke=\"black\" points=\"2476,-785.5 2351,-785.5 2351,-766.5 2476,-766.5 2476,-785.5\"/>\n",
       "<text text-anchor=\"middle\" x=\"2413.5\" y=\"-773.5\" font-family=\"monospace\" font-size=\"10.00\">LogSoftmaxBackward</text>\n",
       "</g>\n",
       "<!-- 140082473996144&#45;&gt;140082473996000 -->\n",
       "<g id=\"edge1\" class=\"edge\">\n",
       "<title>140082473996144&#45;&gt;140082473996000</title>\n",
       "<path fill=\"none\" stroke=\"black\" d=\"M2413.5,-766.37C2413.5,-757.16 2413.5,-742.29 2413.5,-730.27\"/>\n",
       "<polygon fill=\"black\" stroke=\"black\" points=\"2417,-729.91 2413.5,-719.91 2410,-729.91 2417,-729.91\"/>\n",
       "</g>\n",
       "<!-- 140082473996096 -->\n",
       "<g id=\"node4\" class=\"node\">\n",
       "<title>140082473996096</title>\n",
       "<polygon fill=\"lightgrey\" stroke=\"black\" points=\"2431,-851.5 2342,-851.5 2342,-832.5 2431,-832.5 2431,-851.5\"/>\n",
       "<text text-anchor=\"middle\" x=\"2386.5\" y=\"-839.5\" font-family=\"monospace\" font-size=\"10.00\">ViewBackward</text>\n",
       "</g>\n",
       "<!-- 140082473996096&#45;&gt;140082473996144 -->\n",
       "<g id=\"edge2\" class=\"edge\">\n",
       "<title>140082473996096&#45;&gt;140082473996144</title>\n",
       "<path fill=\"none\" stroke=\"black\" d=\"M2390.14,-832.37C2394.14,-822.88 2400.69,-807.36 2405.84,-795.16\"/>\n",
       "<polygon fill=\"black\" stroke=\"black\" points=\"2409.08,-796.48 2409.74,-785.91 2402.63,-793.76 2409.08,-796.48\"/>\n",
       "</g>\n",
       "<!-- 140079869979568 -->\n",
       "<g id=\"node92\" class=\"node\">\n",
       "<title>140079869979568</title>\n",
       "<polygon fill=\"lightgrey\" stroke=\"black\" points=\"2333,-785.5 2250,-785.5 2250,-766.5 2333,-766.5 2333,-785.5\"/>\n",
       "<text text-anchor=\"middle\" x=\"2291.5\" y=\"-773.5\" font-family=\"monospace\" font-size=\"10.00\">CatBackward</text>\n",
       "</g>\n",
       "<!-- 140082473996096&#45;&gt;140079869979568 -->\n",
       "<g id=\"edge90\" class=\"edge\">\n",
       "<title>140082473996096&#45;&gt;140079869979568</title>\n",
       "<path fill=\"none\" stroke=\"black\" d=\"M2373.69,-832.37C2358.11,-821.87 2331.57,-804 2312.88,-791.4\"/>\n",
       "<polygon fill=\"black\" stroke=\"black\" points=\"2314.66,-788.38 2304.41,-785.7 2310.75,-794.19 2314.66,-788.38\"/>\n",
       "</g>\n",
       "<!-- 140082473994608 -->\n",
       "<g id=\"node5\" class=\"node\">\n",
       "<title>140082473994608</title>\n",
       "<polygon fill=\"lightgrey\" stroke=\"black\" points=\"2467,-917.5 2306,-917.5 2306,-898.5 2467,-898.5 2467,-917.5\"/>\n",
       "<text text-anchor=\"middle\" x=\"2386.5\" y=\"-905.5\" font-family=\"monospace\" font-size=\"10.00\">CudnnConvolutionBackward</text>\n",
       "</g>\n",
       "<!-- 140082473994608&#45;&gt;140082473996096 -->\n",
       "<g id=\"edge3\" class=\"edge\">\n",
       "<title>140082473994608&#45;&gt;140082473996096</title>\n",
       "<path fill=\"none\" stroke=\"black\" d=\"M2386.5,-898.37C2386.5,-889.16 2386.5,-874.29 2386.5,-862.27\"/>\n",
       "<polygon fill=\"black\" stroke=\"black\" points=\"2390,-861.91 2386.5,-851.91 2383,-861.91 2390,-861.91\"/>\n",
       "</g>\n",
       "<!-- 140082473992544 -->\n",
       "<g id=\"node6\" class=\"node\">\n",
       "<title>140082473992544</title>\n",
       "<polygon fill=\"lightgrey\" stroke=\"black\" points=\"2357,-978 2262,-978 2262,-959 2357,-959 2357,-978\"/>\n",
       "<text text-anchor=\"middle\" x=\"2309.5\" y=\"-966\" font-family=\"monospace\" font-size=\"10.00\">ReluBackward0</text>\n",
       "</g>\n",
       "<!-- 140082473992544&#45;&gt;140082473994608 -->\n",
       "<g id=\"edge4\" class=\"edge\">\n",
       "<title>140082473992544&#45;&gt;140082473994608</title>\n",
       "<path fill=\"none\" stroke=\"black\" d=\"M2320.86,-958.87C2332.92,-949.71 2352.2,-935.06 2366.75,-924.01\"/>\n",
       "<polygon fill=\"black\" stroke=\"black\" points=\"2369.25,-926.5 2375.09,-917.67 2365.01,-920.93 2369.25,-926.5\"/>\n",
       "</g>\n",
       "<!-- 140082473992496 -->\n",
       "<g id=\"node7\" class=\"node\">\n",
       "<title>140082473992496</title>\n",
       "<polygon fill=\"lightgrey\" stroke=\"black\" points=\"2365,-1038.5 2216,-1038.5 2216,-1019.5 2365,-1019.5 2365,-1038.5\"/>\n",
       "<text text-anchor=\"middle\" x=\"2290.5\" y=\"-1026.5\" font-family=\"monospace\" font-size=\"10.00\">CudnnBatchNormBackward</text>\n",
       "</g>\n",
       "<!-- 140082473992496&#45;&gt;140082473992544 -->\n",
       "<g id=\"edge5\" class=\"edge\">\n",
       "<title>140082473992496&#45;&gt;140082473992544</title>\n",
       "<path fill=\"none\" stroke=\"black\" d=\"M2293.3,-1019.37C2296,-1011.07 2300.15,-998.28 2303.58,-987.72\"/>\n",
       "<polygon fill=\"black\" stroke=\"black\" points=\"2306.92,-988.76 2306.68,-978.17 2300.27,-986.6 2306.92,-988.76\"/>\n",
       "</g>\n",
       "<!-- 140082473994032 -->\n",
       "<g id=\"node8\" class=\"node\">\n",
       "<title>140082473994032</title>\n",
       "<polygon fill=\"lightgrey\" stroke=\"black\" points=\"2204,-1099 2043,-1099 2043,-1080 2204,-1080 2204,-1099\"/>\n",
       "<text text-anchor=\"middle\" x=\"2123.5\" y=\"-1087\" font-family=\"monospace\" font-size=\"10.00\">CudnnConvolutionBackward</text>\n",
       "</g>\n",
       "<!-- 140082473994032&#45;&gt;140082473992496 -->\n",
       "<g id=\"edge6\" class=\"edge\">\n",
       "<title>140082473994032&#45;&gt;140082473992496</title>\n",
       "<path fill=\"none\" stroke=\"black\" d=\"M2147.78,-1079.99C2176.48,-1069.94 2224.39,-1053.16 2256.7,-1041.84\"/>\n",
       "<polygon fill=\"black\" stroke=\"black\" points=\"2257.91,-1045.13 2266.19,-1038.52 2255.59,-1038.52 2257.91,-1045.13\"/>\n",
       "</g>\n",
       "<!-- 140082473996048 -->\n",
       "<g id=\"node9\" class=\"node\">\n",
       "<title>140082473996048</title>\n",
       "<polygon fill=\"lightgrey\" stroke=\"black\" points=\"2036,-1159.5 1941,-1159.5 1941,-1140.5 2036,-1140.5 2036,-1159.5\"/>\n",
       "<text text-anchor=\"middle\" x=\"1988.5\" y=\"-1147.5\" font-family=\"monospace\" font-size=\"10.00\">ReluBackward0</text>\n",
       "</g>\n",
       "<!-- 140082473996048&#45;&gt;140082473994032 -->\n",
       "<g id=\"edge7\" class=\"edge\">\n",
       "<title>140082473996048&#45;&gt;140082473994032</title>\n",
       "<path fill=\"none\" stroke=\"black\" d=\"M2008.13,-1140.49C2030.83,-1130.66 2068.4,-1114.38 2094.47,-1103.08\"/>\n",
       "<polygon fill=\"black\" stroke=\"black\" points=\"2096.06,-1106.2 2103.85,-1099.02 2093.28,-1099.78 2096.06,-1106.2\"/>\n",
       "</g>\n",
       "<!-- 140082473994992 -->\n",
       "<g id=\"node10\" class=\"node\">\n",
       "<title>140082473994992</title>\n",
       "<polygon fill=\"lightgrey\" stroke=\"black\" points=\"2026,-1225.5 1877,-1225.5 1877,-1206.5 2026,-1206.5 2026,-1225.5\"/>\n",
       "<text text-anchor=\"middle\" x=\"1951.5\" y=\"-1213.5\" font-family=\"monospace\" font-size=\"10.00\">CudnnBatchNormBackward</text>\n",
       "</g>\n",
       "<!-- 140082473994992&#45;&gt;140082473996048 -->\n",
       "<g id=\"edge8\" class=\"edge\">\n",
       "<title>140082473994992&#45;&gt;140082473996048</title>\n",
       "<path fill=\"none\" stroke=\"black\" d=\"M1956.49,-1206.37C1962.03,-1196.78 1971.13,-1181.05 1978.21,-1168.8\"/>\n",
       "<polygon fill=\"black\" stroke=\"black\" points=\"1981.38,-1170.31 1983.35,-1159.91 1975.32,-1166.81 1981.38,-1170.31\"/>\n",
       "</g>\n",
       "<!-- 140082473992352 -->\n",
       "<g id=\"node11\" class=\"node\">\n",
       "<title>140082473992352</title>\n",
       "<polygon fill=\"lightgrey\" stroke=\"black\" points=\"1865,-1286 1704,-1286 1704,-1267 1865,-1267 1865,-1286\"/>\n",
       "<text text-anchor=\"middle\" x=\"1784.5\" y=\"-1274\" font-family=\"monospace\" font-size=\"10.00\">CudnnConvolutionBackward</text>\n",
       "</g>\n",
       "<!-- 140082473992352&#45;&gt;140082473994992 -->\n",
       "<g id=\"edge9\" class=\"edge\">\n",
       "<title>140082473992352&#45;&gt;140082473994992</title>\n",
       "<path fill=\"none\" stroke=\"black\" d=\"M1808.78,-1266.99C1837.48,-1256.94 1885.39,-1240.16 1917.7,-1228.84\"/>\n",
       "<polygon fill=\"black\" stroke=\"black\" points=\"1918.91,-1232.13 1927.19,-1225.52 1916.59,-1225.52 1918.91,-1232.13\"/>\n",
       "</g>\n",
       "<!-- 140079869976880 -->\n",
       "<g id=\"node12\" class=\"node\">\n",
       "<title>140079869976880</title>\n",
       "<polygon fill=\"lightgrey\" stroke=\"black\" points=\"1697,-1346.5 1602,-1346.5 1602,-1327.5 1697,-1327.5 1697,-1346.5\"/>\n",
       "<text text-anchor=\"middle\" x=\"1649.5\" y=\"-1334.5\" font-family=\"monospace\" font-size=\"10.00\">ReluBackward0</text>\n",
       "</g>\n",
       "<!-- 140079869976880&#45;&gt;140082473992352 -->\n",
       "<g id=\"edge10\" class=\"edge\">\n",
       "<title>140079869976880&#45;&gt;140082473992352</title>\n",
       "<path fill=\"none\" stroke=\"black\" d=\"M1669.13,-1327.49C1691.83,-1317.66 1729.4,-1301.38 1755.47,-1290.08\"/>\n",
       "<polygon fill=\"black\" stroke=\"black\" points=\"1757.06,-1293.2 1764.85,-1286.02 1754.28,-1286.78 1757.06,-1293.2\"/>\n",
       "</g>\n",
       "<!-- 140079869977024 -->\n",
       "<g id=\"node13\" class=\"node\">\n",
       "<title>140079869977024</title>\n",
       "<polygon fill=\"lightgrey\" stroke=\"black\" points=\"1687,-1412.5 1538,-1412.5 1538,-1393.5 1687,-1393.5 1687,-1412.5\"/>\n",
       "<text text-anchor=\"middle\" x=\"1612.5\" y=\"-1400.5\" font-family=\"monospace\" font-size=\"10.00\">CudnnBatchNormBackward</text>\n",
       "</g>\n",
       "<!-- 140079869977024&#45;&gt;140079869976880 -->\n",
       "<g id=\"edge11\" class=\"edge\">\n",
       "<title>140079869977024&#45;&gt;140079869976880</title>\n",
       "<path fill=\"none\" stroke=\"black\" d=\"M1617.49,-1393.37C1623.03,-1383.78 1632.13,-1368.05 1639.21,-1355.8\"/>\n",
       "<polygon fill=\"black\" stroke=\"black\" points=\"1642.38,-1357.31 1644.35,-1346.91 1636.32,-1353.81 1642.38,-1357.31\"/>\n",
       "</g>\n",
       "<!-- 140079869977120 -->\n",
       "<g id=\"node14\" class=\"node\">\n",
       "<title>140079869977120</title>\n",
       "<polygon fill=\"lightgrey\" stroke=\"black\" points=\"1526,-1473 1365,-1473 1365,-1454 1526,-1454 1526,-1473\"/>\n",
       "<text text-anchor=\"middle\" x=\"1445.5\" y=\"-1461\" font-family=\"monospace\" font-size=\"10.00\">CudnnConvolutionBackward</text>\n",
       "</g>\n",
       "<!-- 140079869977120&#45;&gt;140079869977024 -->\n",
       "<g id=\"edge12\" class=\"edge\">\n",
       "<title>140079869977120&#45;&gt;140079869977024</title>\n",
       "<path fill=\"none\" stroke=\"black\" d=\"M1469.78,-1453.99C1498.48,-1443.94 1546.39,-1427.16 1578.7,-1415.84\"/>\n",
       "<polygon fill=\"black\" stroke=\"black\" points=\"1579.91,-1419.13 1588.19,-1412.52 1577.59,-1412.52 1579.91,-1419.13\"/>\n",
       "</g>\n",
       "<!-- 140079869977312 -->\n",
       "<g id=\"node15\" class=\"node\">\n",
       "<title>140079869977312</title>\n",
       "<polygon fill=\"lightgrey\" stroke=\"black\" points=\"1358,-1533.5 1263,-1533.5 1263,-1514.5 1358,-1514.5 1358,-1533.5\"/>\n",
       "<text text-anchor=\"middle\" x=\"1310.5\" y=\"-1521.5\" font-family=\"monospace\" font-size=\"10.00\">ReluBackward0</text>\n",
       "</g>\n",
       "<!-- 140079869977312&#45;&gt;140079869977120 -->\n",
       "<g id=\"edge13\" class=\"edge\">\n",
       "<title>140079869977312&#45;&gt;140079869977120</title>\n",
       "<path fill=\"none\" stroke=\"black\" d=\"M1330.13,-1514.49C1352.83,-1504.66 1390.4,-1488.38 1416.47,-1477.08\"/>\n",
       "<polygon fill=\"black\" stroke=\"black\" points=\"1418.06,-1480.2 1425.85,-1473.02 1415.28,-1473.78 1418.06,-1480.2\"/>\n",
       "</g>\n",
       "<!-- 140079869977456 -->\n",
       "<g id=\"node16\" class=\"node\">\n",
       "<title>140079869977456</title>\n",
       "<polygon fill=\"lightgrey\" stroke=\"black\" points=\"1348,-1599.5 1199,-1599.5 1199,-1580.5 1348,-1580.5 1348,-1599.5\"/>\n",
       "<text text-anchor=\"middle\" x=\"1273.5\" y=\"-1587.5\" font-family=\"monospace\" font-size=\"10.00\">CudnnBatchNormBackward</text>\n",
       "</g>\n",
       "<!-- 140079869977456&#45;&gt;140079869977312 -->\n",
       "<g id=\"edge14\" class=\"edge\">\n",
       "<title>140079869977456&#45;&gt;140079869977312</title>\n",
       "<path fill=\"none\" stroke=\"black\" d=\"M1278.49,-1580.37C1284.03,-1570.78 1293.13,-1555.05 1300.21,-1542.8\"/>\n",
       "<polygon fill=\"black\" stroke=\"black\" points=\"1303.38,-1544.31 1305.35,-1533.91 1297.32,-1540.81 1303.38,-1544.31\"/>\n",
       "</g>\n",
       "<!-- 140079869977552 -->\n",
       "<g id=\"node17\" class=\"node\">\n",
       "<title>140079869977552</title>\n",
       "<polygon fill=\"lightgrey\" stroke=\"black\" points=\"1187,-1660 1026,-1660 1026,-1641 1187,-1641 1187,-1660\"/>\n",
       "<text text-anchor=\"middle\" x=\"1106.5\" y=\"-1648\" font-family=\"monospace\" font-size=\"10.00\">CudnnConvolutionBackward</text>\n",
       "</g>\n",
       "<!-- 140079869977552&#45;&gt;140079869977456 -->\n",
       "<g id=\"edge15\" class=\"edge\">\n",
       "<title>140079869977552&#45;&gt;140079869977456</title>\n",
       "<path fill=\"none\" stroke=\"black\" d=\"M1130.78,-1640.99C1159.48,-1630.94 1207.39,-1614.16 1239.7,-1602.84\"/>\n",
       "<polygon fill=\"black\" stroke=\"black\" points=\"1240.91,-1606.13 1249.19,-1599.52 1238.59,-1599.52 1240.91,-1606.13\"/>\n",
       "</g>\n",
       "<!-- 140079869977744 -->\n",
       "<g id=\"node18\" class=\"node\">\n",
       "<title>140079869977744</title>\n",
       "<polygon fill=\"lightgrey\" stroke=\"black\" points=\"1037,-1720.5 852,-1720.5 852,-1701.5 1037,-1701.5 1037,-1720.5\"/>\n",
       "<text text-anchor=\"middle\" x=\"944.5\" y=\"-1708.5\" font-family=\"monospace\" font-size=\"10.00\">MaxPool2DWithIndicesBackward</text>\n",
       "</g>\n",
       "<!-- 140079869977744&#45;&gt;140079869977552 -->\n",
       "<g id=\"edge16\" class=\"edge\">\n",
       "<title>140079869977744&#45;&gt;140079869977552</title>\n",
       "<path fill=\"none\" stroke=\"black\" d=\"M968.06,-1701.49C995.77,-1691.49 1041.97,-1674.8 1073.31,-1663.49\"/>\n",
       "<polygon fill=\"black\" stroke=\"black\" points=\"1074.7,-1666.71 1082.92,-1660.02 1072.32,-1660.12 1074.7,-1666.71\"/>\n",
       "</g>\n",
       "<!-- 140079869977888 -->\n",
       "<g id=\"node19\" class=\"node\">\n",
       "<title>140079869977888</title>\n",
       "<polygon fill=\"lightgrey\" stroke=\"black\" points=\"991,-1786.5 896,-1786.5 896,-1767.5 991,-1767.5 991,-1786.5\"/>\n",
       "<text text-anchor=\"middle\" x=\"943.5\" y=\"-1774.5\" font-family=\"monospace\" font-size=\"10.00\">ReluBackward0</text>\n",
       "</g>\n",
       "<!-- 140079869977888&#45;&gt;140079869977744 -->\n",
       "<g id=\"edge17\" class=\"edge\">\n",
       "<title>140079869977888&#45;&gt;140079869977744</title>\n",
       "<path fill=\"none\" stroke=\"black\" d=\"M943.63,-1767.37C943.78,-1758.16 944.01,-1743.29 944.2,-1731.27\"/>\n",
       "<polygon fill=\"black\" stroke=\"black\" points=\"947.7,-1730.96 944.36,-1720.91 940.7,-1730.85 947.7,-1730.96\"/>\n",
       "</g>\n",
       "<!-- 140079869977984 -->\n",
       "<g id=\"node20\" class=\"node\">\n",
       "<title>140079869977984</title>\n",
       "<polygon fill=\"lightgrey\" stroke=\"black\" points=\"1018,-1847 869,-1847 869,-1828 1018,-1828 1018,-1847\"/>\n",
       "<text text-anchor=\"middle\" x=\"943.5\" y=\"-1835\" font-family=\"monospace\" font-size=\"10.00\">CudnnBatchNormBackward</text>\n",
       "</g>\n",
       "<!-- 140079869977984&#45;&gt;140079869977888 -->\n",
       "<g id=\"edge18\" class=\"edge\">\n",
       "<title>140079869977984&#45;&gt;140079869977888</title>\n",
       "<path fill=\"none\" stroke=\"black\" d=\"M943.5,-1827.87C943.5,-1819.75 943.5,-1807.31 943.5,-1796.89\"/>\n",
       "<polygon fill=\"black\" stroke=\"black\" points=\"947,-1796.67 943.5,-1786.67 940,-1796.67 947,-1796.67\"/>\n",
       "</g>\n",
       "<!-- 140079869978080 -->\n",
       "<g id=\"node21\" class=\"node\">\n",
       "<title>140079869978080</title>\n",
       "<polygon fill=\"lightgrey\" stroke=\"black\" points=\"857,-1902 696,-1902 696,-1883 857,-1883 857,-1902\"/>\n",
       "<text text-anchor=\"middle\" x=\"776.5\" y=\"-1890\" font-family=\"monospace\" font-size=\"10.00\">CudnnConvolutionBackward</text>\n",
       "</g>\n",
       "<!-- 140079869978080&#45;&gt;140079869977984 -->\n",
       "<g id=\"edge19\" class=\"edge\">\n",
       "<title>140079869978080&#45;&gt;140079869977984</title>\n",
       "<path fill=\"none\" stroke=\"black\" d=\"M803.33,-1882.98C831.37,-1874.09 875.55,-1860.07 906.8,-1850.15\"/>\n",
       "<polygon fill=\"black\" stroke=\"black\" points=\"907.99,-1853.44 916.46,-1847.08 905.87,-1846.77 907.99,-1853.44\"/>\n",
       "</g>\n",
       "<!-- 140079869978272 -->\n",
       "<g id=\"node22\" class=\"node\">\n",
       "<title>140079869978272</title>\n",
       "<polygon fill=\"lightgrey\" stroke=\"black\" points=\"689,-1962.5 594,-1962.5 594,-1943.5 689,-1943.5 689,-1962.5\"/>\n",
       "<text text-anchor=\"middle\" x=\"641.5\" y=\"-1950.5\" font-family=\"monospace\" font-size=\"10.00\">ReluBackward0</text>\n",
       "</g>\n",
       "<!-- 140079869978272&#45;&gt;140079869978080 -->\n",
       "<g id=\"edge20\" class=\"edge\">\n",
       "<title>140079869978272&#45;&gt;140079869978080</title>\n",
       "<path fill=\"none\" stroke=\"black\" d=\"M661.13,-1943.49C683.83,-1933.66 721.4,-1917.38 747.47,-1906.08\"/>\n",
       "<polygon fill=\"black\" stroke=\"black\" points=\"749.06,-1909.2 756.85,-1902.02 746.28,-1902.78 749.06,-1909.2\"/>\n",
       "</g>\n",
       "<!-- 140079869978416 -->\n",
       "<g id=\"node23\" class=\"node\">\n",
       "<title>140079869978416</title>\n",
       "<polygon fill=\"lightgrey\" stroke=\"black\" points=\"679,-2028.5 530,-2028.5 530,-2009.5 679,-2009.5 679,-2028.5\"/>\n",
       "<text text-anchor=\"middle\" x=\"604.5\" y=\"-2016.5\" font-family=\"monospace\" font-size=\"10.00\">CudnnBatchNormBackward</text>\n",
       "</g>\n",
       "<!-- 140079869978416&#45;&gt;140079869978272 -->\n",
       "<g id=\"edge21\" class=\"edge\">\n",
       "<title>140079869978416&#45;&gt;140079869978272</title>\n",
       "<path fill=\"none\" stroke=\"black\" d=\"M609.49,-2009.37C615.03,-1999.78 624.13,-1984.05 631.21,-1971.8\"/>\n",
       "<polygon fill=\"black\" stroke=\"black\" points=\"634.38,-1973.31 636.35,-1962.91 628.32,-1969.81 634.38,-1973.31\"/>\n",
       "</g>\n",
       "<!-- 140079869978512 -->\n",
       "<g id=\"node24\" class=\"node\">\n",
       "<title>140079869978512</title>\n",
       "<polygon fill=\"lightgrey\" stroke=\"black\" points=\"518,-2089 357,-2089 357,-2070 518,-2070 518,-2089\"/>\n",
       "<text text-anchor=\"middle\" x=\"437.5\" y=\"-2077\" font-family=\"monospace\" font-size=\"10.00\">CudnnConvolutionBackward</text>\n",
       "</g>\n",
       "<!-- 140079869978512&#45;&gt;140079869978416 -->\n",
       "<g id=\"edge22\" class=\"edge\">\n",
       "<title>140079869978512&#45;&gt;140079869978416</title>\n",
       "<path fill=\"none\" stroke=\"black\" d=\"M461.78,-2069.99C490.48,-2059.94 538.39,-2043.16 570.7,-2031.84\"/>\n",
       "<polygon fill=\"black\" stroke=\"black\" points=\"571.91,-2035.13 580.19,-2028.52 569.59,-2028.52 571.91,-2035.13\"/>\n",
       "</g>\n",
       "<!-- 140079869978704 -->\n",
       "<g id=\"node25\" class=\"node\">\n",
       "<title>140079869978704</title>\n",
       "<polygon fill=\"lightgrey\" stroke=\"black\" points=\"350,-2149.5 255,-2149.5 255,-2130.5 350,-2130.5 350,-2149.5\"/>\n",
       "<text text-anchor=\"middle\" x=\"302.5\" y=\"-2137.5\" font-family=\"monospace\" font-size=\"10.00\">ReluBackward0</text>\n",
       "</g>\n",
       "<!-- 140079869978704&#45;&gt;140079869978512 -->\n",
       "<g id=\"edge23\" class=\"edge\">\n",
       "<title>140079869978704&#45;&gt;140079869978512</title>\n",
       "<path fill=\"none\" stroke=\"black\" d=\"M322.13,-2130.49C344.83,-2120.66 382.4,-2104.38 408.47,-2093.08\"/>\n",
       "<polygon fill=\"black\" stroke=\"black\" points=\"410.06,-2096.2 417.85,-2089.02 407.28,-2089.78 410.06,-2096.2\"/>\n",
       "</g>\n",
       "<!-- 140079869978848 -->\n",
       "<g id=\"node26\" class=\"node\">\n",
       "<title>140079869978848</title>\n",
       "<polygon fill=\"lightgrey\" stroke=\"black\" points=\"340,-2215.5 191,-2215.5 191,-2196.5 340,-2196.5 340,-2215.5\"/>\n",
       "<text text-anchor=\"middle\" x=\"265.5\" y=\"-2203.5\" font-family=\"monospace\" font-size=\"10.00\">CudnnBatchNormBackward</text>\n",
       "</g>\n",
       "<!-- 140079869978848&#45;&gt;140079869978704 -->\n",
       "<g id=\"edge24\" class=\"edge\">\n",
       "<title>140079869978848&#45;&gt;140079869978704</title>\n",
       "<path fill=\"none\" stroke=\"black\" d=\"M270.49,-2196.37C276.03,-2186.78 285.13,-2171.05 292.21,-2158.8\"/>\n",
       "<polygon fill=\"black\" stroke=\"black\" points=\"295.38,-2160.31 297.35,-2149.91 289.32,-2156.81 295.38,-2160.31\"/>\n",
       "</g>\n",
       "<!-- 140079869978944 -->\n",
       "<g id=\"node27\" class=\"node\">\n",
       "<title>140079869978944</title>\n",
       "<polygon fill=\"lightgrey\" stroke=\"black\" points=\"188,-2276 27,-2276 27,-2257 188,-2257 188,-2276\"/>\n",
       "<text text-anchor=\"middle\" x=\"107.5\" y=\"-2264\" font-family=\"monospace\" font-size=\"10.00\">CudnnConvolutionBackward</text>\n",
       "</g>\n",
       "<!-- 140079869978944&#45;&gt;140079869978848 -->\n",
       "<g id=\"edge25\" class=\"edge\">\n",
       "<title>140079869978944&#45;&gt;140079869978848</title>\n",
       "<path fill=\"none\" stroke=\"black\" d=\"M130.47,-2256.99C157.39,-2247.03 202.17,-2230.45 232.73,-2219.13\"/>\n",
       "<polygon fill=\"black\" stroke=\"black\" points=\"234.34,-2222.27 242.5,-2215.52 231.9,-2215.71 234.34,-2222.27\"/>\n",
       "</g>\n",
       "<!-- 140079869979136 -->\n",
       "<g id=\"node28\" class=\"node\">\n",
       "<title>140079869979136</title>\n",
       "<polygon fill=\"lightgrey\" stroke=\"black\" points=\"149,-2336.5 48,-2336.5 48,-2317.5 149,-2317.5 149,-2336.5\"/>\n",
       "<text text-anchor=\"middle\" x=\"98.5\" y=\"-2324.5\" font-family=\"monospace\" font-size=\"10.00\">AccumulateGrad</text>\n",
       "</g>\n",
       "<!-- 140079869979136&#45;&gt;140079869978944 -->\n",
       "<g id=\"edge26\" class=\"edge\">\n",
       "<title>140079869979136&#45;&gt;140079869978944</title>\n",
       "<path fill=\"none\" stroke=\"black\" d=\"M99.83,-2317.37C101.09,-2309.16 103.03,-2296.54 104.65,-2286.05\"/>\n",
       "<polygon fill=\"black\" stroke=\"black\" points=\"108.11,-2286.58 106.17,-2276.17 101.19,-2285.52 108.11,-2286.58\"/>\n",
       "</g>\n",
       "<!-- 140079306914752 -->\n",
       "<g id=\"node29\" class=\"node\">\n",
       "<title>140079306914752</title>\n",
       "<polygon fill=\"lightblue\" stroke=\"black\" points=\"197,-2408 0,-2408 0,-2378 197,-2378 197,-2408\"/>\n",
       "<text text-anchor=\"middle\" x=\"98.5\" y=\"-2396\" font-family=\"monospace\" font-size=\"10.00\">mnist_mode.convblock1.0.weight</text>\n",
       "<text text-anchor=\"middle\" x=\"98.5\" y=\"-2385\" font-family=\"monospace\" font-size=\"10.00\"> (10, 1, 3, 3)</text>\n",
       "</g>\n",
       "<!-- 140079306914752&#45;&gt;140079869979136 -->\n",
       "<g id=\"edge27\" class=\"edge\">\n",
       "<title>140079306914752&#45;&gt;140079869979136</title>\n",
       "<path fill=\"none\" stroke=\"black\" d=\"M98.5,-2377.8C98.5,-2368.7 98.5,-2356.79 98.5,-2346.9\"/>\n",
       "<polygon fill=\"black\" stroke=\"black\" points=\"102,-2346.84 98.5,-2336.84 95,-2346.84 102,-2346.84\"/>\n",
       "</g>\n",
       "<!-- 140079869978896 -->\n",
       "<g id=\"node30\" class=\"node\">\n",
       "<title>140079869978896</title>\n",
       "<polygon fill=\"lightgrey\" stroke=\"black\" points=\"316,-2276 215,-2276 215,-2257 316,-2257 316,-2276\"/>\n",
       "<text text-anchor=\"middle\" x=\"265.5\" y=\"-2264\" font-family=\"monospace\" font-size=\"10.00\">AccumulateGrad</text>\n",
       "</g>\n",
       "<!-- 140079869978896&#45;&gt;140079869978848 -->\n",
       "<g id=\"edge28\" class=\"edge\">\n",
       "<title>140079869978896&#45;&gt;140079869978848</title>\n",
       "<path fill=\"none\" stroke=\"black\" d=\"M265.5,-2256.87C265.5,-2248.75 265.5,-2236.31 265.5,-2225.89\"/>\n",
       "<polygon fill=\"black\" stroke=\"black\" points=\"269,-2225.67 265.5,-2215.67 262,-2225.67 269,-2225.67\"/>\n",
       "</g>\n",
       "<!-- 140079306915392 -->\n",
       "<g id=\"node31\" class=\"node\">\n",
       "<title>140079306915392</title>\n",
       "<polygon fill=\"lightblue\" stroke=\"black\" points=\"364,-2342 167,-2342 167,-2312 364,-2312 364,-2342\"/>\n",
       "<text text-anchor=\"middle\" x=\"265.5\" y=\"-2330\" font-family=\"monospace\" font-size=\"10.00\">mnist_mode.convblock1.1.weight</text>\n",
       "<text text-anchor=\"middle\" x=\"265.5\" y=\"-2319\" font-family=\"monospace\" font-size=\"10.00\"> (10)</text>\n",
       "</g>\n",
       "<!-- 140079306915392&#45;&gt;140079869978896 -->\n",
       "<g id=\"edge29\" class=\"edge\">\n",
       "<title>140079306915392&#45;&gt;140079869978896</title>\n",
       "<path fill=\"none\" stroke=\"black\" d=\"M265.5,-2311.84C265.5,-2304.21 265.5,-2294.7 265.5,-2286.45\"/>\n",
       "<polygon fill=\"black\" stroke=\"black\" points=\"269,-2286.27 265.5,-2276.27 262,-2286.27 269,-2286.27\"/>\n",
       "</g>\n",
       "<!-- 140079869978752 -->\n",
       "<g id=\"node32\" class=\"node\">\n",
       "<title>140079869978752</title>\n",
       "<polygon fill=\"lightgrey\" stroke=\"black\" points=\"480,-2276 379,-2276 379,-2257 480,-2257 480,-2276\"/>\n",
       "<text text-anchor=\"middle\" x=\"429.5\" y=\"-2264\" font-family=\"monospace\" font-size=\"10.00\">AccumulateGrad</text>\n",
       "</g>\n",
       "<!-- 140079869978752&#45;&gt;140079869978848 -->\n",
       "<g id=\"edge30\" class=\"edge\">\n",
       "<title>140079869978752&#45;&gt;140079869978848</title>\n",
       "<path fill=\"none\" stroke=\"black\" d=\"M405.65,-2256.99C377.6,-2246.99 330.83,-2230.3 299.1,-2218.99\"/>\n",
       "<polygon fill=\"black\" stroke=\"black\" points=\"299.97,-2215.58 289.38,-2215.52 297.62,-2222.17 299.97,-2215.58\"/>\n",
       "</g>\n",
       "<!-- 140079306915648 -->\n",
       "<g id=\"node33\" class=\"node\">\n",
       "<title>140079306915648</title>\n",
       "<polygon fill=\"lightblue\" stroke=\"black\" points=\"567,-2342 382,-2342 382,-2312 567,-2312 567,-2342\"/>\n",
       "<text text-anchor=\"middle\" x=\"474.5\" y=\"-2330\" font-family=\"monospace\" font-size=\"10.00\">mnist_mode.convblock1.1.bias</text>\n",
       "<text text-anchor=\"middle\" x=\"474.5\" y=\"-2319\" font-family=\"monospace\" font-size=\"10.00\"> (10)</text>\n",
       "</g>\n",
       "<!-- 140079306915648&#45;&gt;140079869978752 -->\n",
       "<g id=\"edge31\" class=\"edge\">\n",
       "<title>140079306915648&#45;&gt;140079869978752</title>\n",
       "<path fill=\"none\" stroke=\"black\" d=\"M463.61,-2311.84C457.21,-2303.52 449.08,-2292.96 442.37,-2284.23\"/>\n",
       "<polygon fill=\"black\" stroke=\"black\" points=\"445.11,-2282.06 436.24,-2276.27 439.57,-2286.33 445.11,-2282.06\"/>\n",
       "</g>\n",
       "<!-- 140079869978656 -->\n",
       "<g id=\"node34\" class=\"node\">\n",
       "<title>140079869978656</title>\n",
       "<polygon fill=\"lightgrey\" stroke=\"black\" points=\"488,-2149.5 387,-2149.5 387,-2130.5 488,-2130.5 488,-2149.5\"/>\n",
       "<text text-anchor=\"middle\" x=\"437.5\" y=\"-2137.5\" font-family=\"monospace\" font-size=\"10.00\">AccumulateGrad</text>\n",
       "</g>\n",
       "<!-- 140079869978656&#45;&gt;140079869978512 -->\n",
       "<g id=\"edge32\" class=\"edge\">\n",
       "<title>140079869978656&#45;&gt;140079869978512</title>\n",
       "<path fill=\"none\" stroke=\"black\" d=\"M437.5,-2130.37C437.5,-2122.25 437.5,-2109.81 437.5,-2099.39\"/>\n",
       "<polygon fill=\"black\" stroke=\"black\" points=\"441,-2099.17 437.5,-2089.17 434,-2099.17 441,-2099.17\"/>\n",
       "</g>\n",
       "<!-- 140079306909120 -->\n",
       "<g id=\"node35\" class=\"node\">\n",
       "<title>140079306909120</title>\n",
       "<polygon fill=\"lightblue\" stroke=\"black\" points=\"555,-2221 358,-2221 358,-2191 555,-2191 555,-2221\"/>\n",
       "<text text-anchor=\"middle\" x=\"456.5\" y=\"-2209\" font-family=\"monospace\" font-size=\"10.00\">mnist_mode.convblock2.0.weight</text>\n",
       "<text text-anchor=\"middle\" x=\"456.5\" y=\"-2198\" font-family=\"monospace\" font-size=\"10.00\"> (10, 10, 3, 3)</text>\n",
       "</g>\n",
       "<!-- 140079306909120&#45;&gt;140079869978656 -->\n",
       "<g id=\"edge33\" class=\"edge\">\n",
       "<title>140079306909120&#45;&gt;140079869978656</title>\n",
       "<path fill=\"none\" stroke=\"black\" d=\"M452.28,-2190.8C449.55,-2181.6 445.97,-2169.53 443.02,-2159.58\"/>\n",
       "<polygon fill=\"black\" stroke=\"black\" points=\"446.33,-2158.43 440.13,-2149.84 439.62,-2160.43 446.33,-2158.43\"/>\n",
       "</g>\n",
       "<!-- 140079869978464 -->\n",
       "<g id=\"node36\" class=\"node\">\n",
       "<title>140079869978464</title>\n",
       "<polygon fill=\"lightgrey\" stroke=\"black\" points=\"655,-2089 554,-2089 554,-2070 655,-2070 655,-2089\"/>\n",
       "<text text-anchor=\"middle\" x=\"604.5\" y=\"-2077\" font-family=\"monospace\" font-size=\"10.00\">AccumulateGrad</text>\n",
       "</g>\n",
       "<!-- 140079869978464&#45;&gt;140079869978416 -->\n",
       "<g id=\"edge34\" class=\"edge\">\n",
       "<title>140079869978464&#45;&gt;140079869978416</title>\n",
       "<path fill=\"none\" stroke=\"black\" d=\"M604.5,-2069.87C604.5,-2061.75 604.5,-2049.31 604.5,-2038.89\"/>\n",
       "<polygon fill=\"black\" stroke=\"black\" points=\"608,-2038.67 604.5,-2028.67 601,-2038.67 608,-2038.67\"/>\n",
       "</g>\n",
       "<!-- 140079306909568 -->\n",
       "<g id=\"node37\" class=\"node\">\n",
       "<title>140079306909568</title>\n",
       "<polygon fill=\"lightblue\" stroke=\"black\" points=\"703,-2155 506,-2155 506,-2125 703,-2125 703,-2155\"/>\n",
       "<text text-anchor=\"middle\" x=\"604.5\" y=\"-2143\" font-family=\"monospace\" font-size=\"10.00\">mnist_mode.convblock2.1.weight</text>\n",
       "<text text-anchor=\"middle\" x=\"604.5\" y=\"-2132\" font-family=\"monospace\" font-size=\"10.00\"> (10)</text>\n",
       "</g>\n",
       "<!-- 140079306909568&#45;&gt;140079869978464 -->\n",
       "<g id=\"edge35\" class=\"edge\">\n",
       "<title>140079306909568&#45;&gt;140079869978464</title>\n",
       "<path fill=\"none\" stroke=\"black\" d=\"M604.5,-2124.84C604.5,-2117.21 604.5,-2107.7 604.5,-2099.45\"/>\n",
       "<polygon fill=\"black\" stroke=\"black\" points=\"608,-2099.27 604.5,-2089.27 601,-2099.27 608,-2099.27\"/>\n",
       "</g>\n",
       "<!-- 140079869978320 -->\n",
       "<g id=\"node38\" class=\"node\">\n",
       "<title>140079869978320</title>\n",
       "<polygon fill=\"lightgrey\" stroke=\"black\" points=\"819,-2089 718,-2089 718,-2070 819,-2070 819,-2089\"/>\n",
       "<text text-anchor=\"middle\" x=\"768.5\" y=\"-2077\" font-family=\"monospace\" font-size=\"10.00\">AccumulateGrad</text>\n",
       "</g>\n",
       "<!-- 140079869978320&#45;&gt;140079869978416 -->\n",
       "<g id=\"edge36\" class=\"edge\">\n",
       "<title>140079869978320&#45;&gt;140079869978416</title>\n",
       "<path fill=\"none\" stroke=\"black\" d=\"M744.65,-2069.99C716.6,-2059.99 669.83,-2043.3 638.1,-2031.99\"/>\n",
       "<polygon fill=\"black\" stroke=\"black\" points=\"638.97,-2028.58 628.38,-2028.52 636.62,-2035.17 638.97,-2028.58\"/>\n",
       "</g>\n",
       "<!-- 140079306909184 -->\n",
       "<g id=\"node39\" class=\"node\">\n",
       "<title>140079306909184</title>\n",
       "<polygon fill=\"lightblue\" stroke=\"black\" points=\"906,-2155 721,-2155 721,-2125 906,-2125 906,-2155\"/>\n",
       "<text text-anchor=\"middle\" x=\"813.5\" y=\"-2143\" font-family=\"monospace\" font-size=\"10.00\">mnist_mode.convblock2.1.bias</text>\n",
       "<text text-anchor=\"middle\" x=\"813.5\" y=\"-2132\" font-family=\"monospace\" font-size=\"10.00\"> (10)</text>\n",
       "</g>\n",
       "<!-- 140079306909184&#45;&gt;140079869978320 -->\n",
       "<g id=\"edge37\" class=\"edge\">\n",
       "<title>140079306909184&#45;&gt;140079869978320</title>\n",
       "<path fill=\"none\" stroke=\"black\" d=\"M802.61,-2124.84C796.21,-2116.52 788.08,-2105.96 781.37,-2097.23\"/>\n",
       "<polygon fill=\"black\" stroke=\"black\" points=\"784.11,-2095.06 775.24,-2089.27 778.57,-2099.33 784.11,-2095.06\"/>\n",
       "</g>\n",
       "<!-- 140079869978224 -->\n",
       "<g id=\"node40\" class=\"node\">\n",
       "<title>140079869978224</title>\n",
       "<polygon fill=\"lightgrey\" stroke=\"black\" points=\"827,-1962.5 726,-1962.5 726,-1943.5 827,-1943.5 827,-1962.5\"/>\n",
       "<text text-anchor=\"middle\" x=\"776.5\" y=\"-1950.5\" font-family=\"monospace\" font-size=\"10.00\">AccumulateGrad</text>\n",
       "</g>\n",
       "<!-- 140079869978224&#45;&gt;140079869978080 -->\n",
       "<g id=\"edge38\" class=\"edge\">\n",
       "<title>140079869978224&#45;&gt;140079869978080</title>\n",
       "<path fill=\"none\" stroke=\"black\" d=\"M776.5,-1943.37C776.5,-1935.25 776.5,-1922.81 776.5,-1912.39\"/>\n",
       "<polygon fill=\"black\" stroke=\"black\" points=\"780,-1912.17 776.5,-1902.17 773,-1912.17 780,-1912.17\"/>\n",
       "</g>\n",
       "<!-- 140079288826368 -->\n",
       "<g id=\"node41\" class=\"node\">\n",
       "<title>140079288826368</title>\n",
       "<polygon fill=\"lightblue\" stroke=\"black\" points=\"894,-2034 697,-2034 697,-2004 894,-2004 894,-2034\"/>\n",
       "<text text-anchor=\"middle\" x=\"795.5\" y=\"-2022\" font-family=\"monospace\" font-size=\"10.00\">mnist_mode.convblock3.0.weight</text>\n",
       "<text text-anchor=\"middle\" x=\"795.5\" y=\"-2011\" font-family=\"monospace\" font-size=\"10.00\"> (15, 10, 3, 3)</text>\n",
       "</g>\n",
       "<!-- 140079288826368&#45;&gt;140079869978224 -->\n",
       "<g id=\"edge39\" class=\"edge\">\n",
       "<title>140079288826368&#45;&gt;140079869978224</title>\n",
       "<path fill=\"none\" stroke=\"black\" d=\"M791.28,-2003.8C788.55,-1994.6 784.97,-1982.53 782.02,-1972.58\"/>\n",
       "<polygon fill=\"black\" stroke=\"black\" points=\"785.33,-1971.43 779.13,-1962.84 778.62,-1973.43 785.33,-1971.43\"/>\n",
       "</g>\n",
       "<!-- 140079869978032 -->\n",
       "<g id=\"node42\" class=\"node\">\n",
       "<title>140079869978032</title>\n",
       "<polygon fill=\"lightgrey\" stroke=\"black\" points=\"994,-1902 893,-1902 893,-1883 994,-1883 994,-1902\"/>\n",
       "<text text-anchor=\"middle\" x=\"943.5\" y=\"-1890\" font-family=\"monospace\" font-size=\"10.00\">AccumulateGrad</text>\n",
       "</g>\n",
       "<!-- 140079869978032&#45;&gt;140079869977984 -->\n",
       "<g id=\"edge40\" class=\"edge\">\n",
       "<title>140079869978032&#45;&gt;140079869977984</title>\n",
       "<path fill=\"none\" stroke=\"black\" d=\"M943.5,-1882.75C943.5,-1875.8 943.5,-1865.85 943.5,-1857.13\"/>\n",
       "<polygon fill=\"black\" stroke=\"black\" points=\"947,-1857.09 943.5,-1847.09 940,-1857.09 947,-1857.09\"/>\n",
       "</g>\n",
       "<!-- 140079288827200 -->\n",
       "<g id=\"node43\" class=\"node\">\n",
       "<title>140079288827200</title>\n",
       "<polygon fill=\"lightblue\" stroke=\"black\" points=\"1042,-1968 845,-1968 845,-1938 1042,-1938 1042,-1968\"/>\n",
       "<text text-anchor=\"middle\" x=\"943.5\" y=\"-1956\" font-family=\"monospace\" font-size=\"10.00\">mnist_mode.convblock3.1.weight</text>\n",
       "<text text-anchor=\"middle\" x=\"943.5\" y=\"-1945\" font-family=\"monospace\" font-size=\"10.00\"> (15)</text>\n",
       "</g>\n",
       "<!-- 140079288827200&#45;&gt;140079869978032 -->\n",
       "<g id=\"edge41\" class=\"edge\">\n",
       "<title>140079288827200&#45;&gt;140079869978032</title>\n",
       "<path fill=\"none\" stroke=\"black\" d=\"M943.5,-1937.84C943.5,-1930.21 943.5,-1920.7 943.5,-1912.45\"/>\n",
       "<polygon fill=\"black\" stroke=\"black\" points=\"947,-1912.27 943.5,-1902.27 940,-1912.27 947,-1912.27\"/>\n",
       "</g>\n",
       "<!-- 140079869977792 -->\n",
       "<g id=\"node44\" class=\"node\">\n",
       "<title>140079869977792</title>\n",
       "<polygon fill=\"lightgrey\" stroke=\"black\" points=\"1158,-1902 1057,-1902 1057,-1883 1158,-1883 1158,-1902\"/>\n",
       "<text text-anchor=\"middle\" x=\"1107.5\" y=\"-1890\" font-family=\"monospace\" font-size=\"10.00\">AccumulateGrad</text>\n",
       "</g>\n",
       "<!-- 140079869977792&#45;&gt;140079869977984 -->\n",
       "<g id=\"edge42\" class=\"edge\">\n",
       "<title>140079869977792&#45;&gt;140079869977984</title>\n",
       "<path fill=\"none\" stroke=\"black\" d=\"M1081.15,-1882.98C1053.74,-1874.13 1010.61,-1860.19 979.94,-1850.28\"/>\n",
       "<polygon fill=\"black\" stroke=\"black\" points=\"980.65,-1846.83 970.06,-1847.08 978.5,-1853.49 980.65,-1846.83\"/>\n",
       "</g>\n",
       "<!-- 140079288865472 -->\n",
       "<g id=\"node45\" class=\"node\">\n",
       "<title>140079288865472</title>\n",
       "<polygon fill=\"lightblue\" stroke=\"black\" points=\"1245,-1968 1060,-1968 1060,-1938 1245,-1938 1245,-1968\"/>\n",
       "<text text-anchor=\"middle\" x=\"1152.5\" y=\"-1956\" font-family=\"monospace\" font-size=\"10.00\">mnist_mode.convblock3.1.bias</text>\n",
       "<text text-anchor=\"middle\" x=\"1152.5\" y=\"-1945\" font-family=\"monospace\" font-size=\"10.00\"> (15)</text>\n",
       "</g>\n",
       "<!-- 140079288865472&#45;&gt;140079869977792 -->\n",
       "<g id=\"edge43\" class=\"edge\">\n",
       "<title>140079288865472&#45;&gt;140079869977792</title>\n",
       "<path fill=\"none\" stroke=\"black\" d=\"M1141.61,-1937.84C1135.21,-1929.52 1127.08,-1918.96 1120.37,-1910.23\"/>\n",
       "<polygon fill=\"black\" stroke=\"black\" points=\"1123.11,-1908.06 1114.24,-1902.27 1117.57,-1912.33 1123.11,-1908.06\"/>\n",
       "</g>\n",
       "<!-- 140079869977696 -->\n",
       "<g id=\"node46\" class=\"node\">\n",
       "<title>140079869977696</title>\n",
       "<polygon fill=\"lightgrey\" stroke=\"black\" points=\"1157,-1720.5 1056,-1720.5 1056,-1701.5 1157,-1701.5 1157,-1720.5\"/>\n",
       "<text text-anchor=\"middle\" x=\"1106.5\" y=\"-1708.5\" font-family=\"monospace\" font-size=\"10.00\">AccumulateGrad</text>\n",
       "</g>\n",
       "<!-- 140079869977696&#45;&gt;140079869977552 -->\n",
       "<g id=\"edge44\" class=\"edge\">\n",
       "<title>140079869977696&#45;&gt;140079869977552</title>\n",
       "<path fill=\"none\" stroke=\"black\" d=\"M1106.5,-1701.37C1106.5,-1693.25 1106.5,-1680.81 1106.5,-1670.39\"/>\n",
       "<polygon fill=\"black\" stroke=\"black\" points=\"1110,-1670.17 1106.5,-1660.17 1103,-1670.17 1110,-1670.17\"/>\n",
       "</g>\n",
       "<!-- 140079402774720 -->\n",
       "<g id=\"node47\" class=\"node\">\n",
       "<title>140079402774720</title>\n",
       "<polygon fill=\"lightblue\" stroke=\"black\" points=\"1206,-1792 1009,-1792 1009,-1762 1206,-1762 1206,-1792\"/>\n",
       "<text text-anchor=\"middle\" x=\"1107.5\" y=\"-1780\" font-family=\"monospace\" font-size=\"10.00\">mnist_mode.convblock4.0.weight</text>\n",
       "<text text-anchor=\"middle\" x=\"1107.5\" y=\"-1769\" font-family=\"monospace\" font-size=\"10.00\"> (10, 15, 1, 1)</text>\n",
       "</g>\n",
       "<!-- 140079402774720&#45;&gt;140079869977696 -->\n",
       "<g id=\"edge45\" class=\"edge\">\n",
       "<title>140079402774720&#45;&gt;140079869977696</title>\n",
       "<path fill=\"none\" stroke=\"black\" d=\"M1107.28,-1761.8C1107.14,-1752.7 1106.95,-1740.79 1106.8,-1730.9\"/>\n",
       "<polygon fill=\"black\" stroke=\"black\" points=\"1110.29,-1730.79 1106.64,-1720.84 1103.29,-1730.9 1110.29,-1730.79\"/>\n",
       "</g>\n",
       "<!-- 140079869977504 -->\n",
       "<g id=\"node48\" class=\"node\">\n",
       "<title>140079869977504</title>\n",
       "<polygon fill=\"lightgrey\" stroke=\"black\" points=\"1324,-1660 1223,-1660 1223,-1641 1324,-1641 1324,-1660\"/>\n",
       "<text text-anchor=\"middle\" x=\"1273.5\" y=\"-1648\" font-family=\"monospace\" font-size=\"10.00\">AccumulateGrad</text>\n",
       "</g>\n",
       "<!-- 140079869977504&#45;&gt;140079869977456 -->\n",
       "<g id=\"edge46\" class=\"edge\">\n",
       "<title>140079869977504&#45;&gt;140079869977456</title>\n",
       "<path fill=\"none\" stroke=\"black\" d=\"M1273.5,-1640.87C1273.5,-1632.75 1273.5,-1620.31 1273.5,-1609.89\"/>\n",
       "<polygon fill=\"black\" stroke=\"black\" points=\"1277,-1609.67 1273.5,-1599.67 1270,-1609.67 1277,-1609.67\"/>\n",
       "</g>\n",
       "<!-- 140079402777408 -->\n",
       "<g id=\"node49\" class=\"node\">\n",
       "<title>140079402777408</title>\n",
       "<polygon fill=\"lightblue\" stroke=\"black\" points=\"1372,-1726 1175,-1726 1175,-1696 1372,-1696 1372,-1726\"/>\n",
       "<text text-anchor=\"middle\" x=\"1273.5\" y=\"-1714\" font-family=\"monospace\" font-size=\"10.00\">mnist_mode.convblock4.1.weight</text>\n",
       "<text text-anchor=\"middle\" x=\"1273.5\" y=\"-1703\" font-family=\"monospace\" font-size=\"10.00\"> (10)</text>\n",
       "</g>\n",
       "<!-- 140079402777408&#45;&gt;140079869977504 -->\n",
       "<g id=\"edge47\" class=\"edge\">\n",
       "<title>140079402777408&#45;&gt;140079869977504</title>\n",
       "<path fill=\"none\" stroke=\"black\" d=\"M1273.5,-1695.84C1273.5,-1688.21 1273.5,-1678.7 1273.5,-1670.45\"/>\n",
       "<polygon fill=\"black\" stroke=\"black\" points=\"1277,-1670.27 1273.5,-1660.27 1270,-1670.27 1277,-1670.27\"/>\n",
       "</g>\n",
       "<!-- 140079869977360 -->\n",
       "<g id=\"node50\" class=\"node\">\n",
       "<title>140079869977360</title>\n",
       "<polygon fill=\"lightgrey\" stroke=\"black\" points=\"1488,-1660 1387,-1660 1387,-1641 1488,-1641 1488,-1660\"/>\n",
       "<text text-anchor=\"middle\" x=\"1437.5\" y=\"-1648\" font-family=\"monospace\" font-size=\"10.00\">AccumulateGrad</text>\n",
       "</g>\n",
       "<!-- 140079869977360&#45;&gt;140079869977456 -->\n",
       "<g id=\"edge48\" class=\"edge\">\n",
       "<title>140079869977360&#45;&gt;140079869977456</title>\n",
       "<path fill=\"none\" stroke=\"black\" d=\"M1413.65,-1640.99C1385.6,-1630.99 1338.83,-1614.3 1307.1,-1602.99\"/>\n",
       "<polygon fill=\"black\" stroke=\"black\" points=\"1307.97,-1599.58 1297.38,-1599.52 1305.62,-1606.17 1307.97,-1599.58\"/>\n",
       "</g>\n",
       "<!-- 140079402778496 -->\n",
       "<g id=\"node51\" class=\"node\">\n",
       "<title>140079402778496</title>\n",
       "<polygon fill=\"lightblue\" stroke=\"black\" points=\"1575,-1726 1390,-1726 1390,-1696 1575,-1696 1575,-1726\"/>\n",
       "<text text-anchor=\"middle\" x=\"1482.5\" y=\"-1714\" font-family=\"monospace\" font-size=\"10.00\">mnist_mode.convblock4.1.bias</text>\n",
       "<text text-anchor=\"middle\" x=\"1482.5\" y=\"-1703\" font-family=\"monospace\" font-size=\"10.00\"> (10)</text>\n",
       "</g>\n",
       "<!-- 140079402778496&#45;&gt;140079869977360 -->\n",
       "<g id=\"edge49\" class=\"edge\">\n",
       "<title>140079402778496&#45;&gt;140079869977360</title>\n",
       "<path fill=\"none\" stroke=\"black\" d=\"M1471.61,-1695.84C1465.21,-1687.52 1457.08,-1676.96 1450.37,-1668.23\"/>\n",
       "<polygon fill=\"black\" stroke=\"black\" points=\"1453.11,-1666.06 1444.24,-1660.27 1447.57,-1670.33 1453.11,-1666.06\"/>\n",
       "</g>\n",
       "<!-- 140079869977264 -->\n",
       "<g id=\"node52\" class=\"node\">\n",
       "<title>140079869977264</title>\n",
       "<polygon fill=\"lightgrey\" stroke=\"black\" points=\"1496,-1533.5 1395,-1533.5 1395,-1514.5 1496,-1514.5 1496,-1533.5\"/>\n",
       "<text text-anchor=\"middle\" x=\"1445.5\" y=\"-1521.5\" font-family=\"monospace\" font-size=\"10.00\">AccumulateGrad</text>\n",
       "</g>\n",
       "<!-- 140079869977264&#45;&gt;140079869977120 -->\n",
       "<g id=\"edge50\" class=\"edge\">\n",
       "<title>140079869977264&#45;&gt;140079869977120</title>\n",
       "<path fill=\"none\" stroke=\"black\" d=\"M1445.5,-1514.37C1445.5,-1506.25 1445.5,-1493.81 1445.5,-1483.39\"/>\n",
       "<polygon fill=\"black\" stroke=\"black\" points=\"1449,-1483.17 1445.5,-1473.17 1442,-1483.17 1449,-1483.17\"/>\n",
       "</g>\n",
       "<!-- 140079288828672 -->\n",
       "<g id=\"node53\" class=\"node\">\n",
       "<title>140079288828672</title>\n",
       "<polygon fill=\"lightblue\" stroke=\"black\" points=\"1563,-1605 1366,-1605 1366,-1575 1563,-1575 1563,-1605\"/>\n",
       "<text text-anchor=\"middle\" x=\"1464.5\" y=\"-1593\" font-family=\"monospace\" font-size=\"10.00\">mnist_mode.convblock5.0.weight</text>\n",
       "<text text-anchor=\"middle\" x=\"1464.5\" y=\"-1582\" font-family=\"monospace\" font-size=\"10.00\"> (10, 10, 3, 3)</text>\n",
       "</g>\n",
       "<!-- 140079288828672&#45;&gt;140079869977264 -->\n",
       "<g id=\"edge51\" class=\"edge\">\n",
       "<title>140079288828672&#45;&gt;140079869977264</title>\n",
       "<path fill=\"none\" stroke=\"black\" d=\"M1460.28,-1574.8C1457.55,-1565.6 1453.97,-1553.53 1451.02,-1543.58\"/>\n",
       "<polygon fill=\"black\" stroke=\"black\" points=\"1454.33,-1542.43 1448.13,-1533.84 1447.62,-1544.43 1454.33,-1542.43\"/>\n",
       "</g>\n",
       "<!-- 140079869977072 -->\n",
       "<g id=\"node54\" class=\"node\">\n",
       "<title>140079869977072</title>\n",
       "<polygon fill=\"lightgrey\" stroke=\"black\" points=\"1663,-1473 1562,-1473 1562,-1454 1663,-1454 1663,-1473\"/>\n",
       "<text text-anchor=\"middle\" x=\"1612.5\" y=\"-1461\" font-family=\"monospace\" font-size=\"10.00\">AccumulateGrad</text>\n",
       "</g>\n",
       "<!-- 140079869977072&#45;&gt;140079869977024 -->\n",
       "<g id=\"edge52\" class=\"edge\">\n",
       "<title>140079869977072&#45;&gt;140079869977024</title>\n",
       "<path fill=\"none\" stroke=\"black\" d=\"M1612.5,-1453.87C1612.5,-1445.75 1612.5,-1433.31 1612.5,-1422.89\"/>\n",
       "<polygon fill=\"black\" stroke=\"black\" points=\"1616,-1422.67 1612.5,-1412.67 1609,-1422.67 1616,-1422.67\"/>\n",
       "</g>\n",
       "<!-- 140079288828608 -->\n",
       "<g id=\"node55\" class=\"node\">\n",
       "<title>140079288828608</title>\n",
       "<polygon fill=\"lightblue\" stroke=\"black\" points=\"1711,-1539 1514,-1539 1514,-1509 1711,-1509 1711,-1539\"/>\n",
       "<text text-anchor=\"middle\" x=\"1612.5\" y=\"-1527\" font-family=\"monospace\" font-size=\"10.00\">mnist_mode.convblock5.1.weight</text>\n",
       "<text text-anchor=\"middle\" x=\"1612.5\" y=\"-1516\" font-family=\"monospace\" font-size=\"10.00\"> (10)</text>\n",
       "</g>\n",
       "<!-- 140079288828608&#45;&gt;140079869977072 -->\n",
       "<g id=\"edge53\" class=\"edge\">\n",
       "<title>140079288828608&#45;&gt;140079869977072</title>\n",
       "<path fill=\"none\" stroke=\"black\" d=\"M1612.5,-1508.84C1612.5,-1501.21 1612.5,-1491.7 1612.5,-1483.45\"/>\n",
       "<polygon fill=\"black\" stroke=\"black\" points=\"1616,-1483.27 1612.5,-1473.27 1609,-1483.27 1616,-1483.27\"/>\n",
       "</g>\n",
       "<!-- 140079869976928 -->\n",
       "<g id=\"node56\" class=\"node\">\n",
       "<title>140079869976928</title>\n",
       "<polygon fill=\"lightgrey\" stroke=\"black\" points=\"1827,-1473 1726,-1473 1726,-1454 1827,-1454 1827,-1473\"/>\n",
       "<text text-anchor=\"middle\" x=\"1776.5\" y=\"-1461\" font-family=\"monospace\" font-size=\"10.00\">AccumulateGrad</text>\n",
       "</g>\n",
       "<!-- 140079869976928&#45;&gt;140079869977024 -->\n",
       "<g id=\"edge54\" class=\"edge\">\n",
       "<title>140079869976928&#45;&gt;140079869977024</title>\n",
       "<path fill=\"none\" stroke=\"black\" d=\"M1752.65,-1453.99C1724.6,-1443.99 1677.83,-1427.3 1646.1,-1415.99\"/>\n",
       "<polygon fill=\"black\" stroke=\"black\" points=\"1646.97,-1412.58 1636.38,-1412.52 1644.62,-1419.17 1646.97,-1412.58\"/>\n",
       "</g>\n",
       "<!-- 140079288828544 -->\n",
       "<g id=\"node57\" class=\"node\">\n",
       "<title>140079288828544</title>\n",
       "<polygon fill=\"lightblue\" stroke=\"black\" points=\"1914,-1539 1729,-1539 1729,-1509 1914,-1509 1914,-1539\"/>\n",
       "<text text-anchor=\"middle\" x=\"1821.5\" y=\"-1527\" font-family=\"monospace\" font-size=\"10.00\">mnist_mode.convblock5.1.bias</text>\n",
       "<text text-anchor=\"middle\" x=\"1821.5\" y=\"-1516\" font-family=\"monospace\" font-size=\"10.00\"> (10)</text>\n",
       "</g>\n",
       "<!-- 140079288828544&#45;&gt;140079869976928 -->\n",
       "<g id=\"edge55\" class=\"edge\">\n",
       "<title>140079288828544&#45;&gt;140079869976928</title>\n",
       "<path fill=\"none\" stroke=\"black\" d=\"M1810.61,-1508.84C1804.21,-1500.52 1796.08,-1489.96 1789.37,-1481.23\"/>\n",
       "<polygon fill=\"black\" stroke=\"black\" points=\"1792.11,-1479.06 1783.24,-1473.27 1786.57,-1483.33 1792.11,-1479.06\"/>\n",
       "</g>\n",
       "<!-- 140079869976832 -->\n",
       "<g id=\"node58\" class=\"node\">\n",
       "<title>140079869976832</title>\n",
       "<polygon fill=\"lightgrey\" stroke=\"black\" points=\"1835,-1346.5 1734,-1346.5 1734,-1327.5 1835,-1327.5 1835,-1346.5\"/>\n",
       "<text text-anchor=\"middle\" x=\"1784.5\" y=\"-1334.5\" font-family=\"monospace\" font-size=\"10.00\">AccumulateGrad</text>\n",
       "</g>\n",
       "<!-- 140079869976832&#45;&gt;140082473992352 -->\n",
       "<g id=\"edge56\" class=\"edge\">\n",
       "<title>140079869976832&#45;&gt;140082473992352</title>\n",
       "<path fill=\"none\" stroke=\"black\" d=\"M1784.5,-1327.37C1784.5,-1319.25 1784.5,-1306.81 1784.5,-1296.39\"/>\n",
       "<polygon fill=\"black\" stroke=\"black\" points=\"1788,-1296.17 1784.5,-1286.17 1781,-1296.17 1788,-1296.17\"/>\n",
       "</g>\n",
       "<!-- 140079288828288 -->\n",
       "<g id=\"node59\" class=\"node\">\n",
       "<title>140079288828288</title>\n",
       "<polygon fill=\"lightblue\" stroke=\"black\" points=\"1902,-1418 1705,-1418 1705,-1388 1902,-1388 1902,-1418\"/>\n",
       "<text text-anchor=\"middle\" x=\"1803.5\" y=\"-1406\" font-family=\"monospace\" font-size=\"10.00\">mnist_mode.convblock6.0.weight</text>\n",
       "<text text-anchor=\"middle\" x=\"1803.5\" y=\"-1395\" font-family=\"monospace\" font-size=\"10.00\"> (10, 10, 3, 3)</text>\n",
       "</g>\n",
       "<!-- 140079288828288&#45;&gt;140079869976832 -->\n",
       "<g id=\"edge57\" class=\"edge\">\n",
       "<title>140079288828288&#45;&gt;140079869976832</title>\n",
       "<path fill=\"none\" stroke=\"black\" d=\"M1799.28,-1387.8C1796.55,-1378.6 1792.97,-1366.53 1790.02,-1356.58\"/>\n",
       "<polygon fill=\"black\" stroke=\"black\" points=\"1793.33,-1355.43 1787.13,-1346.84 1786.62,-1357.43 1793.33,-1355.43\"/>\n",
       "</g>\n",
       "<!-- 140079869976688 -->\n",
       "<g id=\"node60\" class=\"node\">\n",
       "<title>140079869976688</title>\n",
       "<polygon fill=\"lightgrey\" stroke=\"black\" points=\"2002,-1286 1901,-1286 1901,-1267 2002,-1267 2002,-1286\"/>\n",
       "<text text-anchor=\"middle\" x=\"1951.5\" y=\"-1274\" font-family=\"monospace\" font-size=\"10.00\">AccumulateGrad</text>\n",
       "</g>\n",
       "<!-- 140079869976688&#45;&gt;140082473994992 -->\n",
       "<g id=\"edge58\" class=\"edge\">\n",
       "<title>140079869976688&#45;&gt;140082473994992</title>\n",
       "<path fill=\"none\" stroke=\"black\" d=\"M1951.5,-1266.87C1951.5,-1258.75 1951.5,-1246.31 1951.5,-1235.89\"/>\n",
       "<polygon fill=\"black\" stroke=\"black\" points=\"1955,-1235.67 1951.5,-1225.67 1948,-1235.67 1955,-1235.67\"/>\n",
       "</g>\n",
       "<!-- 140079288830272 -->\n",
       "<g id=\"node61\" class=\"node\">\n",
       "<title>140079288830272</title>\n",
       "<polygon fill=\"lightblue\" stroke=\"black\" points=\"2050,-1352 1853,-1352 1853,-1322 2050,-1322 2050,-1352\"/>\n",
       "<text text-anchor=\"middle\" x=\"1951.5\" y=\"-1340\" font-family=\"monospace\" font-size=\"10.00\">mnist_mode.convblock6.1.weight</text>\n",
       "<text text-anchor=\"middle\" x=\"1951.5\" y=\"-1329\" font-family=\"monospace\" font-size=\"10.00\"> (10)</text>\n",
       "</g>\n",
       "<!-- 140079288830272&#45;&gt;140079869976688 -->\n",
       "<g id=\"edge59\" class=\"edge\">\n",
       "<title>140079288830272&#45;&gt;140079869976688</title>\n",
       "<path fill=\"none\" stroke=\"black\" d=\"M1951.5,-1321.84C1951.5,-1314.21 1951.5,-1304.7 1951.5,-1296.45\"/>\n",
       "<polygon fill=\"black\" stroke=\"black\" points=\"1955,-1296.27 1951.5,-1286.27 1948,-1296.27 1955,-1296.27\"/>\n",
       "</g>\n",
       "<!-- 140079869976640 -->\n",
       "<g id=\"node62\" class=\"node\">\n",
       "<title>140079869976640</title>\n",
       "<polygon fill=\"lightgrey\" stroke=\"black\" points=\"2166,-1286 2065,-1286 2065,-1267 2166,-1267 2166,-1286\"/>\n",
       "<text text-anchor=\"middle\" x=\"2115.5\" y=\"-1274\" font-family=\"monospace\" font-size=\"10.00\">AccumulateGrad</text>\n",
       "</g>\n",
       "<!-- 140079869976640&#45;&gt;140082473994992 -->\n",
       "<g id=\"edge60\" class=\"edge\">\n",
       "<title>140079869976640&#45;&gt;140082473994992</title>\n",
       "<path fill=\"none\" stroke=\"black\" d=\"M2091.65,-1266.99C2063.6,-1256.99 2016.83,-1240.3 1985.1,-1228.99\"/>\n",
       "<polygon fill=\"black\" stroke=\"black\" points=\"1985.97,-1225.58 1975.38,-1225.52 1983.62,-1232.17 1985.97,-1225.58\"/>\n",
       "</g>\n",
       "<!-- 140079288830144 -->\n",
       "<g id=\"node63\" class=\"node\">\n",
       "<title>140079288830144</title>\n",
       "<polygon fill=\"lightblue\" stroke=\"black\" points=\"2253,-1352 2068,-1352 2068,-1322 2253,-1322 2253,-1352\"/>\n",
       "<text text-anchor=\"middle\" x=\"2160.5\" y=\"-1340\" font-family=\"monospace\" font-size=\"10.00\">mnist_mode.convblock6.1.bias</text>\n",
       "<text text-anchor=\"middle\" x=\"2160.5\" y=\"-1329\" font-family=\"monospace\" font-size=\"10.00\"> (10)</text>\n",
       "</g>\n",
       "<!-- 140079288830144&#45;&gt;140079869976640 -->\n",
       "<g id=\"edge61\" class=\"edge\">\n",
       "<title>140079288830144&#45;&gt;140079869976640</title>\n",
       "<path fill=\"none\" stroke=\"black\" d=\"M2149.61,-1321.84C2143.21,-1313.52 2135.08,-1302.96 2128.37,-1294.23\"/>\n",
       "<polygon fill=\"black\" stroke=\"black\" points=\"2131.11,-1292.06 2122.24,-1286.27 2125.57,-1296.33 2131.11,-1292.06\"/>\n",
       "</g>\n",
       "<!-- 140082473994848 -->\n",
       "<g id=\"node64\" class=\"node\">\n",
       "<title>140082473994848</title>\n",
       "<polygon fill=\"lightgrey\" stroke=\"black\" points=\"2174,-1159.5 2073,-1159.5 2073,-1140.5 2174,-1140.5 2174,-1159.5\"/>\n",
       "<text text-anchor=\"middle\" x=\"2123.5\" y=\"-1147.5\" font-family=\"monospace\" font-size=\"10.00\">AccumulateGrad</text>\n",
       "</g>\n",
       "<!-- 140082473994848&#45;&gt;140082473994032 -->\n",
       "<g id=\"edge62\" class=\"edge\">\n",
       "<title>140082473994848&#45;&gt;140082473994032</title>\n",
       "<path fill=\"none\" stroke=\"black\" d=\"M2123.5,-1140.37C2123.5,-1132.25 2123.5,-1119.81 2123.5,-1109.39\"/>\n",
       "<polygon fill=\"black\" stroke=\"black\" points=\"2127,-1109.17 2123.5,-1099.17 2120,-1109.17 2127,-1109.17\"/>\n",
       "</g>\n",
       "<!-- 140079288831360 -->\n",
       "<g id=\"node65\" class=\"node\">\n",
       "<title>140079288831360</title>\n",
       "<polygon fill=\"lightblue\" stroke=\"black\" points=\"2241,-1231 2044,-1231 2044,-1201 2241,-1201 2241,-1231\"/>\n",
       "<text text-anchor=\"middle\" x=\"2142.5\" y=\"-1219\" font-family=\"monospace\" font-size=\"10.00\">mnist_mode.convblock7.0.weight</text>\n",
       "<text text-anchor=\"middle\" x=\"2142.5\" y=\"-1208\" font-family=\"monospace\" font-size=\"10.00\"> (10, 10, 3, 3)</text>\n",
       "</g>\n",
       "<!-- 140079288831360&#45;&gt;140082473994848 -->\n",
       "<g id=\"edge63\" class=\"edge\">\n",
       "<title>140079288831360&#45;&gt;140082473994848</title>\n",
       "<path fill=\"none\" stroke=\"black\" d=\"M2138.28,-1200.8C2135.55,-1191.6 2131.97,-1179.53 2129.02,-1169.58\"/>\n",
       "<polygon fill=\"black\" stroke=\"black\" points=\"2132.33,-1168.43 2126.13,-1159.84 2125.62,-1170.43 2132.33,-1168.43\"/>\n",
       "</g>\n",
       "<!-- 140082473992640 -->\n",
       "<g id=\"node66\" class=\"node\">\n",
       "<title>140082473992640</title>\n",
       "<polygon fill=\"lightgrey\" stroke=\"black\" points=\"2341,-1099 2240,-1099 2240,-1080 2341,-1080 2341,-1099\"/>\n",
       "<text text-anchor=\"middle\" x=\"2290.5\" y=\"-1087\" font-family=\"monospace\" font-size=\"10.00\">AccumulateGrad</text>\n",
       "</g>\n",
       "<!-- 140082473992640&#45;&gt;140082473992496 -->\n",
       "<g id=\"edge64\" class=\"edge\">\n",
       "<title>140082473992640&#45;&gt;140082473992496</title>\n",
       "<path fill=\"none\" stroke=\"black\" d=\"M2290.5,-1079.87C2290.5,-1071.75 2290.5,-1059.31 2290.5,-1048.89\"/>\n",
       "<polygon fill=\"black\" stroke=\"black\" points=\"2294,-1048.67 2290.5,-1038.67 2287,-1048.67 2294,-1048.67\"/>\n",
       "</g>\n",
       "<!-- 140079288831232 -->\n",
       "<g id=\"node67\" class=\"node\">\n",
       "<title>140079288831232</title>\n",
       "<polygon fill=\"lightblue\" stroke=\"black\" points=\"2389,-1165 2192,-1165 2192,-1135 2389,-1135 2389,-1165\"/>\n",
       "<text text-anchor=\"middle\" x=\"2290.5\" y=\"-1153\" font-family=\"monospace\" font-size=\"10.00\">mnist_mode.convblock7.1.weight</text>\n",
       "<text text-anchor=\"middle\" x=\"2290.5\" y=\"-1142\" font-family=\"monospace\" font-size=\"10.00\"> (10)</text>\n",
       "</g>\n",
       "<!-- 140079288831232&#45;&gt;140082473992640 -->\n",
       "<g id=\"edge65\" class=\"edge\">\n",
       "<title>140079288831232&#45;&gt;140082473992640</title>\n",
       "<path fill=\"none\" stroke=\"black\" d=\"M2290.5,-1134.84C2290.5,-1127.21 2290.5,-1117.7 2290.5,-1109.45\"/>\n",
       "<polygon fill=\"black\" stroke=\"black\" points=\"2294,-1109.27 2290.5,-1099.27 2287,-1109.27 2294,-1109.27\"/>\n",
       "</g>\n",
       "<!-- 140082473994512 -->\n",
       "<g id=\"node68\" class=\"node\">\n",
       "<title>140082473994512</title>\n",
       "<polygon fill=\"lightgrey\" stroke=\"black\" points=\"2505,-1099 2404,-1099 2404,-1080 2505,-1080 2505,-1099\"/>\n",
       "<text text-anchor=\"middle\" x=\"2454.5\" y=\"-1087\" font-family=\"monospace\" font-size=\"10.00\">AccumulateGrad</text>\n",
       "</g>\n",
       "<!-- 140082473994512&#45;&gt;140082473992496 -->\n",
       "<g id=\"edge66\" class=\"edge\">\n",
       "<title>140082473994512&#45;&gt;140082473992496</title>\n",
       "<path fill=\"none\" stroke=\"black\" d=\"M2430.65,-1079.99C2402.6,-1069.99 2355.83,-1053.3 2324.1,-1041.99\"/>\n",
       "<polygon fill=\"black\" stroke=\"black\" points=\"2324.97,-1038.58 2314.38,-1038.52 2322.62,-1045.17 2324.97,-1038.58\"/>\n",
       "</g>\n",
       "<!-- 140079288831104 -->\n",
       "<g id=\"node69\" class=\"node\">\n",
       "<title>140079288831104</title>\n",
       "<polygon fill=\"lightblue\" stroke=\"black\" points=\"2592,-1165 2407,-1165 2407,-1135 2592,-1135 2592,-1165\"/>\n",
       "<text text-anchor=\"middle\" x=\"2499.5\" y=\"-1153\" font-family=\"monospace\" font-size=\"10.00\">mnist_mode.convblock7.1.bias</text>\n",
       "<text text-anchor=\"middle\" x=\"2499.5\" y=\"-1142\" font-family=\"monospace\" font-size=\"10.00\"> (10)</text>\n",
       "</g>\n",
       "<!-- 140079288831104&#45;&gt;140082473994512 -->\n",
       "<g id=\"edge67\" class=\"edge\">\n",
       "<title>140079288831104&#45;&gt;140082473994512</title>\n",
       "<path fill=\"none\" stroke=\"black\" d=\"M2488.61,-1134.84C2482.21,-1126.52 2474.08,-1115.96 2467.37,-1107.23\"/>\n",
       "<polygon fill=\"black\" stroke=\"black\" points=\"2470.11,-1105.06 2461.24,-1099.27 2464.57,-1109.33 2470.11,-1105.06\"/>\n",
       "</g>\n",
       "<!-- 140082473994704 -->\n",
       "<g id=\"node70\" class=\"node\">\n",
       "<title>140082473994704</title>\n",
       "<polygon fill=\"lightgrey\" stroke=\"black\" points=\"2513,-978 2412,-978 2412,-959 2513,-959 2513,-978\"/>\n",
       "<text text-anchor=\"middle\" x=\"2462.5\" y=\"-966\" font-family=\"monospace\" font-size=\"10.00\">AccumulateGrad</text>\n",
       "</g>\n",
       "<!-- 140082473994704&#45;&gt;140082473994608 -->\n",
       "<g id=\"edge68\" class=\"edge\">\n",
       "<title>140082473994704&#45;&gt;140082473994608</title>\n",
       "<path fill=\"none\" stroke=\"black\" d=\"M2451.29,-958.87C2439.39,-949.71 2420.36,-935.06 2405.99,-924.01\"/>\n",
       "<polygon fill=\"black\" stroke=\"black\" points=\"2407.82,-920.99 2397.76,-917.67 2403.55,-926.54 2407.82,-920.99\"/>\n",
       "</g>\n",
       "<!-- 140079288827712 -->\n",
       "<g id=\"node71\" class=\"node\">\n",
       "<title>140079288827712</title>\n",
       "<polygon fill=\"lightblue\" stroke=\"black\" points=\"2580,-1044 2383,-1044 2383,-1014 2580,-1014 2580,-1044\"/>\n",
       "<text text-anchor=\"middle\" x=\"2481.5\" y=\"-1032\" font-family=\"monospace\" font-size=\"10.00\">mnist_mode.convblock8.0.weight</text>\n",
       "<text text-anchor=\"middle\" x=\"2481.5\" y=\"-1021\" font-family=\"monospace\" font-size=\"10.00\"> (10, 10, 5, 5)</text>\n",
       "</g>\n",
       "<!-- 140079288827712&#45;&gt;140082473994704 -->\n",
       "<g id=\"edge69\" class=\"edge\">\n",
       "<title>140079288827712&#45;&gt;140082473994704</title>\n",
       "<path fill=\"none\" stroke=\"black\" d=\"M2476.9,-1013.84C2474.37,-1006.04 2471.19,-996.27 2468.47,-987.89\"/>\n",
       "<polygon fill=\"black\" stroke=\"black\" points=\"2471.76,-986.7 2465.35,-978.27 2465.11,-988.86 2471.76,-986.7\"/>\n",
       "</g>\n",
       "<!-- 140079862273216 -->\n",
       "<g id=\"node72\" class=\"node\">\n",
       "<title>140079862273216</title>\n",
       "<polygon fill=\"#caff70\" stroke=\"black\" points=\"910.5,-31 856.5,-31 856.5,0 910.5,0 910.5,-31\"/>\n",
       "<text text-anchor=\"middle\" x=\"883.5\" y=\"-7\" font-family=\"monospace\" font-size=\"10.00\"> ()</text>\n",
       "</g>\n",
       "<!-- 140082473994896 -->\n",
       "<g id=\"node73\" class=\"node\">\n",
       "<title>140082473994896</title>\n",
       "<polygon fill=\"lightgrey\" stroke=\"black\" points=\"931,-86 836,-86 836,-67 931,-67 931,-86\"/>\n",
       "<text text-anchor=\"middle\" x=\"883.5\" y=\"-74\" font-family=\"monospace\" font-size=\"10.00\">MeanBackward0</text>\n",
       "</g>\n",
       "<!-- 140082473994896&#45;&gt;140079862273216 -->\n",
       "<g id=\"edge115\" class=\"edge\">\n",
       "<title>140082473994896&#45;&gt;140079862273216</title>\n",
       "<path fill=\"none\" stroke=\"black\" d=\"M883.5,-66.79C883.5,-60.07 883.5,-50.4 883.5,-41.34\"/>\n",
       "<polygon fill=\"black\" stroke=\"black\" points=\"887,-41.19 883.5,-31.19 880,-41.19 887,-41.19\"/>\n",
       "</g>\n",
       "<!-- 140082473995424 -->\n",
       "<g id=\"node74\" class=\"node\">\n",
       "<title>140082473995424</title>\n",
       "<polygon fill=\"lightgrey\" stroke=\"black\" points=\"931,-141 836,-141 836,-122 931,-122 931,-141\"/>\n",
       "<text text-anchor=\"middle\" x=\"883.5\" y=\"-129\" font-family=\"monospace\" font-size=\"10.00\">AddmmBackward</text>\n",
       "</g>\n",
       "<!-- 140082473995424&#45;&gt;140082473994896 -->\n",
       "<g id=\"edge71\" class=\"edge\">\n",
       "<title>140082473995424&#45;&gt;140082473994896</title>\n",
       "<path fill=\"none\" stroke=\"black\" d=\"M883.5,-121.75C883.5,-114.8 883.5,-104.85 883.5,-96.13\"/>\n",
       "<polygon fill=\"black\" stroke=\"black\" points=\"887,-96.09 883.5,-86.09 880,-96.09 887,-96.09\"/>\n",
       "</g>\n",
       "<!-- 140082473992304 -->\n",
       "<g id=\"node75\" class=\"node\">\n",
       "<title>140082473992304</title>\n",
       "<polygon fill=\"lightgrey\" stroke=\"black\" points=\"821,-196 720,-196 720,-177 821,-177 821,-196\"/>\n",
       "<text text-anchor=\"middle\" x=\"770.5\" y=\"-184\" font-family=\"monospace\" font-size=\"10.00\">AccumulateGrad</text>\n",
       "</g>\n",
       "<!-- 140082473992304&#45;&gt;140082473995424 -->\n",
       "<g id=\"edge72\" class=\"edge\">\n",
       "<title>140082473992304&#45;&gt;140082473995424</title>\n",
       "<path fill=\"none\" stroke=\"black\" d=\"M788.66,-176.98C806.75,-168.5 834.78,-155.35 855.69,-145.54\"/>\n",
       "<polygon fill=\"black\" stroke=\"black\" points=\"857.45,-148.59 865.01,-141.17 854.47,-142.25 857.45,-148.59\"/>\n",
       "</g>\n",
       "<!-- 140079288805184 -->\n",
       "<g id=\"node76\" class=\"node\">\n",
       "<title>140079288805184</title>\n",
       "<polygon fill=\"lightblue\" stroke=\"black\" points=\"815,-262 708,-262 708,-232 815,-232 815,-262\"/>\n",
       "<text text-anchor=\"middle\" x=\"761.5\" y=\"-250\" font-family=\"monospace\" font-size=\"10.00\">model2_out.bias</text>\n",
       "<text text-anchor=\"middle\" x=\"761.5\" y=\"-239\" font-family=\"monospace\" font-size=\"10.00\"> (19)</text>\n",
       "</g>\n",
       "<!-- 140079288805184&#45;&gt;140082473992304 -->\n",
       "<g id=\"edge73\" class=\"edge\">\n",
       "<title>140079288805184&#45;&gt;140082473992304</title>\n",
       "<path fill=\"none\" stroke=\"black\" d=\"M763.68,-231.84C764.87,-224.13 766.35,-214.49 767.63,-206.17\"/>\n",
       "<polygon fill=\"black\" stroke=\"black\" points=\"771.09,-206.68 769.15,-196.27 764.17,-205.62 771.09,-206.68\"/>\n",
       "</g>\n",
       "<!-- 140082473994320 -->\n",
       "<g id=\"node77\" class=\"node\">\n",
       "<title>140082473994320</title>\n",
       "<polygon fill=\"lightgrey\" stroke=\"black\" points=\"1066,-196 971,-196 971,-177 1066,-177 1066,-196\"/>\n",
       "<text text-anchor=\"middle\" x=\"1018.5\" y=\"-184\" font-family=\"monospace\" font-size=\"10.00\">ReluBackward0</text>\n",
       "</g>\n",
       "<!-- 140082473994320&#45;&gt;140082473995424 -->\n",
       "<g id=\"edge74\" class=\"edge\">\n",
       "<title>140082473994320&#45;&gt;140082473995424</title>\n",
       "<path fill=\"none\" stroke=\"black\" d=\"M996.81,-176.98C974.7,-168.3 940.18,-154.75 915.05,-144.88\"/>\n",
       "<polygon fill=\"black\" stroke=\"black\" points=\"916.17,-141.57 905.58,-141.17 913.61,-148.08 916.17,-141.57\"/>\n",
       "</g>\n",
       "<!-- 140082473995328 -->\n",
       "<g id=\"node78\" class=\"node\">\n",
       "<title>140082473995328</title>\n",
       "<polygon fill=\"lightgrey\" stroke=\"black\" points=\"1127,-256.5 978,-256.5 978,-237.5 1127,-237.5 1127,-256.5\"/>\n",
       "<text text-anchor=\"middle\" x=\"1052.5\" y=\"-244.5\" font-family=\"monospace\" font-size=\"10.00\">CudnnBatchNormBackward</text>\n",
       "</g>\n",
       "<!-- 140082473995328&#45;&gt;140082473994320 -->\n",
       "<g id=\"edge75\" class=\"edge\">\n",
       "<title>140082473995328&#45;&gt;140082473994320</title>\n",
       "<path fill=\"none\" stroke=\"black\" d=\"M1047.48,-237.37C1042.56,-228.9 1034.91,-215.74 1028.71,-205.07\"/>\n",
       "<polygon fill=\"black\" stroke=\"black\" points=\"1031.59,-203.05 1023.54,-196.17 1025.54,-206.57 1031.59,-203.05\"/>\n",
       "</g>\n",
       "<!-- 140079869977168 -->\n",
       "<g id=\"node79\" class=\"node\">\n",
       "<title>140079869977168</title>\n",
       "<polygon fill=\"lightgrey\" stroke=\"black\" points=\"1320,-322.5 1225,-322.5 1225,-303.5 1320,-303.5 1320,-322.5\"/>\n",
       "<text text-anchor=\"middle\" x=\"1272.5\" y=\"-310.5\" font-family=\"monospace\" font-size=\"10.00\">AddmmBackward</text>\n",
       "</g>\n",
       "<!-- 140079869977168&#45;&gt;140082473995328 -->\n",
       "<g id=\"edge76\" class=\"edge\">\n",
       "<title>140079869977168&#45;&gt;140082473995328</title>\n",
       "<path fill=\"none\" stroke=\"black\" d=\"M1242.83,-303.37C1203.77,-292 1134.99,-272 1091.68,-259.4\"/>\n",
       "<polygon fill=\"black\" stroke=\"black\" points=\"1092.63,-256.03 1082.05,-256.6 1090.67,-262.75 1092.63,-256.03\"/>\n",
       "</g>\n",
       "<!-- 140079869977408 -->\n",
       "<g id=\"node80\" class=\"node\">\n",
       "<title>140079869977408</title>\n",
       "<polygon fill=\"lightgrey\" stroke=\"black\" points=\"1271,-388.5 1170,-388.5 1170,-369.5 1271,-369.5 1271,-388.5\"/>\n",
       "<text text-anchor=\"middle\" x=\"1220.5\" y=\"-376.5\" font-family=\"monospace\" font-size=\"10.00\">AccumulateGrad</text>\n",
       "</g>\n",
       "<!-- 140079869977408&#45;&gt;140079869977168 -->\n",
       "<g id=\"edge77\" class=\"edge\">\n",
       "<title>140079869977408&#45;&gt;140079869977168</title>\n",
       "<path fill=\"none\" stroke=\"black\" d=\"M1227.51,-369.37C1235.53,-359.5 1248.85,-343.11 1258.92,-330.72\"/>\n",
       "<polygon fill=\"black\" stroke=\"black\" points=\"1261.67,-332.87 1265.26,-322.91 1256.24,-328.46 1261.67,-332.87\"/>\n",
       "</g>\n",
       "<!-- 140079288804800 -->\n",
       "<g id=\"node81\" class=\"node\">\n",
       "<title>140079288804800</title>\n",
       "<polygon fill=\"lightblue\" stroke=\"black\" points=\"1256,-460 1161,-460 1161,-430 1256,-430 1256,-460\"/>\n",
       "<text text-anchor=\"middle\" x=\"1208.5\" y=\"-448\" font-family=\"monospace\" font-size=\"10.00\">layer3.0.bias</text>\n",
       "<text text-anchor=\"middle\" x=\"1208.5\" y=\"-437\" font-family=\"monospace\" font-size=\"10.00\"> (128)</text>\n",
       "</g>\n",
       "<!-- 140079288804800&#45;&gt;140079869977408 -->\n",
       "<g id=\"edge78\" class=\"edge\">\n",
       "<title>140079288804800&#45;&gt;140079869977408</title>\n",
       "<path fill=\"none\" stroke=\"black\" d=\"M1211.16,-429.8C1212.87,-420.7 1215.1,-408.79 1216.96,-398.9\"/>\n",
       "<polygon fill=\"black\" stroke=\"black\" points=\"1220.44,-399.32 1218.84,-388.84 1213.56,-398.03 1220.44,-399.32\"/>\n",
       "</g>\n",
       "<!-- 140079869977600 -->\n",
       "<g id=\"node82\" class=\"node\">\n",
       "<title>140079869977600</title>\n",
       "<polygon fill=\"lightgrey\" stroke=\"black\" points=\"1506,-388.5 1411,-388.5 1411,-369.5 1506,-369.5 1506,-388.5\"/>\n",
       "<text text-anchor=\"middle\" x=\"1458.5\" y=\"-376.5\" font-family=\"monospace\" font-size=\"10.00\">ReluBackward0</text>\n",
       "</g>\n",
       "<!-- 140079869977600&#45;&gt;140079869977168 -->\n",
       "<g id=\"edge79\" class=\"edge\">\n",
       "<title>140079869977600&#45;&gt;140079869977168</title>\n",
       "<path fill=\"none\" stroke=\"black\" d=\"M1433.42,-369.37C1400.88,-358.17 1343.95,-338.58 1307.26,-325.96\"/>\n",
       "<polygon fill=\"black\" stroke=\"black\" points=\"1308.08,-322.54 1297.48,-322.6 1305.8,-329.16 1308.08,-322.54\"/>\n",
       "</g>\n",
       "<!-- 140079869977936 -->\n",
       "<g id=\"node83\" class=\"node\">\n",
       "<title>140079869977936</title>\n",
       "<polygon fill=\"lightgrey\" stroke=\"black\" points=\"1566,-454.5 1417,-454.5 1417,-435.5 1566,-435.5 1566,-454.5\"/>\n",
       "<text text-anchor=\"middle\" x=\"1491.5\" y=\"-442.5\" font-family=\"monospace\" font-size=\"10.00\">CudnnBatchNormBackward</text>\n",
       "</g>\n",
       "<!-- 140079869977936&#45;&gt;140079869977600 -->\n",
       "<g id=\"edge80\" class=\"edge\">\n",
       "<title>140079869977936&#45;&gt;140079869977600</title>\n",
       "<path fill=\"none\" stroke=\"black\" d=\"M1487.05,-435.37C1482.11,-425.78 1473.99,-410.05 1467.68,-397.8\"/>\n",
       "<polygon fill=\"black\" stroke=\"black\" points=\"1470.79,-396.19 1463.09,-388.91 1464.56,-399.4 1470.79,-396.19\"/>\n",
       "</g>\n",
       "<!-- 140079869978560 -->\n",
       "<g id=\"node84\" class=\"node\">\n",
       "<title>140079869978560</title>\n",
       "<polygon fill=\"lightgrey\" stroke=\"black\" points=\"1756,-520.5 1661,-520.5 1661,-501.5 1756,-501.5 1756,-520.5\"/>\n",
       "<text text-anchor=\"middle\" x=\"1708.5\" y=\"-508.5\" font-family=\"monospace\" font-size=\"10.00\">AddmmBackward</text>\n",
       "</g>\n",
       "<!-- 140079869978560&#45;&gt;140079869977936 -->\n",
       "<g id=\"edge81\" class=\"edge\">\n",
       "<title>140079869978560&#45;&gt;140079869977936</title>\n",
       "<path fill=\"none\" stroke=\"black\" d=\"M1679.23,-501.37C1640.79,-490.03 1573.15,-470.08 1530.42,-457.48\"/>\n",
       "<polygon fill=\"black\" stroke=\"black\" points=\"1531.23,-454.07 1520.65,-454.6 1529.25,-460.78 1531.23,-454.07\"/>\n",
       "</g>\n",
       "<!-- 140079869978800 -->\n",
       "<g id=\"node85\" class=\"node\">\n",
       "<title>140079869978800</title>\n",
       "<polygon fill=\"lightgrey\" stroke=\"black\" points=\"1707,-586.5 1606,-586.5 1606,-567.5 1707,-567.5 1707,-586.5\"/>\n",
       "<text text-anchor=\"middle\" x=\"1656.5\" y=\"-574.5\" font-family=\"monospace\" font-size=\"10.00\">AccumulateGrad</text>\n",
       "</g>\n",
       "<!-- 140079869978800&#45;&gt;140079869978560 -->\n",
       "<g id=\"edge82\" class=\"edge\">\n",
       "<title>140079869978800&#45;&gt;140079869978560</title>\n",
       "<path fill=\"none\" stroke=\"black\" d=\"M1663.51,-567.37C1671.53,-557.5 1684.85,-541.11 1694.92,-528.72\"/>\n",
       "<polygon fill=\"black\" stroke=\"black\" points=\"1697.67,-530.87 1701.26,-520.91 1692.24,-526.46 1697.67,-530.87\"/>\n",
       "</g>\n",
       "<!-- 140079402741120 -->\n",
       "<g id=\"node86\" class=\"node\">\n",
       "<title>140079402741120</title>\n",
       "<polygon fill=\"lightblue\" stroke=\"black\" points=\"1692,-658.5 1597,-658.5 1597,-628.5 1692,-628.5 1692,-658.5\"/>\n",
       "<text text-anchor=\"middle\" x=\"1644.5\" y=\"-646.5\" font-family=\"monospace\" font-size=\"10.00\">layer2.0.bias</text>\n",
       "<text text-anchor=\"middle\" x=\"1644.5\" y=\"-635.5\" font-family=\"monospace\" font-size=\"10.00\"> (64)</text>\n",
       "</g>\n",
       "<!-- 140079402741120&#45;&gt;140079869978800 -->\n",
       "<g id=\"edge83\" class=\"edge\">\n",
       "<title>140079402741120&#45;&gt;140079869978800</title>\n",
       "<path fill=\"none\" stroke=\"black\" d=\"M1647.16,-628.19C1648.89,-618.91 1651.15,-606.73 1653.02,-596.69\"/>\n",
       "<polygon fill=\"black\" stroke=\"black\" points=\"1656.52,-597.01 1654.91,-586.54 1649.64,-595.73 1656.52,-597.01\"/>\n",
       "</g>\n",
       "<!-- 140079869978992 -->\n",
       "<g id=\"node87\" class=\"node\">\n",
       "<title>140079869978992</title>\n",
       "<polygon fill=\"lightgrey\" stroke=\"black\" points=\"1942,-586.5 1847,-586.5 1847,-567.5 1942,-567.5 1942,-586.5\"/>\n",
       "<text text-anchor=\"middle\" x=\"1894.5\" y=\"-574.5\" font-family=\"monospace\" font-size=\"10.00\">ReluBackward0</text>\n",
       "</g>\n",
       "<!-- 140079869978992&#45;&gt;140079869978560 -->\n",
       "<g id=\"edge84\" class=\"edge\">\n",
       "<title>140079869978992&#45;&gt;140079869978560</title>\n",
       "<path fill=\"none\" stroke=\"black\" d=\"M1869.42,-567.37C1836.88,-556.17 1779.95,-536.58 1743.26,-523.96\"/>\n",
       "<polygon fill=\"black\" stroke=\"black\" points=\"1744.08,-520.54 1733.48,-520.6 1741.8,-527.16 1744.08,-520.54\"/>\n",
       "</g>\n",
       "<!-- 140079869979232 -->\n",
       "<g id=\"node88\" class=\"node\">\n",
       "<title>140079869979232</title>\n",
       "<polygon fill=\"lightgrey\" stroke=\"black\" points=\"2002,-653 1853,-653 1853,-634 2002,-634 2002,-653\"/>\n",
       "<text text-anchor=\"middle\" x=\"1927.5\" y=\"-641\" font-family=\"monospace\" font-size=\"10.00\">CudnnBatchNormBackward</text>\n",
       "</g>\n",
       "<!-- 140079869979232&#45;&gt;140079869978992 -->\n",
       "<g id=\"edge85\" class=\"edge\">\n",
       "<title>140079869979232&#45;&gt;140079869978992</title>\n",
       "<path fill=\"none\" stroke=\"black\" d=\"M1923.05,-633.8C1918.05,-624.03 1909.81,-607.93 1903.47,-595.52\"/>\n",
       "<polygon fill=\"black\" stroke=\"black\" points=\"1906.55,-593.87 1898.88,-586.56 1900.32,-597.06 1906.55,-593.87\"/>\n",
       "</g>\n",
       "<!-- 140079869979424 -->\n",
       "<g id=\"node89\" class=\"node\">\n",
       "<title>140079869979424</title>\n",
       "<polygon fill=\"lightgrey\" stroke=\"black\" points=\"2192,-719.5 2097,-719.5 2097,-700.5 2192,-700.5 2192,-719.5\"/>\n",
       "<text text-anchor=\"middle\" x=\"2144.5\" y=\"-707.5\" font-family=\"monospace\" font-size=\"10.00\">AddmmBackward</text>\n",
       "</g>\n",
       "<!-- 140079869979424&#45;&gt;140079869979232 -->\n",
       "<g id=\"edge86\" class=\"edge\">\n",
       "<title>140079869979424&#45;&gt;140079869979232</title>\n",
       "<path fill=\"none\" stroke=\"black\" d=\"M2115.68,-700.43C2077.26,-689.01 2009.12,-668.76 1966.23,-656.01\"/>\n",
       "<polygon fill=\"black\" stroke=\"black\" points=\"1967.02,-652.59 1956.44,-653.1 1965.02,-659.3 1967.02,-652.59\"/>\n",
       "</g>\n",
       "<!-- 140079869979616 -->\n",
       "<g id=\"node90\" class=\"node\">\n",
       "<title>140079869979616</title>\n",
       "<polygon fill=\"lightgrey\" stroke=\"black\" points=\"2143,-785.5 2042,-785.5 2042,-766.5 2143,-766.5 2143,-785.5\"/>\n",
       "<text text-anchor=\"middle\" x=\"2092.5\" y=\"-773.5\" font-family=\"monospace\" font-size=\"10.00\">AccumulateGrad</text>\n",
       "</g>\n",
       "<!-- 140079869979616&#45;&gt;140079869979424 -->\n",
       "<g id=\"edge87\" class=\"edge\">\n",
       "<title>140079869979616&#45;&gt;140079869979424</title>\n",
       "<path fill=\"none\" stroke=\"black\" d=\"M2099.51,-766.37C2107.53,-756.5 2120.85,-740.11 2130.92,-727.72\"/>\n",
       "<polygon fill=\"black\" stroke=\"black\" points=\"2133.67,-729.87 2137.26,-719.91 2128.24,-725.46 2133.67,-729.87\"/>\n",
       "</g>\n",
       "<!-- 140079288825216 -->\n",
       "<g id=\"node91\" class=\"node\">\n",
       "<title>140079288825216</title>\n",
       "<polygon fill=\"lightblue\" stroke=\"black\" points=\"2134,-857 2039,-857 2039,-827 2134,-827 2134,-857\"/>\n",
       "<text text-anchor=\"middle\" x=\"2086.5\" y=\"-845\" font-family=\"monospace\" font-size=\"10.00\">layer1.0.bias</text>\n",
       "<text text-anchor=\"middle\" x=\"2086.5\" y=\"-834\" font-family=\"monospace\" font-size=\"10.00\"> (32)</text>\n",
       "</g>\n",
       "<!-- 140079288825216&#45;&gt;140079869979616 -->\n",
       "<g id=\"edge88\" class=\"edge\">\n",
       "<title>140079288825216&#45;&gt;140079869979616</title>\n",
       "<path fill=\"none\" stroke=\"black\" d=\"M2087.83,-826.8C2088.68,-817.7 2089.8,-805.79 2090.73,-795.9\"/>\n",
       "<polygon fill=\"black\" stroke=\"black\" points=\"2094.22,-796.13 2091.67,-785.84 2087.25,-795.47 2094.22,-796.13\"/>\n",
       "</g>\n",
       "<!-- 140079869979568&#45;&gt;140079869979424 -->\n",
       "<g id=\"edge89\" class=\"edge\">\n",
       "<title>140079869979568&#45;&gt;140079869979424</title>\n",
       "<path fill=\"none\" stroke=\"black\" d=\"M2271.67,-766.37C2246.47,-755.39 2202.74,-736.36 2173.71,-723.72\"/>\n",
       "<polygon fill=\"black\" stroke=\"black\" points=\"2175.05,-720.48 2164.48,-719.7 2172.25,-726.9 2175.05,-720.48\"/>\n",
       "</g>\n",
       "<!-- 140079869979520 -->\n",
       "<g id=\"node93\" class=\"node\">\n",
       "<title>140079869979520</title>\n",
       "<polygon fill=\"lightgrey\" stroke=\"black\" points=\"2232,-785.5 2161,-785.5 2161,-766.5 2232,-766.5 2232,-785.5\"/>\n",
       "<text text-anchor=\"middle\" x=\"2196.5\" y=\"-773.5\" font-family=\"monospace\" font-size=\"10.00\">TBackward</text>\n",
       "</g>\n",
       "<!-- 140079869979520&#45;&gt;140079869979424 -->\n",
       "<g id=\"edge91\" class=\"edge\">\n",
       "<title>140079869979520&#45;&gt;140079869979424</title>\n",
       "<path fill=\"none\" stroke=\"black\" d=\"M2189.49,-766.37C2181.47,-756.5 2168.15,-740.11 2158.08,-727.72\"/>\n",
       "<polygon fill=\"black\" stroke=\"black\" points=\"2160.76,-725.46 2151.74,-719.91 2155.33,-729.87 2160.76,-725.46\"/>\n",
       "</g>\n",
       "<!-- 140079869979808 -->\n",
       "<g id=\"node94\" class=\"node\">\n",
       "<title>140079869979808</title>\n",
       "<polygon fill=\"lightgrey\" stroke=\"black\" points=\"2253,-851.5 2152,-851.5 2152,-832.5 2253,-832.5 2253,-851.5\"/>\n",
       "<text text-anchor=\"middle\" x=\"2202.5\" y=\"-839.5\" font-family=\"monospace\" font-size=\"10.00\">AccumulateGrad</text>\n",
       "</g>\n",
       "<!-- 140079869979808&#45;&gt;140079869979520 -->\n",
       "<g id=\"edge92\" class=\"edge\">\n",
       "<title>140079869979808&#45;&gt;140079869979520</title>\n",
       "<path fill=\"none\" stroke=\"black\" d=\"M2201.69,-832.37C2200.82,-823.07 2199.4,-807.98 2198.27,-795.9\"/>\n",
       "<polygon fill=\"black\" stroke=\"black\" points=\"2201.75,-795.53 2197.33,-785.91 2194.78,-796.19 2201.75,-795.53\"/>\n",
       "</g>\n",
       "<!-- 140079288825600 -->\n",
       "<g id=\"node95\" class=\"node\">\n",
       "<title>140079288825600</title>\n",
       "<polygon fill=\"lightblue\" stroke=\"black\" points=\"2256,-923 2149,-923 2149,-893 2256,-893 2256,-923\"/>\n",
       "<text text-anchor=\"middle\" x=\"2202.5\" y=\"-911\" font-family=\"monospace\" font-size=\"10.00\">layer1.0.weight</text>\n",
       "<text text-anchor=\"middle\" x=\"2202.5\" y=\"-900\" font-family=\"monospace\" font-size=\"10.00\"> (32, 20)</text>\n",
       "</g>\n",
       "<!-- 140079288825600&#45;&gt;140079869979808 -->\n",
       "<g id=\"edge93\" class=\"edge\">\n",
       "<title>140079288825600&#45;&gt;140079869979808</title>\n",
       "<path fill=\"none\" stroke=\"black\" d=\"M2202.5,-892.8C2202.5,-883.7 2202.5,-871.79 2202.5,-861.9\"/>\n",
       "<polygon fill=\"black\" stroke=\"black\" points=\"2206,-861.84 2202.5,-851.84 2199,-861.84 2206,-861.84\"/>\n",
       "</g>\n",
       "<!-- 140079869979376 -->\n",
       "<g id=\"node96\" class=\"node\">\n",
       "<title>140079869979376</title>\n",
       "<polygon fill=\"lightgrey\" stroke=\"black\" points=\"1908,-719.5 1807,-719.5 1807,-700.5 1908,-700.5 1908,-719.5\"/>\n",
       "<text text-anchor=\"middle\" x=\"1857.5\" y=\"-707.5\" font-family=\"monospace\" font-size=\"10.00\">AccumulateGrad</text>\n",
       "</g>\n",
       "<!-- 140079869979376&#45;&gt;140079869979232 -->\n",
       "<g id=\"edge94\" class=\"edge\">\n",
       "<title>140079869979376&#45;&gt;140079869979232</title>\n",
       "<path fill=\"none\" stroke=\"black\" d=\"M1866.94,-700.3C1878.17,-689.95 1897.12,-672.49 1910.84,-659.85\"/>\n",
       "<polygon fill=\"black\" stroke=\"black\" points=\"1913.23,-662.41 1918.21,-653.06 1908.48,-657.26 1913.23,-662.41\"/>\n",
       "</g>\n",
       "<!-- 140079288824576 -->\n",
       "<g id=\"node97\" class=\"node\">\n",
       "<title>140079288824576</title>\n",
       "<polygon fill=\"lightblue\" stroke=\"black\" points=\"1911,-791 1804,-791 1804,-761 1911,-761 1911,-791\"/>\n",
       "<text text-anchor=\"middle\" x=\"1857.5\" y=\"-779\" font-family=\"monospace\" font-size=\"10.00\">layer1.1.weight</text>\n",
       "<text text-anchor=\"middle\" x=\"1857.5\" y=\"-768\" font-family=\"monospace\" font-size=\"10.00\"> (32)</text>\n",
       "</g>\n",
       "<!-- 140079288824576&#45;&gt;140079869979376 -->\n",
       "<g id=\"edge95\" class=\"edge\">\n",
       "<title>140079288824576&#45;&gt;140079869979376</title>\n",
       "<path fill=\"none\" stroke=\"black\" d=\"M1857.5,-760.8C1857.5,-751.7 1857.5,-739.79 1857.5,-729.9\"/>\n",
       "<polygon fill=\"black\" stroke=\"black\" points=\"1861,-729.84 1857.5,-719.84 1854,-729.84 1861,-729.84\"/>\n",
       "</g>\n",
       "<!-- 140079869979328 -->\n",
       "<g id=\"node98\" class=\"node\">\n",
       "<title>140079869979328</title>\n",
       "<polygon fill=\"lightgrey\" stroke=\"black\" points=\"2027,-719.5 1926,-719.5 1926,-700.5 2027,-700.5 2027,-719.5\"/>\n",
       "<text text-anchor=\"middle\" x=\"1976.5\" y=\"-707.5\" font-family=\"monospace\" font-size=\"10.00\">AccumulateGrad</text>\n",
       "</g>\n",
       "<!-- 140079869979328&#45;&gt;140079869979232 -->\n",
       "<g id=\"edge96\" class=\"edge\">\n",
       "<title>140079869979328&#45;&gt;140079869979232</title>\n",
       "<path fill=\"none\" stroke=\"black\" d=\"M1969.89,-700.3C1962.32,-690.34 1949.75,-673.79 1940.26,-661.29\"/>\n",
       "<polygon fill=\"black\" stroke=\"black\" points=\"1942.84,-658.91 1934,-653.06 1937.27,-663.14 1942.84,-658.91\"/>\n",
       "</g>\n",
       "<!-- 140079402776896 -->\n",
       "<g id=\"node99\" class=\"node\">\n",
       "<title>140079402776896</title>\n",
       "<polygon fill=\"lightblue\" stroke=\"black\" points=\"2024,-791 1929,-791 1929,-761 2024,-761 2024,-791\"/>\n",
       "<text text-anchor=\"middle\" x=\"1976.5\" y=\"-779\" font-family=\"monospace\" font-size=\"10.00\">layer1.1.bias</text>\n",
       "<text text-anchor=\"middle\" x=\"1976.5\" y=\"-768\" font-family=\"monospace\" font-size=\"10.00\"> (32)</text>\n",
       "</g>\n",
       "<!-- 140079402776896&#45;&gt;140079869979328 -->\n",
       "<g id=\"edge97\" class=\"edge\">\n",
       "<title>140079402776896&#45;&gt;140079869979328</title>\n",
       "<path fill=\"none\" stroke=\"black\" d=\"M1976.5,-760.8C1976.5,-751.7 1976.5,-739.79 1976.5,-729.9\"/>\n",
       "<polygon fill=\"black\" stroke=\"black\" points=\"1980,-729.84 1976.5,-719.84 1973,-729.84 1980,-729.84\"/>\n",
       "</g>\n",
       "<!-- 140079869979088 -->\n",
       "<g id=\"node100\" class=\"node\">\n",
       "<title>140079869979088</title>\n",
       "<polygon fill=\"lightgrey\" stroke=\"black\" points=\"1796,-586.5 1725,-586.5 1725,-567.5 1796,-567.5 1796,-586.5\"/>\n",
       "<text text-anchor=\"middle\" x=\"1760.5\" y=\"-574.5\" font-family=\"monospace\" font-size=\"10.00\">TBackward</text>\n",
       "</g>\n",
       "<!-- 140079869979088&#45;&gt;140079869978560 -->\n",
       "<g id=\"edge98\" class=\"edge\">\n",
       "<title>140079869979088&#45;&gt;140079869978560</title>\n",
       "<path fill=\"none\" stroke=\"black\" d=\"M1753.49,-567.37C1745.47,-557.5 1732.15,-541.11 1722.08,-528.72\"/>\n",
       "<polygon fill=\"black\" stroke=\"black\" points=\"1724.76,-526.46 1715.74,-520.91 1719.33,-530.87 1724.76,-526.46\"/>\n",
       "</g>\n",
       "<!-- 140079869979664 -->\n",
       "<g id=\"node101\" class=\"node\">\n",
       "<title>140079869979664</title>\n",
       "<polygon fill=\"lightgrey\" stroke=\"black\" points=\"1811,-653 1710,-653 1710,-634 1811,-634 1811,-653\"/>\n",
       "<text text-anchor=\"middle\" x=\"1760.5\" y=\"-641\" font-family=\"monospace\" font-size=\"10.00\">AccumulateGrad</text>\n",
       "</g>\n",
       "<!-- 140079869979664&#45;&gt;140079869979088 -->\n",
       "<g id=\"edge99\" class=\"edge\">\n",
       "<title>140079869979664&#45;&gt;140079869979088</title>\n",
       "<path fill=\"none\" stroke=\"black\" d=\"M1760.5,-633.8C1760.5,-624.32 1760.5,-608.88 1760.5,-596.64\"/>\n",
       "<polygon fill=\"black\" stroke=\"black\" points=\"1764,-596.56 1760.5,-586.56 1757,-596.56 1764,-596.56\"/>\n",
       "</g>\n",
       "<!-- 140079402776640 -->\n",
       "<g id=\"node102\" class=\"node\">\n",
       "<title>140079402776640</title>\n",
       "<polygon fill=\"lightblue\" stroke=\"black\" points=\"1789,-725 1682,-725 1682,-695 1789,-695 1789,-725\"/>\n",
       "<text text-anchor=\"middle\" x=\"1735.5\" y=\"-713\" font-family=\"monospace\" font-size=\"10.00\">layer2.0.weight</text>\n",
       "<text text-anchor=\"middle\" x=\"1735.5\" y=\"-702\" font-family=\"monospace\" font-size=\"10.00\"> (64, 32)</text>\n",
       "</g>\n",
       "<!-- 140079402776640&#45;&gt;140079869979664 -->\n",
       "<g id=\"edge100\" class=\"edge\">\n",
       "<title>140079402776640&#45;&gt;140079869979664</title>\n",
       "<path fill=\"none\" stroke=\"black\" d=\"M1741.05,-694.69C1744.72,-685.21 1749.57,-672.71 1753.5,-662.55\"/>\n",
       "<polygon fill=\"black\" stroke=\"black\" points=\"1756.84,-663.63 1757.19,-653.04 1750.31,-661.1 1756.84,-663.63\"/>\n",
       "</g>\n",
       "<!-- 140079869978608 -->\n",
       "<g id=\"node103\" class=\"node\">\n",
       "<title>140079869978608</title>\n",
       "<polygon fill=\"lightgrey\" stroke=\"black\" points=\"1472,-520.5 1371,-520.5 1371,-501.5 1472,-501.5 1472,-520.5\"/>\n",
       "<text text-anchor=\"middle\" x=\"1421.5\" y=\"-508.5\" font-family=\"monospace\" font-size=\"10.00\">AccumulateGrad</text>\n",
       "</g>\n",
       "<!-- 140079869978608&#45;&gt;140079869977936 -->\n",
       "<g id=\"edge101\" class=\"edge\">\n",
       "<title>140079869978608&#45;&gt;140079869977936</title>\n",
       "<path fill=\"none\" stroke=\"black\" d=\"M1430.94,-501.37C1442.05,-491.21 1460.7,-474.16 1474.38,-461.65\"/>\n",
       "<polygon fill=\"black\" stroke=\"black\" points=\"1476.74,-464.24 1481.76,-454.91 1472.02,-459.07 1476.74,-464.24\"/>\n",
       "</g>\n",
       "<!-- 140079435525056 -->\n",
       "<g id=\"node104\" class=\"node\">\n",
       "<title>140079435525056</title>\n",
       "<polygon fill=\"lightblue\" stroke=\"black\" points=\"1475,-592 1368,-592 1368,-562 1475,-562 1475,-592\"/>\n",
       "<text text-anchor=\"middle\" x=\"1421.5\" y=\"-580\" font-family=\"monospace\" font-size=\"10.00\">layer2.1.weight</text>\n",
       "<text text-anchor=\"middle\" x=\"1421.5\" y=\"-569\" font-family=\"monospace\" font-size=\"10.00\"> (64)</text>\n",
       "</g>\n",
       "<!-- 140079435525056&#45;&gt;140079869978608 -->\n",
       "<g id=\"edge102\" class=\"edge\">\n",
       "<title>140079435525056&#45;&gt;140079869978608</title>\n",
       "<path fill=\"none\" stroke=\"black\" d=\"M1421.5,-561.8C1421.5,-552.7 1421.5,-540.79 1421.5,-530.9\"/>\n",
       "<polygon fill=\"black\" stroke=\"black\" points=\"1425,-530.84 1421.5,-520.84 1418,-530.84 1425,-530.84\"/>\n",
       "</g>\n",
       "<!-- 140079869978176 -->\n",
       "<g id=\"node105\" class=\"node\">\n",
       "<title>140079869978176</title>\n",
       "<polygon fill=\"lightgrey\" stroke=\"black\" points=\"1591,-520.5 1490,-520.5 1490,-501.5 1591,-501.5 1591,-520.5\"/>\n",
       "<text text-anchor=\"middle\" x=\"1540.5\" y=\"-508.5\" font-family=\"monospace\" font-size=\"10.00\">AccumulateGrad</text>\n",
       "</g>\n",
       "<!-- 140079869978176&#45;&gt;140079869977936 -->\n",
       "<g id=\"edge103\" class=\"edge\">\n",
       "<title>140079869978176&#45;&gt;140079869977936</title>\n",
       "<path fill=\"none\" stroke=\"black\" d=\"M1533.89,-501.37C1526.41,-491.59 1514.03,-475.42 1504.57,-463.08\"/>\n",
       "<polygon fill=\"black\" stroke=\"black\" points=\"1507.18,-460.72 1498.32,-454.91 1501.62,-464.97 1507.18,-460.72\"/>\n",
       "</g>\n",
       "<!-- 140079288805376 -->\n",
       "<g id=\"node106\" class=\"node\">\n",
       "<title>140079288805376</title>\n",
       "<polygon fill=\"lightblue\" stroke=\"black\" points=\"1588,-592 1493,-592 1493,-562 1588,-562 1588,-592\"/>\n",
       "<text text-anchor=\"middle\" x=\"1540.5\" y=\"-580\" font-family=\"monospace\" font-size=\"10.00\">layer2.1.bias</text>\n",
       "<text text-anchor=\"middle\" x=\"1540.5\" y=\"-569\" font-family=\"monospace\" font-size=\"10.00\"> (64)</text>\n",
       "</g>\n",
       "<!-- 140079288805376&#45;&gt;140079869978176 -->\n",
       "<g id=\"edge104\" class=\"edge\">\n",
       "<title>140079288805376&#45;&gt;140079869978176</title>\n",
       "<path fill=\"none\" stroke=\"black\" d=\"M1540.5,-561.8C1540.5,-552.7 1540.5,-540.79 1540.5,-530.9\"/>\n",
       "<polygon fill=\"black\" stroke=\"black\" points=\"1544,-530.84 1540.5,-520.84 1537,-530.84 1544,-530.84\"/>\n",
       "</g>\n",
       "<!-- 140079869977648 -->\n",
       "<g id=\"node107\" class=\"node\">\n",
       "<title>140079869977648</title>\n",
       "<polygon fill=\"lightgrey\" stroke=\"black\" points=\"1360,-388.5 1289,-388.5 1289,-369.5 1360,-369.5 1360,-388.5\"/>\n",
       "<text text-anchor=\"middle\" x=\"1324.5\" y=\"-376.5\" font-family=\"monospace\" font-size=\"10.00\">TBackward</text>\n",
       "</g>\n",
       "<!-- 140079869977648&#45;&gt;140079869977168 -->\n",
       "<g id=\"edge105\" class=\"edge\">\n",
       "<title>140079869977648&#45;&gt;140079869977168</title>\n",
       "<path fill=\"none\" stroke=\"black\" d=\"M1317.49,-369.37C1309.47,-359.5 1296.15,-343.11 1286.08,-330.72\"/>\n",
       "<polygon fill=\"black\" stroke=\"black\" points=\"1288.76,-328.46 1279.74,-322.91 1283.33,-332.87 1288.76,-328.46\"/>\n",
       "</g>\n",
       "<!-- 140079869979280 -->\n",
       "<g id=\"node108\" class=\"node\">\n",
       "<title>140079869979280</title>\n",
       "<polygon fill=\"lightgrey\" stroke=\"black\" points=\"1375,-454.5 1274,-454.5 1274,-435.5 1375,-435.5 1375,-454.5\"/>\n",
       "<text text-anchor=\"middle\" x=\"1324.5\" y=\"-442.5\" font-family=\"monospace\" font-size=\"10.00\">AccumulateGrad</text>\n",
       "</g>\n",
       "<!-- 140079869979280&#45;&gt;140079869977648 -->\n",
       "<g id=\"edge106\" class=\"edge\">\n",
       "<title>140079869979280&#45;&gt;140079869977648</title>\n",
       "<path fill=\"none\" stroke=\"black\" d=\"M1324.5,-435.37C1324.5,-426.16 1324.5,-411.29 1324.5,-399.27\"/>\n",
       "<polygon fill=\"black\" stroke=\"black\" points=\"1328,-398.91 1324.5,-388.91 1321,-398.91 1328,-398.91\"/>\n",
       "</g>\n",
       "<!-- 140079288805696 -->\n",
       "<g id=\"node109\" class=\"node\">\n",
       "<title>140079288805696</title>\n",
       "<polygon fill=\"lightblue\" stroke=\"black\" points=\"1353,-526 1246,-526 1246,-496 1353,-496 1353,-526\"/>\n",
       "<text text-anchor=\"middle\" x=\"1299.5\" y=\"-514\" font-family=\"monospace\" font-size=\"10.00\">layer3.0.weight</text>\n",
       "<text text-anchor=\"middle\" x=\"1299.5\" y=\"-503\" font-family=\"monospace\" font-size=\"10.00\"> (128, 64)</text>\n",
       "</g>\n",
       "<!-- 140079288805696&#45;&gt;140079869979280 -->\n",
       "<g id=\"edge107\" class=\"edge\">\n",
       "<title>140079288805696&#45;&gt;140079869979280</title>\n",
       "<path fill=\"none\" stroke=\"black\" d=\"M1305.05,-495.8C1308.68,-486.5 1313.46,-474.27 1317.37,-464.26\"/>\n",
       "<polygon fill=\"black\" stroke=\"black\" points=\"1320.67,-465.43 1321.05,-454.84 1314.15,-462.89 1320.67,-465.43\"/>\n",
       "</g>\n",
       "<!-- 140079869977216 -->\n",
       "<g id=\"node110\" class=\"node\">\n",
       "<title>140079869977216</title>\n",
       "<polygon fill=\"lightgrey\" stroke=\"black\" points=\"1036,-322.5 935,-322.5 935,-303.5 1036,-303.5 1036,-322.5\"/>\n",
       "<text text-anchor=\"middle\" x=\"985.5\" y=\"-310.5\" font-family=\"monospace\" font-size=\"10.00\">AccumulateGrad</text>\n",
       "</g>\n",
       "<!-- 140079869977216&#45;&gt;140082473995328 -->\n",
       "<g id=\"edge108\" class=\"edge\">\n",
       "<title>140079869977216&#45;&gt;140082473995328</title>\n",
       "<path fill=\"none\" stroke=\"black\" d=\"M994.54,-303.37C1005.07,-293.31 1022.69,-276.48 1035.74,-264.01\"/>\n",
       "<polygon fill=\"black\" stroke=\"black\" points=\"1038.36,-266.34 1043.18,-256.91 1033.53,-261.28 1038.36,-266.34\"/>\n",
       "</g>\n",
       "<!-- 140079288806848 -->\n",
       "<g id=\"node111\" class=\"node\">\n",
       "<title>140079288806848</title>\n",
       "<polygon fill=\"lightblue\" stroke=\"black\" points=\"1039,-394 932,-394 932,-364 1039,-364 1039,-394\"/>\n",
       "<text text-anchor=\"middle\" x=\"985.5\" y=\"-382\" font-family=\"monospace\" font-size=\"10.00\">layer3.1.weight</text>\n",
       "<text text-anchor=\"middle\" x=\"985.5\" y=\"-371\" font-family=\"monospace\" font-size=\"10.00\"> (128)</text>\n",
       "</g>\n",
       "<!-- 140079288806848&#45;&gt;140079869977216 -->\n",
       "<g id=\"edge109\" class=\"edge\">\n",
       "<title>140079288806848&#45;&gt;140079869977216</title>\n",
       "<path fill=\"none\" stroke=\"black\" d=\"M985.5,-363.8C985.5,-354.7 985.5,-342.79 985.5,-332.9\"/>\n",
       "<polygon fill=\"black\" stroke=\"black\" points=\"989,-332.84 985.5,-322.84 982,-332.84 989,-332.84\"/>\n",
       "</g>\n",
       "<!-- 140079869976736 -->\n",
       "<g id=\"node112\" class=\"node\">\n",
       "<title>140079869976736</title>\n",
       "<polygon fill=\"lightgrey\" stroke=\"black\" points=\"1155,-322.5 1054,-322.5 1054,-303.5 1155,-303.5 1155,-322.5\"/>\n",
       "<text text-anchor=\"middle\" x=\"1104.5\" y=\"-310.5\" font-family=\"monospace\" font-size=\"10.00\">AccumulateGrad</text>\n",
       "</g>\n",
       "<!-- 140079869976736&#45;&gt;140082473995328 -->\n",
       "<g id=\"edge110\" class=\"edge\">\n",
       "<title>140079869976736&#45;&gt;140082473995328</title>\n",
       "<path fill=\"none\" stroke=\"black\" d=\"M1097.49,-303.37C1089.47,-293.5 1076.15,-277.11 1066.08,-264.72\"/>\n",
       "<polygon fill=\"black\" stroke=\"black\" points=\"1068.76,-262.46 1059.74,-256.91 1063.33,-266.87 1068.76,-262.46\"/>\n",
       "</g>\n",
       "<!-- 140079288806656 -->\n",
       "<g id=\"node113\" class=\"node\">\n",
       "<title>140079288806656</title>\n",
       "<polygon fill=\"lightblue\" stroke=\"black\" points=\"1152,-394 1057,-394 1057,-364 1152,-364 1152,-394\"/>\n",
       "<text text-anchor=\"middle\" x=\"1104.5\" y=\"-382\" font-family=\"monospace\" font-size=\"10.00\">layer3.1.bias</text>\n",
       "<text text-anchor=\"middle\" x=\"1104.5\" y=\"-371\" font-family=\"monospace\" font-size=\"10.00\"> (128)</text>\n",
       "</g>\n",
       "<!-- 140079288806656&#45;&gt;140079869976736 -->\n",
       "<g id=\"edge111\" class=\"edge\">\n",
       "<title>140079288806656&#45;&gt;140079869976736</title>\n",
       "<path fill=\"none\" stroke=\"black\" d=\"M1104.5,-363.8C1104.5,-354.7 1104.5,-342.79 1104.5,-332.9\"/>\n",
       "<polygon fill=\"black\" stroke=\"black\" points=\"1108,-332.84 1104.5,-322.84 1101,-332.84 1108,-332.84\"/>\n",
       "</g>\n",
       "<!-- 140082473994272 -->\n",
       "<g id=\"node114\" class=\"node\">\n",
       "<title>140082473994272</title>\n",
       "<polygon fill=\"lightgrey\" stroke=\"black\" points=\"919,-196 848,-196 848,-177 919,-177 919,-196\"/>\n",
       "<text text-anchor=\"middle\" x=\"883.5\" y=\"-184\" font-family=\"monospace\" font-size=\"10.00\">TBackward</text>\n",
       "</g>\n",
       "<!-- 140082473994272&#45;&gt;140082473995424 -->\n",
       "<g id=\"edge112\" class=\"edge\">\n",
       "<title>140082473994272&#45;&gt;140082473995424</title>\n",
       "<path fill=\"none\" stroke=\"black\" d=\"M883.5,-176.75C883.5,-169.8 883.5,-159.85 883.5,-151.13\"/>\n",
       "<polygon fill=\"black\" stroke=\"black\" points=\"887,-151.09 883.5,-141.09 880,-151.09 887,-151.09\"/>\n",
       "</g>\n",
       "<!-- 140079869978128 -->\n",
       "<g id=\"node115\" class=\"node\">\n",
       "<title>140079869978128</title>\n",
       "<polygon fill=\"lightgrey\" stroke=\"black\" points=\"934,-256.5 833,-256.5 833,-237.5 934,-237.5 934,-256.5\"/>\n",
       "<text text-anchor=\"middle\" x=\"883.5\" y=\"-244.5\" font-family=\"monospace\" font-size=\"10.00\">AccumulateGrad</text>\n",
       "</g>\n",
       "<!-- 140079869978128&#45;&gt;140082473994272 -->\n",
       "<g id=\"edge113\" class=\"edge\">\n",
       "<title>140079869978128&#45;&gt;140082473994272</title>\n",
       "<path fill=\"none\" stroke=\"black\" d=\"M883.5,-237.37C883.5,-229.25 883.5,-216.81 883.5,-206.39\"/>\n",
       "<polygon fill=\"black\" stroke=\"black\" points=\"887,-206.17 883.5,-196.17 880,-206.17 887,-206.17\"/>\n",
       "</g>\n",
       "<!-- 140079288806272 -->\n",
       "<g id=\"node116\" class=\"node\">\n",
       "<title>140079288806272</title>\n",
       "<polygon fill=\"lightblue\" stroke=\"black\" points=\"917,-328 798,-328 798,-298 917,-298 917,-328\"/>\n",
       "<text text-anchor=\"middle\" x=\"857.5\" y=\"-316\" font-family=\"monospace\" font-size=\"10.00\">model2_out.weight</text>\n",
       "<text text-anchor=\"middle\" x=\"857.5\" y=\"-305\" font-family=\"monospace\" font-size=\"10.00\"> (19, 128)</text>\n",
       "</g>\n",
       "<!-- 140079288806272&#45;&gt;140079869978128 -->\n",
       "<g id=\"edge114\" class=\"edge\">\n",
       "<title>140079288806272&#45;&gt;140079869978128</title>\n",
       "<path fill=\"none\" stroke=\"black\" d=\"M863.27,-297.8C867.05,-288.5 872.01,-276.27 876.08,-266.26\"/>\n",
       "<polygon fill=\"black\" stroke=\"black\" points=\"879.39,-267.43 879.91,-256.84 872.9,-264.79 879.39,-267.43\"/>\n",
       "</g>\n",
       "</g>\n",
       "</svg>\n"
      ],
      "text/plain": [
       "<graphviz.dot.Digraph at 0x7f677e1a0cd0>"
      ]
     },
     "execution_count": 98,
     "metadata": {},
     "output_type": "execute_result"
    }
   ],
   "source": [
    "model_image"
   ]
  },
  {
   "cell_type": "markdown",
   "id": "3e19b842-9159-45eb-85f1-1629b2430ca4",
   "metadata": {},
   "source": [
    "### Worg prediction Chceker"
   ]
  },
  {
   "cell_type": "code",
   "execution_count": 86,
   "id": "00155bcd-f9e8-40be-9f15-dcfa1667651d",
   "metadata": {},
   "outputs": [],
   "source": [
    "def wrong_pred(model,test_loader,test_data,num_of_image,row,col):\n",
    "    a = model.eval()\n",
    "    miss_class  = []\n",
    "    pred_class = []\n",
    "    with torch.no_grad():\n",
    "        for data1,target1,data2,target2 in test_loader:\n",
    "            data1, target1 = data1.to(device), target1.to(device)\n",
    "            data2, target2 = data2.to(device), target2.to(device)\n",
    "            \n",
    "            y_pred1,y_pred2 = model(data1,data2)\n",
    "            \n",
    "            pred = y_pred1.argmax(dim = 1,keepdim = True)\n",
    "            pred_class.extend(list(pred.cpu().numpy()[:,0]))\n",
    "            op = pred.eq(target1.view_as (pred))\n",
    "            miss_class.extend(list(op.cpu().numpy()[:,0]))\n",
    "            \n",
    "    fig = plt.figure(figsize=(12,12))\n",
    "    count = 1\n",
    "    for ids,val in enumerate(miss_class):\n",
    "        if (val  == False) & (count <= num_of_image):\n",
    "            _ = fig.add_subplot(row,col,count)\n",
    "            _ = plt.imshow(test_data.image[ids])\n",
    "            _ = plt.axis('off')\n",
    "#             _ = model(test_data.X[ids])\n",
    "            _ = plt.title(f'Predicted {pred_class[ids]}, Actual {test_data.image_labels[ids].item()}')\n",
    "            count += 1\n",
    "    fig.savefig('Wrong_classified.png')"
   ]
  },
  {
   "cell_type": "code",
   "execution_count": null,
   "id": "f05390cd-9cc6-4d70-b085-5b82ab21607f",
   "metadata": {},
   "outputs": [],
   "source": []
  },
  {
   "cell_type": "code",
   "execution_count": 87,
   "id": "ed6bb148-591d-4907-940b-72139b9fa9b6",
   "metadata": {},
   "outputs": [
    {
     "data": {
      "image/png": "[encoded data removed]",
      "text/plain": [
       "<Figure size 864x864 with 30 Axes>"
      ]
     },
     "metadata": {
      "needs_background": "light"
     },
     "output_type": "display_data"
    }
   ],
   "source": [
    "wrong_pred(model2,test_loader,test_data,30,6,5)"
   ]
  },
  {
   "cell_type": "code",
   "execution_count": 88,
   "id": "9ee62236-c3c3-4348-b804-54a82e47846c",
   "metadata": {},
   "outputs": [
    {
     "data": {
      "image/png": "[encoded data removed]",
      "text/plain": [
       "<Figure size 432x288 with 1 Axes>"
      ]
     },
     "metadata": {
      "needs_background": "light"
     },
     "output_type": "display_data"
    }
   ],
   "source": [
    "_ = plt.plot(train_losses_image,color = 'black')\n",
    "_ = plt.title('Train Losses')"
   ]
  },
  {
   "cell_type": "code",
   "execution_count": 89,
   "id": "b357f977-3fdd-4bfe-a232-67d4135b7785",
   "metadata": {},
   "outputs": [
    {
     "data": {
      "image/png": "[encoded data removed]",
      "text/plain": [
       "<Figure size 432x288 with 1 Axes>"
      ]
     },
     "metadata": {
      "needs_background": "light"
     },
     "output_type": "display_data"
    }
   ],
   "source": [
    "_ = plt.plot(train_acc,color = 'black')\n",
    "_ = plt.title('Train Accuracy')"
   ]
  },
  {
   "cell_type": "code",
   "execution_count": 90,
   "id": "64c48219-17d4-4fbf-b7be-c7a19b614076",
   "metadata": {},
   "outputs": [
    {
     "data": {
      "image/png": "[encoded data removed]",
      "text/plain": [
       "<Figure size 432x288 with 1 Axes>"
      ]
     },
     "metadata": {
      "needs_background": "light"
     },
     "output_type": "display_data"
    }
   ],
   "source": [
    "_ = plt.plot(test_losses_image,color = 'green')\n",
    "_ = plt.title('Test Losses')"
   ]
  },
  {
   "cell_type": "code",
   "execution_count": 91,
   "id": "bd1e7201-97d9-4fa7-9ded-b4b763a50cb8",
   "metadata": {},
   "outputs": [
    {
     "data": {
      "image/png": "[encoded data removed]",
      "text/plain": [
       "<Figure size 432x288 with 1 Axes>"
      ]
     },
     "metadata": {
      "needs_background": "light"
     },
     "output_type": "display_data"
    }
   ],
   "source": [
    "_ = plt.plot(test_acc,color = 'green')\n",
    "_ = plt.title('Test Accuracy')"
   ]
  },
  {
   "cell_type": "markdown",
   "id": "1144d9df-4e7f-4fbb-b2cb-6c525552533b",
   "metadata": {},
   "source": [
    "### GPU Chceker"
   ]
  },
  {
   "cell_type": "code",
   "execution_count": 101,
   "id": "decc6854-3875-4d1f-8e58-7bd8cf93ab15",
   "metadata": {},
   "outputs": [
    {
     "name": "stdout",
     "output_type": "stream",
     "text": [
      "The Seed is set to 1\n",
      "Model will Run on CUDA.\n",
      "Type 'watch nvidia-smi' to monitor GPU\n",
      "\n"
     ]
    },
    {
     "data": {
      "text/plain": [
       "(True, 1, 'cuda')"
      ]
     },
     "execution_count": 101,
     "metadata": {},
     "output_type": "execute_result"
    },
    {
     "name": "stdout",
     "output_type": "stream",
     "text": [
      "Wed May 19 16:35:46 2021       \n",
      "+-----------------------------------------------------------------------------+\n",
      "| NVIDIA-SMI 460.73.01    Driver Version: 460.73.01    CUDA Version: 11.2     |\n",
      "|-------------------------------+----------------------+----------------------+\n",
      "| GPU  Name        Persistence-M| Bus-Id        Disp.A | Volatile Uncorr. ECC |\n",
      "| Fan  Temp  Perf  Pwr:Usage/Cap|         Memory-Usage | GPU-Util  Compute M. |\n",
      "|                               |                      |               MIG M. |\n",
      "|===============================+======================+======================|\n",
      "|   0  GeForce GTX 960M    Off  | 00000000:01:00.0 Off |                  N/A |\n",
      "| N/A   57C    P5    N/A /  N/A |   1072MiB /  4046MiB |     12%      Default |\n",
      "|                               |                      |                  N/A |\n",
      "+-------------------------------+----------------------+----------------------+\n",
      "                                                                               \n",
      "+-----------------------------------------------------------------------------+\n",
      "| Processes:                                                                  |\n",
      "|  GPU   GI   CI        PID   Type   Process name                  GPU Memory |\n",
      "|        ID   ID                                                   Usage      |\n",
      "|=============================================================================|\n",
      "|    0   N/A  N/A      3710      G   /usr/lib/xorg/Xorg                241MiB |\n",
      "|    0   N/A  N/A      3968      G   /usr/bin/gnome-shell               41MiB |\n",
      "|    0   N/A  N/A     20373      C   ...nda3/envs/eva5/bin/python      689MiB |\n",
      "|    0   N/A  N/A     33693      G   ...AAAAAAAAA= --shared-files       94MiB |\n",
      "+-----------------------------------------------------------------------------+\n"
     ]
    }
   ],
   "source": [
    "gpu_check()\n",
    "!nvidia-smi"
   ]
  },
  {
   "cell_type": "code",
   "execution_count": 116,
   "id": "ab113ad5-9026-4c76-808c-8c6526934ab1",
   "metadata": {},
   "outputs": [
    {
     "data": {
      "text/plain": [
       "True"
      ]
     },
     "execution_count": 116,
     "metadata": {},
     "output_type": "execute_result"
    }
   ],
   "source": [
    "next(model2.parameters()).is_cuda"
   ]
  },
  {
   "cell_type": "code",
   "execution_count": null,
   "id": "e6f86bb8-4660-475b-b0a2-268a5e8aa8d6",
   "metadata": {},
   "outputs": [],
   "source": []
  },
  {
   "cell_type": "code",
   "execution_count": null,
   "id": "3605e0d5-5f88-4614-846d-0dad44b03cf6",
   "metadata": {},
   "outputs": [],
   "source": []
  },
  {
   "cell_type": "code",
   "execution_count": null,
   "id": "f635a4af-292f-4b4f-bcb7-1b501c71a0d6",
   "metadata": {},
   "outputs": [],
   "source": []
  },
  {
   "cell_type": "raw",
   "id": "e82e0896-f04b-498e-89a6-aca4366eca3a",
   "metadata": {},
   "source": []
  }
 ],
 "metadata": {
  "kernelspec": {
   "display_name": "Python 3",
   "language": "python",
   "name": "python3"
  },
  "language_info": {
   "codemirror_mode": {
    "name": "ipython",
    "version": 3
   },
   "file_extension": ".py",
   "mimetype": "text/x-python",
   "name": "python",
   "nbconvert_exporter": "python",
   "pygments_lexer": "ipython3",
   "version": "3.8.8"
  }
 },
 "nbformat": 4,
 "nbformat_minor": 5
}
