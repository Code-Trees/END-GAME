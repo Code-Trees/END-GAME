{
 "cells": [
  {
   "cell_type": "markdown",
   "id": "4912ca4a-c17f-45bb-90eb-c1b0643519c4",
   "metadata": {},
   "source": [
    "### Importing The Needed libraries"
   ]
  },
  {
   "cell_type": "code",
   "execution_count": 1,
   "id": "2dd9ce66-4cac-4188-b65b-553178e72fda",
   "metadata": {},
   "outputs": [],
   "source": [
    "from IPython.core.interactiveshell import InteractiveShell\n",
    "InteractiveShell.ast_node_interactivity = 'all'"
   ]
  },
  {
   "cell_type": "code",
   "execution_count": 2,
   "id": "74840340-5273-4299-9e15-4bcd8164aa41",
   "metadata": {},
   "outputs": [],
   "source": [
    "import torch\n",
    "import torch.nn as nn\n",
    "import torch.nn.functional as F\n",
    "from torch.autograd import Variable\n",
    "import torch.optim as optim\n",
    "\n",
    "from torchsummary import summary\n",
    "\n",
    "import numpy as np\n",
    "import matplotlib.pyplot as plt\n",
    "from tqdm import tqdm\n",
    "\n",
    "import sys"
   ]
  },
  {
   "cell_type": "markdown",
   "id": "6b71440e-4da4-43d5-b94a-c78125206abb",
   "metadata": {},
   "source": [
    "### Verifying Version  "
   ]
  },
  {
   "cell_type": "code",
   "execution_count": 3,
   "id": "1b0a03e5-a4ab-4c29-b83f-fb1ebe5e30b9",
   "metadata": {},
   "outputs": [
    {
     "data": {
      "text/plain": [
       "'Torch Version  1.8.1'"
      ]
     },
     "execution_count": 3,
     "metadata": {},
     "output_type": "execute_result"
    },
    {
     "data": {
      "text/plain": [
       "'Numpy Version  1.19.4'"
      ]
     },
     "execution_count": 3,
     "metadata": {},
     "output_type": "execute_result"
    },
    {
     "data": {
      "text/plain": [
       "'Python Version  3.8.8 (default, Feb 24 2021, 21:46:12) \\n[GCC 7.3.0]'"
      ]
     },
     "execution_count": 3,
     "metadata": {},
     "output_type": "execute_result"
    }
   ],
   "source": [
    "f'Torch Version  {torch.__version__}'\n",
    "f'Numpy Version  {np.__version__}'\n",
    "f'Python Version  {sys.version}'"
   ]
  },
  {
   "cell_type": "markdown",
   "id": "c1388585-e260-4029-9e57-72f8eb9fad25",
   "metadata": {},
   "source": [
    "### Gpu check  "
   ]
  },
  {
   "cell_type": "code",
   "execution_count": 4,
   "id": "bf7134c0-d2cf-4370-9a10-39bd59fae6db",
   "metadata": {},
   "outputs": [],
   "source": [
    "device = 'cuda' if torch.cuda.is_available() else 'cpu'"
   ]
  },
  {
   "cell_type": "code",
   "execution_count": 5,
   "id": "36b979fc-4fb4-4c79-99e6-5ef3e637b5dc",
   "metadata": {},
   "outputs": [
    {
     "name": "stdout",
     "output_type": "stream",
     "text": [
      "Model can run on :cuda\n"
     ]
    }
   ],
   "source": [
    "print('Model can run on :{}'.format(device))"
   ]
  },
  {
   "cell_type": "markdown",
   "id": "931844a2-f8f3-4b01-b3af-35ad921a22d5",
   "metadata": {},
   "source": [
    "### Creating Training dataset"
   ]
  },
  {
   "cell_type": "code",
   "execution_count": 6,
   "id": "75abb9ed-a189-47bb-b582-ccd95271d762",
   "metadata": {},
   "outputs": [],
   "source": [
    "X = torch.Tensor([[0,0], [0,1], [1,0], [1,1]])\n",
    "Y = torch.Tensor([0, 1, 1, 0]).view(-1,1)"
   ]
  },
  {
   "cell_type": "markdown",
   "id": "1e422bea-22b3-4fe9-97e8-8cfd2fd2bb72",
   "metadata": {},
   "source": [
    "### sending the data to CUDA"
   ]
  },
  {
   "cell_type": "code",
   "execution_count": 7,
   "id": "55228ea1-8ba5-4fbc-92fc-39483fc95508",
   "metadata": {},
   "outputs": [],
   "source": [
    "X ,Y = X.to(device),Y.to(device)"
   ]
  },
  {
   "cell_type": "markdown",
   "id": "4487ca87-df68-4ee3-a5d1-89226aff758b",
   "metadata": {},
   "source": [
    "###  Defining Model"
   ]
  },
  {
   "cell_type": "code",
   "execution_count": 8,
   "id": "3a2be44b-4ebe-4e81-bddc-ca84575616b6",
   "metadata": {},
   "outputs": [],
   "source": [
    "class Net(nn.Module):\n",
    "    def __init__(self,input_dim = 2,output_dim = 1):\n",
    "        super(Net,self).__init__()\n",
    "        \n",
    "        self.layer1 = nn.Linear(in_features=input_dim,out_features=5)\n",
    "        self.layer2 = nn.Linear(in_features=5,out_features=4)\n",
    "        self.layer3 = nn.Linear(in_features=4,out_features=output_dim)\n",
    "    \n",
    "    def forward(self,x):\n",
    "        x = self.layer1(x)\n",
    "        x = F.tanh(x)\n",
    "        x = self.layer2(x)\n",
    "        x = F.tanh(x)\n",
    "        x = self.layer3(x)\n",
    "        return x\n",
    "        \n",
    "        "
   ]
  },
  {
   "cell_type": "markdown",
   "id": "5b001bbc-9069-4560-a129-4249703c79bb",
   "metadata": {},
   "source": [
    "### Creating model Object and summary "
   ]
  },
  {
   "cell_type": "code",
   "execution_count": 9,
   "id": "3e37a28f-5dd8-4466-afe2-b79d84f95633",
   "metadata": {},
   "outputs": [
    {
     "name": "stdout",
     "output_type": "stream",
     "text": [
      "----------------------------------------------------------------\n",
      "        Layer (type)               Output Shape         Param #\n",
      "================================================================\n",
      "            Linear-1                 [-1, 2, 5]              15\n",
      "            Linear-2                 [-1, 2, 4]              24\n",
      "            Linear-3                 [-1, 2, 1]               5\n",
      "================================================================\n",
      "Total params: 44\n",
      "Trainable params: 44\n",
      "Non-trainable params: 0\n",
      "----------------------------------------------------------------\n",
      "Input size (MB): 0.00\n",
      "Forward/backward pass size (MB): 0.00\n",
      "Params size (MB): 0.00\n",
      "Estimated Total Size (MB): 0.00\n",
      "----------------------------------------------------------------\n"
     ]
    },
    {
     "name": "stderr",
     "output_type": "stream",
     "text": [
      "/home/jd/anaconda3/envs/eva5/lib/python3.8/site-packages/torch/nn/functional.py:1698: UserWarning: nn.functional.tanh is deprecated. Use torch.tanh instead.\n",
      "  warnings.warn(\"nn.functional.tanh is deprecated. Use torch.tanh instead.\")\n"
     ]
    }
   ],
   "source": [
    "model = Net().to('cuda')\n",
    "\n",
    "summary(model,(2,2))"
   ]
  },
  {
   "cell_type": "code",
   "execution_count": null,
   "id": "bd240e5d-2e2c-40a8-92a8-7217693d381f",
   "metadata": {},
   "outputs": [],
   "source": []
  },
  {
   "cell_type": "markdown",
   "id": "126a241a-7173-47e5-9553-324847ae80b4",
   "metadata": {},
   "source": [
    "### Generating the uniformly random distributed weights  "
   ]
  },
  {
   "cell_type": "code",
   "execution_count": null,
   "id": "58925e4c-c6b6-4637-8d71-f0c747b020c7",
   "metadata": {},
   "outputs": [],
   "source": []
  },
  {
   "cell_type": "code",
   "execution_count": 10,
   "id": "a1ff822b-6159-4cc6-850f-a6dcafecd1ca",
   "metadata": {},
   "outputs": [],
   "source": [
    "def weight_gen(model):\n",
    "    for m in model.modules():\n",
    "        if isinstance(m, nn.Linear):\n",
    "            m.weight.data.normal_(0,1)"
   ]
  },
  {
   "cell_type": "code",
   "execution_count": 11,
   "id": "9eade2f0-c968-4143-b847-5b7d6e92c3b4",
   "metadata": {},
   "outputs": [],
   "source": [
    "weight_gen(model)"
   ]
  },
  {
   "cell_type": "code",
   "execution_count": null,
   "id": "7744621d-b7a2-4b93-b01b-882796e79b2d",
   "metadata": {},
   "outputs": [],
   "source": []
  },
  {
   "cell_type": "markdown",
   "id": "0d3f678f-96ee-434c-b861-f993ec30c2a4",
   "metadata": {},
   "source": [
    "### Defining loss and optimizer "
   ]
  },
  {
   "cell_type": "code",
   "execution_count": 12,
   "id": "e7e8bd64-34c8-4cd8-9bd6-cce6fee8fa16",
   "metadata": {},
   "outputs": [],
   "source": [
    "loss_fun  = nn.L1Loss()\n",
    "optimizer = optim.SGD(model.parameters(),lr = 0.02,momentum=0.9)"
   ]
  },
  {
   "cell_type": "code",
   "execution_count": null,
   "id": "5b20f022-6e4a-4c7b-b8b8-7763d341b71d",
   "metadata": {},
   "outputs": [],
   "source": []
  },
  {
   "cell_type": "markdown",
   "id": "ae79e47c-5fb1-4ce4-8d57-4ac2c3351b08",
   "metadata": {},
   "source": [
    "### Running the model for 2001 epochs "
   ]
  },
  {
   "cell_type": "code",
   "execution_count": 13,
   "id": "a7ee7bc9-804e-488b-8d3e-5b9a12c838e0",
   "metadata": {},
   "outputs": [
    {
     "name": "stderr",
     "output_type": "stream",
     "text": [
      "Epochs = 2000 ,loss=0.15479612350463867: 100%|██████████| 2001/2001 [00:12<00:00, 160.51it/s]   \n"
     ]
    }
   ],
   "source": [
    "EPOCHS = 2001\n",
    "steps = X.size(0)\n",
    "loss_values = []\n",
    "pbar = tqdm(range(EPOCHS))\n",
    "for i in pbar:\n",
    "    for j in range(steps):\n",
    "        data_point = np.random.randint(X.size(0))\n",
    "        x_var = Variable(X[data_point], requires_grad=False)\n",
    "        y_var = Variable(Y[data_point], requires_grad=False)\n",
    "        \n",
    "        optimizer.zero_grad()\n",
    "        y_hat = model(x_var)\n",
    "        loss = loss_fun.forward(y_hat, y_var)\n",
    "        loss.backward()\n",
    "        optimizer.step()\n",
    "    pbar.set_description(desc= f'Epochs = {i} ,loss={loss.data.item()}')\n",
    "    loss_values.append(loss.data.item())"
   ]
  },
  {
   "cell_type": "code",
   "execution_count": null,
   "id": "48b9905b-4bfc-4526-8082-b795c91904c5",
   "metadata": {},
   "outputs": [],
   "source": []
  },
  {
   "cell_type": "markdown",
   "id": "5a529d15-8efc-4f08-b574-486e59ee04f0",
   "metadata": {},
   "source": [
    "### ploting "
   ]
  },
  {
   "cell_type": "code",
   "execution_count": 14,
   "id": "194e080a-1b81-499a-9657-af4eefe39e15",
   "metadata": {},
   "outputs": [
    {
     "data": {
      "text/plain": [
       "2001"
      ]
     },
     "execution_count": 14,
     "metadata": {},
     "output_type": "execute_result"
    }
   ],
   "source": [
    "len(loss_values)"
   ]
  },
  {
   "cell_type": "code",
   "execution_count": 15,
   "id": "196a64c1-1459-4ada-ac65-b6f2fa5a6877",
   "metadata": {},
   "outputs": [
    {
     "data": {
      "text/plain": [
       "[<matplotlib.lines.Line2D at 0x7f6158bc6310>]"
      ]
     },
     "execution_count": 15,
     "metadata": {},
     "output_type": "execute_result"
    },
    {
     "data": {
      "text/plain": [
       "Text(0.5, 1.0, 'Loss')"
      ]
     },
     "execution_count": 15,
     "metadata": {},
     "output_type": "execute_result"
    },
    {
     "data": {
      "image/png": "[encoded data removed]",
      "text/plain": [
       "<Figure size 432x288 with 1 Axes>"
      ]
     },
     "metadata": {
      "needs_background": "light"
     },
     "output_type": "display_data"
    }
   ],
   "source": [
    "plt.plot(loss_values)\n",
    "plt.title('Loss')"
   ]
  },
  {
   "cell_type": "code",
   "execution_count": null,
   "id": "b69354a2-bce0-42e8-a974-13bbba73454b",
   "metadata": {},
   "outputs": [],
   "source": []
  },
  {
   "cell_type": "code",
   "execution_count": null,
   "id": "618cc347-c4bb-4396-92a2-8e340c14feeb",
   "metadata": {},
   "outputs": [],
   "source": []
  },
  {
   "cell_type": "code",
   "execution_count": null,
   "id": "a2a264a0-311b-4a5a-830f-278ef495ae7b",
   "metadata": {},
   "outputs": [],
   "source": []
  },
  {
   "cell_type": "code",
   "execution_count": null,
   "id": "0a050190-f6d2-42d5-baf4-b58ed66bdfcb",
   "metadata": {},
   "outputs": [],
   "source": []
  },
  {
   "cell_type": "code",
   "execution_count": null,
   "id": "153a4b9b-79a1-4bce-9ff5-ec6a64005020",
   "metadata": {},
   "outputs": [],
   "source": []
  },
  {
   "cell_type": "code",
   "execution_count": null,
   "id": "580a12bc-b031-4224-b6c5-591626e7eae2",
   "metadata": {},
   "outputs": [],
   "source": []
  },
  {
   "cell_type": "code",
   "execution_count": null,
   "id": "82abe206-4b0e-4976-ab51-9a1dfa88274f",
   "metadata": {},
   "outputs": [],
   "source": []
  },
  {
   "cell_type": "code",
   "execution_count": null,
   "id": "27ca8411-b0da-4279-a0bf-fabdb4da7f96",
   "metadata": {},
   "outputs": [],
   "source": []
  },
  {
   "cell_type": "code",
   "execution_count": null,
   "id": "b0960910-275a-4d1b-a6a2-1ebe7f48d584",
   "metadata": {},
   "outputs": [],
   "source": []
  }
 ],
 "metadata": {
  "kernelspec": {
   "display_name": "Python 3",
   "language": "python",
   "name": "python3"
  },
  "language_info": {
   "codemirror_mode": {
    "name": "ipython",
    "version": 3
   },
   "file_extension": ".py",
   "mimetype": "text/x-python",
   "name": "python",
   "nbconvert_exporter": "python",
   "pygments_lexer": "ipython3",
   "version": "3.8.8"
  }
 },
 "nbformat": 4,
 "nbformat_minor": 5
}
